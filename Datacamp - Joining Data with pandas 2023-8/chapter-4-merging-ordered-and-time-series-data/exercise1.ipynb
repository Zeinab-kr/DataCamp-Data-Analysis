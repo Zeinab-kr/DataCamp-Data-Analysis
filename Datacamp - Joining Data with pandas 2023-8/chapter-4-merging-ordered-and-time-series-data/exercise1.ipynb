{
 "cells": [
  {
   "cell_type": "markdown",
   "id": "32ed6ed1-6f1a-4c11-9591-c8595fddadff",
   "metadata": {},
   "source": [
    "\n",
    "#  Correlation between GDP and S&P500\n",
    "\n",
    "##  Assignment \n",
    "\n",
    "In this exercise, you want to analyze stock returns from the S&amp;P 500. You believe there may be a relationship between the returns of the S&amp;P 500 and the GDP of the US. Merge the different datasets together to compute the correlation.\n",
    "\n",
    "Two tables have been provided for you, named `sp500`, and `gdp`. As always, `pandas` has been imported for you as `pd`.\n",
    "\n",
    "##  Pre exercise code \n",
    "\n",
    "```\n",
    "import pandas as pd\n",
    "sp500 = pd.read_csv('https://assets.datacamp.com/production/repositories/5486/datasets/6666955f71f936ab5fc3b0ee1eb595e19c126c01/S&P500.csv')\n",
    "sp500 = sp500.rename({'Date':'date','Returns':'returns'}, axis=1)\n",
    "gdp = pd.read_csv('https://assets.datacamp.com/production/repositories/5486/datasets/6ef405912a3801f3ae59d2dd57573f80d598c1fb/WorldBank_GDP.csv')\n",
    "gdp = (gdp.loc[gdp['Country Name']=='United States',\n",
    "              ['Country Code','Year','GDP']]\n",
    "       .rename({'Country Code':'country code','Year':'year','GDP':'gdp'}, axis=1))\n",
    "```"
   ]
  },
  {
   "cell_type": "code",
   "execution_count": 2,
   "id": "b6ac1d34-87f1-4c55-8f14-145000709bd0",
   "metadata": {},
   "outputs": [],
   "source": [
    "import pandas as pd\n",
    "sp500 = pd.read_csv('S&P500.csv')\n",
    "sp500 = sp500.rename({'Date':'date','Returns':'returns'}, axis=1)\n",
    "gdp = pd.read_csv('WorldBank_GDP.csv')\n",
    "gdp = (gdp.loc[gdp['Country Name']=='United States',\n",
    "              ['Country Code','Year','GDP']]\n",
    "       .rename({'Country Code':'country code','Year':'year','GDP':'gdp'}, axis=1))"
   ]
  },
  {
   "cell_type": "code",
   "execution_count": 3,
   "id": "bfbf832e-485d-4d0a-af69-469e705b2d2d",
   "metadata": {},
   "outputs": [
    {
     "data": {
      "text/html": [
       "<div>\n",
       "<style scoped>\n",
       "    .dataframe tbody tr th:only-of-type {\n",
       "        vertical-align: middle;\n",
       "    }\n",
       "\n",
       "    .dataframe tbody tr th {\n",
       "        vertical-align: top;\n",
       "    }\n",
       "\n",
       "    .dataframe thead th {\n",
       "        text-align: right;\n",
       "    }\n",
       "</style>\n",
       "<table border=\"1\" class=\"dataframe\">\n",
       "  <thead>\n",
       "    <tr style=\"text-align: right;\">\n",
       "      <th></th>\n",
       "      <th>date</th>\n",
       "      <th>returns</th>\n",
       "    </tr>\n",
       "  </thead>\n",
       "  <tbody>\n",
       "    <tr>\n",
       "      <th>0</th>\n",
       "      <td>2008</td>\n",
       "      <td>-38.49</td>\n",
       "    </tr>\n",
       "  </tbody>\n",
       "</table>\n",
       "</div>"
      ],
      "text/plain": [
       "   date  returns\n",
       "0  2008   -38.49"
      ]
     },
     "execution_count": 3,
     "metadata": {},
     "output_type": "execute_result"
    }
   ],
   "source": [
    "sp500.head(1)"
   ]
  },
  {
   "cell_type": "code",
   "execution_count": 4,
   "id": "7e06ec71-6e23-48eb-8063-97c3543a1900",
   "metadata": {},
   "outputs": [
    {
     "data": {
      "text/html": [
       "<div>\n",
       "<style scoped>\n",
       "    .dataframe tbody tr th:only-of-type {\n",
       "        vertical-align: middle;\n",
       "    }\n",
       "\n",
       "    .dataframe tbody tr th {\n",
       "        vertical-align: top;\n",
       "    }\n",
       "\n",
       "    .dataframe thead th {\n",
       "        text-align: right;\n",
       "    }\n",
       "</style>\n",
       "<table border=\"1\" class=\"dataframe\">\n",
       "  <thead>\n",
       "    <tr style=\"text-align: right;\">\n",
       "      <th></th>\n",
       "      <th>country code</th>\n",
       "      <th>year</th>\n",
       "      <th>gdp</th>\n",
       "    </tr>\n",
       "  </thead>\n",
       "  <tbody>\n",
       "    <tr>\n",
       "      <th>3</th>\n",
       "      <td>USA</td>\n",
       "      <td>2010</td>\n",
       "      <td>1.499210e+13</td>\n",
       "    </tr>\n",
       "  </tbody>\n",
       "</table>\n",
       "</div>"
      ],
      "text/plain": [
       "  country code  year           gdp\n",
       "3          USA  2010  1.499210e+13"
      ]
     },
     "execution_count": 4,
     "metadata": {},
     "output_type": "execute_result"
    }
   ],
   "source": [
    "gdp.head(1)"
   ]
  },
  {
   "cell_type": "markdown",
   "id": "00707ecb-1fdb-4b1f-8ff9-ba2f75aa127d",
   "metadata": {},
   "source": [
    "##  Instructions \n",
    "\n",
    "- Use `merge_ordered()` to merge `gdp` and `sp500` using a left join on `year` and `date`. Save the results as `gdp_sp500`.\n",
    "- Print `gdp_sp500` and look at the returns for the year 2018.\n"
   ]
  },
  {
   "cell_type": "code",
   "execution_count": 6,
   "id": "47cb338c-e801-470b-88d7-89939fe14412",
   "metadata": {},
   "outputs": [],
   "source": [
    "gdp_sp500 = pd.merge_ordered(gdp, sp500, left_on=\"year\", right_on=\"date\", how=\"left\")"
   ]
  },
  {
   "cell_type": "code",
   "execution_count": 8,
   "id": "2db0e6a1-08a5-45d9-959f-a6934356e5fe",
   "metadata": {},
   "outputs": [
    {
     "data": {
      "text/html": [
       "<div>\n",
       "<style scoped>\n",
       "    .dataframe tbody tr th:only-of-type {\n",
       "        vertical-align: middle;\n",
       "    }\n",
       "\n",
       "    .dataframe tbody tr th {\n",
       "        vertical-align: top;\n",
       "    }\n",
       "\n",
       "    .dataframe thead th {\n",
       "        text-align: right;\n",
       "    }\n",
       "</style>\n",
       "<table border=\"1\" class=\"dataframe\">\n",
       "  <thead>\n",
       "    <tr style=\"text-align: right;\">\n",
       "      <th></th>\n",
       "      <th>country code</th>\n",
       "      <th>year</th>\n",
       "      <th>gdp</th>\n",
       "      <th>date</th>\n",
       "      <th>returns</th>\n",
       "    </tr>\n",
       "  </thead>\n",
       "  <tbody>\n",
       "    <tr>\n",
       "      <th>0</th>\n",
       "      <td>USA</td>\n",
       "      <td>2010</td>\n",
       "      <td>1.499210e+13</td>\n",
       "      <td>2010.0</td>\n",
       "      <td>12.78</td>\n",
       "    </tr>\n",
       "  </tbody>\n",
       "</table>\n",
       "</div>"
      ],
      "text/plain": [
       "  country code  year           gdp    date  returns\n",
       "0          USA  2010  1.499210e+13  2010.0    12.78"
      ]
     },
     "execution_count": 8,
     "metadata": {},
     "output_type": "execute_result"
    }
   ],
   "source": [
    "gdp_sp500.head(1)"
   ]
  },
  {
   "cell_type": "code",
   "execution_count": 9,
   "id": "0c7147bf-2f99-43be-a264-0cb4495c7abd",
   "metadata": {},
   "outputs": [
    {
     "data": {
      "text/html": [
       "<div>\n",
       "<style scoped>\n",
       "    .dataframe tbody tr th:only-of-type {\n",
       "        vertical-align: middle;\n",
       "    }\n",
       "\n",
       "    .dataframe tbody tr th {\n",
       "        vertical-align: top;\n",
       "    }\n",
       "\n",
       "    .dataframe thead th {\n",
       "        text-align: right;\n",
       "    }\n",
       "</style>\n",
       "<table border=\"1\" class=\"dataframe\">\n",
       "  <thead>\n",
       "    <tr style=\"text-align: right;\">\n",
       "      <th></th>\n",
       "      <th>country code</th>\n",
       "      <th>year</th>\n",
       "      <th>gdp</th>\n",
       "      <th>date</th>\n",
       "      <th>returns</th>\n",
       "    </tr>\n",
       "  </thead>\n",
       "  <tbody>\n",
       "    <tr>\n",
       "      <th>9</th>\n",
       "      <td>USA</td>\n",
       "      <td>2018</td>\n",
       "      <td>2.049410e+13</td>\n",
       "      <td>NaN</td>\n",
       "      <td>NaN</td>\n",
       "    </tr>\n",
       "  </tbody>\n",
       "</table>\n",
       "</div>"
      ],
      "text/plain": [
       "  country code  year           gdp  date  returns\n",
       "9          USA  2018  2.049410e+13   NaN      NaN"
      ]
     },
     "execution_count": 9,
     "metadata": {},
     "output_type": "execute_result"
    }
   ],
   "source": [
    "gdp_sp500[gdp_sp500[\"year\"] == 2018]"
   ]
  },
  {
   "cell_type": "markdown",
   "id": "b7c27cef-ca05-416e-8f7d-148635bbaa98",
   "metadata": {},
   "source": [
    "- Use `merge_ordered()`, again similar to before, to merge `gdp` and `sp500` use the function's ability to interpolate missing data to forward fill the missing value for returns, assigning this table to the variable `gdp_sp500`."
   ]
  },
  {
   "cell_type": "code",
   "execution_count": 10,
   "id": "b86b5d38-ac42-4253-8118-a5c1c26969b1",
   "metadata": {},
   "outputs": [],
   "source": [
    "gdp_sp500 = pd.merge_ordered(gdp, sp500, left_on=\"year\", right_on=\"date\", how=\"left\", fill_method='ffill')"
   ]
  },
  {
   "cell_type": "code",
   "execution_count": 11,
   "id": "b4002159-1436-4ff0-a656-e91c9b0037fe",
   "metadata": {},
   "outputs": [
    {
     "data": {
      "text/html": [
       "<div>\n",
       "<style scoped>\n",
       "    .dataframe tbody tr th:only-of-type {\n",
       "        vertical-align: middle;\n",
       "    }\n",
       "\n",
       "    .dataframe tbody tr th {\n",
       "        vertical-align: top;\n",
       "    }\n",
       "\n",
       "    .dataframe thead th {\n",
       "        text-align: right;\n",
       "    }\n",
       "</style>\n",
       "<table border=\"1\" class=\"dataframe\">\n",
       "  <thead>\n",
       "    <tr style=\"text-align: right;\">\n",
       "      <th></th>\n",
       "      <th>country code</th>\n",
       "      <th>year</th>\n",
       "      <th>gdp</th>\n",
       "      <th>date</th>\n",
       "      <th>returns</th>\n",
       "    </tr>\n",
       "  </thead>\n",
       "  <tbody>\n",
       "    <tr>\n",
       "      <th>0</th>\n",
       "      <td>USA</td>\n",
       "      <td>2010</td>\n",
       "      <td>1.499210e+13</td>\n",
       "      <td>2010</td>\n",
       "      <td>12.78</td>\n",
       "    </tr>\n",
       "    <tr>\n",
       "      <th>1</th>\n",
       "      <td>USA</td>\n",
       "      <td>2011</td>\n",
       "      <td>1.554260e+13</td>\n",
       "      <td>2011</td>\n",
       "      <td>0.00</td>\n",
       "    </tr>\n",
       "    <tr>\n",
       "      <th>2</th>\n",
       "      <td>USA</td>\n",
       "      <td>2012</td>\n",
       "      <td>1.619700e+13</td>\n",
       "      <td>2012</td>\n",
       "      <td>13.41</td>\n",
       "    </tr>\n",
       "    <tr>\n",
       "      <th>3</th>\n",
       "      <td>USA</td>\n",
       "      <td>2012</td>\n",
       "      <td>1.619700e+13</td>\n",
       "      <td>2012</td>\n",
       "      <td>13.41</td>\n",
       "    </tr>\n",
       "    <tr>\n",
       "      <th>4</th>\n",
       "      <td>USA</td>\n",
       "      <td>2013</td>\n",
       "      <td>1.678480e+13</td>\n",
       "      <td>2013</td>\n",
       "      <td>29.60</td>\n",
       "    </tr>\n",
       "    <tr>\n",
       "      <th>5</th>\n",
       "      <td>USA</td>\n",
       "      <td>2014</td>\n",
       "      <td>1.752170e+13</td>\n",
       "      <td>2014</td>\n",
       "      <td>11.39</td>\n",
       "    </tr>\n",
       "    <tr>\n",
       "      <th>6</th>\n",
       "      <td>USA</td>\n",
       "      <td>2015</td>\n",
       "      <td>1.821930e+13</td>\n",
       "      <td>2015</td>\n",
       "      <td>-0.73</td>\n",
       "    </tr>\n",
       "    <tr>\n",
       "      <th>7</th>\n",
       "      <td>USA</td>\n",
       "      <td>2016</td>\n",
       "      <td>1.870720e+13</td>\n",
       "      <td>2016</td>\n",
       "      <td>9.54</td>\n",
       "    </tr>\n",
       "    <tr>\n",
       "      <th>8</th>\n",
       "      <td>USA</td>\n",
       "      <td>2017</td>\n",
       "      <td>1.948540e+13</td>\n",
       "      <td>2017</td>\n",
       "      <td>19.42</td>\n",
       "    </tr>\n",
       "    <tr>\n",
       "      <th>9</th>\n",
       "      <td>USA</td>\n",
       "      <td>2018</td>\n",
       "      <td>2.049410e+13</td>\n",
       "      <td>2017</td>\n",
       "      <td>19.42</td>\n",
       "    </tr>\n",
       "  </tbody>\n",
       "</table>\n",
       "</div>"
      ],
      "text/plain": [
       "  country code  year           gdp  date  returns\n",
       "0          USA  2010  1.499210e+13  2010    12.78\n",
       "1          USA  2011  1.554260e+13  2011     0.00\n",
       "2          USA  2012  1.619700e+13  2012    13.41\n",
       "3          USA  2012  1.619700e+13  2012    13.41\n",
       "4          USA  2013  1.678480e+13  2013    29.60\n",
       "5          USA  2014  1.752170e+13  2014    11.39\n",
       "6          USA  2015  1.821930e+13  2015    -0.73\n",
       "7          USA  2016  1.870720e+13  2016     9.54\n",
       "8          USA  2017  1.948540e+13  2017    19.42\n",
       "9          USA  2018  2.049410e+13  2017    19.42"
      ]
     },
     "execution_count": 11,
     "metadata": {},
     "output_type": "execute_result"
    }
   ],
   "source": [
    "gdp_sp500"
   ]
  },
  {
   "cell_type": "markdown",
   "id": "b632b0fb-d6f3-4ca5-8e08-48eceb7df2d4",
   "metadata": {},
   "source": [
    "- Subset the `gdp_sp500` table, select the `gdp` and `returns` columns, and save as `gdp_returns`.\n",
    "- Print the correlation matrix of the `gdp_returns` table using the `.corr()` method.\n"
   ]
  },
  {
   "cell_type": "code",
   "execution_count": 12,
   "id": "46cfefd7-95da-4095-9a94-6d0bebc7c789",
   "metadata": {},
   "outputs": [],
   "source": [
    "gdp_returns = gdp_sp500[[\"gdp\", \"returns\"]]"
   ]
  },
  {
   "cell_type": "code",
   "execution_count": 13,
   "id": "bb7dbdbc-4172-4602-9567-74f24112b6f3",
   "metadata": {},
   "outputs": [
    {
     "data": {
      "text/html": [
       "<div>\n",
       "<style scoped>\n",
       "    .dataframe tbody tr th:only-of-type {\n",
       "        vertical-align: middle;\n",
       "    }\n",
       "\n",
       "    .dataframe tbody tr th {\n",
       "        vertical-align: top;\n",
       "    }\n",
       "\n",
       "    .dataframe thead th {\n",
       "        text-align: right;\n",
       "    }\n",
       "</style>\n",
       "<table border=\"1\" class=\"dataframe\">\n",
       "  <thead>\n",
       "    <tr style=\"text-align: right;\">\n",
       "      <th></th>\n",
       "      <th>gdp</th>\n",
       "      <th>returns</th>\n",
       "    </tr>\n",
       "  </thead>\n",
       "  <tbody>\n",
       "    <tr>\n",
       "      <th>0</th>\n",
       "      <td>1.499210e+13</td>\n",
       "      <td>12.78</td>\n",
       "    </tr>\n",
       "    <tr>\n",
       "      <th>1</th>\n",
       "      <td>1.554260e+13</td>\n",
       "      <td>0.00</td>\n",
       "    </tr>\n",
       "    <tr>\n",
       "      <th>2</th>\n",
       "      <td>1.619700e+13</td>\n",
       "      <td>13.41</td>\n",
       "    </tr>\n",
       "    <tr>\n",
       "      <th>3</th>\n",
       "      <td>1.619700e+13</td>\n",
       "      <td>13.41</td>\n",
       "    </tr>\n",
       "    <tr>\n",
       "      <th>4</th>\n",
       "      <td>1.678480e+13</td>\n",
       "      <td>29.60</td>\n",
       "    </tr>\n",
       "    <tr>\n",
       "      <th>5</th>\n",
       "      <td>1.752170e+13</td>\n",
       "      <td>11.39</td>\n",
       "    </tr>\n",
       "    <tr>\n",
       "      <th>6</th>\n",
       "      <td>1.821930e+13</td>\n",
       "      <td>-0.73</td>\n",
       "    </tr>\n",
       "    <tr>\n",
       "      <th>7</th>\n",
       "      <td>1.870720e+13</td>\n",
       "      <td>9.54</td>\n",
       "    </tr>\n",
       "    <tr>\n",
       "      <th>8</th>\n",
       "      <td>1.948540e+13</td>\n",
       "      <td>19.42</td>\n",
       "    </tr>\n",
       "    <tr>\n",
       "      <th>9</th>\n",
       "      <td>2.049410e+13</td>\n",
       "      <td>19.42</td>\n",
       "    </tr>\n",
       "  </tbody>\n",
       "</table>\n",
       "</div>"
      ],
      "text/plain": [
       "            gdp  returns\n",
       "0  1.499210e+13    12.78\n",
       "1  1.554260e+13     0.00\n",
       "2  1.619700e+13    13.41\n",
       "3  1.619700e+13    13.41\n",
       "4  1.678480e+13    29.60\n",
       "5  1.752170e+13    11.39\n",
       "6  1.821930e+13    -0.73\n",
       "7  1.870720e+13     9.54\n",
       "8  1.948540e+13    19.42\n",
       "9  2.049410e+13    19.42"
      ]
     },
     "execution_count": 13,
     "metadata": {},
     "output_type": "execute_result"
    }
   ],
   "source": [
    "gdp_returns"
   ]
  },
  {
   "cell_type": "code",
   "execution_count": 14,
   "id": "0695845f-4566-4a8c-926c-bdd8a1739b8a",
   "metadata": {},
   "outputs": [
    {
     "data": {
      "text/html": [
       "<div>\n",
       "<style scoped>\n",
       "    .dataframe tbody tr th:only-of-type {\n",
       "        vertical-align: middle;\n",
       "    }\n",
       "\n",
       "    .dataframe tbody tr th {\n",
       "        vertical-align: top;\n",
       "    }\n",
       "\n",
       "    .dataframe thead th {\n",
       "        text-align: right;\n",
       "    }\n",
       "</style>\n",
       "<table border=\"1\" class=\"dataframe\">\n",
       "  <thead>\n",
       "    <tr style=\"text-align: right;\">\n",
       "      <th></th>\n",
       "      <th>gdp</th>\n",
       "      <th>returns</th>\n",
       "    </tr>\n",
       "  </thead>\n",
       "  <tbody>\n",
       "    <tr>\n",
       "      <th>gdp</th>\n",
       "      <td>1.000000</td>\n",
       "      <td>0.212173</td>\n",
       "    </tr>\n",
       "    <tr>\n",
       "      <th>returns</th>\n",
       "      <td>0.212173</td>\n",
       "      <td>1.000000</td>\n",
       "    </tr>\n",
       "  </tbody>\n",
       "</table>\n",
       "</div>"
      ],
      "text/plain": [
       "              gdp   returns\n",
       "gdp      1.000000  0.212173\n",
       "returns  0.212173  1.000000"
      ]
     },
     "execution_count": 14,
     "metadata": {},
     "output_type": "execute_result"
    }
   ],
   "source": [
    "gdp_returns.corr()"
   ]
  },
  {
   "cell_type": "code",
   "execution_count": null,
   "id": "6c6dc4f1-3fa1-47e1-84b0-993b6bd60eea",
   "metadata": {},
   "outputs": [],
   "source": []
  }
 ],
 "metadata": {
  "kernelspec": {
   "display_name": "Python 3 (ipykernel)",
   "language": "python",
   "name": "python3"
  },
  "language_info": {
   "codemirror_mode": {
    "name": "ipython",
    "version": 3
   },
   "file_extension": ".py",
   "mimetype": "text/x-python",
   "name": "python",
   "nbconvert_exporter": "python",
   "pygments_lexer": "ipython3",
   "version": "3.11.7"
  }
 },
 "nbformat": 4,
 "nbformat_minor": 5
}
