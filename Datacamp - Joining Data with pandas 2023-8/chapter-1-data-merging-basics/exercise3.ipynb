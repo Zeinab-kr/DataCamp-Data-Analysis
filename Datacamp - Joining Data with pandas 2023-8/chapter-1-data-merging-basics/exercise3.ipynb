{
 "cells": [
  {
   "cell_type": "markdown",
   "id": "414e38c5-a60e-4f62-883e-cba07dbd0c11",
   "metadata": {},
   "source": [
    "#  Inner joins and number of rows returned\n",
    "\n",
    "##  Assignment \n",
    "\n",
    "All of the merges you have studied to this point are called inner joins. It is necessary to understand that inner joins only return the rows with matching values in both tables. You will explore this further by reviewing the merge between the `wards` and `census` tables, then comparing it to merges of copies of these tables that are slightly altered, named `wards_altered`, and `census_altered`. The first row of the `wards` column has been changed in the altered tables. You will examine how this affects the merge between them. The tables have been loaded for you.\n",
    "\n",
    "For this exercise, it is important to know that the `wards` and `census` tables start with **50** rows.\n",
    "\n",
    "##  Pre exercise code \n",
    "\n",
    "```\n",
    "from pickle import load\n",
    "import urllib.request\n",
    "import pandas as pd\n",
    "\n",
    "fn_war = 'https://assets.datacamp.com/production/repositories/5486/datasets/87c16fd85c435ea10221932ebab27ffb6b232c74/ward.p'\n",
    "fn_cen = 'https://assets.datacamp.com/production/repositories/5486/datasets/c778c41d8b2f0d4cc6c842e95e0c650c7156c82c/census.p'\n",
    "\n",
    "wards = load(urllib.request.urlopen(fn_war))\n",
    "wards_altered = wards.copy()\n",
    "wards_altered.loc[wards_altered['ward'] == '1', 'ward'] = '61'\n",
    "census = load(urllib.request.urlopen(fn_cen))\n",
    "census_altered = census.copy()\n",
    "census_altered.loc[census_altered['ward'] == '1', 'ward'] = None\n",
    "```"
   ]
  },
  {
   "cell_type": "code",
   "execution_count": 1,
   "id": "7c25e984-4218-4b51-912f-d85c2b939d31",
   "metadata": {},
   "outputs": [],
   "source": [
    "from pickle import load\n",
    "import urllib.request\n",
    "import pandas as pd"
   ]
  },
  {
   "cell_type": "code",
   "execution_count": 2,
   "id": "985e7d6d-8168-401a-88a0-99b84c7eded8",
   "metadata": {},
   "outputs": [],
   "source": [
    "fn_war = 'https://assets.datacamp.com/production/repositories/5486/datasets/87c16fd85c435ea10221932ebab27ffb6b232c74/ward.p'\n",
    "fn_cen = 'https://assets.datacamp.com/production/repositories/5486/datasets/c778c41d8b2f0d4cc6c842e95e0c650c7156c82c/census.p'"
   ]
  },
  {
   "cell_type": "code",
   "execution_count": 3,
   "id": "431461ad-e996-40b4-80f5-502e3e9573e4",
   "metadata": {},
   "outputs": [],
   "source": [
    "wards = load(urllib.request.urlopen(fn_war))\n",
    "wards_altered = wards.copy()\n",
    "wards_altered.loc[wards_altered['ward'] == '1', 'ward'] = '61'\n",
    "census = load(urllib.request.urlopen(fn_cen))\n",
    "census_altered = census.copy()\n",
    "census_altered.loc[census_altered['ward'] == '1', 'ward'] = None"
   ]
  },
  {
   "cell_type": "markdown",
   "id": "561965d8-e75c-4396-8ec3-123ce83346f3",
   "metadata": {},
   "source": [
    "##  Instructions \n",
    "\n",
    "- Merge `wards` and `census` on the `ward` column and save the result to `wards_census`."
   ]
  },
  {
   "cell_type": "code",
   "execution_count": 4,
   "id": "de8e06f7-55e0-4d33-bf0f-d46b78db4caa",
   "metadata": {},
   "outputs": [],
   "source": [
    "wards_census = wards.merge(census, on=\"ward\")"
   ]
  },
  {
   "cell_type": "code",
   "execution_count": 12,
   "id": "109411c0-a438-419c-a80f-65ae64ab37b4",
   "metadata": {},
   "outputs": [
    {
     "data": {
      "text/plain": [
       "(50, 9)"
      ]
     },
     "execution_count": 12,
     "metadata": {},
     "output_type": "execute_result"
    }
   ],
   "source": [
    "wards_census.shape"
   ]
  },
  {
   "cell_type": "markdown",
   "id": "2df2ddf3-5fcc-4795-80f8-9c2e72516904",
   "metadata": {},
   "source": [
    "\n",
    "- Merge the `wards_altered` and `census` tables on the `ward` column, and notice the difference in returned rows.\n"
   ]
  },
  {
   "cell_type": "code",
   "execution_count": 13,
   "id": "d114558b-4da4-43ad-a468-10a329a04f5c",
   "metadata": {},
   "outputs": [
    {
     "data": {
      "text/plain": [
       "(49, 9)"
      ]
     },
     "execution_count": 13,
     "metadata": {},
     "output_type": "execute_result"
    }
   ],
   "source": [
    "wards_altered.merge(census, on=\"ward\").shape"
   ]
  },
  {
   "cell_type": "markdown",
   "id": "17fc2cdc-eb4d-4936-9f90-dbe3260f00a9",
   "metadata": {},
   "source": [
    "\n",
    "- Merge the `wards` and `census_altered` tables on the `ward` column, and notice the difference in returned rows.\n",
    "\n"
   ]
  },
  {
   "cell_type": "code",
   "execution_count": 14,
   "id": "ef5d7d61-d6f1-4f54-9719-abb77aac571d",
   "metadata": {},
   "outputs": [
    {
     "data": {
      "text/plain": [
       "(49, 9)"
      ]
     },
     "execution_count": 14,
     "metadata": {},
     "output_type": "execute_result"
    }
   ],
   "source": [
    "wards.merge(census_altered, on=\"ward\").shape"
   ]
  },
  {
   "cell_type": "code",
   "execution_count": null,
   "id": "964c95c0-8c81-4a35-808d-02d30381dc99",
   "metadata": {},
   "outputs": [],
   "source": []
  }
 ],
 "metadata": {
  "kernelspec": {
   "display_name": "Python 3 (ipykernel)",
   "language": "python",
   "name": "python3"
  },
  "language_info": {
   "codemirror_mode": {
    "name": "ipython",
    "version": 3
   },
   "file_extension": ".py",
   "mimetype": "text/x-python",
   "name": "python",
   "nbconvert_exporter": "python",
   "pygments_lexer": "ipython3",
   "version": "3.11.7"
  }
 },
 "nbformat": 4,
 "nbformat_minor": 5
}
