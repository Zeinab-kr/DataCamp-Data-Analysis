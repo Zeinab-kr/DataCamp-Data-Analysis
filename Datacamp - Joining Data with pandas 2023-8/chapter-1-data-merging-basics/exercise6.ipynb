{
 "cells": [
  {
   "cell_type": "markdown",
   "id": "fac9cb4d-53b5-4e55-897b-bf8f7b2b67d0",
   "metadata": {},
   "source": [
    "#  Total riders in a month\n",
    "\n",
    "##  Assignment \n",
    "\n",
    "Your goal is to find the total number of rides provided to passengers passing through the Wilson station (`station_name == 'Wilson'`) when riding Chicago's public transportation system on weekdays (`day_type == 'Weekday'`) in July (`month == 7`). Luckily, Chicago provides this detailed data, but it is in three different tables. You will work on merging these tables together to answer the question. This data is different from the business related data you have seen so far, but all the information you need to answer the question is provided.\n",
    "\n",
    "The `cal`, `ridership`, and `stations` DataFrames have been loaded for you. The relationship between the tables can be seen in the diagram below.\n",
    "\n",
    "<img src=\"https://assets.datacamp.com/production/repositories/5486/datasets/56b5ecb2edcdc896c69effdf05ef65e5454ff996/cta_L_diagram.png\" alt=\"Table diagram. The cal table relates to ridership via year, month, and day. The ridership table relates to the stations table via station_id.\">\n",
    "\n",
    "##  Pre exercise code \n",
    "\n",
    "```\n",
    "from pickle import load\n",
    "import urllib.request\n",
    "import pandas as pd\n",
    "\n",
    "fn_station = 'https://assets.datacamp.com/production/repositories/5486/datasets/369630192d0a25d3f20417eaa3101e7c8bf0588f/stations.p'\n",
    "fn_rider = 'https://assets.datacamp.com/production/repositories/5486/datasets/959c2b739879663c56ecd96c0013a1407c57684c/cta_ridership.p'\n",
    "fn_cal = 'https://assets.datacamp.com/production/repositories/5486/datasets/1ea02e46369e0e2a33942afb4b1c2dafcb37dd2c/cta_calendar.p'\n",
    "stations = load(urllib.request.urlopen(fn_station))\n",
    "ridership = load(urllib.request.urlopen(fn_rider))\n",
    "cal = load(urllib.request.urlopen(fn_cal))\n",
    "```"
   ]
  },
  {
   "cell_type": "code",
   "execution_count": 10,
   "id": "b828bd26-3b99-4e5d-9570-e4554d756b4b",
   "metadata": {},
   "outputs": [],
   "source": [
    "from pickle import load\n",
    "import urllib.request\n",
    "import pandas as pd"
   ]
  },
  {
   "cell_type": "code",
   "execution_count": 19,
   "id": "68075ad2-09ea-482b-9f05-ca5b75925856",
   "metadata": {},
   "outputs": [],
   "source": [
    "# fn_station = 'https://assets.datacamp.com/production/repositories/5486/datasets/369630192d0a25d3f20417eaa3101e7c8bf0588f/stations.p'\n",
    "fn_rider = 'https://assets.datacamp.com/production/repositories/5486/datasets/959c2b739879663c56ecd96c0013a1407c57684c/cta_ridership.p'\n",
    "fn_cal = 'https://assets.datacamp.com/production/repositories/5486/datasets/1ea02e46369e0e2a33942afb4b1c2dafcb37dd2c/cta_calendar.p'\n",
    "# stations = load(urllib.request.urlopen(fn_station))\n",
    "stations = pd.read_pickle(\"stations.p\")\n",
    "ridership = load(urllib.request.urlopen(fn_rider))\n",
    "cal = load(urllib.request.urlopen(fn_cal))"
   ]
  },
  {
   "cell_type": "code",
   "execution_count": 22,
   "id": "f1273eb2-b4b1-4ee9-930f-6a707b82ed4e",
   "metadata": {},
   "outputs": [
    {
     "data": {
      "text/html": [
       "<div>\n",
       "<style scoped>\n",
       "    .dataframe tbody tr th:only-of-type {\n",
       "        vertical-align: middle;\n",
       "    }\n",
       "\n",
       "    .dataframe tbody tr th {\n",
       "        vertical-align: top;\n",
       "    }\n",
       "\n",
       "    .dataframe thead th {\n",
       "        text-align: right;\n",
       "    }\n",
       "</style>\n",
       "<table border=\"1\" class=\"dataframe\">\n",
       "  <thead>\n",
       "    <tr style=\"text-align: right;\">\n",
       "      <th></th>\n",
       "      <th>station_id</th>\n",
       "      <th>station_name</th>\n",
       "      <th>location</th>\n",
       "    </tr>\n",
       "  </thead>\n",
       "  <tbody>\n",
       "    <tr>\n",
       "      <th>0</th>\n",
       "      <td>40010</td>\n",
       "      <td>Austin-Forest Park</td>\n",
       "      <td>(41.870851, -87.776812)</td>\n",
       "    </tr>\n",
       "  </tbody>\n",
       "</table>\n",
       "</div>"
      ],
      "text/plain": [
       "  station_id        station_name                 location\n",
       "0      40010  Austin-Forest Park  (41.870851, -87.776812)"
      ]
     },
     "execution_count": 22,
     "metadata": {},
     "output_type": "execute_result"
    }
   ],
   "source": [
    "stations.head(1)"
   ]
  },
  {
   "cell_type": "code",
   "execution_count": 23,
   "id": "9b6d3951-b7a2-42d9-ba5d-8933b06e55b0",
   "metadata": {},
   "outputs": [
    {
     "data": {
      "text/html": [
       "<div>\n",
       "<style scoped>\n",
       "    .dataframe tbody tr th:only-of-type {\n",
       "        vertical-align: middle;\n",
       "    }\n",
       "\n",
       "    .dataframe tbody tr th {\n",
       "        vertical-align: top;\n",
       "    }\n",
       "\n",
       "    .dataframe thead th {\n",
       "        text-align: right;\n",
       "    }\n",
       "</style>\n",
       "<table border=\"1\" class=\"dataframe\">\n",
       "  <thead>\n",
       "    <tr style=\"text-align: right;\">\n",
       "      <th></th>\n",
       "      <th>station_id</th>\n",
       "      <th>year</th>\n",
       "      <th>month</th>\n",
       "      <th>day</th>\n",
       "      <th>rides</th>\n",
       "    </tr>\n",
       "  </thead>\n",
       "  <tbody>\n",
       "    <tr>\n",
       "      <th>0</th>\n",
       "      <td>40010</td>\n",
       "      <td>2019</td>\n",
       "      <td>1</td>\n",
       "      <td>1</td>\n",
       "      <td>576</td>\n",
       "    </tr>\n",
       "  </tbody>\n",
       "</table>\n",
       "</div>"
      ],
      "text/plain": [
       "  station_id  year  month  day  rides\n",
       "0      40010  2019      1    1    576"
      ]
     },
     "execution_count": 23,
     "metadata": {},
     "output_type": "execute_result"
    }
   ],
   "source": [
    "ridership.head(1)"
   ]
  },
  {
   "cell_type": "code",
   "execution_count": 24,
   "id": "6038b030-b4f6-4fd9-b912-da4a9c963e0b",
   "metadata": {},
   "outputs": [
    {
     "data": {
      "text/html": [
       "<div>\n",
       "<style scoped>\n",
       "    .dataframe tbody tr th:only-of-type {\n",
       "        vertical-align: middle;\n",
       "    }\n",
       "\n",
       "    .dataframe tbody tr th {\n",
       "        vertical-align: top;\n",
       "    }\n",
       "\n",
       "    .dataframe thead th {\n",
       "        text-align: right;\n",
       "    }\n",
       "</style>\n",
       "<table border=\"1\" class=\"dataframe\">\n",
       "  <thead>\n",
       "    <tr style=\"text-align: right;\">\n",
       "      <th></th>\n",
       "      <th>year</th>\n",
       "      <th>month</th>\n",
       "      <th>day</th>\n",
       "      <th>day_type</th>\n",
       "    </tr>\n",
       "  </thead>\n",
       "  <tbody>\n",
       "    <tr>\n",
       "      <th>0</th>\n",
       "      <td>2019</td>\n",
       "      <td>1</td>\n",
       "      <td>1</td>\n",
       "      <td>Sunday/Holiday</td>\n",
       "    </tr>\n",
       "  </tbody>\n",
       "</table>\n",
       "</div>"
      ],
      "text/plain": [
       "   year  month  day        day_type\n",
       "0  2019      1    1  Sunday/Holiday"
      ]
     },
     "execution_count": 24,
     "metadata": {},
     "output_type": "execute_result"
    }
   ],
   "source": [
    "cal.head(1)"
   ]
  },
  {
   "cell_type": "markdown",
   "id": "463ff4ed-4676-42a1-a52a-a2b4e495687c",
   "metadata": {},
   "source": [
    "##  Instructions \n",
    "\n",
    "- Merge the `ridership` and `cal` tables together, starting with the `ridership` table on the left and save the result to the variable `ridership_cal`. If you code takes too long to run, your merge conditions might be incorrect.\n"
   ]
  },
  {
   "cell_type": "code",
   "execution_count": 25,
   "id": "5ba04ae3-41b1-4610-b44b-1611dc8fd974",
   "metadata": {},
   "outputs": [],
   "source": [
    "ridership_cal = ridership.merge(cal, on=[\"year\", \"month\", \"day\"])"
   ]
  },
  {
   "cell_type": "code",
   "execution_count": 26,
   "id": "59b7cc6e-e71b-4a38-8863-3d8ee6539637",
   "metadata": {},
   "outputs": [
    {
     "data": {
      "text/html": [
       "<div>\n",
       "<style scoped>\n",
       "    .dataframe tbody tr th:only-of-type {\n",
       "        vertical-align: middle;\n",
       "    }\n",
       "\n",
       "    .dataframe tbody tr th {\n",
       "        vertical-align: top;\n",
       "    }\n",
       "\n",
       "    .dataframe thead th {\n",
       "        text-align: right;\n",
       "    }\n",
       "</style>\n",
       "<table border=\"1\" class=\"dataframe\">\n",
       "  <thead>\n",
       "    <tr style=\"text-align: right;\">\n",
       "      <th></th>\n",
       "      <th>station_id</th>\n",
       "      <th>year</th>\n",
       "      <th>month</th>\n",
       "      <th>day</th>\n",
       "      <th>rides</th>\n",
       "      <th>day_type</th>\n",
       "    </tr>\n",
       "  </thead>\n",
       "  <tbody>\n",
       "    <tr>\n",
       "      <th>0</th>\n",
       "      <td>40010</td>\n",
       "      <td>2019</td>\n",
       "      <td>1</td>\n",
       "      <td>1</td>\n",
       "      <td>576</td>\n",
       "      <td>Sunday/Holiday</td>\n",
       "    </tr>\n",
       "    <tr>\n",
       "      <th>1</th>\n",
       "      <td>40010</td>\n",
       "      <td>2019</td>\n",
       "      <td>1</td>\n",
       "      <td>2</td>\n",
       "      <td>1457</td>\n",
       "      <td>Weekday</td>\n",
       "    </tr>\n",
       "    <tr>\n",
       "      <th>2</th>\n",
       "      <td>40010</td>\n",
       "      <td>2019</td>\n",
       "      <td>1</td>\n",
       "      <td>3</td>\n",
       "      <td>1543</td>\n",
       "      <td>Weekday</td>\n",
       "    </tr>\n",
       "    <tr>\n",
       "      <th>3</th>\n",
       "      <td>40010</td>\n",
       "      <td>2019</td>\n",
       "      <td>1</td>\n",
       "      <td>4</td>\n",
       "      <td>1621</td>\n",
       "      <td>Weekday</td>\n",
       "    </tr>\n",
       "    <tr>\n",
       "      <th>4</th>\n",
       "      <td>40010</td>\n",
       "      <td>2019</td>\n",
       "      <td>1</td>\n",
       "      <td>5</td>\n",
       "      <td>719</td>\n",
       "      <td>Saturday</td>\n",
       "    </tr>\n",
       "  </tbody>\n",
       "</table>\n",
       "</div>"
      ],
      "text/plain": [
       "  station_id  year  month  day  rides        day_type\n",
       "0      40010  2019      1    1    576  Sunday/Holiday\n",
       "1      40010  2019      1    2   1457         Weekday\n",
       "2      40010  2019      1    3   1543         Weekday\n",
       "3      40010  2019      1    4   1621         Weekday\n",
       "4      40010  2019      1    5    719        Saturday"
      ]
     },
     "execution_count": 26,
     "metadata": {},
     "output_type": "execute_result"
    }
   ],
   "source": [
    "ridership_cal.head()"
   ]
  },
  {
   "cell_type": "markdown",
   "id": "aa0309ba-6b44-4af8-950f-3a5cc595da86",
   "metadata": {},
   "source": [
    "- Extend the previous merge to three tables by also merging the `stations` table.\n"
   ]
  },
  {
   "cell_type": "code",
   "execution_count": 29,
   "id": "69215486-4763-4f0c-ae6e-5fb6c4096b82",
   "metadata": {},
   "outputs": [],
   "source": [
    "rid_cal_sta = ridership.merge(cal, on=[\"year\", \"month\", \"day\"]).merge(stations, on=\"station_id\")"
   ]
  },
  {
   "cell_type": "code",
   "execution_count": 30,
   "id": "a9341396-386a-41e1-aa37-b2a650ab4c0a",
   "metadata": {},
   "outputs": [
    {
     "data": {
      "text/html": [
       "<div>\n",
       "<style scoped>\n",
       "    .dataframe tbody tr th:only-of-type {\n",
       "        vertical-align: middle;\n",
       "    }\n",
       "\n",
       "    .dataframe tbody tr th {\n",
       "        vertical-align: top;\n",
       "    }\n",
       "\n",
       "    .dataframe thead th {\n",
       "        text-align: right;\n",
       "    }\n",
       "</style>\n",
       "<table border=\"1\" class=\"dataframe\">\n",
       "  <thead>\n",
       "    <tr style=\"text-align: right;\">\n",
       "      <th></th>\n",
       "      <th>station_id</th>\n",
       "      <th>year</th>\n",
       "      <th>month</th>\n",
       "      <th>day</th>\n",
       "      <th>rides</th>\n",
       "      <th>day_type</th>\n",
       "      <th>station_name</th>\n",
       "      <th>location</th>\n",
       "    </tr>\n",
       "  </thead>\n",
       "  <tbody>\n",
       "    <tr>\n",
       "      <th>0</th>\n",
       "      <td>40010</td>\n",
       "      <td>2019</td>\n",
       "      <td>1</td>\n",
       "      <td>1</td>\n",
       "      <td>576</td>\n",
       "      <td>Sunday/Holiday</td>\n",
       "      <td>Austin-Forest Park</td>\n",
       "      <td>(41.870851, -87.776812)</td>\n",
       "    </tr>\n",
       "    <tr>\n",
       "      <th>1</th>\n",
       "      <td>40010</td>\n",
       "      <td>2019</td>\n",
       "      <td>1</td>\n",
       "      <td>2</td>\n",
       "      <td>1457</td>\n",
       "      <td>Weekday</td>\n",
       "      <td>Austin-Forest Park</td>\n",
       "      <td>(41.870851, -87.776812)</td>\n",
       "    </tr>\n",
       "    <tr>\n",
       "      <th>2</th>\n",
       "      <td>40010</td>\n",
       "      <td>2019</td>\n",
       "      <td>1</td>\n",
       "      <td>3</td>\n",
       "      <td>1543</td>\n",
       "      <td>Weekday</td>\n",
       "      <td>Austin-Forest Park</td>\n",
       "      <td>(41.870851, -87.776812)</td>\n",
       "    </tr>\n",
       "    <tr>\n",
       "      <th>3</th>\n",
       "      <td>40010</td>\n",
       "      <td>2019</td>\n",
       "      <td>1</td>\n",
       "      <td>4</td>\n",
       "      <td>1621</td>\n",
       "      <td>Weekday</td>\n",
       "      <td>Austin-Forest Park</td>\n",
       "      <td>(41.870851, -87.776812)</td>\n",
       "    </tr>\n",
       "    <tr>\n",
       "      <th>4</th>\n",
       "      <td>40010</td>\n",
       "      <td>2019</td>\n",
       "      <td>1</td>\n",
       "      <td>5</td>\n",
       "      <td>719</td>\n",
       "      <td>Saturday</td>\n",
       "      <td>Austin-Forest Park</td>\n",
       "      <td>(41.870851, -87.776812)</td>\n",
       "    </tr>\n",
       "  </tbody>\n",
       "</table>\n",
       "</div>"
      ],
      "text/plain": [
       "  station_id  year  month  day  rides        day_type        station_name  \\\n",
       "0      40010  2019      1    1    576  Sunday/Holiday  Austin-Forest Park   \n",
       "1      40010  2019      1    2   1457         Weekday  Austin-Forest Park   \n",
       "2      40010  2019      1    3   1543         Weekday  Austin-Forest Park   \n",
       "3      40010  2019      1    4   1621         Weekday  Austin-Forest Park   \n",
       "4      40010  2019      1    5    719        Saturday  Austin-Forest Park   \n",
       "\n",
       "                  location  \n",
       "0  (41.870851, -87.776812)  \n",
       "1  (41.870851, -87.776812)  \n",
       "2  (41.870851, -87.776812)  \n",
       "3  (41.870851, -87.776812)  \n",
       "4  (41.870851, -87.776812)  "
      ]
     },
     "execution_count": 30,
     "metadata": {},
     "output_type": "execute_result"
    }
   ],
   "source": [
    "rid_cal_sta.head()"
   ]
  },
  {
   "cell_type": "markdown",
   "id": "f43230c7-2adb-48ea-880a-ef5257dab83b",
   "metadata": {},
   "source": [
    "\n",
    "- Create a variable called `filter_criteria` to select the appropriate rows from the merged table so that you can sum the `rides` column."
   ]
  },
  {
   "cell_type": "code",
   "execution_count": 34,
   "id": "16e4b6f7-d4e9-40e1-96fe-46900eb47999",
   "metadata": {},
   "outputs": [],
   "source": [
    "filter_criteria = ((rid_cal_sta[\"month\"] == 7) \n",
    "                   & (rid_cal_sta[\"day_type\"] == \"Weekday\") \n",
    "                   & (rid_cal_sta[\"station_name\"] == \"Wilson\"))"
   ]
  },
  {
   "cell_type": "code",
   "execution_count": 35,
   "id": "88dc57b3-3886-4ccf-b427-4b1ae399a4d7",
   "metadata": {},
   "outputs": [
    {
     "data": {
      "text/html": [
       "<div>\n",
       "<style scoped>\n",
       "    .dataframe tbody tr th:only-of-type {\n",
       "        vertical-align: middle;\n",
       "    }\n",
       "\n",
       "    .dataframe tbody tr th {\n",
       "        vertical-align: top;\n",
       "    }\n",
       "\n",
       "    .dataframe thead th {\n",
       "        text-align: right;\n",
       "    }\n",
       "</style>\n",
       "<table border=\"1\" class=\"dataframe\">\n",
       "  <thead>\n",
       "    <tr style=\"text-align: right;\">\n",
       "      <th></th>\n",
       "      <th>station_id</th>\n",
       "      <th>year</th>\n",
       "      <th>month</th>\n",
       "      <th>day</th>\n",
       "      <th>rides</th>\n",
       "      <th>day_type</th>\n",
       "      <th>station_name</th>\n",
       "      <th>location</th>\n",
       "    </tr>\n",
       "  </thead>\n",
       "  <tbody>\n",
       "    <tr>\n",
       "      <th>1641</th>\n",
       "      <td>40540</td>\n",
       "      <td>2019</td>\n",
       "      <td>7</td>\n",
       "      <td>1</td>\n",
       "      <td>6464</td>\n",
       "      <td>Weekday</td>\n",
       "      <td>Wilson</td>\n",
       "      <td>(41.964273, -87.657588)</td>\n",
       "    </tr>\n",
       "    <tr>\n",
       "      <th>1642</th>\n",
       "      <td>40540</td>\n",
       "      <td>2019</td>\n",
       "      <td>7</td>\n",
       "      <td>2</td>\n",
       "      <td>6491</td>\n",
       "      <td>Weekday</td>\n",
       "      <td>Wilson</td>\n",
       "      <td>(41.964273, -87.657588)</td>\n",
       "    </tr>\n",
       "    <tr>\n",
       "      <th>1643</th>\n",
       "      <td>40540</td>\n",
       "      <td>2019</td>\n",
       "      <td>7</td>\n",
       "      <td>3</td>\n",
       "      <td>6639</td>\n",
       "      <td>Weekday</td>\n",
       "      <td>Wilson</td>\n",
       "      <td>(41.964273, -87.657588)</td>\n",
       "    </tr>\n",
       "    <tr>\n",
       "      <th>1645</th>\n",
       "      <td>40540</td>\n",
       "      <td>2019</td>\n",
       "      <td>7</td>\n",
       "      <td>5</td>\n",
       "      <td>4794</td>\n",
       "      <td>Weekday</td>\n",
       "      <td>Wilson</td>\n",
       "      <td>(41.964273, -87.657588)</td>\n",
       "    </tr>\n",
       "    <tr>\n",
       "      <th>1648</th>\n",
       "      <td>40540</td>\n",
       "      <td>2019</td>\n",
       "      <td>7</td>\n",
       "      <td>8</td>\n",
       "      <td>6351</td>\n",
       "      <td>Weekday</td>\n",
       "      <td>Wilson</td>\n",
       "      <td>(41.964273, -87.657588)</td>\n",
       "    </tr>\n",
       "  </tbody>\n",
       "</table>\n",
       "</div>"
      ],
      "text/plain": [
       "     station_id  year  month  day  rides day_type station_name  \\\n",
       "1641      40540  2019      7    1   6464  Weekday       Wilson   \n",
       "1642      40540  2019      7    2   6491  Weekday       Wilson   \n",
       "1643      40540  2019      7    3   6639  Weekday       Wilson   \n",
       "1645      40540  2019      7    5   4794  Weekday       Wilson   \n",
       "1648      40540  2019      7    8   6351  Weekday       Wilson   \n",
       "\n",
       "                     location  \n",
       "1641  (41.964273, -87.657588)  \n",
       "1642  (41.964273, -87.657588)  \n",
       "1643  (41.964273, -87.657588)  \n",
       "1645  (41.964273, -87.657588)  \n",
       "1648  (41.964273, -87.657588)  "
      ]
     },
     "execution_count": 35,
     "metadata": {},
     "output_type": "execute_result"
    }
   ],
   "source": [
    "rid_cal_sta[filter_criteria].head()"
   ]
  },
  {
   "cell_type": "code",
   "execution_count": 36,
   "id": "260adcb2-e7c2-4460-b655-4ff1669afb6c",
   "metadata": {},
   "outputs": [
    {
     "data": {
      "text/plain": [
       "140005"
      ]
     },
     "execution_count": 36,
     "metadata": {},
     "output_type": "execute_result"
    }
   ],
   "source": [
    "rid_cal_sta[filter_criteria][\"rides\"].sum()"
   ]
  },
  {
   "cell_type": "code",
   "execution_count": null,
   "id": "d0ca55ee-e510-410b-a665-4fbfd7528eed",
   "metadata": {},
   "outputs": [],
   "source": []
  }
 ],
 "metadata": {
  "kernelspec": {
   "display_name": "Python 3 (ipykernel)",
   "language": "python",
   "name": "python3"
  },
  "language_info": {
   "codemirror_mode": {
    "name": "ipython",
    "version": 3
   },
   "file_extension": ".py",
   "mimetype": "text/x-python",
   "name": "python",
   "nbconvert_exporter": "python",
   "pygments_lexer": "ipython3",
   "version": "3.11.7"
  }
 },
 "nbformat": 4,
 "nbformat_minor": 5
}
