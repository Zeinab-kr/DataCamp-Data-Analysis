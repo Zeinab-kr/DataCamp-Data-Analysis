{
 "cells": [
  {
   "cell_type": "markdown",
   "id": "26ee0668-36b8-444e-aa3c-b39d1d33408e",
   "metadata": {},
   "source": [
    "#  Your first inner join\n",
    "\n",
    "##  Assignment \n",
    "\n",
    "You have been tasked with figuring out what the most popular types of fuel used in Chicago taxis are. To complete the analysis, you need to merge the `taxi_owners` and `taxi_veh` tables together on the `vid` column. You can then use the merged table along with the `.value_counts()` method to find the most common `fuel_type`.\n",
    "\n",
    "Since you'll be working with `pandas` throughout the course, the package will be preloaded for you as `pd` in each exercise in this course. Also the `taxi_owners` and `taxi_veh` DataFrames are loaded for you.\n",
    "\n",
    "##  Pre exercise code \n",
    "\n",
    "```\n",
    "from pickle import load\n",
    "import urllib.request\n",
    "import pandas as pd\n",
    "\n",
    "fn_owner = 'https://assets.datacamp.com/production/repositories/5486/datasets/553cc8938e07068079df6215e5fcc8dbcd97b5ee/taxi_owners.p'\n",
    "fn_veh = 'https://assets.datacamp.com/production/repositories/5486/datasets/fe902298c39602e2ed571c23351571c779838858/taxi_vehicles.p'\n",
    "\n",
    "taxi_owners = load(urllib.request.urlopen(fn_owner))\n",
    "taxi_veh = load(urllib.request.urlopen(fn_veh))"
   ]
  },
  {
   "cell_type": "code",
   "execution_count": 1,
   "id": "3bbd770b-2c25-4a9f-aaa5-6788710fae3c",
   "metadata": {},
   "outputs": [],
   "source": [
    "from pickle import load\n",
    "import urllib.request\n",
    "import pandas as pd"
   ]
  },
  {
   "cell_type": "code",
   "execution_count": 2,
   "id": "3b93b1a8-c294-42c0-a4d4-869bd360bc6a",
   "metadata": {},
   "outputs": [],
   "source": [
    "fn_owner = 'https://assets.datacamp.com/production/repositories/5486/datasets/553cc8938e07068079df6215e5fcc8dbcd97b5ee/taxi_owners.p'\n",
    "fn_veh = 'https://assets.datacamp.com/production/repositories/5486/datasets/fe902298c39602e2ed571c23351571c779838858/taxi_vehicles.p'\n",
    "\n",
    "taxi_owners = load(urllib.request.urlopen(fn_owner))\n",
    "taxi_veh = load(urllib.request.urlopen(fn_veh))"
   ]
  },
  {
   "cell_type": "markdown",
   "id": "baf23b3a-59ab-4824-b3b3-070de3188af8",
   "metadata": {},
   "source": [
    "##  Instructions \n",
    "\n",
    "- Merge `taxi_owners` with `taxi_veh` on the column `vid`, and save the result to `taxi_own_veh`.\n"
   ]
  },
  {
   "cell_type": "code",
   "execution_count": 3,
   "id": "c818e16b-05a9-4c73-aa2f-35b3d17f358c",
   "metadata": {},
   "outputs": [],
   "source": [
    "taxi_own_veh = taxi_owners.merge(taxi_veh, on=\"vid\")"
   ]
  },
  {
   "cell_type": "code",
   "execution_count": 4,
   "id": "f082f049-bda8-4313-a023-030f4c0da61c",
   "metadata": {},
   "outputs": [
    {
     "data": {
      "text/html": [
       "<div>\n",
       "<style scoped>\n",
       "    .dataframe tbody tr th:only-of-type {\n",
       "        vertical-align: middle;\n",
       "    }\n",
       "\n",
       "    .dataframe tbody tr th {\n",
       "        vertical-align: top;\n",
       "    }\n",
       "\n",
       "    .dataframe thead th {\n",
       "        text-align: right;\n",
       "    }\n",
       "</style>\n",
       "<table border=\"1\" class=\"dataframe\">\n",
       "  <thead>\n",
       "    <tr style=\"text-align: right;\">\n",
       "      <th></th>\n",
       "      <th>rid</th>\n",
       "      <th>vid</th>\n",
       "      <th>owner_x</th>\n",
       "      <th>address</th>\n",
       "      <th>zip</th>\n",
       "      <th>make</th>\n",
       "      <th>model</th>\n",
       "      <th>year</th>\n",
       "      <th>fuel_type</th>\n",
       "      <th>owner_y</th>\n",
       "    </tr>\n",
       "  </thead>\n",
       "  <tbody>\n",
       "    <tr>\n",
       "      <th>0</th>\n",
       "      <td>T6285</td>\n",
       "      <td>6285</td>\n",
       "      <td>AGEAN TAXI LLC</td>\n",
       "      <td>4536 N. ELSTON AVE.</td>\n",
       "      <td>60630</td>\n",
       "      <td>NISSAN</td>\n",
       "      <td>ALTIMA</td>\n",
       "      <td>2011</td>\n",
       "      <td>HYBRID</td>\n",
       "      <td>AGEAN TAXI LLC</td>\n",
       "    </tr>\n",
       "    <tr>\n",
       "      <th>1</th>\n",
       "      <td>T4862</td>\n",
       "      <td>4862</td>\n",
       "      <td>MANGIB CORP.</td>\n",
       "      <td>5717 N. WASHTENAW AVE.</td>\n",
       "      <td>60659</td>\n",
       "      <td>HONDA</td>\n",
       "      <td>CRV</td>\n",
       "      <td>2014</td>\n",
       "      <td>GASOLINE</td>\n",
       "      <td>MANGIB CORP.</td>\n",
       "    </tr>\n",
       "    <tr>\n",
       "      <th>2</th>\n",
       "      <td>T1495</td>\n",
       "      <td>1495</td>\n",
       "      <td>FUNRIDE, INC.</td>\n",
       "      <td>3351 W. ADDISON ST.</td>\n",
       "      <td>60618</td>\n",
       "      <td>TOYOTA</td>\n",
       "      <td>SIENNA</td>\n",
       "      <td>2015</td>\n",
       "      <td>GASOLINE</td>\n",
       "      <td>FUNRIDE, INC.</td>\n",
       "    </tr>\n",
       "    <tr>\n",
       "      <th>3</th>\n",
       "      <td>T4231</td>\n",
       "      <td>4231</td>\n",
       "      <td>ALQUSH CORP.</td>\n",
       "      <td>6611 N. CAMPBELL AVE.</td>\n",
       "      <td>60645</td>\n",
       "      <td>TOYOTA</td>\n",
       "      <td>CAMRY</td>\n",
       "      <td>2014</td>\n",
       "      <td>HYBRID</td>\n",
       "      <td>ALQUSH CORP.</td>\n",
       "    </tr>\n",
       "    <tr>\n",
       "      <th>4</th>\n",
       "      <td>T5971</td>\n",
       "      <td>5971</td>\n",
       "      <td>EUNIFFORD INC.</td>\n",
       "      <td>3351 W. ADDISON ST.</td>\n",
       "      <td>60618</td>\n",
       "      <td>TOYOTA</td>\n",
       "      <td>SIENNA</td>\n",
       "      <td>2015</td>\n",
       "      <td>GASOLINE</td>\n",
       "      <td>EUNIFFORD INC.</td>\n",
       "    </tr>\n",
       "  </tbody>\n",
       "</table>\n",
       "</div>"
      ],
      "text/plain": [
       "     rid   vid         owner_x                 address    zip    make   model  \\\n",
       "0  T6285  6285  AGEAN TAXI LLC     4536 N. ELSTON AVE.  60630  NISSAN  ALTIMA   \n",
       "1  T4862  4862    MANGIB CORP.  5717 N. WASHTENAW AVE.  60659   HONDA     CRV   \n",
       "2  T1495  1495   FUNRIDE, INC.     3351 W. ADDISON ST.  60618  TOYOTA  SIENNA   \n",
       "3  T4231  4231    ALQUSH CORP.   6611 N. CAMPBELL AVE.  60645  TOYOTA   CAMRY   \n",
       "4  T5971  5971  EUNIFFORD INC.     3351 W. ADDISON ST.  60618  TOYOTA  SIENNA   \n",
       "\n",
       "   year fuel_type         owner_y  \n",
       "0  2011    HYBRID  AGEAN TAXI LLC  \n",
       "1  2014  GASOLINE    MANGIB CORP.  \n",
       "2  2015  GASOLINE   FUNRIDE, INC.  \n",
       "3  2014    HYBRID    ALQUSH CORP.  \n",
       "4  2015  GASOLINE  EUNIFFORD INC.  "
      ]
     },
     "execution_count": 4,
     "metadata": {},
     "output_type": "execute_result"
    }
   ],
   "source": [
    "taxi_own_veh.head()"
   ]
  },
  {
   "cell_type": "markdown",
   "id": "6b6fc6c8-76d0-48f6-a0fe-53f8223544f1",
   "metadata": {},
   "source": [
    "- Set the left and right table suffixes for overlapping columns of the merge to `_own` and `_veh`, respectively."
   ]
  },
  {
   "cell_type": "code",
   "execution_count": 5,
   "id": "0946a33d-8042-44b1-a8b6-b4ed8879730d",
   "metadata": {},
   "outputs": [],
   "source": [
    "taxi_own_veh = taxi_owners.merge(taxi_veh, on=\"vid\", suffixes=[\"_own\", \"_veh\"])"
   ]
  },
  {
   "cell_type": "code",
   "execution_count": 6,
   "id": "e958b9fd-2f2e-4ade-9a7d-12a569633d9e",
   "metadata": {},
   "outputs": [
    {
     "data": {
      "text/html": [
       "<div>\n",
       "<style scoped>\n",
       "    .dataframe tbody tr th:only-of-type {\n",
       "        vertical-align: middle;\n",
       "    }\n",
       "\n",
       "    .dataframe tbody tr th {\n",
       "        vertical-align: top;\n",
       "    }\n",
       "\n",
       "    .dataframe thead th {\n",
       "        text-align: right;\n",
       "    }\n",
       "</style>\n",
       "<table border=\"1\" class=\"dataframe\">\n",
       "  <thead>\n",
       "    <tr style=\"text-align: right;\">\n",
       "      <th></th>\n",
       "      <th>rid</th>\n",
       "      <th>vid</th>\n",
       "      <th>owner_own</th>\n",
       "      <th>address</th>\n",
       "      <th>zip</th>\n",
       "      <th>make</th>\n",
       "      <th>model</th>\n",
       "      <th>year</th>\n",
       "      <th>fuel_type</th>\n",
       "      <th>owner_veh</th>\n",
       "    </tr>\n",
       "  </thead>\n",
       "  <tbody>\n",
       "    <tr>\n",
       "      <th>0</th>\n",
       "      <td>T6285</td>\n",
       "      <td>6285</td>\n",
       "      <td>AGEAN TAXI LLC</td>\n",
       "      <td>4536 N. ELSTON AVE.</td>\n",
       "      <td>60630</td>\n",
       "      <td>NISSAN</td>\n",
       "      <td>ALTIMA</td>\n",
       "      <td>2011</td>\n",
       "      <td>HYBRID</td>\n",
       "      <td>AGEAN TAXI LLC</td>\n",
       "    </tr>\n",
       "    <tr>\n",
       "      <th>1</th>\n",
       "      <td>T4862</td>\n",
       "      <td>4862</td>\n",
       "      <td>MANGIB CORP.</td>\n",
       "      <td>5717 N. WASHTENAW AVE.</td>\n",
       "      <td>60659</td>\n",
       "      <td>HONDA</td>\n",
       "      <td>CRV</td>\n",
       "      <td>2014</td>\n",
       "      <td>GASOLINE</td>\n",
       "      <td>MANGIB CORP.</td>\n",
       "    </tr>\n",
       "    <tr>\n",
       "      <th>2</th>\n",
       "      <td>T1495</td>\n",
       "      <td>1495</td>\n",
       "      <td>FUNRIDE, INC.</td>\n",
       "      <td>3351 W. ADDISON ST.</td>\n",
       "      <td>60618</td>\n",
       "      <td>TOYOTA</td>\n",
       "      <td>SIENNA</td>\n",
       "      <td>2015</td>\n",
       "      <td>GASOLINE</td>\n",
       "      <td>FUNRIDE, INC.</td>\n",
       "    </tr>\n",
       "    <tr>\n",
       "      <th>3</th>\n",
       "      <td>T4231</td>\n",
       "      <td>4231</td>\n",
       "      <td>ALQUSH CORP.</td>\n",
       "      <td>6611 N. CAMPBELL AVE.</td>\n",
       "      <td>60645</td>\n",
       "      <td>TOYOTA</td>\n",
       "      <td>CAMRY</td>\n",
       "      <td>2014</td>\n",
       "      <td>HYBRID</td>\n",
       "      <td>ALQUSH CORP.</td>\n",
       "    </tr>\n",
       "    <tr>\n",
       "      <th>4</th>\n",
       "      <td>T5971</td>\n",
       "      <td>5971</td>\n",
       "      <td>EUNIFFORD INC.</td>\n",
       "      <td>3351 W. ADDISON ST.</td>\n",
       "      <td>60618</td>\n",
       "      <td>TOYOTA</td>\n",
       "      <td>SIENNA</td>\n",
       "      <td>2015</td>\n",
       "      <td>GASOLINE</td>\n",
       "      <td>EUNIFFORD INC.</td>\n",
       "    </tr>\n",
       "  </tbody>\n",
       "</table>\n",
       "</div>"
      ],
      "text/plain": [
       "     rid   vid       owner_own                 address    zip    make   model  \\\n",
       "0  T6285  6285  AGEAN TAXI LLC     4536 N. ELSTON AVE.  60630  NISSAN  ALTIMA   \n",
       "1  T4862  4862    MANGIB CORP.  5717 N. WASHTENAW AVE.  60659   HONDA     CRV   \n",
       "2  T1495  1495   FUNRIDE, INC.     3351 W. ADDISON ST.  60618  TOYOTA  SIENNA   \n",
       "3  T4231  4231    ALQUSH CORP.   6611 N. CAMPBELL AVE.  60645  TOYOTA   CAMRY   \n",
       "4  T5971  5971  EUNIFFORD INC.     3351 W. ADDISON ST.  60618  TOYOTA  SIENNA   \n",
       "\n",
       "   year fuel_type       owner_veh  \n",
       "0  2011    HYBRID  AGEAN TAXI LLC  \n",
       "1  2014  GASOLINE    MANGIB CORP.  \n",
       "2  2015  GASOLINE   FUNRIDE, INC.  \n",
       "3  2014    HYBRID    ALQUSH CORP.  \n",
       "4  2015  GASOLINE  EUNIFFORD INC.  "
      ]
     },
     "execution_count": 6,
     "metadata": {},
     "output_type": "execute_result"
    }
   ],
   "source": [
    "taxi_own_veh.head()"
   ]
  },
  {
   "cell_type": "markdown",
   "id": "6b806654-57dc-4737-8e5c-0b4f10ac47df",
   "metadata": {},
   "source": [
    "\n",
    "- Select the `fuel_type` column from `taxi_own_veh` and print the `value_counts()` to find the most popular `fuel_type`s used."
   ]
  },
  {
   "cell_type": "code",
   "execution_count": 7,
   "id": "b0ff6e55-9d0f-4c75-b573-0d2e8a745424",
   "metadata": {},
   "outputs": [
    {
     "data": {
      "text/plain": [
       "fuel_type\n",
       "HYBRID                    2792\n",
       "GASOLINE                   611\n",
       "FLEX FUEL                   89\n",
       "COMPRESSED NATURAL GAS      27\n",
       "Name: count, dtype: int64"
      ]
     },
     "execution_count": 7,
     "metadata": {},
     "output_type": "execute_result"
    }
   ],
   "source": [
    "taxi_own_veh[\"fuel_type\"].value_counts()"
   ]
  },
  {
   "cell_type": "code",
   "execution_count": null,
   "id": "dffbb08a-b211-4211-b442-a1e67e783b0c",
   "metadata": {},
   "outputs": [],
   "source": []
  }
 ],
 "metadata": {
  "kernelspec": {
   "display_name": "Python 3 (ipykernel)",
   "language": "python",
   "name": "python3"
  },
  "language_info": {
   "codemirror_mode": {
    "name": "ipython",
    "version": 3
   },
   "file_extension": ".py",
   "mimetype": "text/x-python",
   "name": "python",
   "nbconvert_exporter": "python",
   "pygments_lexer": "ipython3",
   "version": "3.11.7"
  }
 },
 "nbformat": 4,
 "nbformat_minor": 5
}
