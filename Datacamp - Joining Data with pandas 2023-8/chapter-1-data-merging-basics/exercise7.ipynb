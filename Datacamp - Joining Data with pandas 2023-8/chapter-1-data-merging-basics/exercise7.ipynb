{
 "cells": [
  {
   "cell_type": "markdown",
   "id": "71bfbc90-28d7-4cd0-8a55-bde67fa39a07",
   "metadata": {},
   "source": [
    "#  Three table merge\n",
    "\n",
    "##  Assignment \n",
    "\n",
    "To solidify the concept of a three DataFrame merge, practice another exercise. A reasonable extension of our review of Chicago business data would include looking at demographics information about the neighborhoods where the businesses are. A table with the median income by zip code has been provided to you. You will merge the `licenses` and `wards` tables with this new income-by-zip-code table called `zip_demo`.\n",
    "\n",
    "The `licenses`, `wards`, and `zip_demo` DataFrames have been loaded for you.\n",
    "\n",
    "##  Pre exercise code \n",
    "\n",
    "```\n",
    "from pickle import load\n",
    "import urllib.request\n",
    "import pandas as pd\n",
    "\n",
    "fn_lic = 'https://assets.datacamp.com/production/repositories/5486/datasets/2a4d8e5d91f6f2b41477fa6ea81da91e4f09305e/licenses.p'\n",
    "fn_zip = 'https://assets.datacamp.com/production/repositories/5486/datasets/293c2b89092f6bcdb97d4d9e971c08183f09c30b/zip_demo.p'\n",
    "fn_war = 'https://assets.datacamp.com/production/repositories/5486/datasets/87c16fd85c435ea10221932ebab27ffb6b232c74/ward.p'\n",
    "licenses = load(urllib.request.urlopen(fn_lic))\n",
    "zip_demo = load(urllib.request.urlopen(fn_zip))\n",
    "wards = load(urllib.request.urlopen(fn_war))\n",
    "```\n",
    "\n",
    "\n",
    "\n",
    "##  Instructions \n",
    "\n",
    "- Starting with the `licenses` table, merge to it the `zip_demo` table on the `zip` column. Then merge the resulting table to the `wards` table on the `ward` column. Save result of the three merged tables to a variable named `licenses_zip_ward`.\n",
    "- Group the results of the three merged tables by the column `alderman` and find the median `income`.\n"
   ]
  },
  {
   "cell_type": "code",
   "execution_count": 1,
   "id": "9de25cab-c85c-40f5-8cb1-52f82e66cd10",
   "metadata": {},
   "outputs": [],
   "source": [
    "from pickle import load\n",
    "import urllib.request\n",
    "import pandas as pd"
   ]
  },
  {
   "cell_type": "code",
   "execution_count": 2,
   "id": "c25c8243-c1a4-4046-bc92-85a393f5ea17",
   "metadata": {},
   "outputs": [],
   "source": [
    "fn_lic = 'https://assets.datacamp.com/production/repositories/5486/datasets/2a4d8e5d91f6f2b41477fa6ea81da91e4f09305e/licenses.p'\n",
    "fn_zip = 'https://assets.datacamp.com/production/repositories/5486/datasets/293c2b89092f6bcdb97d4d9e971c08183f09c30b/zip_demo.p'\n",
    "fn_war = 'https://assets.datacamp.com/production/repositories/5486/datasets/87c16fd85c435ea10221932ebab27ffb6b232c74/ward.p'\n",
    "licenses = load(urllib.request.urlopen(fn_lic))\n",
    "zip_demo = load(urllib.request.urlopen(fn_zip))\n",
    "wards = load(urllib.request.urlopen(fn_war))"
   ]
  },
  {
   "cell_type": "code",
   "execution_count": 3,
   "id": "d85b9613-2c92-4427-9415-1595479dc5ae",
   "metadata": {},
   "outputs": [
    {
     "data": {
      "text/html": [
       "<div>\n",
       "<style scoped>\n",
       "    .dataframe tbody tr th:only-of-type {\n",
       "        vertical-align: middle;\n",
       "    }\n",
       "\n",
       "    .dataframe tbody tr th {\n",
       "        vertical-align: top;\n",
       "    }\n",
       "\n",
       "    .dataframe thead th {\n",
       "        text-align: right;\n",
       "    }\n",
       "</style>\n",
       "<table border=\"1\" class=\"dataframe\">\n",
       "  <thead>\n",
       "    <tr style=\"text-align: right;\">\n",
       "      <th></th>\n",
       "      <th>account</th>\n",
       "      <th>ward</th>\n",
       "      <th>aid</th>\n",
       "      <th>business</th>\n",
       "      <th>address</th>\n",
       "      <th>zip</th>\n",
       "    </tr>\n",
       "  </thead>\n",
       "  <tbody>\n",
       "    <tr>\n",
       "      <th>0</th>\n",
       "      <td>307071</td>\n",
       "      <td>3</td>\n",
       "      <td>743</td>\n",
       "      <td>REGGIE'S BAR &amp; GRILL</td>\n",
       "      <td>2105 S STATE ST</td>\n",
       "      <td>60616</td>\n",
       "    </tr>\n",
       "  </tbody>\n",
       "</table>\n",
       "</div>"
      ],
      "text/plain": [
       "  account ward  aid              business          address    zip\n",
       "0  307071    3  743  REGGIE'S BAR & GRILL  2105 S STATE ST  60616"
      ]
     },
     "execution_count": 3,
     "metadata": {},
     "output_type": "execute_result"
    }
   ],
   "source": [
    "licenses.head(1)"
   ]
  },
  {
   "cell_type": "code",
   "execution_count": 4,
   "id": "537ee253-74e8-4e20-98f9-52fc2954de83",
   "metadata": {},
   "outputs": [
    {
     "data": {
      "text/html": [
       "<div>\n",
       "<style scoped>\n",
       "    .dataframe tbody tr th:only-of-type {\n",
       "        vertical-align: middle;\n",
       "    }\n",
       "\n",
       "    .dataframe tbody tr th {\n",
       "        vertical-align: top;\n",
       "    }\n",
       "\n",
       "    .dataframe thead th {\n",
       "        text-align: right;\n",
       "    }\n",
       "</style>\n",
       "<table border=\"1\" class=\"dataframe\">\n",
       "  <thead>\n",
       "    <tr style=\"text-align: right;\">\n",
       "      <th></th>\n",
       "      <th>zip</th>\n",
       "      <th>income</th>\n",
       "    </tr>\n",
       "  </thead>\n",
       "  <tbody>\n",
       "    <tr>\n",
       "      <th>0</th>\n",
       "      <td>60630</td>\n",
       "      <td>70122</td>\n",
       "    </tr>\n",
       "  </tbody>\n",
       "</table>\n",
       "</div>"
      ],
      "text/plain": [
       "     zip  income\n",
       "0  60630   70122"
      ]
     },
     "execution_count": 4,
     "metadata": {},
     "output_type": "execute_result"
    }
   ],
   "source": [
    "zip_demo.head(1)"
   ]
  },
  {
   "cell_type": "code",
   "execution_count": 5,
   "id": "40819c2f-c2f1-4c31-bce9-8be35ca6e327",
   "metadata": {},
   "outputs": [
    {
     "data": {
      "text/html": [
       "<div>\n",
       "<style scoped>\n",
       "    .dataframe tbody tr th:only-of-type {\n",
       "        vertical-align: middle;\n",
       "    }\n",
       "\n",
       "    .dataframe tbody tr th {\n",
       "        vertical-align: top;\n",
       "    }\n",
       "\n",
       "    .dataframe thead th {\n",
       "        text-align: right;\n",
       "    }\n",
       "</style>\n",
       "<table border=\"1\" class=\"dataframe\">\n",
       "  <thead>\n",
       "    <tr style=\"text-align: right;\">\n",
       "      <th></th>\n",
       "      <th>ward</th>\n",
       "      <th>alderman</th>\n",
       "      <th>address</th>\n",
       "      <th>zip</th>\n",
       "    </tr>\n",
       "  </thead>\n",
       "  <tbody>\n",
       "    <tr>\n",
       "      <th>0</th>\n",
       "      <td>1</td>\n",
       "      <td>Proco \"Joe\" Moreno</td>\n",
       "      <td>2058 NORTH WESTERN AVENUE</td>\n",
       "      <td>60647</td>\n",
       "    </tr>\n",
       "  </tbody>\n",
       "</table>\n",
       "</div>"
      ],
      "text/plain": [
       "  ward            alderman                    address    zip\n",
       "0    1  Proco \"Joe\" Moreno  2058 NORTH WESTERN AVENUE  60647"
      ]
     },
     "execution_count": 5,
     "metadata": {},
     "output_type": "execute_result"
    }
   ],
   "source": [
    "wards.head(1)"
   ]
  },
  {
   "cell_type": "code",
   "execution_count": 6,
   "id": "42225197-54fe-407b-8598-36959576750d",
   "metadata": {},
   "outputs": [],
   "source": [
    "licneses_zip_ward = licenses.merge(zip_demo, on=\"zip\").merge(wards, on=\"ward\")"
   ]
  },
  {
   "cell_type": "code",
   "execution_count": 7,
   "id": "8abe5db4-1cc3-4afb-9743-362500dab20f",
   "metadata": {},
   "outputs": [
    {
     "data": {
      "text/html": [
       "<div>\n",
       "<style scoped>\n",
       "    .dataframe tbody tr th:only-of-type {\n",
       "        vertical-align: middle;\n",
       "    }\n",
       "\n",
       "    .dataframe tbody tr th {\n",
       "        vertical-align: top;\n",
       "    }\n",
       "\n",
       "    .dataframe thead th {\n",
       "        text-align: right;\n",
       "    }\n",
       "</style>\n",
       "<table border=\"1\" class=\"dataframe\">\n",
       "  <thead>\n",
       "    <tr style=\"text-align: right;\">\n",
       "      <th></th>\n",
       "      <th>account</th>\n",
       "      <th>ward</th>\n",
       "      <th>aid</th>\n",
       "      <th>business</th>\n",
       "      <th>address_x</th>\n",
       "      <th>zip_x</th>\n",
       "      <th>income</th>\n",
       "      <th>alderman</th>\n",
       "      <th>address_y</th>\n",
       "      <th>zip_y</th>\n",
       "    </tr>\n",
       "  </thead>\n",
       "  <tbody>\n",
       "    <tr>\n",
       "      <th>0</th>\n",
       "      <td>307071</td>\n",
       "      <td>3</td>\n",
       "      <td>743</td>\n",
       "      <td>REGGIE'S BAR &amp; GRILL</td>\n",
       "      <td>2105 S STATE ST</td>\n",
       "      <td>60616</td>\n",
       "      <td>46340</td>\n",
       "      <td>Pat Dowell</td>\n",
       "      <td>5046 SOUTH STATE STREET</td>\n",
       "      <td>60609</td>\n",
       "    </tr>\n",
       "    <tr>\n",
       "      <th>1</th>\n",
       "      <td>10</td>\n",
       "      <td>10</td>\n",
       "      <td>829</td>\n",
       "      <td>HONEYBEERS</td>\n",
       "      <td>13200 S HOUSTON AVE</td>\n",
       "      <td>60633</td>\n",
       "      <td>50164</td>\n",
       "      <td>Susan Sadlowski Garza</td>\n",
       "      <td>10500 SOUTH EWING AVENUE</td>\n",
       "      <td>60617</td>\n",
       "    </tr>\n",
       "    <tr>\n",
       "      <th>2</th>\n",
       "      <td>10002</td>\n",
       "      <td>14</td>\n",
       "      <td>775</td>\n",
       "      <td>CELINA DELI</td>\n",
       "      <td>5089 S ARCHER AVE</td>\n",
       "      <td>60632</td>\n",
       "      <td>42335</td>\n",
       "      <td>Edward M. Burke</td>\n",
       "      <td>2650 WEST 51ST STREET</td>\n",
       "      <td>60632</td>\n",
       "    </tr>\n",
       "    <tr>\n",
       "      <th>3</th>\n",
       "      <td>10005</td>\n",
       "      <td>12</td>\n",
       "      <td>NaN</td>\n",
       "      <td>KRAFT FOODS NORTH AMERICA</td>\n",
       "      <td>2005 W 43RD ST</td>\n",
       "      <td>60609</td>\n",
       "      <td>33959</td>\n",
       "      <td>George Cardenas</td>\n",
       "      <td>3476 SOUTH ARCHER AVENUE</td>\n",
       "      <td>60608</td>\n",
       "    </tr>\n",
       "    <tr>\n",
       "      <th>4</th>\n",
       "      <td>10044</td>\n",
       "      <td>44</td>\n",
       "      <td>638</td>\n",
       "      <td>NEYBOUR'S TAVERN &amp; GRILLE</td>\n",
       "      <td>3651 N SOUTHPORT AVE</td>\n",
       "      <td>60613</td>\n",
       "      <td>79565</td>\n",
       "      <td>Tom Tunney</td>\n",
       "      <td>3223 NORTH SHEFFIELD AVENUE</td>\n",
       "      <td>60657</td>\n",
       "    </tr>\n",
       "  </tbody>\n",
       "</table>\n",
       "</div>"
      ],
      "text/plain": [
       "  account ward  aid                   business             address_x  zip_x  \\\n",
       "0  307071    3  743       REGGIE'S BAR & GRILL       2105 S STATE ST  60616   \n",
       "1      10   10  829                 HONEYBEERS   13200 S HOUSTON AVE  60633   \n",
       "2   10002   14  775                CELINA DELI     5089 S ARCHER AVE  60632   \n",
       "3   10005   12  NaN  KRAFT FOODS NORTH AMERICA        2005 W 43RD ST  60609   \n",
       "4   10044   44  638  NEYBOUR'S TAVERN & GRILLE  3651 N SOUTHPORT AVE  60613   \n",
       "\n",
       "   income               alderman                    address_y  zip_y  \n",
       "0   46340             Pat Dowell      5046 SOUTH STATE STREET  60609  \n",
       "1   50164  Susan Sadlowski Garza     10500 SOUTH EWING AVENUE  60617  \n",
       "2   42335        Edward M. Burke        2650 WEST 51ST STREET  60632  \n",
       "3   33959        George Cardenas     3476 SOUTH ARCHER AVENUE  60608  \n",
       "4   79565             Tom Tunney  3223 NORTH SHEFFIELD AVENUE  60657  "
      ]
     },
     "execution_count": 7,
     "metadata": {},
     "output_type": "execute_result"
    }
   ],
   "source": [
    "licneses_zip_ward.head()"
   ]
  },
  {
   "cell_type": "code",
   "execution_count": 8,
   "id": "ea57feb8-b349-483d-85f7-f9a072dec411",
   "metadata": {},
   "outputs": [
    {
     "data": {
      "text/plain": [
       "alderman\n",
       "Ameya Pawar                   66246.0\n",
       "Anthony A. Beale              38206.0\n",
       "Anthony V. Napolitano         82226.0\n",
       "Ariel E. Reyboras             41307.0\n",
       "Brendan Reilly               110215.0\n",
       "Brian Hopkins                 87143.0\n",
       "Carlos Ramirez-Rosa           66246.0\n",
       "Carrie M. Austin              38206.0\n",
       "Chris Taliaferro              55566.0\n",
       "Daniel \"Danny\" Solis          41226.0\n",
       "David H. Moore                33304.0\n",
       "Deborah Mell                  66246.0\n",
       "Debra L. Silverstein          50554.0\n",
       "Derrick G. Curtis             65770.0\n",
       "Edward M. Burke               42335.0\n",
       "Emma M. Mitts                 36283.0\n",
       "George Cardenas               33959.0\n",
       "Gilbert Villegas              41307.0\n",
       "Gregory I. Mitchell           24941.0\n",
       "Harry Osterman                45442.0\n",
       "Howard B. Brookins, Jr.       33304.0\n",
       "James Cappleman               79565.0\n",
       "Jason C. Ervin                41226.0\n",
       "Joe Moore                     39163.0\n",
       "John S. Arena                 70122.0\n",
       "Leslie A. Hairston            28024.0\n",
       "Margaret Laurino              70122.0\n",
       "Marty Quinn                   67045.0\n",
       "Matthew J. O'Shea             59488.0\n",
       "Michael R. Zalewski           42335.0\n",
       "Michael Scott, Jr.            31445.0\n",
       "Michelle A. Harris            32558.0\n",
       "Michelle Smith               100116.0\n",
       "Milagros \"Milly\" Santiago     41307.0\n",
       "Nicholas Sposato              62223.0\n",
       "Pat Dowell                    46340.0\n",
       "Patrick Daley Thompson        41226.0\n",
       "Patrick J. O'Connor           50554.0\n",
       "Proco \"Joe\" Moreno            87143.0\n",
       "Raymond A. Lopez              33959.0\n",
       "Ricardo Munoz                 31445.0\n",
       "Roberto Maldonado             68223.0\n",
       "Roderick T. Sawyer            32558.0\n",
       "Scott Waguespack              68223.0\n",
       "Susan Sadlowski Garza         38417.0\n",
       "Tom Tunney                    88708.0\n",
       "Toni L. Foulkes               27573.0\n",
       "Walter Burnett, Jr.           87143.0\n",
       "William D. Burns             107811.0\n",
       "Willie B. Cochran             28024.0\n",
       "Name: income, dtype: float64"
      ]
     },
     "execution_count": 8,
     "metadata": {},
     "output_type": "execute_result"
    }
   ],
   "source": [
    "licneses_zip_ward.groupby(\"alderman\")[\"income\"].median()"
   ]
  },
  {
   "cell_type": "code",
   "execution_count": null,
   "id": "a379b0df-9b0b-49d6-bc0a-357791d27fce",
   "metadata": {},
   "outputs": [],
   "source": []
  }
 ],
 "metadata": {
  "kernelspec": {
   "display_name": "Python 3 (ipykernel)",
   "language": "python",
   "name": "python3"
  },
  "language_info": {
   "codemirror_mode": {
    "name": "ipython",
    "version": 3
   },
   "file_extension": ".py",
   "mimetype": "text/x-python",
   "name": "python",
   "nbconvert_exporter": "python",
   "pygments_lexer": "ipython3",
   "version": "3.11.7"
  }
 },
 "nbformat": 4,
 "nbformat_minor": 5
}
