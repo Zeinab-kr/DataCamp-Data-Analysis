{
 "cells": [
  {
   "cell_type": "markdown",
   "id": "ebf844e4-e871-4558-bc98-765f03e5628d",
   "metadata": {},
   "source": [
    "#  One-to-many merge\n",
    "\n",
    "##  Assignment \n",
    "\n",
    "A business may have one or multiple owners. In this exercise, you will continue to gain experience with one-to-many merges by merging a table of business owners, called `biz_owners`, to the `licenses` table. Recall from the video lesson, with a one-to-many relationship, a row in the left table may be repeated if it is related to multiple rows in the right table. In this lesson, you will explore this further by finding out what is the most common business owner title. (i.e., secretary, CEO, or vice president)\n",
    "\n",
    "The `licenses` and `biz_owners` DataFrames are loaded for you.\n",
    "\n",
    "##  Pre exercise code \n",
    "\n",
    "```\n",
    "from pickle import load\n",
    "import urllib.request\n",
    "import pandas as pd\n",
    "\n",
    "fn_lic = 'https://assets.datacamp.com/production/repositories/5486/datasets/2a4d8e5d91f6f2b41477fa6ea81da91e4f09305e/licenses.p'\n",
    "fn_own = 'https://assets.datacamp.com/production/repositories/5486/datasets/fc3c75b236ed090f487b044603c0f7ff6825d911/business_owners.p'\n",
    "licenses = load(urllib.request.urlopen(fn_lic))\n",
    "biz_owners = load(urllib.request.urlopen(fn_own))\n",
    "```\n",
    "\n",
    "\n",
    "\n",
    "##  Instructions \n",
    "\n",
    "- Starting with the `licenses` table on the left, merge it to the `biz_owners` table on the column `account`, and save the results to a variable named `licenses_owners`.\n",
    "- Group `licenses_owners` by `title` and count the number of accounts for each title. Save the result as `counted_df`\n",
    "- Sort `counted_df` by the number of **accounts** in **descending order**, and save this as a variable named `sorted_df`.\n",
    "- Use the `.head()` method to print the first few rows of the `sorted_df`."
   ]
  },
  {
   "cell_type": "code",
   "execution_count": 1,
   "id": "2b2d65be-9490-435d-99c9-13d5ef1eedd4",
   "metadata": {},
   "outputs": [],
   "source": [
    "from pickle import load\n",
    "import urllib.request\n",
    "import pandas as pd"
   ]
  },
  {
   "cell_type": "code",
   "execution_count": 2,
   "id": "6d96f2a0-481c-42ba-afd0-6f5a1b8364b3",
   "metadata": {},
   "outputs": [],
   "source": [
    "fn_lic = 'https://assets.datacamp.com/production/repositories/5486/datasets/2a4d8e5d91f6f2b41477fa6ea81da91e4f09305e/licenses.p'\n",
    "fn_own = 'https://assets.datacamp.com/production/repositories/5486/datasets/fc3c75b236ed090f487b044603c0f7ff6825d911/business_owners.p'\n",
    "licenses = load(urllib.request.urlopen(fn_lic))\n",
    "biz_owners = load(urllib.request.urlopen(fn_own))"
   ]
  },
  {
   "cell_type": "code",
   "execution_count": 3,
   "id": "f70081ba-e147-40ef-9060-4b5071b74a07",
   "metadata": {},
   "outputs": [],
   "source": [
    "licenses_owners = licenses.merge(biz_owners, on=\"account\")"
   ]
  },
  {
   "cell_type": "code",
   "execution_count": 6,
   "id": "fa5c69c7-ac91-488c-9da4-0f8eec4a6a3e",
   "metadata": {},
   "outputs": [
    {
     "data": {
      "text/html": [
       "<div>\n",
       "<style scoped>\n",
       "    .dataframe tbody tr th:only-of-type {\n",
       "        vertical-align: middle;\n",
       "    }\n",
       "\n",
       "    .dataframe tbody tr th {\n",
       "        vertical-align: top;\n",
       "    }\n",
       "\n",
       "    .dataframe thead th {\n",
       "        text-align: right;\n",
       "    }\n",
       "</style>\n",
       "<table border=\"1\" class=\"dataframe\">\n",
       "  <thead>\n",
       "    <tr style=\"text-align: right;\">\n",
       "      <th></th>\n",
       "      <th>account</th>\n",
       "      <th>ward</th>\n",
       "      <th>aid</th>\n",
       "      <th>business</th>\n",
       "      <th>address</th>\n",
       "      <th>zip</th>\n",
       "      <th>first_name</th>\n",
       "      <th>last_name</th>\n",
       "      <th>title</th>\n",
       "    </tr>\n",
       "  </thead>\n",
       "  <tbody>\n",
       "    <tr>\n",
       "      <th>0</th>\n",
       "      <td>307071</td>\n",
       "      <td>3</td>\n",
       "      <td>743</td>\n",
       "      <td>REGGIE'S BAR &amp; GRILL</td>\n",
       "      <td>2105 S STATE ST</td>\n",
       "      <td>60616</td>\n",
       "      <td>ROBERT</td>\n",
       "      <td>GLICK</td>\n",
       "      <td>MEMBER</td>\n",
       "    </tr>\n",
       "    <tr>\n",
       "      <th>1</th>\n",
       "      <td>10</td>\n",
       "      <td>10</td>\n",
       "      <td>829</td>\n",
       "      <td>HONEYBEERS</td>\n",
       "      <td>13200 S HOUSTON AVE</td>\n",
       "      <td>60633</td>\n",
       "      <td>PEARL</td>\n",
       "      <td>SHERMAN</td>\n",
       "      <td>PRESIDENT</td>\n",
       "    </tr>\n",
       "    <tr>\n",
       "      <th>2</th>\n",
       "      <td>10</td>\n",
       "      <td>10</td>\n",
       "      <td>829</td>\n",
       "      <td>HONEYBEERS</td>\n",
       "      <td>13200 S HOUSTON AVE</td>\n",
       "      <td>60633</td>\n",
       "      <td>PEARL</td>\n",
       "      <td>SHERMAN</td>\n",
       "      <td>SECRETARY</td>\n",
       "    </tr>\n",
       "    <tr>\n",
       "      <th>3</th>\n",
       "      <td>10002</td>\n",
       "      <td>14</td>\n",
       "      <td>775</td>\n",
       "      <td>CELINA DELI</td>\n",
       "      <td>5089 S ARCHER AVE</td>\n",
       "      <td>60632</td>\n",
       "      <td>WALTER</td>\n",
       "      <td>MROZEK</td>\n",
       "      <td>PARTNER</td>\n",
       "    </tr>\n",
       "    <tr>\n",
       "      <th>4</th>\n",
       "      <td>10002</td>\n",
       "      <td>14</td>\n",
       "      <td>775</td>\n",
       "      <td>CELINA DELI</td>\n",
       "      <td>5089 S ARCHER AVE</td>\n",
       "      <td>60632</td>\n",
       "      <td>CELINA</td>\n",
       "      <td>BYRDAK</td>\n",
       "      <td>PARTNER</td>\n",
       "    </tr>\n",
       "  </tbody>\n",
       "</table>\n",
       "</div>"
      ],
      "text/plain": [
       "  account ward  aid              business              address    zip  \\\n",
       "0  307071    3  743  REGGIE'S BAR & GRILL      2105 S STATE ST  60616   \n",
       "1      10   10  829            HONEYBEERS  13200 S HOUSTON AVE  60633   \n",
       "2      10   10  829            HONEYBEERS  13200 S HOUSTON AVE  60633   \n",
       "3   10002   14  775           CELINA DELI    5089 S ARCHER AVE  60632   \n",
       "4   10002   14  775           CELINA DELI    5089 S ARCHER AVE  60632   \n",
       "\n",
       "  first_name last_name      title  \n",
       "0     ROBERT     GLICK     MEMBER  \n",
       "1      PEARL   SHERMAN  PRESIDENT  \n",
       "2      PEARL   SHERMAN  SECRETARY  \n",
       "3     WALTER    MROZEK    PARTNER  \n",
       "4     CELINA    BYRDAK    PARTNER  "
      ]
     },
     "execution_count": 6,
     "metadata": {},
     "output_type": "execute_result"
    }
   ],
   "source": [
    "licenses_owners.head()"
   ]
  },
  {
   "cell_type": "code",
   "execution_count": 23,
   "id": "6873efc0-57ca-443c-b345-cb5a9e492352",
   "metadata": {},
   "outputs": [],
   "source": [
    "counted_df = licenses_owners.groupby(\"title\")[\"account\"].count()"
   ]
  },
  {
   "cell_type": "code",
   "execution_count": 26,
   "id": "6b284dd5-d06c-405f-8c3e-448f800d7690",
   "metadata": {},
   "outputs": [
    {
     "data": {
      "text/plain": [
       "title\n",
       "ASST. SECRETARY       111\n",
       "BENEFICIARY             4\n",
       "CEO                   110\n",
       "DIRECTOR              146\n",
       "EXECUTIVE DIRECTOR     10\n",
       "Name: account, dtype: int64"
      ]
     },
     "execution_count": 26,
     "metadata": {},
     "output_type": "execute_result"
    }
   ],
   "source": [
    "counted_df.head()"
   ]
  },
  {
   "cell_type": "code",
   "execution_count": 25,
   "id": "91ff850f-7ed0-4906-b0e4-6308939c8257",
   "metadata": {},
   "outputs": [],
   "source": [
    "sorted_df = counted_df.sort_values(ascending=False)"
   ]
  },
  {
   "cell_type": "code",
   "execution_count": 27,
   "id": "2f98476d-046b-42f9-bd97-68f887fc1ac0",
   "metadata": {},
   "outputs": [
    {
     "data": {
      "text/plain": [
       "title\n",
       "PRESIDENT          6259\n",
       "SECRETARY          5205\n",
       "SOLE PROPRIETOR    1658\n",
       "OTHER              1200\n",
       "VICE PRESIDENT      970\n",
       "Name: account, dtype: int64"
      ]
     },
     "execution_count": 27,
     "metadata": {},
     "output_type": "execute_result"
    }
   ],
   "source": [
    "sorted_df.head()"
   ]
  },
  {
   "cell_type": "code",
   "execution_count": null,
   "id": "b2d0c02e-f392-40fb-ab6f-7809a09e3199",
   "metadata": {},
   "outputs": [],
   "source": []
  }
 ],
 "metadata": {
  "kernelspec": {
   "display_name": "Python 3 (ipykernel)",
   "language": "python",
   "name": "python3"
  },
  "language_info": {
   "codemirror_mode": {
    "name": "ipython",
    "version": 3
   },
   "file_extension": ".py",
   "mimetype": "text/x-python",
   "name": "python",
   "nbconvert_exporter": "python",
   "pygments_lexer": "ipython3",
   "version": "3.11.7"
  }
 },
 "nbformat": 4,
 "nbformat_minor": 5
}
