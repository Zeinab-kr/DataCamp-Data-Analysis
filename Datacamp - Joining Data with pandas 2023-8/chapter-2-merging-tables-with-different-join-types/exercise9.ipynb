{
 "cells": [
  {
   "cell_type": "markdown",
   "id": "13f612a0-dd2b-4367-9684-c4824bfd4fd8",
   "metadata": {},
   "source": [
    "\n",
    "#  Do sequels earn more?\n",
    "\n",
    "##  Assignment \n",
    "\n",
    "It is time to put together many of the aspects that you have learned in this chapter. In this exercise, you'll find out which movie sequels earned the most compared to the original movie. To answer this question, you will merge a modified version of the `sequels` and `financials` tables where their index is the movie ID. You will need to choose a merge type that will return all of the rows from the `sequels` table and not all the rows of `financials` table need to be included in the result. From there, you will join the resulting table to itself so that you can compare the revenue values of the original movie to the sequel. Next, you will calculate the difference between the two revenues and sort the resulting dataset. \n",
    "\n",
    "The `sequels` and `financials` tables have been provided.\n",
    "\n",
    "##  Pre exercise code \n",
    "\n",
    "```\n",
    "from pickle import load\n",
    "import urllib.request\n",
    "import pandas as pd\n",
    "\n",
    "fn_seq = 'https://assets.datacamp.com/production/repositories/5486/datasets/4072d8a5a94dcf0a537bdcf01032bd0677ada85b/sequels.p'\n",
    "fn_fin = 'https://assets.datacamp.com/production/repositories/5486/datasets/e8f6bb0393b96bad22d50e42d5a9db1bbb643aa8/financials.p'\n",
    "\n",
    "# The id must be set with string dtype otherwise an error\n",
    "sequels = load(urllib.request.urlopen(fn_seq))\n",
    "sequels = sequels.astype({'id':'str', 'sequel':'str'})\n",
    "sequels = sequels.set_index('id')\n",
    "\n",
    "financials = load(urllib.request.urlopen(fn_fin))\n",
    "financials = financials.astype({'id':'str'})\n",
    "financials = financials.set_index('id')\n",
    "```"
   ]
  },
  {
   "cell_type": "code",
   "execution_count": 91,
   "id": "26131416-9794-4101-94c5-9d829bc844f1",
   "metadata": {},
   "outputs": [],
   "source": [
    "from pickle import load\n",
    "import urllib.request\n",
    "import pandas as pd"
   ]
  },
  {
   "cell_type": "code",
   "execution_count": 92,
   "id": "397cd9e0-ab00-4cc5-8c07-74e510b3b5af",
   "metadata": {},
   "outputs": [],
   "source": [
    "fn_seq = 'https://assets.datacamp.com/production/repositories/5486/datasets/4072d8a5a94dcf0a537bdcf01032bd0677ada85b/sequels.p'\n",
    "fn_fin = 'https://assets.datacamp.com/production/repositories/5486/datasets/e8f6bb0393b96bad22d50e42d5a9db1bbb643aa8/financials.p'"
   ]
  },
  {
   "cell_type": "code",
   "execution_count": 93,
   "id": "c4a2616f-4e5d-4e2c-9b07-181ccdd2452d",
   "metadata": {},
   "outputs": [],
   "source": [
    "# The id must be set with string dtype otherwise an error\n",
    "sequels = load(urllib.request.urlopen(fn_seq))\n",
    "sequels = sequels.astype({'id':'str', 'sequel':'str'})\n",
    "sequels = sequels.set_index('id')"
   ]
  },
  {
   "cell_type": "code",
   "execution_count": 94,
   "id": "432cb413-f3f2-4989-b7f4-f582fe2dafd9",
   "metadata": {},
   "outputs": [],
   "source": [
    "financials = load(urllib.request.urlopen(fn_fin))\n",
    "financials = financials.astype({'id':'str'})\n",
    "financials = financials.set_index('id')"
   ]
  },
  {
   "cell_type": "code",
   "execution_count": 95,
   "id": "b240c405-1804-47b4-8361-a7f7538e769d",
   "metadata": {},
   "outputs": [
    {
     "data": {
      "text/html": [
       "<div>\n",
       "<style scoped>\n",
       "    .dataframe tbody tr th:only-of-type {\n",
       "        vertical-align: middle;\n",
       "    }\n",
       "\n",
       "    .dataframe tbody tr th {\n",
       "        vertical-align: top;\n",
       "    }\n",
       "\n",
       "    .dataframe thead th {\n",
       "        text-align: right;\n",
       "    }\n",
       "</style>\n",
       "<table border=\"1\" class=\"dataframe\">\n",
       "  <thead>\n",
       "    <tr style=\"text-align: right;\">\n",
       "      <th></th>\n",
       "      <th>title</th>\n",
       "      <th>sequel</th>\n",
       "    </tr>\n",
       "    <tr>\n",
       "      <th>id</th>\n",
       "      <th></th>\n",
       "      <th></th>\n",
       "    </tr>\n",
       "  </thead>\n",
       "  <tbody>\n",
       "    <tr>\n",
       "      <th>19995</th>\n",
       "      <td>Avatar</td>\n",
       "      <td>&lt;NA&gt;</td>\n",
       "    </tr>\n",
       "  </tbody>\n",
       "</table>\n",
       "</div>"
      ],
      "text/plain": [
       "        title sequel\n",
       "id                  \n",
       "19995  Avatar   <NA>"
      ]
     },
     "execution_count": 95,
     "metadata": {},
     "output_type": "execute_result"
    }
   ],
   "source": [
    "sequels.head(1)"
   ]
  },
  {
   "cell_type": "code",
   "execution_count": 96,
   "id": "84d240a9-1c43-4210-8e8c-163ed8489c51",
   "metadata": {},
   "outputs": [
    {
     "data": {
      "text/html": [
       "<div>\n",
       "<style scoped>\n",
       "    .dataframe tbody tr th:only-of-type {\n",
       "        vertical-align: middle;\n",
       "    }\n",
       "\n",
       "    .dataframe tbody tr th {\n",
       "        vertical-align: top;\n",
       "    }\n",
       "\n",
       "    .dataframe thead th {\n",
       "        text-align: right;\n",
       "    }\n",
       "</style>\n",
       "<table border=\"1\" class=\"dataframe\">\n",
       "  <thead>\n",
       "    <tr style=\"text-align: right;\">\n",
       "      <th></th>\n",
       "      <th>budget</th>\n",
       "      <th>revenue</th>\n",
       "    </tr>\n",
       "    <tr>\n",
       "      <th>id</th>\n",
       "      <th></th>\n",
       "      <th></th>\n",
       "    </tr>\n",
       "  </thead>\n",
       "  <tbody>\n",
       "    <tr>\n",
       "      <th>19995</th>\n",
       "      <td>237000000</td>\n",
       "      <td>2.787965e+09</td>\n",
       "    </tr>\n",
       "  </tbody>\n",
       "</table>\n",
       "</div>"
      ],
      "text/plain": [
       "          budget       revenue\n",
       "id                            \n",
       "19995  237000000  2.787965e+09"
      ]
     },
     "execution_count": 96,
     "metadata": {},
     "output_type": "execute_result"
    }
   ],
   "source": [
    "financials.head(1)"
   ]
  },
  {
   "cell_type": "markdown",
   "id": "d6ec9a11-1bae-4232-834c-0a8ad6325c15",
   "metadata": {},
   "source": [
    "##  Instructions \n",
    "\n",
    "- With the `sequels` table on the left, merge to it the `financials` table on index named `id`, ensuring that all the rows from the `sequels` are returned and some rows from the other table may not be returned, Save the results to `sequels_fin`."
   ]
  },
  {
   "cell_type": "code",
   "execution_count": 99,
   "id": "11d60048-9b02-402e-877a-b93ec5ba2de9",
   "metadata": {},
   "outputs": [],
   "source": [
    "sequels_fin = sequels.merge(financials, on=\"id\", how=\"left\")"
   ]
  },
  {
   "cell_type": "code",
   "execution_count": 100,
   "id": "6b39f648-ed7d-41cf-b001-dafdd1787e50",
   "metadata": {},
   "outputs": [
    {
     "name": "stdout",
     "output_type": "stream",
     "text": [
      "seq: (4803, 2)\n",
      "fin: (3229, 2)\n",
      "seq_fin: (4803, 4)\n"
     ]
    }
   ],
   "source": [
    "print(\"seq\", sequels.shape, sep=\": \")\n",
    "print(\"fin\", financials.shape, sep=\": \")\n",
    "print(\"seq_fin\", sequels_fin.shape, sep=\": \")"
   ]
  },
  {
   "cell_type": "code",
   "execution_count": 101,
   "id": "2a30d184-95c2-471e-ab8b-927d54b3d8dc",
   "metadata": {},
   "outputs": [
    {
     "data": {
      "text/html": [
       "<div>\n",
       "<style scoped>\n",
       "    .dataframe tbody tr th:only-of-type {\n",
       "        vertical-align: middle;\n",
       "    }\n",
       "\n",
       "    .dataframe tbody tr th {\n",
       "        vertical-align: top;\n",
       "    }\n",
       "\n",
       "    .dataframe thead th {\n",
       "        text-align: right;\n",
       "    }\n",
       "</style>\n",
       "<table border=\"1\" class=\"dataframe\">\n",
       "  <thead>\n",
       "    <tr style=\"text-align: right;\">\n",
       "      <th></th>\n",
       "      <th>title</th>\n",
       "      <th>sequel</th>\n",
       "      <th>budget</th>\n",
       "      <th>revenue</th>\n",
       "    </tr>\n",
       "    <tr>\n",
       "      <th>id</th>\n",
       "      <th></th>\n",
       "      <th></th>\n",
       "      <th></th>\n",
       "      <th></th>\n",
       "    </tr>\n",
       "  </thead>\n",
       "  <tbody>\n",
       "    <tr>\n",
       "      <th>19995</th>\n",
       "      <td>Avatar</td>\n",
       "      <td>&lt;NA&gt;</td>\n",
       "      <td>237000000.0</td>\n",
       "      <td>2.787965e+09</td>\n",
       "    </tr>\n",
       "    <tr>\n",
       "      <th>862</th>\n",
       "      <td>Toy Story</td>\n",
       "      <td>863</td>\n",
       "      <td>30000000.0</td>\n",
       "      <td>3.735540e+08</td>\n",
       "    </tr>\n",
       "    <tr>\n",
       "      <th>863</th>\n",
       "      <td>Toy Story 2</td>\n",
       "      <td>10193</td>\n",
       "      <td>90000000.0</td>\n",
       "      <td>4.973669e+08</td>\n",
       "    </tr>\n",
       "    <tr>\n",
       "      <th>597</th>\n",
       "      <td>Titanic</td>\n",
       "      <td>&lt;NA&gt;</td>\n",
       "      <td>200000000.0</td>\n",
       "      <td>1.845034e+09</td>\n",
       "    </tr>\n",
       "    <tr>\n",
       "      <th>24428</th>\n",
       "      <td>The Avengers</td>\n",
       "      <td>&lt;NA&gt;</td>\n",
       "      <td>220000000.0</td>\n",
       "      <td>1.519558e+09</td>\n",
       "    </tr>\n",
       "  </tbody>\n",
       "</table>\n",
       "</div>"
      ],
      "text/plain": [
       "              title sequel       budget       revenue\n",
       "id                                                   \n",
       "19995        Avatar   <NA>  237000000.0  2.787965e+09\n",
       "862       Toy Story    863   30000000.0  3.735540e+08\n",
       "863     Toy Story 2  10193   90000000.0  4.973669e+08\n",
       "597         Titanic   <NA>  200000000.0  1.845034e+09\n",
       "24428  The Avengers   <NA>  220000000.0  1.519558e+09"
      ]
     },
     "execution_count": 101,
     "metadata": {},
     "output_type": "execute_result"
    }
   ],
   "source": [
    "sequels_fin.head()"
   ]
  },
  {
   "cell_type": "markdown",
   "id": "20f7ec04-90f6-4b3e-9dbb-983ff14433bd",
   "metadata": {},
   "source": [
    "- Merge the `sequels_fin` table to itself with an inner join, where the left and right tables merge on `sequel` and `id` respectively with suffixes equal to `('_org','_seq')`, saving to `orig_seq`."
   ]
  },
  {
   "cell_type": "code",
   "execution_count": 109,
   "id": "63875ff8-06a6-414c-8aa6-ad44a676725e",
   "metadata": {},
   "outputs": [],
   "source": [
    "orig_seq = sequels_fin.merge(sequels_fin, left_on=\"sequel\", right_on=\"id\", suffixes=[\"_org\", \"_seq\"])"
   ]
  },
  {
   "cell_type": "code",
   "execution_count": 110,
   "id": "3c79295f-9a37-436e-af77-87257003cdae",
   "metadata": {},
   "outputs": [
    {
     "data": {
      "text/html": [
       "<div>\n",
       "<style scoped>\n",
       "    .dataframe tbody tr th:only-of-type {\n",
       "        vertical-align: middle;\n",
       "    }\n",
       "\n",
       "    .dataframe tbody tr th {\n",
       "        vertical-align: top;\n",
       "    }\n",
       "\n",
       "    .dataframe thead th {\n",
       "        text-align: right;\n",
       "    }\n",
       "</style>\n",
       "<table border=\"1\" class=\"dataframe\">\n",
       "  <thead>\n",
       "    <tr style=\"text-align: right;\">\n",
       "      <th></th>\n",
       "      <th>title_org</th>\n",
       "      <th>sequel_org</th>\n",
       "      <th>budget_org</th>\n",
       "      <th>revenue_org</th>\n",
       "      <th>title_seq</th>\n",
       "      <th>sequel_seq</th>\n",
       "      <th>budget_seq</th>\n",
       "      <th>revenue_seq</th>\n",
       "    </tr>\n",
       "  </thead>\n",
       "  <tbody>\n",
       "    <tr>\n",
       "      <th>0</th>\n",
       "      <td>Toy Story</td>\n",
       "      <td>863</td>\n",
       "      <td>30000000.0</td>\n",
       "      <td>373554033.0</td>\n",
       "      <td>Toy Story 2</td>\n",
       "      <td>10193</td>\n",
       "      <td>90000000.0</td>\n",
       "      <td>4.973669e+08</td>\n",
       "    </tr>\n",
       "    <tr>\n",
       "      <th>1</th>\n",
       "      <td>Toy Story 2</td>\n",
       "      <td>10193</td>\n",
       "      <td>90000000.0</td>\n",
       "      <td>497366869.0</td>\n",
       "      <td>Toy Story 3</td>\n",
       "      <td>&lt;NA&gt;</td>\n",
       "      <td>200000000.0</td>\n",
       "      <td>1.066970e+09</td>\n",
       "    </tr>\n",
       "    <tr>\n",
       "      <th>2</th>\n",
       "      <td>Harry Potter and the Order of the Phoenix</td>\n",
       "      <td>767</td>\n",
       "      <td>150000000.0</td>\n",
       "      <td>938212738.0</td>\n",
       "      <td>Harry Potter and the Half-Blood Prince</td>\n",
       "      <td>&lt;NA&gt;</td>\n",
       "      <td>250000000.0</td>\n",
       "      <td>9.339592e+08</td>\n",
       "    </tr>\n",
       "    <tr>\n",
       "      <th>3</th>\n",
       "      <td>The Lord of the Rings: The Two Towers</td>\n",
       "      <td>122</td>\n",
       "      <td>79000000.0</td>\n",
       "      <td>926287400.0</td>\n",
       "      <td>The Lord of the Rings: The Return of the King</td>\n",
       "      <td>&lt;NA&gt;</td>\n",
       "      <td>94000000.0</td>\n",
       "      <td>1.118889e+09</td>\n",
       "    </tr>\n",
       "    <tr>\n",
       "      <th>4</th>\n",
       "      <td>The Lord of the Rings: The Fellowship of the Ring</td>\n",
       "      <td>121</td>\n",
       "      <td>93000000.0</td>\n",
       "      <td>871368364.0</td>\n",
       "      <td>The Lord of the Rings: The Two Towers</td>\n",
       "      <td>122</td>\n",
       "      <td>79000000.0</td>\n",
       "      <td>9.262874e+08</td>\n",
       "    </tr>\n",
       "  </tbody>\n",
       "</table>\n",
       "</div>"
      ],
      "text/plain": [
       "                                           title_org sequel_org   budget_org  \\\n",
       "0                                          Toy Story        863   30000000.0   \n",
       "1                                        Toy Story 2      10193   90000000.0   \n",
       "2          Harry Potter and the Order of the Phoenix        767  150000000.0   \n",
       "3              The Lord of the Rings: The Two Towers        122   79000000.0   \n",
       "4  The Lord of the Rings: The Fellowship of the Ring        121   93000000.0   \n",
       "\n",
       "   revenue_org                                      title_seq sequel_seq  \\\n",
       "0  373554033.0                                    Toy Story 2      10193   \n",
       "1  497366869.0                                    Toy Story 3       <NA>   \n",
       "2  938212738.0         Harry Potter and the Half-Blood Prince       <NA>   \n",
       "3  926287400.0  The Lord of the Rings: The Return of the King       <NA>   \n",
       "4  871368364.0          The Lord of the Rings: The Two Towers        122   \n",
       "\n",
       "    budget_seq   revenue_seq  \n",
       "0   90000000.0  4.973669e+08  \n",
       "1  200000000.0  1.066970e+09  \n",
       "2  250000000.0  9.339592e+08  \n",
       "3   94000000.0  1.118889e+09  \n",
       "4   79000000.0  9.262874e+08  "
      ]
     },
     "execution_count": 110,
     "metadata": {},
     "output_type": "execute_result"
    }
   ],
   "source": [
    "orig_seq.head()"
   ]
  },
  {
   "cell_type": "code",
   "execution_count": 111,
   "id": "550f6667-6e66-4e4d-8ddc-abfe7771b736",
   "metadata": {},
   "outputs": [],
   "source": [
    "orig_seq['diff'] = orig_seq['revenue_seq'] - orig_seq['revenue_org']"
   ]
  },
  {
   "cell_type": "code",
   "execution_count": 112,
   "id": "f60839c2-47a8-4ff7-8375-bd669aee0b00",
   "metadata": {},
   "outputs": [
    {
     "data": {
      "text/html": [
       "<div>\n",
       "<style scoped>\n",
       "    .dataframe tbody tr th:only-of-type {\n",
       "        vertical-align: middle;\n",
       "    }\n",
       "\n",
       "    .dataframe tbody tr th {\n",
       "        vertical-align: top;\n",
       "    }\n",
       "\n",
       "    .dataframe thead th {\n",
       "        text-align: right;\n",
       "    }\n",
       "</style>\n",
       "<table border=\"1\" class=\"dataframe\">\n",
       "  <thead>\n",
       "    <tr style=\"text-align: right;\">\n",
       "      <th></th>\n",
       "      <th>title_org</th>\n",
       "      <th>sequel_org</th>\n",
       "      <th>budget_org</th>\n",
       "      <th>revenue_org</th>\n",
       "      <th>title_seq</th>\n",
       "      <th>sequel_seq</th>\n",
       "      <th>budget_seq</th>\n",
       "      <th>revenue_seq</th>\n",
       "      <th>diff</th>\n",
       "    </tr>\n",
       "  </thead>\n",
       "  <tbody>\n",
       "    <tr>\n",
       "      <th>0</th>\n",
       "      <td>Toy Story</td>\n",
       "      <td>863</td>\n",
       "      <td>30000000.0</td>\n",
       "      <td>373554033.0</td>\n",
       "      <td>Toy Story 2</td>\n",
       "      <td>10193</td>\n",
       "      <td>90000000.0</td>\n",
       "      <td>4.973669e+08</td>\n",
       "      <td>123812836.0</td>\n",
       "    </tr>\n",
       "    <tr>\n",
       "      <th>1</th>\n",
       "      <td>Toy Story 2</td>\n",
       "      <td>10193</td>\n",
       "      <td>90000000.0</td>\n",
       "      <td>497366869.0</td>\n",
       "      <td>Toy Story 3</td>\n",
       "      <td>&lt;NA&gt;</td>\n",
       "      <td>200000000.0</td>\n",
       "      <td>1.066970e+09</td>\n",
       "      <td>569602834.0</td>\n",
       "    </tr>\n",
       "    <tr>\n",
       "      <th>2</th>\n",
       "      <td>Harry Potter and the Order of the Phoenix</td>\n",
       "      <td>767</td>\n",
       "      <td>150000000.0</td>\n",
       "      <td>938212738.0</td>\n",
       "      <td>Harry Potter and the Half-Blood Prince</td>\n",
       "      <td>&lt;NA&gt;</td>\n",
       "      <td>250000000.0</td>\n",
       "      <td>9.339592e+08</td>\n",
       "      <td>-4253541.0</td>\n",
       "    </tr>\n",
       "    <tr>\n",
       "      <th>3</th>\n",
       "      <td>The Lord of the Rings: The Two Towers</td>\n",
       "      <td>122</td>\n",
       "      <td>79000000.0</td>\n",
       "      <td>926287400.0</td>\n",
       "      <td>The Lord of the Rings: The Return of the King</td>\n",
       "      <td>&lt;NA&gt;</td>\n",
       "      <td>94000000.0</td>\n",
       "      <td>1.118889e+09</td>\n",
       "      <td>192601579.0</td>\n",
       "    </tr>\n",
       "    <tr>\n",
       "      <th>4</th>\n",
       "      <td>The Lord of the Rings: The Fellowship of the Ring</td>\n",
       "      <td>121</td>\n",
       "      <td>93000000.0</td>\n",
       "      <td>871368364.0</td>\n",
       "      <td>The Lord of the Rings: The Two Towers</td>\n",
       "      <td>122</td>\n",
       "      <td>79000000.0</td>\n",
       "      <td>9.262874e+08</td>\n",
       "      <td>54919036.0</td>\n",
       "    </tr>\n",
       "  </tbody>\n",
       "</table>\n",
       "</div>"
      ],
      "text/plain": [
       "                                           title_org sequel_org   budget_org  \\\n",
       "0                                          Toy Story        863   30000000.0   \n",
       "1                                        Toy Story 2      10193   90000000.0   \n",
       "2          Harry Potter and the Order of the Phoenix        767  150000000.0   \n",
       "3              The Lord of the Rings: The Two Towers        122   79000000.0   \n",
       "4  The Lord of the Rings: The Fellowship of the Ring        121   93000000.0   \n",
       "\n",
       "   revenue_org                                      title_seq sequel_seq  \\\n",
       "0  373554033.0                                    Toy Story 2      10193   \n",
       "1  497366869.0                                    Toy Story 3       <NA>   \n",
       "2  938212738.0         Harry Potter and the Half-Blood Prince       <NA>   \n",
       "3  926287400.0  The Lord of the Rings: The Return of the King       <NA>   \n",
       "4  871368364.0          The Lord of the Rings: The Two Towers        122   \n",
       "\n",
       "    budget_seq   revenue_seq         diff  \n",
       "0   90000000.0  4.973669e+08  123812836.0  \n",
       "1  200000000.0  1.066970e+09  569602834.0  \n",
       "2  250000000.0  9.339592e+08   -4253541.0  \n",
       "3   94000000.0  1.118889e+09  192601579.0  \n",
       "4   79000000.0  9.262874e+08   54919036.0  "
      ]
     },
     "execution_count": 112,
     "metadata": {},
     "output_type": "execute_result"
    }
   ],
   "source": [
    "orig_seq.head()"
   ]
  },
  {
   "cell_type": "markdown",
   "id": "1e17c098-9455-4c09-a352-9966d8afc09b",
   "metadata": {},
   "source": [
    "- Select the `title_org`, `title_seq`, and `diff` columns of `orig_seq` and save this as `titles_diff`.\n"
   ]
  },
  {
   "cell_type": "code",
   "execution_count": 113,
   "id": "17e96876-c90e-4a79-9b75-55b6d3d1ed15",
   "metadata": {},
   "outputs": [],
   "source": [
    "titles_diff = orig_seq[[\"title_org\", \"title_seq\", \"diff\"]]"
   ]
  },
  {
   "cell_type": "code",
   "execution_count": 114,
   "id": "9e137d0a-bbf1-448b-88b7-1146827f1bea",
   "metadata": {},
   "outputs": [
    {
     "data": {
      "text/html": [
       "<div>\n",
       "<style scoped>\n",
       "    .dataframe tbody tr th:only-of-type {\n",
       "        vertical-align: middle;\n",
       "    }\n",
       "\n",
       "    .dataframe tbody tr th {\n",
       "        vertical-align: top;\n",
       "    }\n",
       "\n",
       "    .dataframe thead th {\n",
       "        text-align: right;\n",
       "    }\n",
       "</style>\n",
       "<table border=\"1\" class=\"dataframe\">\n",
       "  <thead>\n",
       "    <tr style=\"text-align: right;\">\n",
       "      <th></th>\n",
       "      <th>title_org</th>\n",
       "      <th>title_seq</th>\n",
       "      <th>diff</th>\n",
       "    </tr>\n",
       "  </thead>\n",
       "  <tbody>\n",
       "    <tr>\n",
       "      <th>0</th>\n",
       "      <td>Toy Story</td>\n",
       "      <td>Toy Story 2</td>\n",
       "      <td>123812836.0</td>\n",
       "    </tr>\n",
       "    <tr>\n",
       "      <th>1</th>\n",
       "      <td>Toy Story 2</td>\n",
       "      <td>Toy Story 3</td>\n",
       "      <td>569602834.0</td>\n",
       "    </tr>\n",
       "    <tr>\n",
       "      <th>2</th>\n",
       "      <td>Harry Potter and the Order of the Phoenix</td>\n",
       "      <td>Harry Potter and the Half-Blood Prince</td>\n",
       "      <td>-4253541.0</td>\n",
       "    </tr>\n",
       "    <tr>\n",
       "      <th>3</th>\n",
       "      <td>The Lord of the Rings: The Two Towers</td>\n",
       "      <td>The Lord of the Rings: The Return of the King</td>\n",
       "      <td>192601579.0</td>\n",
       "    </tr>\n",
       "    <tr>\n",
       "      <th>4</th>\n",
       "      <td>The Lord of the Rings: The Fellowship of the Ring</td>\n",
       "      <td>The Lord of the Rings: The Two Towers</td>\n",
       "      <td>54919036.0</td>\n",
       "    </tr>\n",
       "  </tbody>\n",
       "</table>\n",
       "</div>"
      ],
      "text/plain": [
       "                                           title_org  \\\n",
       "0                                          Toy Story   \n",
       "1                                        Toy Story 2   \n",
       "2          Harry Potter and the Order of the Phoenix   \n",
       "3              The Lord of the Rings: The Two Towers   \n",
       "4  The Lord of the Rings: The Fellowship of the Ring   \n",
       "\n",
       "                                       title_seq         diff  \n",
       "0                                    Toy Story 2  123812836.0  \n",
       "1                                    Toy Story 3  569602834.0  \n",
       "2         Harry Potter and the Half-Blood Prince   -4253541.0  \n",
       "3  The Lord of the Rings: The Return of the King  192601579.0  \n",
       "4          The Lord of the Rings: The Two Towers   54919036.0  "
      ]
     },
     "execution_count": 114,
     "metadata": {},
     "output_type": "execute_result"
    }
   ],
   "source": [
    "titles_diff.head()"
   ]
  },
  {
   "cell_type": "markdown",
   "id": "0aa09f48-5b0d-469d-a563-db1cf61eea8d",
   "metadata": {},
   "source": [
    "- Sort by `titles_diff` by `diff` in descending order and print the first few rows.\n"
   ]
  },
  {
   "cell_type": "code",
   "execution_count": 115,
   "id": "e9630845-37ea-44a0-857a-12609a1dfd56",
   "metadata": {},
   "outputs": [
    {
     "data": {
      "text/html": [
       "<div>\n",
       "<style scoped>\n",
       "    .dataframe tbody tr th:only-of-type {\n",
       "        vertical-align: middle;\n",
       "    }\n",
       "\n",
       "    .dataframe tbody tr th {\n",
       "        vertical-align: top;\n",
       "    }\n",
       "\n",
       "    .dataframe thead th {\n",
       "        text-align: right;\n",
       "    }\n",
       "</style>\n",
       "<table border=\"1\" class=\"dataframe\">\n",
       "  <thead>\n",
       "    <tr style=\"text-align: right;\">\n",
       "      <th></th>\n",
       "      <th>title_org</th>\n",
       "      <th>title_seq</th>\n",
       "      <th>diff</th>\n",
       "    </tr>\n",
       "  </thead>\n",
       "  <tbody>\n",
       "    <tr>\n",
       "      <th>28</th>\n",
       "      <td>Jurassic Park III</td>\n",
       "      <td>Jurassic World</td>\n",
       "      <td>1.144748e+09</td>\n",
       "    </tr>\n",
       "    <tr>\n",
       "      <th>26</th>\n",
       "      <td>Batman Begins</td>\n",
       "      <td>The Dark Knight</td>\n",
       "      <td>6.303398e+08</td>\n",
       "    </tr>\n",
       "    <tr>\n",
       "      <th>11</th>\n",
       "      <td>Iron Man 2</td>\n",
       "      <td>Iron Man 3</td>\n",
       "      <td>5.915067e+08</td>\n",
       "    </tr>\n",
       "    <tr>\n",
       "      <th>1</th>\n",
       "      <td>Toy Story 2</td>\n",
       "      <td>Toy Story 3</td>\n",
       "      <td>5.696028e+08</td>\n",
       "    </tr>\n",
       "    <tr>\n",
       "      <th>14</th>\n",
       "      <td>Quantum of Solace</td>\n",
       "      <td>Skyfall</td>\n",
       "      <td>5.224703e+08</td>\n",
       "    </tr>\n",
       "  </tbody>\n",
       "</table>\n",
       "</div>"
      ],
      "text/plain": [
       "            title_org        title_seq          diff\n",
       "28  Jurassic Park III   Jurassic World  1.144748e+09\n",
       "26      Batman Begins  The Dark Knight  6.303398e+08\n",
       "11         Iron Man 2       Iron Man 3  5.915067e+08\n",
       "1         Toy Story 2      Toy Story 3  5.696028e+08\n",
       "14  Quantum of Solace          Skyfall  5.224703e+08"
      ]
     },
     "execution_count": 115,
     "metadata": {},
     "output_type": "execute_result"
    }
   ],
   "source": [
    "titles_diff.sort_values(\"diff\", ascending=False).head()"
   ]
  },
  {
   "cell_type": "code",
   "execution_count": null,
   "id": "1668795b-90b1-457f-abb3-7ae37db9061a",
   "metadata": {},
   "outputs": [],
   "source": []
  }
 ],
 "metadata": {
  "kernelspec": {
   "display_name": "Python 3 (ipykernel)",
   "language": "python",
   "name": "python3"
  },
  "language_info": {
   "codemirror_mode": {
    "name": "ipython",
    "version": 3
   },
   "file_extension": ".py",
   "mimetype": "text/x-python",
   "name": "python",
   "nbconvert_exporter": "python",
   "pygments_lexer": "ipython3",
   "version": "3.11.7"
  }
 },
 "nbformat": 4,
 "nbformat_minor": 5
}
