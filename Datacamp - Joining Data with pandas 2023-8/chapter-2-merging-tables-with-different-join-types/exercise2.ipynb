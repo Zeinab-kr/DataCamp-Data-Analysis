{
 "cells": [
  {
   "cell_type": "markdown",
   "id": "0cd5fc36-9d56-479b-a920-0edeb5c39711",
   "metadata": {},
   "source": [
    "#  Enriching a dataset\n",
    "\n",
    "##  Assignment \n",
    "\n",
    "Setting `how='left'` with the `.merge()`method is a useful technique for enriching or enhancing a dataset with additional information from a different table. In this exercise, you will start off with a sample of movie data from the movie series **Toy Story**. Your goal is to enrich this data by adding the marketing tag line for each movie. You will compare the results of a left join versus an inner join.\n",
    "\n",
    "The `toy_story` DataFrame contains the **Toy Story** movies. The `toy_story` and `taglines` DataFrames have been loaded for you.\n",
    "\n",
    "##  Pre exercise code \n",
    "\n",
    "```\n",
    "from pickle import load\n",
    "import urllib.request\n",
    "import pandas as pd\n",
    "\n",
    "fn_mov = 'https://assets.datacamp.com/production/repositories/5486/datasets/81f8f3290520b0a9bdc6d77deaac87a9d298de46/movies.p'\n",
    "fn_tag = 'https://assets.datacamp.com/production/repositories/5486/datasets/f8931478a29a0b3caea914d08cc4a8689b9a0663/taglines.p'\n",
    "\n",
    "toy_story = load(urllib.request.urlopen(fn_mov))\n",
    "toy_story = toy_story[toy_story['title'].str.contains('Toy Story')] \\\n",
    "\t\t\t.reset_index(drop=True)\n",
    "taglines = load(urllib.request.urlopen(fn_tag))\n",
    "```"
   ]
  },
  {
   "cell_type": "code",
   "execution_count": 1,
   "id": "e0bad51d-e3d9-454f-b775-fc2505f736b0",
   "metadata": {},
   "outputs": [],
   "source": [
    "from pickle import load\n",
    "import urllib.request\n",
    "import pandas as pd"
   ]
  },
  {
   "cell_type": "code",
   "execution_count": 2,
   "id": "3cc1bfa7-86af-412c-9dc6-dea917aef70b",
   "metadata": {},
   "outputs": [],
   "source": [
    "fn_mov = 'https://assets.datacamp.com/production/repositories/5486/datasets/81f8f3290520b0a9bdc6d77deaac87a9d298de46/movies.p'\n",
    "fn_tag = 'https://assets.datacamp.com/production/repositories/5486/datasets/f8931478a29a0b3caea914d08cc4a8689b9a0663/taglines.p'"
   ]
  },
  {
   "cell_type": "code",
   "execution_count": 5,
   "id": "24d5f76e-21c6-4817-bb6c-a99273148e2c",
   "metadata": {},
   "outputs": [],
   "source": [
    "toy_story = load(urllib.request.urlopen(fn_mov))\n",
    "toy_story = toy_story[toy_story['title'].str.contains('Toy Story')].reset_index(drop=True)\n",
    "# taglines = load(urllib.request.urlopen(fn_tag))\n",
    "taglines = pd.read_pickle(\"taglines.p\")"
   ]
  },
  {
   "cell_type": "code",
   "execution_count": 6,
   "id": "7dd26a80-5e37-4c3b-9bd3-42f73205d51d",
   "metadata": {},
   "outputs": [
    {
     "data": {
      "text/html": [
       "<div>\n",
       "<style scoped>\n",
       "    .dataframe tbody tr th:only-of-type {\n",
       "        vertical-align: middle;\n",
       "    }\n",
       "\n",
       "    .dataframe tbody tr th {\n",
       "        vertical-align: top;\n",
       "    }\n",
       "\n",
       "    .dataframe thead th {\n",
       "        text-align: right;\n",
       "    }\n",
       "</style>\n",
       "<table border=\"1\" class=\"dataframe\">\n",
       "  <thead>\n",
       "    <tr style=\"text-align: right;\">\n",
       "      <th></th>\n",
       "      <th>id</th>\n",
       "      <th>title</th>\n",
       "      <th>popularity</th>\n",
       "      <th>release_date</th>\n",
       "    </tr>\n",
       "  </thead>\n",
       "  <tbody>\n",
       "    <tr>\n",
       "      <th>0</th>\n",
       "      <td>10193</td>\n",
       "      <td>Toy Story 3</td>\n",
       "      <td>59.995418</td>\n",
       "      <td>2010-06-16</td>\n",
       "    </tr>\n",
       "  </tbody>\n",
       "</table>\n",
       "</div>"
      ],
      "text/plain": [
       "      id        title  popularity release_date\n",
       "0  10193  Toy Story 3   59.995418   2010-06-16"
      ]
     },
     "execution_count": 6,
     "metadata": {},
     "output_type": "execute_result"
    }
   ],
   "source": [
    "toy_story.head(1)"
   ]
  },
  {
   "cell_type": "code",
   "execution_count": 7,
   "id": "e24c1300-bfce-4394-a7bd-ea4edae4e5ff",
   "metadata": {},
   "outputs": [
    {
     "data": {
      "text/html": [
       "<div>\n",
       "<style scoped>\n",
       "    .dataframe tbody tr th:only-of-type {\n",
       "        vertical-align: middle;\n",
       "    }\n",
       "\n",
       "    .dataframe tbody tr th {\n",
       "        vertical-align: top;\n",
       "    }\n",
       "\n",
       "    .dataframe thead th {\n",
       "        text-align: right;\n",
       "    }\n",
       "</style>\n",
       "<table border=\"1\" class=\"dataframe\">\n",
       "  <thead>\n",
       "    <tr style=\"text-align: right;\">\n",
       "      <th></th>\n",
       "      <th>id</th>\n",
       "      <th>tagline</th>\n",
       "    </tr>\n",
       "  </thead>\n",
       "  <tbody>\n",
       "    <tr>\n",
       "      <th>0</th>\n",
       "      <td>19995</td>\n",
       "      <td>Enter the World of Pandora.</td>\n",
       "    </tr>\n",
       "  </tbody>\n",
       "</table>\n",
       "</div>"
      ],
      "text/plain": [
       "      id                      tagline\n",
       "0  19995  Enter the World of Pandora."
      ]
     },
     "execution_count": 7,
     "metadata": {},
     "output_type": "execute_result"
    }
   ],
   "source": [
    "taglines.head(1)"
   ]
  },
  {
   "cell_type": "markdown",
   "id": "a95c4a97-8892-4915-a1f8-90777c558e2f",
   "metadata": {},
   "source": [
    "##  Instructions \n",
    "\n",
    "- Merge `toy_story` and `taglines` on the `id` column with a **left join**, and save the result as `toystory_tag`.\n"
   ]
  },
  {
   "cell_type": "code",
   "execution_count": 9,
   "id": "1799fddf-05c8-401f-9e88-5a9aa9d249aa",
   "metadata": {},
   "outputs": [],
   "source": [
    "toystory_tag = toy_story.merge(taglines, on=\"id\", how=\"left\")"
   ]
  },
  {
   "cell_type": "code",
   "execution_count": 11,
   "id": "068b45c6-b2db-4fa0-bb40-b02bde352943",
   "metadata": {},
   "outputs": [
    {
     "name": "stdout",
     "output_type": "stream",
     "text": [
      "      id        title  popularity release_date                   tagline\n",
      "0  10193  Toy Story 3   59.995418   2010-06-16  No toy gets left behind.\n",
      "1    863  Toy Story 2   73.575118   1999-10-30        The toys are back!\n",
      "2    862    Toy Story   73.640445   1995-10-30                       NaN\n",
      "(3, 5)\n"
     ]
    }
   ],
   "source": [
    "print(toystory_tag.head())\n",
    "print(toystory_tag.shape)"
   ]
  },
  {
   "cell_type": "markdown",
   "id": "e8a72178-11f5-4f4b-99c4-11b6e92354b0",
   "metadata": {},
   "source": [
    "- With `toy_story` as the left table, merge to it `taglines` on the `id` column with an **inner join**, and save as `toystory_tag`.\n"
   ]
  },
  {
   "cell_type": "code",
   "execution_count": 12,
   "id": "7c03e131-df8e-42f8-9523-3572789efead",
   "metadata": {},
   "outputs": [],
   "source": [
    "ts_tag = toy_story.merge(taglines, on=\"id\")"
   ]
  },
  {
   "cell_type": "code",
   "execution_count": 13,
   "id": "eff8a244-e23d-4441-979f-ff0c928a109e",
   "metadata": {},
   "outputs": [
    {
     "name": "stdout",
     "output_type": "stream",
     "text": [
      "      id        title  popularity release_date                   tagline\n",
      "0  10193  Toy Story 3   59.995418   2010-06-16  No toy gets left behind.\n",
      "1    863  Toy Story 2   73.575118   1999-10-30        The toys are back!\n",
      "(2, 5)\n"
     ]
    }
   ],
   "source": [
    "print(ts_tag.head())\n",
    "print(ts_tag.shape)"
   ]
  },
  {
   "cell_type": "code",
   "execution_count": null,
   "id": "fb717393-965e-4bab-ab3a-a91c1f08181b",
   "metadata": {},
   "outputs": [],
   "source": []
  }
 ],
 "metadata": {
  "kernelspec": {
   "display_name": "Python 3 (ipykernel)",
   "language": "python",
   "name": "python3"
  },
  "language_info": {
   "codemirror_mode": {
    "name": "ipython",
    "version": 3
   },
   "file_extension": ".py",
   "mimetype": "text/x-python",
   "name": "python",
   "nbconvert_exporter": "python",
   "pygments_lexer": "ipython3",
   "version": "3.11.7"
  }
 },
 "nbformat": 4,
 "nbformat_minor": 5
}
