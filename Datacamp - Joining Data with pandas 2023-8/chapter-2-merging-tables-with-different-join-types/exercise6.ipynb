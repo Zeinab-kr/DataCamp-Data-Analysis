{
 "cells": [
  {
   "cell_type": "markdown",
   "id": "b8920cdf-c865-4590-9365-0b6b7bd2e5a9",
   "metadata": {},
   "source": [
    "#  Using outer join to select actors\n",
    "\n",
    "##  Assignment \n",
    "\n",
    "One cool aspect of using an outer join is that, because it returns all rows from both merged tables and null where they do not match, you can use it to find rows that do not have a match in the other table. To try for yourself, you have been given two tables with a list of actors from two popular movies: **Iron Man 1** and **Iron Man 2**. Most of the actors played in both movies. Use an outer join to find actors who ****did not**** act in both movies.\n",
    "\n",
    "The **Iron Man 1** table is called `iron_1_actors`, and **Iron Man 2** table is called `iron_2_actors`. Both tables have been loaded for you and a few rows printed so you can see the structure.\n",
    "\n",
    "<img src=\"https://assets.datacamp.com/production/repositories/5486/datasets/c5d02ebba511e90ae132f89ff091e6729c040bd2/noJoin.png\" alt=\"Venn graph with no overlap\">\n",
    "\n",
    "##  Pre exercise code \n",
    "\n",
    "```\n",
    "from pickle import load\n",
    "import urllib.request\n",
    "import pandas as pd\n",
    "\n",
    "fn_cst = 'https://assets.datacamp.com/production/repositories/5486/datasets/64dc93487604f68a9d51db160d888f3904c68da0/casts.p'\n",
    "casts = load(urllib.request.urlopen(fn_cst))\n",
    "\n",
    "# Subset the columns\n",
    "c = ['character','id','name']\n",
    "iron_1_actors = casts.loc[casts['movie_id'] == 1726, c]\n",
    "iron_2_actors = casts.loc[casts['movie_id'] == 10138, c]\n",
    "del casts\n",
    "\n",
    "# Shorten the name for War Machine for better formatting\n",
    "iron_1_actors.loc[(iron_1_actors['id'] == 18288), 'character'] = 'War Machine'\n",
    "\n",
    "# Print the first few rows\n",
    "print(\"iron_1_actors #########\")\n",
    "print(iron_1_actors.head(2))\n",
    "print(\"\")\n",
    "print(\"iron_2_actors #########\")\n",
    "print(iron_2_actors.head(2))\n",
    "```\n",
    "\n",
    "\n",
    "\n",
    "##  Instructions \n",
    "\n",
    "- Save to `iron_1_and_2` the merge of `iron_1_actors` (left) with `iron_2_actors` tables with an outer join on the `id` column, and set suffixes to `('_1','_2')`.\n",
    "- Create an index that returns `True` if `name_1` or `name_2` are null, and `False` otherwise."
   ]
  },
  {
   "cell_type": "code",
   "execution_count": 61,
   "id": "61fc42e9-5706-4cf0-b6a0-9861dc21f46e",
   "metadata": {},
   "outputs": [],
   "source": [
    "from pickle import load\n",
    "import urllib.request\n",
    "import pandas as pd"
   ]
  },
  {
   "cell_type": "code",
   "execution_count": 63,
   "id": "55dc6fe2-c0cd-4557-b026-2bbf9663ca9a",
   "metadata": {},
   "outputs": [],
   "source": [
    "casts = pd.read_pickle(\"casts.p\")"
   ]
  },
  {
   "cell_type": "code",
   "execution_count": 64,
   "id": "1a2024c2-8e48-4e50-b7a9-01bf92a54448",
   "metadata": {},
   "outputs": [],
   "source": [
    "# Subset the columns\n",
    "c = ['character','id','name']\n",
    "iron_1_actors = casts.loc[casts['movie_id'] == 1726, c]\n",
    "iron_2_actors = casts.loc[casts['movie_id'] == 10138, c]\n",
    "del casts"
   ]
  },
  {
   "cell_type": "code",
   "execution_count": 65,
   "id": "4e8b890d-8860-46cf-923f-1dabfb0a1920",
   "metadata": {},
   "outputs": [],
   "source": [
    "# Shorten the name for War Machine for better formatting\n",
    "iron_1_actors.loc[(iron_1_actors['id'] == 18288), 'character'] = 'War Machine'"
   ]
  },
  {
   "cell_type": "code",
   "execution_count": 66,
   "id": "441c6ec9-6816-422c-a0e1-38012d1854b8",
   "metadata": {},
   "outputs": [
    {
     "name": "stdout",
     "output_type": "stream",
     "text": [
      "iron_1_actors #########\n",
      "                 character     id             name\n",
      "3                   Yinsen  17857       Shaun Toub\n",
      "4  Virginia \"Pepper\" Potts  12052  Gwyneth Paltrow\n",
      "\n",
      "iron_2_actors #########\n",
      "                                          character    id                name\n",
      "4                             Ivan Vanko / Whiplash  2295       Mickey Rourke\n",
      "3  Natalie Rushman / Natasha Romanoff / Black Widow  1245  Scarlett Johansson\n"
     ]
    }
   ],
   "source": [
    "# Print the first few rows\n",
    "print(\"iron_1_actors #########\")\n",
    "print(iron_1_actors.head(2))\n",
    "print(\"\")\n",
    "print(\"iron_2_actors #########\")\n",
    "print(iron_2_actors.head(2))"
   ]
  },
  {
   "cell_type": "code",
   "execution_count": 67,
   "id": "33d1ca9f-3221-428d-93d6-9213829e5442",
   "metadata": {},
   "outputs": [],
   "source": [
    "iron_1_and_2 = iron_1_actors.merge(iron_2_actors, on=\"id\", how=\"outer\", suffixes=[\"_1\", \"_2\"])"
   ]
  },
  {
   "cell_type": "code",
   "execution_count": 68,
   "id": "81a9a183-20aa-43e3-bb2e-54c8e40b5e60",
   "metadata": {},
   "outputs": [
    {
     "data": {
      "text/html": [
       "<div>\n",
       "<style scoped>\n",
       "    .dataframe tbody tr th:only-of-type {\n",
       "        vertical-align: middle;\n",
       "    }\n",
       "\n",
       "    .dataframe tbody tr th {\n",
       "        vertical-align: top;\n",
       "    }\n",
       "\n",
       "    .dataframe thead th {\n",
       "        text-align: right;\n",
       "    }\n",
       "</style>\n",
       "<table border=\"1\" class=\"dataframe\">\n",
       "  <thead>\n",
       "    <tr style=\"text-align: right;\">\n",
       "      <th></th>\n",
       "      <th>character_1</th>\n",
       "      <th>id</th>\n",
       "      <th>name_1</th>\n",
       "      <th>character_2</th>\n",
       "      <th>name_2</th>\n",
       "    </tr>\n",
       "  </thead>\n",
       "  <tbody>\n",
       "    <tr>\n",
       "      <th>0</th>\n",
       "      <td>Obadiah Stane / Iron Monger</td>\n",
       "      <td>1229</td>\n",
       "      <td>Jeff Bridges</td>\n",
       "      <td>NaN</td>\n",
       "      <td>NaN</td>\n",
       "    </tr>\n",
       "    <tr>\n",
       "      <th>1</th>\n",
       "      <td>NaN</td>\n",
       "      <td>1245</td>\n",
       "      <td>NaN</td>\n",
       "      <td>Natalie Rushman / Natasha Romanoff / Black Widow</td>\n",
       "      <td>Scarlett Johansson</td>\n",
       "    </tr>\n",
       "    <tr>\n",
       "      <th>2</th>\n",
       "      <td>NaN</td>\n",
       "      <td>1896</td>\n",
       "      <td>NaN</td>\n",
       "      <td>Lt. Col. James \"Rhodey\" Rhodes / War Machine</td>\n",
       "      <td>Don Cheadle</td>\n",
       "    </tr>\n",
       "    <tr>\n",
       "      <th>3</th>\n",
       "      <td>Director Nick Fury</td>\n",
       "      <td>2231</td>\n",
       "      <td>Samuel L. Jackson</td>\n",
       "      <td>Director Nick Fury</td>\n",
       "      <td>Samuel L. Jackson</td>\n",
       "    </tr>\n",
       "    <tr>\n",
       "      <th>4</th>\n",
       "      <td>NaN</td>\n",
       "      <td>2295</td>\n",
       "      <td>NaN</td>\n",
       "      <td>Ivan Vanko / Whiplash</td>\n",
       "      <td>Mickey Rourke</td>\n",
       "    </tr>\n",
       "  </tbody>\n",
       "</table>\n",
       "</div>"
      ],
      "text/plain": [
       "                   character_1    id             name_1  \\\n",
       "0  Obadiah Stane / Iron Monger  1229       Jeff Bridges   \n",
       "1                          NaN  1245                NaN   \n",
       "2                          NaN  1896                NaN   \n",
       "3           Director Nick Fury  2231  Samuel L. Jackson   \n",
       "4                          NaN  2295                NaN   \n",
       "\n",
       "                                        character_2              name_2  \n",
       "0                                               NaN                 NaN  \n",
       "1  Natalie Rushman / Natasha Romanoff / Black Widow  Scarlett Johansson  \n",
       "2      Lt. Col. James \"Rhodey\" Rhodes / War Machine         Don Cheadle  \n",
       "3                                Director Nick Fury   Samuel L. Jackson  \n",
       "4                             Ivan Vanko / Whiplash       Mickey Rourke  "
      ]
     },
     "execution_count": 68,
     "metadata": {},
     "output_type": "execute_result"
    }
   ],
   "source": [
    "iron_1_and_2.head()"
   ]
  },
  {
   "cell_type": "code",
   "execution_count": 71,
   "id": "f53368f4-8a9e-4a96-b053-3f1556b20503",
   "metadata": {},
   "outputs": [
    {
     "data": {
      "text/plain": [
       "(191, 5)"
      ]
     },
     "execution_count": 71,
     "metadata": {},
     "output_type": "execute_result"
    }
   ],
   "source": [
    "iron_1_and_2.shape"
   ]
  },
  {
   "cell_type": "code",
   "execution_count": 69,
   "id": "8e821b20-dc1c-43c1-ad75-8217036d67bf",
   "metadata": {},
   "outputs": [],
   "source": [
    "m = ((iron_1_and_2['name_1'].isnull()) | \n",
    "     (iron_1_and_2['name_2'].isnull()))"
   ]
  },
  {
   "cell_type": "code",
   "execution_count": 70,
   "id": "630ba15b-178f-450d-902c-64252db1a2fe",
   "metadata": {},
   "outputs": [
    {
     "data": {
      "text/html": [
       "<div>\n",
       "<style scoped>\n",
       "    .dataframe tbody tr th:only-of-type {\n",
       "        vertical-align: middle;\n",
       "    }\n",
       "\n",
       "    .dataframe tbody tr th {\n",
       "        vertical-align: top;\n",
       "    }\n",
       "\n",
       "    .dataframe thead th {\n",
       "        text-align: right;\n",
       "    }\n",
       "</style>\n",
       "<table border=\"1\" class=\"dataframe\">\n",
       "  <thead>\n",
       "    <tr style=\"text-align: right;\">\n",
       "      <th></th>\n",
       "      <th>character_1</th>\n",
       "      <th>id</th>\n",
       "      <th>name_1</th>\n",
       "      <th>character_2</th>\n",
       "      <th>name_2</th>\n",
       "    </tr>\n",
       "  </thead>\n",
       "  <tbody>\n",
       "    <tr>\n",
       "      <th>0</th>\n",
       "      <td>Obadiah Stane / Iron Monger</td>\n",
       "      <td>1229</td>\n",
       "      <td>Jeff Bridges</td>\n",
       "      <td>NaN</td>\n",
       "      <td>NaN</td>\n",
       "    </tr>\n",
       "    <tr>\n",
       "      <th>1</th>\n",
       "      <td>NaN</td>\n",
       "      <td>1245</td>\n",
       "      <td>NaN</td>\n",
       "      <td>Natalie Rushman / Natasha Romanoff / Black Widow</td>\n",
       "      <td>Scarlett Johansson</td>\n",
       "    </tr>\n",
       "    <tr>\n",
       "      <th>2</th>\n",
       "      <td>NaN</td>\n",
       "      <td>1896</td>\n",
       "      <td>NaN</td>\n",
       "      <td>Lt. Col. James \"Rhodey\" Rhodes / War Machine</td>\n",
       "      <td>Don Cheadle</td>\n",
       "    </tr>\n",
       "    <tr>\n",
       "      <th>4</th>\n",
       "      <td>NaN</td>\n",
       "      <td>2295</td>\n",
       "      <td>NaN</td>\n",
       "      <td>Ivan Vanko / Whiplash</td>\n",
       "      <td>Mickey Rourke</td>\n",
       "    </tr>\n",
       "    <tr>\n",
       "      <th>7</th>\n",
       "      <td>NaN</td>\n",
       "      <td>6807</td>\n",
       "      <td>NaN</td>\n",
       "      <td>Justin Hammer</td>\n",
       "      <td>Sam Rockwell</td>\n",
       "    </tr>\n",
       "  </tbody>\n",
       "</table>\n",
       "</div>"
      ],
      "text/plain": [
       "                   character_1    id        name_1  \\\n",
       "0  Obadiah Stane / Iron Monger  1229  Jeff Bridges   \n",
       "1                          NaN  1245           NaN   \n",
       "2                          NaN  1896           NaN   \n",
       "4                          NaN  2295           NaN   \n",
       "7                          NaN  6807           NaN   \n",
       "\n",
       "                                        character_2              name_2  \n",
       "0                                               NaN                 NaN  \n",
       "1  Natalie Rushman / Natasha Romanoff / Black Widow  Scarlett Johansson  \n",
       "2      Lt. Col. James \"Rhodey\" Rhodes / War Machine         Don Cheadle  \n",
       "4                             Ivan Vanko / Whiplash       Mickey Rourke  \n",
       "7                                     Justin Hammer        Sam Rockwell  "
      ]
     },
     "execution_count": 70,
     "metadata": {},
     "output_type": "execute_result"
    }
   ],
   "source": [
    "iron_1_and_2[m].head()"
   ]
  },
  {
   "cell_type": "code",
   "execution_count": 72,
   "id": "ce9b07c5-79c5-488d-a145-94a9423f6fae",
   "metadata": {},
   "outputs": [
    {
     "data": {
      "text/plain": [
       "(180, 5)"
      ]
     },
     "execution_count": 72,
     "metadata": {},
     "output_type": "execute_result"
    }
   ],
   "source": [
    "iron_1_and_2[m].shape"
   ]
  },
  {
   "cell_type": "code",
   "execution_count": null,
   "id": "8eeef50c-a577-4880-aadb-5742c4ecab37",
   "metadata": {},
   "outputs": [],
   "source": []
  }
 ],
 "metadata": {
  "kernelspec": {
   "display_name": "Python 3 (ipykernel)",
   "language": "python",
   "name": "python3"
  },
  "language_info": {
   "codemirror_mode": {
    "name": "ipython",
    "version": 3
   },
   "file_extension": ".py",
   "mimetype": "text/x-python",
   "name": "python",
   "nbconvert_exporter": "python",
   "pygments_lexer": "ipython3",
   "version": "3.11.7"
  }
 },
 "nbformat": 4,
 "nbformat_minor": 5
}
