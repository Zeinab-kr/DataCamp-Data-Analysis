{
 "cells": [
  {
   "cell_type": "markdown",
   "id": "e855222d-72cd-4624-a77a-343916090c6a",
   "metadata": {},
   "source": [
    "\n",
    "#  Self join\n",
    "\n",
    "##  Assignment \n",
    "\n",
    "Merging&nbsp;a table to itself can be useful when you want to compare values in a column to other values in the same column. In this exercise, you will practice this by creating a table that for each movie will list the movie director and a member of the crew on one row. You have been given a table called `crews`, which has columns `id`, `job`, and `name`. First, merge the table to itself using the movie ID. This merge will give you a larger table where for each movie, every job is matched against each other. Then select only those rows with a director in the left table, and avoid having a row where the director's job is listed in both the left and right tables. This filtering will remove job combinations that aren't with the director.  \n",
    "\n",
    "The `crews` table has been loaded for you.\n",
    "\n",
    "##  Pre exercise code \n",
    "\n",
    "```\n",
    "from pickle import load\n",
    "import urllib.request\n",
    "import pandas as pd\n",
    "\n",
    "fn_cre = 'https://assets.datacamp.com/production/repositories/5486/datasets/ff485ad46337574df2e4c363b31fbfdc9713541d/crews.p'\n",
    "\n",
    "crews = load(urllib.request.urlopen(fn_cre))\n",
    "crews = crews[['id','job','name']]\n",
    "```"
   ]
  },
  {
   "cell_type": "code",
   "execution_count": 73,
   "id": "c63dc363-b92a-4f10-a2d7-d480aa0be7ad",
   "metadata": {},
   "outputs": [],
   "source": [
    "from pickle import load\n",
    "import urllib.request\n",
    "import pandas as pd"
   ]
  },
  {
   "cell_type": "code",
   "execution_count": 74,
   "id": "69dc2395-c13e-48ce-b9c3-f96ab7086094",
   "metadata": {},
   "outputs": [],
   "source": [
    "crews = pd.read_pickle(\"crews.p\")"
   ]
  },
  {
   "cell_type": "code",
   "execution_count": 75,
   "id": "a6b1212d-5ab6-41fd-aa7f-ebf71f2c6cda",
   "metadata": {},
   "outputs": [],
   "source": [
    "crews = crews[['id','job','name']]"
   ]
  },
  {
   "cell_type": "code",
   "execution_count": 77,
   "id": "222e73a3-c6ec-4ace-be6c-b481dc7f0e3e",
   "metadata": {},
   "outputs": [
    {
     "data": {
      "text/html": [
       "<div>\n",
       "<style scoped>\n",
       "    .dataframe tbody tr th:only-of-type {\n",
       "        vertical-align: middle;\n",
       "    }\n",
       "\n",
       "    .dataframe tbody tr th {\n",
       "        vertical-align: top;\n",
       "    }\n",
       "\n",
       "    .dataframe thead th {\n",
       "        text-align: right;\n",
       "    }\n",
       "</style>\n",
       "<table border=\"1\" class=\"dataframe\">\n",
       "  <thead>\n",
       "    <tr style=\"text-align: right;\">\n",
       "      <th></th>\n",
       "      <th>id</th>\n",
       "      <th>job</th>\n",
       "      <th>name</th>\n",
       "    </tr>\n",
       "  </thead>\n",
       "  <tbody>\n",
       "    <tr>\n",
       "      <th>0</th>\n",
       "      <td>19995</td>\n",
       "      <td>Editor</td>\n",
       "      <td>Stephen E. Rivkin</td>\n",
       "    </tr>\n",
       "  </tbody>\n",
       "</table>\n",
       "</div>"
      ],
      "text/plain": [
       "      id     job               name\n",
       "0  19995  Editor  Stephen E. Rivkin"
      ]
     },
     "execution_count": 77,
     "metadata": {},
     "output_type": "execute_result"
    }
   ],
   "source": [
    "crews.head(1)"
   ]
  },
  {
   "cell_type": "markdown",
   "id": "25d3e37c-ae0e-437b-ad53-b42fa4b4c926",
   "metadata": {},
   "source": [
    "##  Instructions \n",
    "\n",
    "- To a variable called `crews_self_merged`, merge the `crews` table to itself on the `id` column using an inner join, setting the suffixes to `'_dir'` and `'_crew'` for the left and right tables respectively."
   ]
  },
  {
   "cell_type": "code",
   "execution_count": 78,
   "id": "e927f2a8-14d7-45c3-a072-565d8469f7de",
   "metadata": {},
   "outputs": [],
   "source": [
    "crews_self_merged = crews.merge(crews, on=\"id\", suffixes=[\"_dir\", \"_crew\"])"
   ]
  },
  {
   "cell_type": "code",
   "execution_count": 80,
   "id": "7b49fce9-a786-4ce4-a3f7-ff96b1e55619",
   "metadata": {},
   "outputs": [
    {
     "data": {
      "text/html": [
       "<div>\n",
       "<style scoped>\n",
       "    .dataframe tbody tr th:only-of-type {\n",
       "        vertical-align: middle;\n",
       "    }\n",
       "\n",
       "    .dataframe tbody tr th {\n",
       "        vertical-align: top;\n",
       "    }\n",
       "\n",
       "    .dataframe thead th {\n",
       "        text-align: right;\n",
       "    }\n",
       "</style>\n",
       "<table border=\"1\" class=\"dataframe\">\n",
       "  <thead>\n",
       "    <tr style=\"text-align: right;\">\n",
       "      <th></th>\n",
       "      <th>id</th>\n",
       "      <th>job_dir</th>\n",
       "      <th>name_dir</th>\n",
       "      <th>job_crew</th>\n",
       "      <th>name_crew</th>\n",
       "    </tr>\n",
       "  </thead>\n",
       "  <tbody>\n",
       "    <tr>\n",
       "      <th>0</th>\n",
       "      <td>19995</td>\n",
       "      <td>Editor</td>\n",
       "      <td>Stephen E. Rivkin</td>\n",
       "      <td>Editor</td>\n",
       "      <td>Stephen E. Rivkin</td>\n",
       "    </tr>\n",
       "    <tr>\n",
       "      <th>1</th>\n",
       "      <td>19995</td>\n",
       "      <td>Editor</td>\n",
       "      <td>Stephen E. Rivkin</td>\n",
       "      <td>Sound Designer</td>\n",
       "      <td>Christopher Boyes</td>\n",
       "    </tr>\n",
       "    <tr>\n",
       "      <th>2</th>\n",
       "      <td>19995</td>\n",
       "      <td>Editor</td>\n",
       "      <td>Stephen E. Rivkin</td>\n",
       "      <td>Casting</td>\n",
       "      <td>Mali Finn</td>\n",
       "    </tr>\n",
       "    <tr>\n",
       "      <th>3</th>\n",
       "      <td>19995</td>\n",
       "      <td>Editor</td>\n",
       "      <td>Stephen E. Rivkin</td>\n",
       "      <td>Director</td>\n",
       "      <td>James Cameron</td>\n",
       "    </tr>\n",
       "    <tr>\n",
       "      <th>4</th>\n",
       "      <td>19995</td>\n",
       "      <td>Editor</td>\n",
       "      <td>Stephen E. Rivkin</td>\n",
       "      <td>Writer</td>\n",
       "      <td>James Cameron</td>\n",
       "    </tr>\n",
       "  </tbody>\n",
       "</table>\n",
       "</div>"
      ],
      "text/plain": [
       "      id job_dir           name_dir        job_crew          name_crew\n",
       "0  19995  Editor  Stephen E. Rivkin          Editor  Stephen E. Rivkin\n",
       "1  19995  Editor  Stephen E. Rivkin  Sound Designer  Christopher Boyes\n",
       "2  19995  Editor  Stephen E. Rivkin         Casting          Mali Finn\n",
       "3  19995  Editor  Stephen E. Rivkin        Director      James Cameron\n",
       "4  19995  Editor  Stephen E. Rivkin          Writer      James Cameron"
      ]
     },
     "execution_count": 80,
     "metadata": {},
     "output_type": "execute_result"
    }
   ],
   "source": [
    "crews_self_merged.head()"
   ]
  },
  {
   "cell_type": "markdown",
   "id": "3922d1da-239c-4225-8c95-67fbab02ecd7",
   "metadata": {},
   "source": [
    "- Create a Boolean index, named `boolean_filter`, that selects rows from the left table with the **job** of `'Director'` and avoids rows with the **job** of `'Director'` in the right table."
   ]
  },
  {
   "cell_type": "code",
   "execution_count": 81,
   "id": "7c988701-92e2-44cf-9b1b-1735ae7348b1",
   "metadata": {},
   "outputs": [],
   "source": [
    "boolean_filter = (crews_self_merged[\"job_dir\"] == \"Director\") & (crews_self_merged[\"job_crew\"] != \"Director\")"
   ]
  },
  {
   "cell_type": "markdown",
   "id": "85f8bf73-c141-40cc-ab0d-bc71bf31ca51",
   "metadata": {},
   "source": [
    "- Use the `.head()` method to print the first few rows of `direct_crews`."
   ]
  },
  {
   "cell_type": "code",
   "execution_count": 82,
   "id": "d0805215-bf39-4802-92d3-993b9964fc02",
   "metadata": {},
   "outputs": [
    {
     "data": {
      "text/html": [
       "<div>\n",
       "<style scoped>\n",
       "    .dataframe tbody tr th:only-of-type {\n",
       "        vertical-align: middle;\n",
       "    }\n",
       "\n",
       "    .dataframe tbody tr th {\n",
       "        vertical-align: top;\n",
       "    }\n",
       "\n",
       "    .dataframe thead th {\n",
       "        text-align: right;\n",
       "    }\n",
       "</style>\n",
       "<table border=\"1\" class=\"dataframe\">\n",
       "  <thead>\n",
       "    <tr style=\"text-align: right;\">\n",
       "      <th></th>\n",
       "      <th>id</th>\n",
       "      <th>job_dir</th>\n",
       "      <th>name_dir</th>\n",
       "      <th>job_crew</th>\n",
       "      <th>name_crew</th>\n",
       "    </tr>\n",
       "  </thead>\n",
       "  <tbody>\n",
       "    <tr>\n",
       "      <th>156</th>\n",
       "      <td>19995</td>\n",
       "      <td>Director</td>\n",
       "      <td>James Cameron</td>\n",
       "      <td>Editor</td>\n",
       "      <td>Stephen E. Rivkin</td>\n",
       "    </tr>\n",
       "    <tr>\n",
       "      <th>157</th>\n",
       "      <td>19995</td>\n",
       "      <td>Director</td>\n",
       "      <td>James Cameron</td>\n",
       "      <td>Sound Designer</td>\n",
       "      <td>Christopher Boyes</td>\n",
       "    </tr>\n",
       "    <tr>\n",
       "      <th>158</th>\n",
       "      <td>19995</td>\n",
       "      <td>Director</td>\n",
       "      <td>James Cameron</td>\n",
       "      <td>Casting</td>\n",
       "      <td>Mali Finn</td>\n",
       "    </tr>\n",
       "    <tr>\n",
       "      <th>160</th>\n",
       "      <td>19995</td>\n",
       "      <td>Director</td>\n",
       "      <td>James Cameron</td>\n",
       "      <td>Writer</td>\n",
       "      <td>James Cameron</td>\n",
       "    </tr>\n",
       "    <tr>\n",
       "      <th>161</th>\n",
       "      <td>19995</td>\n",
       "      <td>Director</td>\n",
       "      <td>James Cameron</td>\n",
       "      <td>Set Designer</td>\n",
       "      <td>Richard F. Mays</td>\n",
       "    </tr>\n",
       "  </tbody>\n",
       "</table>\n",
       "</div>"
      ],
      "text/plain": [
       "        id   job_dir       name_dir        job_crew          name_crew\n",
       "156  19995  Director  James Cameron          Editor  Stephen E. Rivkin\n",
       "157  19995  Director  James Cameron  Sound Designer  Christopher Boyes\n",
       "158  19995  Director  James Cameron         Casting          Mali Finn\n",
       "160  19995  Director  James Cameron          Writer      James Cameron\n",
       "161  19995  Director  James Cameron    Set Designer    Richard F. Mays"
      ]
     },
     "execution_count": 82,
     "metadata": {},
     "output_type": "execute_result"
    }
   ],
   "source": [
    "crews_self_merged[boolean_filter].head()"
   ]
  },
  {
   "cell_type": "code",
   "execution_count": null,
   "id": "b35caa03-4876-4f1b-add3-00fa8e4e3ae7",
   "metadata": {},
   "outputs": [],
   "source": []
  }
 ],
 "metadata": {
  "kernelspec": {
   "display_name": "Python 3 (ipykernel)",
   "language": "python",
   "name": "python3"
  },
  "language_info": {
   "codemirror_mode": {
    "name": "ipython",
    "version": 3
   },
   "file_extension": ".py",
   "mimetype": "text/x-python",
   "name": "python",
   "nbconvert_exporter": "python",
   "pygments_lexer": "ipython3",
   "version": "3.11.7"
  }
 },
 "nbformat": 4,
 "nbformat_minor": 5
}
