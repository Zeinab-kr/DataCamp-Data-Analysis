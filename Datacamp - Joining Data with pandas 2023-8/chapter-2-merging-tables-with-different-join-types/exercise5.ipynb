{
 "cells": [
  {
   "cell_type": "markdown",
   "id": "af312b18-24d5-446c-8630-ea1ef67515fc",
   "metadata": {},
   "source": [
    "#  Popular genres with right join\n",
    "\n",
    "##  Assignment \n",
    "\n",
    "What are the genres of the most popular movies? To answer this question, you need to merge data from the `movies` and `movie_to_genres` tables. In a table called `pop_movies`, the top 10 most popular movies in the `movies` table have been selected. To ensure that you are analyzing all of the popular movies, merge it with the `movie_to_genres` table using a right join. To complete your analysis, count the number of different genres. Also, the two tables can be merged by the movie ID. However, in `pop_movies` that column is called `id`, and in `movies_to_genres` it's called `movie_id`.\n",
    "\n",
    "The `pop_movies` and `movie_to_genres` tables have been loaded for you.\n",
    "\n",
    "##  Pre exercise code \n",
    "\n",
    "```\n",
    "from pickle import load\n",
    "import urllib.request\n",
    "import pandas as pd\n",
    "import matplotlib.pyplot as plt\n",
    "\n",
    "fn_mov = 'https://assets.datacamp.com/production/repositories/5486/datasets/81f8f3290520b0a9bdc6d77deaac87a9d298de46/movies.p'\n",
    "fn_m2g = 'https://assets.datacamp.com/production/repositories/5486/datasets/a2963ed7eaefdc5ca0ed74fb6520c7588d57bfd5/movie_to_genres.p'\n",
    "\n",
    "movies = load(urllib.request.urlopen(fn_mov))\n",
    "movie_to_genres = load(urllib.request.urlopen(fn_m2g))\n",
    "\n",
    "pop_movies = movies.sort_values('popularity', ascending=False).head(10)\n",
    "```\n",
    "\n",
    "\n",
    "\n",
    "##  Instructions \n",
    "\n",
    "- Merge `movie_to_genres` and `pop_movies` using a right join. Save the results as `genres_movies`.\n",
    "- Group `genres_movies` by `genre` and count the number of `id` values."
   ]
  },
  {
   "cell_type": "code",
   "execution_count": 51,
   "id": "a2a626bf-43d1-478a-bba3-6e616c945b19",
   "metadata": {},
   "outputs": [],
   "source": [
    "from pickle import load\n",
    "import urllib.request\n",
    "import pandas as pd\n",
    "import matplotlib.pyplot as plt"
   ]
  },
  {
   "cell_type": "code",
   "execution_count": 52,
   "id": "ea8ffc6f-a022-4463-9304-42ae58ae22db",
   "metadata": {},
   "outputs": [],
   "source": [
    "fn_mov = 'https://assets.datacamp.com/production/repositories/5486/datasets/81f8f3290520b0a9bdc6d77deaac87a9d298de46/movies.p'\n",
    "fn_m2g = 'https://assets.datacamp.com/production/repositories/5486/datasets/a2963ed7eaefdc5ca0ed74fb6520c7588d57bfd5/movie_to_genres.p'"
   ]
  },
  {
   "cell_type": "code",
   "execution_count": 53,
   "id": "b1a66071-e5e6-4178-a5ef-ee11bd928c35",
   "metadata": {},
   "outputs": [],
   "source": [
    "movies = load(urllib.request.urlopen(fn_mov))\n",
    "movie_to_genres = load(urllib.request.urlopen(fn_m2g))"
   ]
  },
  {
   "cell_type": "code",
   "execution_count": 54,
   "id": "8c66b741-a771-4ea4-a9c9-51d345d9dec6",
   "metadata": {},
   "outputs": [],
   "source": [
    "pop_movies = movies.sort_values('popularity', ascending=False).head(10)"
   ]
  },
  {
   "cell_type": "code",
   "execution_count": 56,
   "id": "bb2df714-a34e-4a82-bd63-b981641523c3",
   "metadata": {},
   "outputs": [
    {
     "name": "stdout",
     "output_type": "stream",
     "text": [
      "    id         title  popularity release_date\n",
      "0  257  Oliver Twist   20.415572   2005-09-23\n",
      "   movie_id  genre\n",
      "0         5  Crime\n",
      "          id    title  popularity release_date\n",
      "4546  211672  Minions  875.581305   2015-06-17\n"
     ]
    }
   ],
   "source": [
    "print(movies.head(1))\n",
    "print(movie_to_genres.head(1))\n",
    "print(pop_movies.head(1))"
   ]
  },
  {
   "cell_type": "code",
   "execution_count": 58,
   "id": "35ab4d20-016a-4088-adf4-507affdfeba7",
   "metadata": {},
   "outputs": [],
   "source": [
    "genres_movies = movie_to_genres.merge(pop_movies, left_on=\"movie_id\", right_on=\"id\", how=\"right\")"
   ]
  },
  {
   "cell_type": "code",
   "execution_count": 59,
   "id": "535c85ca-d67d-4b88-a81a-becd0f024f97",
   "metadata": {},
   "outputs": [
    {
     "data": {
      "text/html": [
       "<div>\n",
       "<style scoped>\n",
       "    .dataframe tbody tr th:only-of-type {\n",
       "        vertical-align: middle;\n",
       "    }\n",
       "\n",
       "    .dataframe tbody tr th {\n",
       "        vertical-align: top;\n",
       "    }\n",
       "\n",
       "    .dataframe thead th {\n",
       "        text-align: right;\n",
       "    }\n",
       "</style>\n",
       "<table border=\"1\" class=\"dataframe\">\n",
       "  <thead>\n",
       "    <tr style=\"text-align: right;\">\n",
       "      <th></th>\n",
       "      <th>movie_id</th>\n",
       "      <th>genre</th>\n",
       "      <th>id</th>\n",
       "      <th>title</th>\n",
       "      <th>popularity</th>\n",
       "      <th>release_date</th>\n",
       "    </tr>\n",
       "  </thead>\n",
       "  <tbody>\n",
       "    <tr>\n",
       "      <th>0</th>\n",
       "      <td>211672</td>\n",
       "      <td>Comedy</td>\n",
       "      <td>211672</td>\n",
       "      <td>Minions</td>\n",
       "      <td>875.581305</td>\n",
       "      <td>2015-06-17</td>\n",
       "    </tr>\n",
       "    <tr>\n",
       "      <th>1</th>\n",
       "      <td>211672</td>\n",
       "      <td>Adventure</td>\n",
       "      <td>211672</td>\n",
       "      <td>Minions</td>\n",
       "      <td>875.581305</td>\n",
       "      <td>2015-06-17</td>\n",
       "    </tr>\n",
       "    <tr>\n",
       "      <th>2</th>\n",
       "      <td>211672</td>\n",
       "      <td>Animation</td>\n",
       "      <td>211672</td>\n",
       "      <td>Minions</td>\n",
       "      <td>875.581305</td>\n",
       "      <td>2015-06-17</td>\n",
       "    </tr>\n",
       "    <tr>\n",
       "      <th>3</th>\n",
       "      <td>211672</td>\n",
       "      <td>Family</td>\n",
       "      <td>211672</td>\n",
       "      <td>Minions</td>\n",
       "      <td>875.581305</td>\n",
       "      <td>2015-06-17</td>\n",
       "    </tr>\n",
       "    <tr>\n",
       "      <th>4</th>\n",
       "      <td>157336</td>\n",
       "      <td>Drama</td>\n",
       "      <td>157336</td>\n",
       "      <td>Interstellar</td>\n",
       "      <td>724.247784</td>\n",
       "      <td>2014-11-05</td>\n",
       "    </tr>\n",
       "  </tbody>\n",
       "</table>\n",
       "</div>"
      ],
      "text/plain": [
       "   movie_id      genre      id         title  popularity release_date\n",
       "0    211672     Comedy  211672       Minions  875.581305   2015-06-17\n",
       "1    211672  Adventure  211672       Minions  875.581305   2015-06-17\n",
       "2    211672  Animation  211672       Minions  875.581305   2015-06-17\n",
       "3    211672     Family  211672       Minions  875.581305   2015-06-17\n",
       "4    157336      Drama  157336  Interstellar  724.247784   2014-11-05"
      ]
     },
     "execution_count": 59,
     "metadata": {},
     "output_type": "execute_result"
    }
   ],
   "source": [
    "genres_movies.head()"
   ]
  },
  {
   "cell_type": "code",
   "execution_count": 60,
   "id": "f5bdd47e-1809-48a8-83b9-0fad811bd034",
   "metadata": {},
   "outputs": [
    {
     "data": {
      "text/html": [
       "<div>\n",
       "<style scoped>\n",
       "    .dataframe tbody tr th:only-of-type {\n",
       "        vertical-align: middle;\n",
       "    }\n",
       "\n",
       "    .dataframe tbody tr th {\n",
       "        vertical-align: top;\n",
       "    }\n",
       "\n",
       "    .dataframe thead th {\n",
       "        text-align: right;\n",
       "    }\n",
       "</style>\n",
       "<table border=\"1\" class=\"dataframe\">\n",
       "  <thead>\n",
       "    <tr style=\"text-align: right;\">\n",
       "      <th></th>\n",
       "      <th>id</th>\n",
       "    </tr>\n",
       "    <tr>\n",
       "      <th>genre</th>\n",
       "      <th></th>\n",
       "    </tr>\n",
       "  </thead>\n",
       "  <tbody>\n",
       "    <tr>\n",
       "      <th>Action</th>\n",
       "      <td>7</td>\n",
       "    </tr>\n",
       "    <tr>\n",
       "      <th>Adventure</th>\n",
       "      <td>9</td>\n",
       "    </tr>\n",
       "    <tr>\n",
       "      <th>Animation</th>\n",
       "      <td>2</td>\n",
       "    </tr>\n",
       "    <tr>\n",
       "      <th>Comedy</th>\n",
       "      <td>3</td>\n",
       "    </tr>\n",
       "    <tr>\n",
       "      <th>Drama</th>\n",
       "      <td>2</td>\n",
       "    </tr>\n",
       "    <tr>\n",
       "      <th>Family</th>\n",
       "      <td>2</td>\n",
       "    </tr>\n",
       "    <tr>\n",
       "      <th>Fantasy</th>\n",
       "      <td>1</td>\n",
       "    </tr>\n",
       "    <tr>\n",
       "      <th>Science Fiction</th>\n",
       "      <td>6</td>\n",
       "    </tr>\n",
       "    <tr>\n",
       "      <th>Thriller</th>\n",
       "      <td>4</td>\n",
       "    </tr>\n",
       "  </tbody>\n",
       "</table>\n",
       "</div>"
      ],
      "text/plain": [
       "                 id\n",
       "genre              \n",
       "Action            7\n",
       "Adventure         9\n",
       "Animation         2\n",
       "Comedy            3\n",
       "Drama             2\n",
       "Family            2\n",
       "Fantasy           1\n",
       "Science Fiction   6\n",
       "Thriller          4"
      ]
     },
     "execution_count": 60,
     "metadata": {},
     "output_type": "execute_result"
    }
   ],
   "source": [
    "genres_movies.groupby(\"genre\").agg({'id':'count'})"
   ]
  },
  {
   "cell_type": "code",
   "execution_count": null,
   "id": "c79001bd-e3de-4cb9-885b-ca04d6bc411b",
   "metadata": {},
   "outputs": [],
   "source": []
  }
 ],
 "metadata": {
  "kernelspec": {
   "display_name": "Python 3 (ipykernel)",
   "language": "python",
   "name": "python3"
  },
  "language_info": {
   "codemirror_mode": {
    "name": "ipython",
    "version": 3
   },
   "file_extension": ".py",
   "mimetype": "text/x-python",
   "name": "python",
   "nbconvert_exporter": "python",
   "pygments_lexer": "ipython3",
   "version": "3.11.7"
  }
 },
 "nbformat": 4,
 "nbformat_minor": 5
}
