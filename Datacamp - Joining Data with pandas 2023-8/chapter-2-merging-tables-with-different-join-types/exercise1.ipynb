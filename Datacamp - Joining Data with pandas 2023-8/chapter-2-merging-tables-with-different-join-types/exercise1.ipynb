{
 "cells": [
  {
   "cell_type": "markdown",
   "id": "db86c8f9-a902-4c30-9961-310f711076cb",
   "metadata": {},
   "source": [
    "#  Counting missing rows with left join\n",
    "\n",
    "##  Assignment \n",
    "\n",
    "The Movie Database is supported by volunteers going out into the world, collecting data, and entering it into the database. This includes financial data, such as movie budget and revenue. If you wanted to know which movies are still missing data, you could use a left join to identify them. Practice using a left join by merging the `movies` table and the `financials` table.\n",
    "\n",
    "The `movies` and `financials` tables have been loaded for you.\n",
    "\n",
    "##  Pre exercise code \n",
    "\n",
    "```\n",
    "from pickle import load\n",
    "import urllib.request\n",
    "import pandas as pd\n",
    "\n",
    "fn_mov = 'https://assets.datacamp.com/production/repositories/5486/datasets/81f8f3290520b0a9bdc6d77deaac87a9d298de46/movies.p'\n",
    "fn_fin = 'https://assets.datacamp.com/production/repositories/5486/datasets/e8f6bb0393b96bad22d50e42d5a9db1bbb643aa8/financials.p'\n",
    "\n",
    "movies = load(urllib.request.urlopen(fn_mov))\n",
    "financials = load(urllib.request.urlopen(fn_fin))\n",
    "```"
   ]
  },
  {
   "cell_type": "code",
   "execution_count": 1,
   "id": "2901e4f9-0e8e-4f56-a64b-7c0d0bca4764",
   "metadata": {},
   "outputs": [],
   "source": [
    "from pickle import load\n",
    "import urllib.request\n",
    "import pandas as pd"
   ]
  },
  {
   "cell_type": "code",
   "execution_count": 2,
   "id": "b039a6ae-53dc-454d-ab54-a4542717f4f9",
   "metadata": {},
   "outputs": [],
   "source": [
    "fn_mov = 'https://assets.datacamp.com/production/repositories/5486/datasets/81f8f3290520b0a9bdc6d77deaac87a9d298de46/movies.p'\n",
    "fn_fin = 'https://assets.datacamp.com/production/repositories/5486/datasets/e8f6bb0393b96bad22d50e42d5a9db1bbb643aa8/financials.p'\n",
    "movies = load(urllib.request.urlopen(fn_mov))\n",
    "financials = load(urllib.request.urlopen(fn_fin))"
   ]
  },
  {
   "cell_type": "code",
   "execution_count": 3,
   "id": "52e4bfa9-394c-4bae-85ab-3bef2d7f679e",
   "metadata": {},
   "outputs": [
    {
     "data": {
      "text/html": [
       "<div>\n",
       "<style scoped>\n",
       "    .dataframe tbody tr th:only-of-type {\n",
       "        vertical-align: middle;\n",
       "    }\n",
       "\n",
       "    .dataframe tbody tr th {\n",
       "        vertical-align: top;\n",
       "    }\n",
       "\n",
       "    .dataframe thead th {\n",
       "        text-align: right;\n",
       "    }\n",
       "</style>\n",
       "<table border=\"1\" class=\"dataframe\">\n",
       "  <thead>\n",
       "    <tr style=\"text-align: right;\">\n",
       "      <th></th>\n",
       "      <th>id</th>\n",
       "      <th>title</th>\n",
       "      <th>popularity</th>\n",
       "      <th>release_date</th>\n",
       "    </tr>\n",
       "  </thead>\n",
       "  <tbody>\n",
       "    <tr>\n",
       "      <th>0</th>\n",
       "      <td>257</td>\n",
       "      <td>Oliver Twist</td>\n",
       "      <td>20.415572</td>\n",
       "      <td>2005-09-23</td>\n",
       "    </tr>\n",
       "  </tbody>\n",
       "</table>\n",
       "</div>"
      ],
      "text/plain": [
       "    id         title  popularity release_date\n",
       "0  257  Oliver Twist   20.415572   2005-09-23"
      ]
     },
     "execution_count": 3,
     "metadata": {},
     "output_type": "execute_result"
    }
   ],
   "source": [
    "movies.head(1)"
   ]
  },
  {
   "cell_type": "code",
   "execution_count": 4,
   "id": "fcebe8e3-b369-4b82-b6b3-d3ad74cc6ed7",
   "metadata": {},
   "outputs": [
    {
     "data": {
      "text/html": [
       "<div>\n",
       "<style scoped>\n",
       "    .dataframe tbody tr th:only-of-type {\n",
       "        vertical-align: middle;\n",
       "    }\n",
       "\n",
       "    .dataframe tbody tr th {\n",
       "        vertical-align: top;\n",
       "    }\n",
       "\n",
       "    .dataframe thead th {\n",
       "        text-align: right;\n",
       "    }\n",
       "</style>\n",
       "<table border=\"1\" class=\"dataframe\">\n",
       "  <thead>\n",
       "    <tr style=\"text-align: right;\">\n",
       "      <th></th>\n",
       "      <th>id</th>\n",
       "      <th>budget</th>\n",
       "      <th>revenue</th>\n",
       "    </tr>\n",
       "  </thead>\n",
       "  <tbody>\n",
       "    <tr>\n",
       "      <th>0</th>\n",
       "      <td>19995</td>\n",
       "      <td>237000000</td>\n",
       "      <td>2.787965e+09</td>\n",
       "    </tr>\n",
       "  </tbody>\n",
       "</table>\n",
       "</div>"
      ],
      "text/plain": [
       "      id     budget       revenue\n",
       "0  19995  237000000  2.787965e+09"
      ]
     },
     "execution_count": 4,
     "metadata": {},
     "output_type": "execute_result"
    }
   ],
   "source": [
    "financials.head(1)"
   ]
  },
  {
   "cell_type": "code",
   "execution_count": 6,
   "id": "1a6994ed-ea71-4be4-a032-e3c06333d40c",
   "metadata": {},
   "outputs": [],
   "source": [
    "mov_fin = movies.merge(financials, on=\"id\", how=\"left\")"
   ]
  },
  {
   "cell_type": "code",
   "execution_count": 7,
   "id": "8e08e35a-c2aa-49ee-8f0c-cc4232b47e7d",
   "metadata": {},
   "outputs": [
    {
     "data": {
      "text/html": [
       "<div>\n",
       "<style scoped>\n",
       "    .dataframe tbody tr th:only-of-type {\n",
       "        vertical-align: middle;\n",
       "    }\n",
       "\n",
       "    .dataframe tbody tr th {\n",
       "        vertical-align: top;\n",
       "    }\n",
       "\n",
       "    .dataframe thead th {\n",
       "        text-align: right;\n",
       "    }\n",
       "</style>\n",
       "<table border=\"1\" class=\"dataframe\">\n",
       "  <thead>\n",
       "    <tr style=\"text-align: right;\">\n",
       "      <th></th>\n",
       "      <th>id</th>\n",
       "      <th>title</th>\n",
       "      <th>popularity</th>\n",
       "      <th>release_date</th>\n",
       "      <th>budget</th>\n",
       "      <th>revenue</th>\n",
       "    </tr>\n",
       "  </thead>\n",
       "  <tbody>\n",
       "    <tr>\n",
       "      <th>0</th>\n",
       "      <td>257</td>\n",
       "      <td>Oliver Twist</td>\n",
       "      <td>20.415572</td>\n",
       "      <td>2005-09-23</td>\n",
       "      <td>50000000.0</td>\n",
       "      <td>42093706.0</td>\n",
       "    </tr>\n",
       "    <tr>\n",
       "      <th>1</th>\n",
       "      <td>14290</td>\n",
       "      <td>Better Luck Tomorrow</td>\n",
       "      <td>3.877036</td>\n",
       "      <td>2002-01-12</td>\n",
       "      <td>NaN</td>\n",
       "      <td>NaN</td>\n",
       "    </tr>\n",
       "    <tr>\n",
       "      <th>2</th>\n",
       "      <td>38365</td>\n",
       "      <td>Grown Ups</td>\n",
       "      <td>38.864027</td>\n",
       "      <td>2010-06-24</td>\n",
       "      <td>80000000.0</td>\n",
       "      <td>271430189.0</td>\n",
       "    </tr>\n",
       "    <tr>\n",
       "      <th>3</th>\n",
       "      <td>9672</td>\n",
       "      <td>Infamous</td>\n",
       "      <td>3.680896</td>\n",
       "      <td>2006-11-16</td>\n",
       "      <td>13000000.0</td>\n",
       "      <td>1151330.0</td>\n",
       "    </tr>\n",
       "    <tr>\n",
       "      <th>4</th>\n",
       "      <td>12819</td>\n",
       "      <td>Alpha and Omega</td>\n",
       "      <td>12.300789</td>\n",
       "      <td>2010-09-17</td>\n",
       "      <td>20000000.0</td>\n",
       "      <td>39300000.0</td>\n",
       "    </tr>\n",
       "  </tbody>\n",
       "</table>\n",
       "</div>"
      ],
      "text/plain": [
       "      id                 title  popularity release_date      budget  \\\n",
       "0    257          Oliver Twist   20.415572   2005-09-23  50000000.0   \n",
       "1  14290  Better Luck Tomorrow    3.877036   2002-01-12         NaN   \n",
       "2  38365             Grown Ups   38.864027   2010-06-24  80000000.0   \n",
       "3   9672              Infamous    3.680896   2006-11-16  13000000.0   \n",
       "4  12819       Alpha and Omega   12.300789   2010-09-17  20000000.0   \n",
       "\n",
       "       revenue  \n",
       "0   42093706.0  \n",
       "1          NaN  \n",
       "2  271430189.0  \n",
       "3    1151330.0  \n",
       "4   39300000.0  "
      ]
     },
     "execution_count": 7,
     "metadata": {},
     "output_type": "execute_result"
    }
   ],
   "source": [
    "mov_fin.head()"
   ]
  },
  {
   "cell_type": "code",
   "execution_count": 12,
   "id": "81ad70e0-99b4-497f-ab71-f6ad0ad4d0d5",
   "metadata": {},
   "outputs": [
    {
     "data": {
      "text/html": [
       "<div>\n",
       "<style scoped>\n",
       "    .dataframe tbody tr th:only-of-type {\n",
       "        vertical-align: middle;\n",
       "    }\n",
       "\n",
       "    .dataframe tbody tr th {\n",
       "        vertical-align: top;\n",
       "    }\n",
       "\n",
       "    .dataframe thead th {\n",
       "        text-align: right;\n",
       "    }\n",
       "</style>\n",
       "<table border=\"1\" class=\"dataframe\">\n",
       "  <thead>\n",
       "    <tr style=\"text-align: right;\">\n",
       "      <th></th>\n",
       "      <th>id</th>\n",
       "      <th>title</th>\n",
       "      <th>popularity</th>\n",
       "      <th>release_date</th>\n",
       "      <th>budget</th>\n",
       "      <th>revenue</th>\n",
       "    </tr>\n",
       "  </thead>\n",
       "  <tbody>\n",
       "    <tr>\n",
       "      <th>1</th>\n",
       "      <td>14290</td>\n",
       "      <td>Better Luck Tomorrow</td>\n",
       "      <td>3.877036</td>\n",
       "      <td>2002-01-12</td>\n",
       "      <td>NaN</td>\n",
       "      <td>NaN</td>\n",
       "    </tr>\n",
       "    <tr>\n",
       "      <th>7</th>\n",
       "      <td>13785</td>\n",
       "      <td>Best in Show</td>\n",
       "      <td>10.982255</td>\n",
       "      <td>2000-09-19</td>\n",
       "      <td>NaN</td>\n",
       "      <td>NaN</td>\n",
       "    </tr>\n",
       "    <tr>\n",
       "      <th>9</th>\n",
       "      <td>18841</td>\n",
       "      <td>The Lost Skeleton of Cadavra</td>\n",
       "      <td>1.680525</td>\n",
       "      <td>2001-09-12</td>\n",
       "      <td>NaN</td>\n",
       "      <td>NaN</td>\n",
       "    </tr>\n",
       "    <tr>\n",
       "      <th>11</th>\n",
       "      <td>158752</td>\n",
       "      <td>Escape from Tomorrow</td>\n",
       "      <td>1.352222</td>\n",
       "      <td>2013-10-11</td>\n",
       "      <td>NaN</td>\n",
       "      <td>NaN</td>\n",
       "    </tr>\n",
       "    <tr>\n",
       "      <th>15</th>\n",
       "      <td>16186</td>\n",
       "      <td>Diary of a Mad Black Woman</td>\n",
       "      <td>3.784535</td>\n",
       "      <td>2005-02-25</td>\n",
       "      <td>NaN</td>\n",
       "      <td>NaN</td>\n",
       "    </tr>\n",
       "    <tr>\n",
       "      <th>...</th>\n",
       "      <td>...</td>\n",
       "      <td>...</td>\n",
       "      <td>...</td>\n",
       "      <td>...</td>\n",
       "      <td>...</td>\n",
       "      <td>...</td>\n",
       "    </tr>\n",
       "    <tr>\n",
       "      <th>4783</th>\n",
       "      <td>17334</td>\n",
       "      <td>The Other End of the Line</td>\n",
       "      <td>3.393648</td>\n",
       "      <td>2008-10-29</td>\n",
       "      <td>NaN</td>\n",
       "      <td>NaN</td>\n",
       "    </tr>\n",
       "    <tr>\n",
       "      <th>4788</th>\n",
       "      <td>25189</td>\n",
       "      <td>The Mirror Has Two Faces</td>\n",
       "      <td>3.844926</td>\n",
       "      <td>1996-11-15</td>\n",
       "      <td>NaN</td>\n",
       "      <td>NaN</td>\n",
       "    </tr>\n",
       "    <tr>\n",
       "      <th>4793</th>\n",
       "      <td>198370</td>\n",
       "      <td>Mutual Friends</td>\n",
       "      <td>0.136721</td>\n",
       "      <td>2014-04-15</td>\n",
       "      <td>NaN</td>\n",
       "      <td>NaN</td>\n",
       "    </tr>\n",
       "    <tr>\n",
       "      <th>4799</th>\n",
       "      <td>11934</td>\n",
       "      <td>The Hudsucker Proxy</td>\n",
       "      <td>14.188982</td>\n",
       "      <td>1994-03-11</td>\n",
       "      <td>NaN</td>\n",
       "      <td>NaN</td>\n",
       "    </tr>\n",
       "    <tr>\n",
       "      <th>4800</th>\n",
       "      <td>13807</td>\n",
       "      <td>Exiled</td>\n",
       "      <td>8.486390</td>\n",
       "      <td>2006-09-06</td>\n",
       "      <td>NaN</td>\n",
       "      <td>NaN</td>\n",
       "    </tr>\n",
       "  </tbody>\n",
       "</table>\n",
       "<p>1574 rows × 6 columns</p>\n",
       "</div>"
      ],
      "text/plain": [
       "          id                         title  popularity release_date  budget  \\\n",
       "1      14290          Better Luck Tomorrow    3.877036   2002-01-12     NaN   \n",
       "7      13785                  Best in Show   10.982255   2000-09-19     NaN   \n",
       "9      18841  The Lost Skeleton of Cadavra    1.680525   2001-09-12     NaN   \n",
       "11    158752          Escape from Tomorrow    1.352222   2013-10-11     NaN   \n",
       "15     16186    Diary of a Mad Black Woman    3.784535   2005-02-25     NaN   \n",
       "...      ...                           ...         ...          ...     ...   \n",
       "4783   17334     The Other End of the Line    3.393648   2008-10-29     NaN   \n",
       "4788   25189      The Mirror Has Two Faces    3.844926   1996-11-15     NaN   \n",
       "4793  198370                Mutual Friends    0.136721   2014-04-15     NaN   \n",
       "4799   11934           The Hudsucker Proxy   14.188982   1994-03-11     NaN   \n",
       "4800   13807                        Exiled    8.486390   2006-09-06     NaN   \n",
       "\n",
       "      revenue  \n",
       "1         NaN  \n",
       "7         NaN  \n",
       "9         NaN  \n",
       "11        NaN  \n",
       "15        NaN  \n",
       "...       ...  \n",
       "4783      NaN  \n",
       "4788      NaN  \n",
       "4793      NaN  \n",
       "4799      NaN  \n",
       "4800      NaN  \n",
       "\n",
       "[1574 rows x 6 columns]"
      ]
     },
     "execution_count": 12,
     "metadata": {},
     "output_type": "execute_result"
    }
   ],
   "source": [
    "mov_fin[(mov_fin[\"budget\"].isna())]"
   ]
  },
  {
   "cell_type": "markdown",
   "id": "3bc442ac-9206-4cad-806e-2b9dcf2cff36",
   "metadata": {},
   "source": [
    "##  Instructions \n",
    "\n",
    "- Merge the `movies` table, as the left table, with the `financials` table using a left join, and save the result to `movies_financials`."
   ]
  },
  {
   "cell_type": "code",
   "execution_count": 14,
   "id": "523e2377-a3cb-4164-98bf-3e0925ffbde1",
   "metadata": {},
   "outputs": [],
   "source": [
    "movies_financials = movies.merge(financials, on=\"id\")"
   ]
  },
  {
   "cell_type": "markdown",
   "id": "a57a5bab-0d5e-493b-ab57-2f78d57e6eee",
   "metadata": {},
   "source": [
    "- Count the number of rows in `movies_financials` with a null value in the `budget` column."
   ]
  },
  {
   "cell_type": "code",
   "execution_count": 23,
   "id": "4a18597d-4ea5-48e7-a553-e2b36d7316cb",
   "metadata": {},
   "outputs": [
    {
     "data": {
      "text/plain": [
       "1574"
      ]
     },
     "execution_count": 23,
     "metadata": {},
     "output_type": "execute_result"
    }
   ],
   "source": [
    "mov_fin[\"budget\"].isna().sum()"
   ]
  },
  {
   "cell_type": "code",
   "execution_count": null,
   "id": "627bca2d-1b52-44d0-84c2-bbe941d705fe",
   "metadata": {},
   "outputs": [],
   "source": []
  }
 ],
 "metadata": {
  "kernelspec": {
   "display_name": "Python 3 (ipykernel)",
   "language": "python",
   "name": "python3"
  },
  "language_info": {
   "codemirror_mode": {
    "name": "ipython",
    "version": 3
   },
   "file_extension": ".py",
   "mimetype": "text/x-python",
   "name": "python",
   "nbconvert_exporter": "python",
   "pygments_lexer": "ipython3",
   "version": "3.11.7"
  }
 },
 "nbformat": 4,
 "nbformat_minor": 5
}
