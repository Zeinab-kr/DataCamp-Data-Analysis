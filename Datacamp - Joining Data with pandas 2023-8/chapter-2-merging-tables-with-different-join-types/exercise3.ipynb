{
 "cells": [
  {
   "cell_type": "markdown",
   "id": "3e8f6e93-f92b-4a50-b8e4-8bd16d9839de",
   "metadata": {},
   "source": [
    "#  How many rows with a left join?\n",
    "\n",
    "##  Assignment \n",
    "\n",
    "Select the **true** statement about left joins. \n",
    "\n",
    "Try running the following code statements in the IPython shell. \n",
    "\n",
    "- `left_table.merge(one_to_one, on='id', how='left').shape`\n",
    "- `left_table.merge(one_to_many, on='id', how='left').shape`\n",
    "\n",
    "Note that the `left_table` starts out with **4** rows.\n",
    "\n",
    "##  Pre exercise code \n",
    "\n",
    "```\n",
    "from pickle import load\n",
    "import urllib.request\n",
    "import pandas as pd\n",
    "\n",
    "fn_mov = 'https://assets.datacamp.com/production/repositories/5486/datasets/81f8f3290520b0a9bdc6d77deaac87a9d298de46/movies.p'\n",
    "fn_tag = 'https://assets.datacamp.com/production/repositories/5486/datasets/f8931478a29a0b3caea914d08cc4a8689b9a0663/taglines.p'\n",
    "fn_cre = 'https://assets.datacamp.com/production/repositories/5486/datasets/ff485ad46337574df2e4c363b31fbfdc9713541d/crews.p'\n",
    "\n",
    "left_table = load(urllib.request.urlopen(fn_mov))\n",
    "left_table = left_table[left_table['title'].str.contains('Jurassic')] \\\n",
    "\t\t\t\t.reset_index(drop=True)\n",
    "one_to_one = load(urllib.request.urlopen(fn_tag))\n",
    "one_to_many = load(urllib.request.urlopen(fn_cre))\n",
    "one_to_many = one_to_many[['id','job','name']]\n",
    "```"
   ]
  },
  {
   "cell_type": "code",
   "execution_count": 24,
   "id": "57d60f16-4bd3-4b5f-a465-844e0921032e",
   "metadata": {},
   "outputs": [],
   "source": [
    "from pickle import load\n",
    "import urllib.request\n",
    "import pandas as pd"
   ]
  },
  {
   "cell_type": "code",
   "execution_count": 25,
   "id": "b9bf1afa-70c9-4a7f-ac80-2650b9a83b22",
   "metadata": {},
   "outputs": [],
   "source": [
    "fn_mov = 'https://assets.datacamp.com/production/repositories/5486/datasets/81f8f3290520b0a9bdc6d77deaac87a9d298de46/movies.p'\n",
    "fn_tag = 'https://assets.datacamp.com/production/repositories/5486/datasets/f8931478a29a0b3caea914d08cc4a8689b9a0663/taglines.p'\n",
    "fn_cre = 'https://assets.datacamp.com/production/repositories/5486/datasets/ff485ad46337574df2e4c363b31fbfdc9713541d/crews.p'"
   ]
  },
  {
   "cell_type": "code",
   "execution_count": 28,
   "id": "2896213c-3057-4070-94d1-62e378f17742",
   "metadata": {},
   "outputs": [],
   "source": [
    "left_table = load(urllib.request.urlopen(fn_mov))\n",
    "left_table = left_table[left_table['title'].str.contains('Jurassic')].reset_index(drop=True)\n",
    "# load(urllib.request.urlopen(fn_tag))\n",
    "one_to_one = pd.read_pickle(\"taglines.p\")\n",
    "# one_to_many = load(urllib.request.urlopen(fn_cre))\n",
    "one_to_many = pd.read_pickle(\"crews.p\")\n",
    "one_to_many = one_to_many[['id','job','name']]"
   ]
  },
  {
   "cell_type": "code",
   "execution_count": 29,
   "id": "569e6f1a-715d-42ea-8adf-f87f5d0a9d90",
   "metadata": {},
   "outputs": [
    {
     "data": {
      "text/plain": [
       "(4, 5)"
      ]
     },
     "execution_count": 29,
     "metadata": {},
     "output_type": "execute_result"
    }
   ],
   "source": [
    "left_table.merge(one_to_one, on='id', how='left').shape"
   ]
  },
  {
   "cell_type": "code",
   "execution_count": 30,
   "id": "6d2d491f-dae6-41b0-b952-8b301c8ac996",
   "metadata": {},
   "outputs": [
    {
     "data": {
      "text/plain": [
       "(232, 6)"
      ]
     },
     "execution_count": 30,
     "metadata": {},
     "output_type": "execute_result"
    }
   ],
   "source": [
    "left_table.merge(one_to_many, on='id', how='left').shape"
   ]
  },
  {
   "cell_type": "code",
   "execution_count": 33,
   "id": "a386d89b-0b3b-4e9c-a00c-fddfecc13a34",
   "metadata": {},
   "outputs": [
    {
     "data": {
      "text/plain": [
       "(4, 4)"
      ]
     },
     "execution_count": 33,
     "metadata": {},
     "output_type": "execute_result"
    }
   ],
   "source": [
    "left_table.shape"
   ]
  },
  {
   "cell_type": "code",
   "execution_count": null,
   "id": "e5bddcd8-8131-40f0-9530-89d082685d7c",
   "metadata": {},
   "outputs": [],
   "source": []
  }
 ],
 "metadata": {
  "kernelspec": {
   "display_name": "Python 3 (ipykernel)",
   "language": "python",
   "name": "python3"
  },
  "language_info": {
   "codemirror_mode": {
    "name": "ipython",
    "version": 3
   },
   "file_extension": ".py",
   "mimetype": "text/x-python",
   "name": "python",
   "nbconvert_exporter": "python",
   "pygments_lexer": "ipython3",
   "version": "3.11.7"
  }
 },
 "nbformat": 4,
 "nbformat_minor": 5
}
