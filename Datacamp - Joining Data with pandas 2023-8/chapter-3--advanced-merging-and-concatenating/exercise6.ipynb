{
 "cells": [
  {
   "cell_type": "markdown",
   "id": "89bf4c20-8623-4cd0-83db-79952ae5c103",
   "metadata": {},
   "source": [
    "\n",
    "#  Concatenate and merge to find common songs\n",
    "\n",
    "##  Assignment \n",
    "\n",
    "The senior leadership of the streaming service is requesting your help again. You are given the historical files for a popular playlist in the classical music genre in 2018 and 2019. Additionally, you are given a similar set of files for the most popular pop music genre playlist on the streaming service in 2018 and 2019. Your goal is to concatenate the respective files to make a large classical playlist table and overall popular music table. Then filter the classical music table using a semi join to return only the most popular classical music tracks.\n",
    "\n",
    "The tables `classic_18`, `classic_19`, and `pop_18`, `pop_19` have been loaded for you. Additionally, `pandas` has been loaded as `pd`.\n",
    "\n",
    "##  Pre exercise code \n",
    "\n",
    "```\n",
    "from pickle import load\n",
    "import urllib.request\n",
    "import pandas as pd\n",
    "\n",
    "fn_c18 = 'https://assets.datacamp.com/production/repositories/5486/datasets/6f64d9a63c405f8b418cfb529e0e686f5cc7c12c/classic_18.p'\n",
    "fn_c19 = 'https://assets.datacamp.com/production/repositories/5486/datasets/bac910dd0e9e5c7664f39a0e0f470171cc6a351f/classic_19.p'\n",
    "fn_p18 = 'https://assets.datacamp.com/production/repositories/5486/datasets/f2c0ff773907eaa017a933a50d1800c6ea9bb1a7/pop_18.p'\n",
    "fn_p19 = 'https://assets.datacamp.com/production/repositories/5486/datasets/a76340497309eb6cfcbaf388a09509d393b8263f/pop_19.p'\n",
    "\n",
    "classic_18 = load(urllib.request.urlopen(fn_c18))\n",
    "classic_19 = load(urllib.request.urlopen(fn_c19))\n",
    "pop_18 = load(urllib.request.urlopen(fn_p18))\n",
    "pop_19 = load(urllib.request.urlopen(fn_p19))\n",
    "```"
   ]
  },
  {
   "cell_type": "code",
   "execution_count": 69,
   "id": "4d6424bf-f8f2-4984-bb62-4fa7876134cd",
   "metadata": {},
   "outputs": [],
   "source": [
    "from pickle import load\n",
    "import urllib.request\n",
    "import pandas as pd"
   ]
  },
  {
   "cell_type": "code",
   "execution_count": 72,
   "id": "296ad10b-df1d-4cee-82ea-b03ff5f5bad2",
   "metadata": {},
   "outputs": [],
   "source": [
    "classic_18 = pd.read_pickle(\"classic_18.p\")\n",
    "classic_19 = pd.read_pickle(\"classic_19.p\")\n",
    "pop_18 = pd.read_pickle(\"pop_18.p\")\n",
    "pop_19 = pd.read_pickle(\"pop_19.p\")"
   ]
  },
  {
   "cell_type": "code",
   "execution_count": 73,
   "id": "601aa8bf-48dc-4410-be2b-63ac36b92c21",
   "metadata": {},
   "outputs": [
    {
     "name": "stdout",
     "output_type": "stream",
     "text": [
      "      pid   tid\n",
      "8527   12  3483\n",
      "      pid   tid\n",
      "8526   12  3482\n",
      "      pid   tid\n",
      "3150    1  3063\n",
      "      pid   tid\n",
      "2639    1  2115\n"
     ]
    }
   ],
   "source": [
    "print(classic_18.head(1))\n",
    "print(classic_19.head(1))\n",
    "print(pop_18.head(1))\n",
    "print(pop_19.head(1))"
   ]
  },
  {
   "cell_type": "markdown",
   "id": "e1b3526e-c421-40cc-92ee-f32e45a3d72a",
   "metadata": {},
   "source": [
    "##  Instructions \n",
    "\n",
    "- Concatenate the `classic_18` and `classic_19` tables vertically where the index goes from 0 to n-1, and save to `classic_18_19`.\n",
    "- Concatenate the `pop_18` and `pop_19` tables vertically where the index goes from 0 to n-1, and save to `pop_18_19`."
   ]
  },
  {
   "cell_type": "code",
   "execution_count": 74,
   "id": "08dd8674-9aaf-45a0-8d73-91d1925a7ab8",
   "metadata": {},
   "outputs": [],
   "source": [
    "classic_18_19 = pd.concat([classic_18, classic_19], ignore_index=True)"
   ]
  },
  {
   "cell_type": "code",
   "execution_count": 75,
   "id": "111925fe-4e5e-4177-8538-592ba2621b38",
   "metadata": {},
   "outputs": [],
   "source": [
    "pop_18_19 = pd.concat([pop_18, pop_19], ignore_index=True)"
   ]
  },
  {
   "cell_type": "markdown",
   "id": "42312b37-6f6e-497b-80fa-71850e757010",
   "metadata": {},
   "source": [
    "- With `classic_18_19` on the left, merge it with `pop_18_19` on `tid` using an inner join.\n",
    "- Use `.isin()` to filter `classic_18_19` where `tid` is in `classic_pop`."
   ]
  },
  {
   "cell_type": "code",
   "execution_count": 76,
   "id": "5afe3327-8003-4fd1-8181-a5bc91d592f8",
   "metadata": {},
   "outputs": [],
   "source": [
    "classic_pop = classic_18_19.merge(pop_18_19, on=\"tid\")"
   ]
  },
  {
   "cell_type": "code",
   "execution_count": 77,
   "id": "03d9a50b-9589-4c90-9bba-188503522c25",
   "metadata": {},
   "outputs": [
    {
     "data": {
      "text/html": [
       "<div>\n",
       "<style scoped>\n",
       "    .dataframe tbody tr th:only-of-type {\n",
       "        vertical-align: middle;\n",
       "    }\n",
       "\n",
       "    .dataframe tbody tr th {\n",
       "        vertical-align: top;\n",
       "    }\n",
       "\n",
       "    .dataframe thead th {\n",
       "        text-align: right;\n",
       "    }\n",
       "</style>\n",
       "<table border=\"1\" class=\"dataframe\">\n",
       "  <thead>\n",
       "    <tr style=\"text-align: right;\">\n",
       "      <th></th>\n",
       "      <th>pid</th>\n",
       "      <th>tid</th>\n",
       "    </tr>\n",
       "  </thead>\n",
       "  <tbody>\n",
       "    <tr>\n",
       "      <th>3</th>\n",
       "      <td>12</td>\n",
       "      <td>3479</td>\n",
       "    </tr>\n",
       "    <tr>\n",
       "      <th>10</th>\n",
       "      <td>12</td>\n",
       "      <td>3439</td>\n",
       "    </tr>\n",
       "    <tr>\n",
       "      <th>21</th>\n",
       "      <td>12</td>\n",
       "      <td>3445</td>\n",
       "    </tr>\n",
       "    <tr>\n",
       "      <th>23</th>\n",
       "      <td>12</td>\n",
       "      <td>3449</td>\n",
       "    </tr>\n",
       "    <tr>\n",
       "      <th>48</th>\n",
       "      <td>12</td>\n",
       "      <td>3437</td>\n",
       "    </tr>\n",
       "    <tr>\n",
       "      <th>50</th>\n",
       "      <td>12</td>\n",
       "      <td>3435</td>\n",
       "    </tr>\n",
       "  </tbody>\n",
       "</table>\n",
       "</div>"
      ],
      "text/plain": [
       "    pid   tid\n",
       "3    12  3479\n",
       "10   12  3439\n",
       "21   12  3445\n",
       "23   12  3449\n",
       "48   12  3437\n",
       "50   12  3435"
      ]
     },
     "execution_count": 77,
     "metadata": {},
     "output_type": "execute_result"
    }
   ],
   "source": [
    "classic_18_19[classic_18_19[\"tid\"].isin(classic_pop[\"tid\"])]"
   ]
  },
  {
   "cell_type": "code",
   "execution_count": null,
   "id": "c52c513c-fae9-4b73-8e05-1e0a2e22218d",
   "metadata": {},
   "outputs": [],
   "source": []
  }
 ],
 "metadata": {
  "kernelspec": {
   "display_name": "Python 3 (ipykernel)",
   "language": "python",
   "name": "python3"
  },
  "language_info": {
   "codemirror_mode": {
    "name": "ipython",
    "version": 3
   },
   "file_extension": ".py",
   "mimetype": "text/x-python",
   "name": "python",
   "nbconvert_exporter": "python",
   "pygments_lexer": "ipython3",
   "version": "3.11.7"
  }
 },
 "nbformat": 4,
 "nbformat_minor": 5
}
