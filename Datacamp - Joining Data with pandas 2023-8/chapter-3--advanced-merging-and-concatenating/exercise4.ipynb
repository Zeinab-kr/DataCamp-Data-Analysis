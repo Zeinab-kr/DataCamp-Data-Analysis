{
 "cells": [
  {
   "cell_type": "markdown",
   "id": "106bd5b3-2521-4fc5-af0d-7fc812789c88",
   "metadata": {},
   "source": [
    "\n",
    "#  Concatenating with keys\n",
    "\n",
    "##  Assignment \n",
    "\n",
    "The leadership of the music streaming company has come to you and asked you for assistance in analyzing sales for a recent business quarter. They would like to know which month in the quarter saw the highest average invoice total. \n",
    "You have been given three tables with invoice data named `inv_jul`, `inv_aug`, and `inv_sep`. Concatenate these tables into one to create a graph of the average monthly invoice total.\n",
    "\n",
    "##  Pre exercise code \n",
    "\n",
    "```\n",
    "from pickle import load\n",
    "import urllib.request\n",
    "import pandas as pd\n",
    "import matplotlib.pyplot as plt\n",
    "\n",
    "fn_jul = 'https://assets.datacamp.com/production/repositories/5486/datasets/c5f0febb15eaab10a309f3008c9a104f498e3deb/inv_jul.p'\n",
    "fn_aug = 'https://assets.datacamp.com/production/repositories/5486/datasets/7baa17322b193f642dbf73c00d88ba5515e04d7b/inv_aug.p'\n",
    "fn_sep = 'https://assets.datacamp.com/production/repositories/5486/datasets/8cc260281aaca7fcf55134048d5ba3b38b959d20/inv_sep.p'\n",
    "\n",
    "inv_jul = load(urllib.request.urlopen(fn_jul))\n",
    "inv_aug = load(urllib.request.urlopen(fn_aug))\n",
    "inv_sep = load(urllib.request.urlopen(fn_sep))\n",
    "```\n",
    "\n",
    "\n",
    "\n",
    "##  Instructions \n",
    "\n",
    "- Concatenate the three tables together vertically in order with the oldest month first, adding `'7Jul'`, `'8Aug'`, and `'9Sep'` as `keys` for their respective months, and save to variable `avg_inv_by_month`.\n",
    "- Use the `.agg()` method to find the average of the `total` column from the grouped invoices.\n",
    "- Create a bar chart of `avg_inv_by_month`.\n"
   ]
  },
  {
   "cell_type": "code",
   "execution_count": 48,
   "id": "e7ee67ca-638b-4011-9a88-c4a140e86854",
   "metadata": {},
   "outputs": [],
   "source": [
    "from pickle import load\n",
    "import urllib.request\n",
    "import pandas as pd\n",
    "import matplotlib.pyplot as plt"
   ]
  },
  {
   "cell_type": "code",
   "execution_count": 49,
   "id": "8ecef0a4-6127-429f-bb59-9eb16edcf254",
   "metadata": {},
   "outputs": [],
   "source": [
    "fn_jul = 'https://assets.datacamp.com/production/repositories/5486/datasets/c5f0febb15eaab10a309f3008c9a104f498e3deb/inv_jul.p'\n",
    "fn_aug = 'https://assets.datacamp.com/production/repositories/5486/datasets/7baa17322b193f642dbf73c00d88ba5515e04d7b/inv_aug.p'\n",
    "fn_sep = 'https://assets.datacamp.com/production/repositories/5486/datasets/8cc260281aaca7fcf55134048d5ba3b38b959d20/inv_sep.p'"
   ]
  },
  {
   "cell_type": "code",
   "execution_count": 50,
   "id": "9a6925e4-9d1e-4ed5-93c4-c69563947e3a",
   "metadata": {},
   "outputs": [],
   "source": [
    "inv_jul = load(urllib.request.urlopen(fn_jul))\n",
    "inv_aug = load(urllib.request.urlopen(fn_aug))\n",
    "inv_sep = load(urllib.request.urlopen(fn_sep))"
   ]
  },
  {
   "cell_type": "code",
   "execution_count": 51,
   "id": "da5a5ece-4f5a-444d-864f-21243e5e7a3e",
   "metadata": {},
   "outputs": [
    {
     "data": {
      "text/html": [
       "<div>\n",
       "<style scoped>\n",
       "    .dataframe tbody tr th:only-of-type {\n",
       "        vertical-align: middle;\n",
       "    }\n",
       "\n",
       "    .dataframe tbody tr th {\n",
       "        vertical-align: top;\n",
       "    }\n",
       "\n",
       "    .dataframe thead th {\n",
       "        text-align: right;\n",
       "    }\n",
       "</style>\n",
       "<table border=\"1\" class=\"dataframe\">\n",
       "  <thead>\n",
       "    <tr style=\"text-align: right;\">\n",
       "      <th></th>\n",
       "      <th>iid</th>\n",
       "      <th>cid</th>\n",
       "      <th>invoice_date</th>\n",
       "      <th>total</th>\n",
       "      <th>bill_ctry</th>\n",
       "    </tr>\n",
       "  </thead>\n",
       "  <tbody>\n",
       "    <tr>\n",
       "      <th>0</th>\n",
       "      <td>42</td>\n",
       "      <td>51</td>\n",
       "      <td>2009-07-06</td>\n",
       "      <td>1.98</td>\n",
       "      <td>Sweden</td>\n",
       "    </tr>\n",
       "  </tbody>\n",
       "</table>\n",
       "</div>"
      ],
      "text/plain": [
       "   iid  cid invoice_date  total bill_ctry\n",
       "0   42   51   2009-07-06   1.98    Sweden"
      ]
     },
     "execution_count": 51,
     "metadata": {},
     "output_type": "execute_result"
    }
   ],
   "source": [
    "inv_jul.head(1)"
   ]
  },
  {
   "cell_type": "code",
   "execution_count": 54,
   "id": "d049f238-690c-4286-be0f-fbe4a8da988d",
   "metadata": {},
   "outputs": [
    {
     "data": {
      "text/html": [
       "<div>\n",
       "<style scoped>\n",
       "    .dataframe tbody tr th:only-of-type {\n",
       "        vertical-align: middle;\n",
       "    }\n",
       "\n",
       "    .dataframe tbody tr th {\n",
       "        vertical-align: top;\n",
       "    }\n",
       "\n",
       "    .dataframe thead th {\n",
       "        text-align: right;\n",
       "    }\n",
       "</style>\n",
       "<table border=\"1\" class=\"dataframe\">\n",
       "  <thead>\n",
       "    <tr style=\"text-align: right;\">\n",
       "      <th></th>\n",
       "      <th>iid</th>\n",
       "      <th>cid</th>\n",
       "      <th>invoice_date</th>\n",
       "      <th>total</th>\n",
       "      <th>bill_ctry</th>\n",
       "    </tr>\n",
       "  </thead>\n",
       "  <tbody>\n",
       "    <tr>\n",
       "      <th>0</th>\n",
       "      <td>49</td>\n",
       "      <td>30</td>\n",
       "      <td>2009-08-06</td>\n",
       "      <td>1.98</td>\n",
       "      <td>Canada</td>\n",
       "    </tr>\n",
       "  </tbody>\n",
       "</table>\n",
       "</div>"
      ],
      "text/plain": [
       "   iid  cid invoice_date  total bill_ctry\n",
       "0   49   30   2009-08-06   1.98    Canada"
      ]
     },
     "execution_count": 54,
     "metadata": {},
     "output_type": "execute_result"
    }
   ],
   "source": [
    "inv_aug.head(1)"
   ]
  },
  {
   "cell_type": "code",
   "execution_count": 55,
   "id": "f435bd25-dc3c-41c8-8784-414bec27fc69",
   "metadata": {},
   "outputs": [
    {
     "data": {
      "text/html": [
       "<div>\n",
       "<style scoped>\n",
       "    .dataframe tbody tr th:only-of-type {\n",
       "        vertical-align: middle;\n",
       "    }\n",
       "\n",
       "    .dataframe tbody tr th {\n",
       "        vertical-align: top;\n",
       "    }\n",
       "\n",
       "    .dataframe thead th {\n",
       "        text-align: right;\n",
       "    }\n",
       "</style>\n",
       "<table border=\"1\" class=\"dataframe\">\n",
       "  <thead>\n",
       "    <tr style=\"text-align: right;\">\n",
       "      <th></th>\n",
       "      <th>iid</th>\n",
       "      <th>cid</th>\n",
       "      <th>invoice_date</th>\n",
       "      <th>total</th>\n",
       "      <th>bill_ctry</th>\n",
       "    </tr>\n",
       "  </thead>\n",
       "  <tbody>\n",
       "    <tr>\n",
       "      <th>0</th>\n",
       "      <td>56</td>\n",
       "      <td>9</td>\n",
       "      <td>2009-09-06</td>\n",
       "      <td>1.98</td>\n",
       "      <td>Denmark</td>\n",
       "    </tr>\n",
       "  </tbody>\n",
       "</table>\n",
       "</div>"
      ],
      "text/plain": [
       "   iid  cid invoice_date  total bill_ctry\n",
       "0   56    9   2009-09-06   1.98   Denmark"
      ]
     },
     "execution_count": 55,
     "metadata": {},
     "output_type": "execute_result"
    }
   ],
   "source": [
    "inv_sep.head(1)"
   ]
  },
  {
   "cell_type": "code",
   "execution_count": 56,
   "id": "0d6652f1-41b3-4d5f-86b0-2f388c6ddc18",
   "metadata": {},
   "outputs": [],
   "source": [
    "avg_inv_by_month = pd.concat([inv_jul, inv_aug, inv_sep], keys=[\"7Jul\", \"8Aug\", \"9Sep\"])"
   ]
  },
  {
   "cell_type": "code",
   "execution_count": 58,
   "id": "edecd056-e9b8-4dc1-ad12-38d620e16996",
   "metadata": {},
   "outputs": [],
   "source": [
    "avg_inv_by_month = avg_inv_by_month.groupby(level=0).agg({\"total\":\"mean\"})"
   ]
  },
  {
   "cell_type": "code",
   "execution_count": 59,
   "id": "8636187f-4a12-4189-a978-9e1a8b502284",
   "metadata": {},
   "outputs": [
    {
     "data": {
      "text/plain": [
       "<Axes: >"
      ]
     },
     "execution_count": 59,
     "metadata": {},
     "output_type": "execute_result"
    },
    {
     "data": {
      "image/png": "[encoded data removed]",
      "text/plain": [
       "<Figure size 640x480 with 1 Axes>"
      ]
     },
     "metadata": {},
     "output_type": "display_data"
    }
   ],
   "source": [
    "avg_inv_by_month.plot(kind=\"bar\")"
   ]
  },
  {
   "cell_type": "code",
   "execution_count": null,
   "id": "fd9590ca-2e0c-4303-814c-eb3656a3e8cd",
   "metadata": {},
   "outputs": [],
   "source": []
  }
 ],
 "metadata": {
  "kernelspec": {
   "display_name": "Python 3 (ipykernel)",
   "language": "python",
   "name": "python3"
  },
  "language_info": {
   "codemirror_mode": {
    "name": "ipython",
    "version": 3
   },
   "file_extension": ".py",
   "mimetype": "text/x-python",
   "name": "python",
   "nbconvert_exporter": "python",
   "pygments_lexer": "ipython3",
   "version": "3.11.7"
  }
 },
 "nbformat": 4,
 "nbformat_minor": 5
}
