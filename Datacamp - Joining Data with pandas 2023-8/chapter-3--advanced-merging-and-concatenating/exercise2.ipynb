{
 "cells": [
  {
   "cell_type": "markdown",
   "id": "8b167ee9-6686-49f6-80d4-7c234a889a69",
   "metadata": {},
   "source": [
    "\n",
    "#  Performing a semi join\n",
    "\n",
    "##  Assignment \n",
    "\n",
    "Some of the tracks that have generated the most significant amount of revenue are from TV-shows or are other non-musical audio. You have been given a table of invoices that include top revenue-generating items. Additionally, you have a table of non-musical tracks from the streaming service. In this exercise, you'll use a semi join to find the top revenue-generating non-musical tracks..\n",
    "\n",
    "The tables `non_mus_tcks`, `top_invoices`, and `genres` have been loaded for you.\n",
    "\n",
    "##  Pre exercise code \n",
    "\n",
    "```\n",
    "from pickle import load\n",
    "import urllib.request\n",
    "import pandas as pd\n",
    "\n",
    "fn_gen = 'https://assets.datacamp.com/production/repositories/5486/datasets/9640e90a0bc94f8937c99622fda9749450755dfa/genres.p'\n",
    "fn_non = 'https://assets.datacamp.com/production/repositories/5486/datasets/5c83e75cffe052226b6ffd6b094ca072d232f8e1/non_music_t.p'\n",
    "fn_inv = 'https://assets.datacamp.com/production/repositories/5486/datasets/8e1ef042cba059f5bda4eba8a3f1c92c321b7098/top_invoices.p'\n",
    "\n",
    "genres = load(urllib.request.urlopen(fn_gen))\n",
    "non_mus_tcks = load(urllib.request.urlopen(fn_non))\n",
    "top_invoices = load(urllib.request.urlopen(fn_inv))\n",
    "```\n",
    "\n",
    "\n",
    "\n",
    "##  Instructions \n",
    "\n",
    "- Merge `non_mus_tcks` and `top_invoices` on `tid` using an inner join. Save the result as `tracks_invoices`.\n",
    "- Use `.isin()` to subset the rows of `non_mus_tck` where `tid` is in the `tid` column of  `tracks_invoices`. Save the result as `top_tracks`.\n",
    "- Group `top_tracks` by `gid` and count the `tid` rows. Save the result to `cnt_by_gid`.\n",
    "- Merge `cnt_by_gid` with the `genres` table on `gid` and print the result."
   ]
  },
  {
   "cell_type": "code",
   "execution_count": 18,
   "id": "76841d87-4477-4ba3-83a1-23b51363e188",
   "metadata": {},
   "outputs": [],
   "source": [
    "from pickle import load\n",
    "import urllib.request\n",
    "import pandas as pd"
   ]
  },
  {
   "cell_type": "code",
   "execution_count": 19,
   "id": "e9c8adda-a6ff-44e5-a90d-4f278ddf7759",
   "metadata": {},
   "outputs": [],
   "source": [
    "fn_gen = 'https://assets.datacamp.com/production/repositories/5486/datasets/9640e90a0bc94f8937c99622fda9749450755dfa/genres.p'\n",
    "fn_non = 'https://assets.datacamp.com/production/repositories/5486/datasets/5c83e75cffe052226b6ffd6b094ca072d232f8e1/non_music_t.p'\n",
    "fn_inv = 'https://assets.datacamp.com/production/repositories/5486/datasets/8e1ef042cba059f5bda4eba8a3f1c92c321b7098/top_invoices.p'"
   ]
  },
  {
   "cell_type": "code",
   "execution_count": 22,
   "id": "ab5d53d1-3d2b-42c8-b25d-950fe0ce5f8a",
   "metadata": {},
   "outputs": [],
   "source": [
    "genres = load(urllib.request.urlopen(fn_gen))\n",
    "non_mus_tcks = pd.read_pickle(\"non_music_t.p\")\n",
    "top_invoices = pd.read_pickle(\"top_invoices.p\")"
   ]
  },
  {
   "cell_type": "code",
   "execution_count": 24,
   "id": "c0191ba0-8fe8-402f-a9bd-96aefbb4d8c0",
   "metadata": {},
   "outputs": [
    {
     "data": {
      "text/html": [
       "<div>\n",
       "<style scoped>\n",
       "    .dataframe tbody tr th:only-of-type {\n",
       "        vertical-align: middle;\n",
       "    }\n",
       "\n",
       "    .dataframe tbody tr th {\n",
       "        vertical-align: top;\n",
       "    }\n",
       "\n",
       "    .dataframe thead th {\n",
       "        text-align: right;\n",
       "    }\n",
       "</style>\n",
       "<table border=\"1\" class=\"dataframe\">\n",
       "  <thead>\n",
       "    <tr style=\"text-align: right;\">\n",
       "      <th></th>\n",
       "      <th>gid</th>\n",
       "      <th>name</th>\n",
       "    </tr>\n",
       "  </thead>\n",
       "  <tbody>\n",
       "    <tr>\n",
       "      <th>0</th>\n",
       "      <td>1</td>\n",
       "      <td>Rock</td>\n",
       "    </tr>\n",
       "  </tbody>\n",
       "</table>\n",
       "</div>"
      ],
      "text/plain": [
       "   gid  name\n",
       "0    1  Rock"
      ]
     },
     "execution_count": 24,
     "metadata": {},
     "output_type": "execute_result"
    }
   ],
   "source": [
    "genres.head(1)"
   ]
  },
  {
   "cell_type": "code",
   "execution_count": 25,
   "id": "d0439702-5fd8-4538-837c-7a6b90c55b95",
   "metadata": {},
   "outputs": [
    {
     "data": {
      "text/html": [
       "<div>\n",
       "<style scoped>\n",
       "    .dataframe tbody tr th:only-of-type {\n",
       "        vertical-align: middle;\n",
       "    }\n",
       "\n",
       "    .dataframe tbody tr th {\n",
       "        vertical-align: top;\n",
       "    }\n",
       "\n",
       "    .dataframe thead th {\n",
       "        text-align: right;\n",
       "    }\n",
       "</style>\n",
       "<table border=\"1\" class=\"dataframe\">\n",
       "  <thead>\n",
       "    <tr style=\"text-align: right;\">\n",
       "      <th></th>\n",
       "      <th>tid</th>\n",
       "      <th>name</th>\n",
       "      <th>aid</th>\n",
       "      <th>mtid</th>\n",
       "      <th>gid</th>\n",
       "      <th>u_price</th>\n",
       "    </tr>\n",
       "  </thead>\n",
       "  <tbody>\n",
       "    <tr>\n",
       "      <th>2819</th>\n",
       "      <td>2820</td>\n",
       "      <td>Occupation / Precipice</td>\n",
       "      <td>227</td>\n",
       "      <td>3</td>\n",
       "      <td>19</td>\n",
       "      <td>1.99</td>\n",
       "    </tr>\n",
       "  </tbody>\n",
       "</table>\n",
       "</div>"
      ],
      "text/plain": [
       "       tid                    name  aid  mtid  gid  u_price\n",
       "2819  2820  Occupation / Precipice  227     3   19     1.99"
      ]
     },
     "execution_count": 25,
     "metadata": {},
     "output_type": "execute_result"
    }
   ],
   "source": [
    "non_mus_tcks.head(1)"
   ]
  },
  {
   "cell_type": "code",
   "execution_count": 26,
   "id": "d4eb40dd-f1c8-463b-9e76-9d7aaf9d2c42",
   "metadata": {},
   "outputs": [
    {
     "data": {
      "text/html": [
       "<div>\n",
       "<style scoped>\n",
       "    .dataframe tbody tr th:only-of-type {\n",
       "        vertical-align: middle;\n",
       "    }\n",
       "\n",
       "    .dataframe tbody tr th {\n",
       "        vertical-align: top;\n",
       "    }\n",
       "\n",
       "    .dataframe thead th {\n",
       "        text-align: right;\n",
       "    }\n",
       "</style>\n",
       "<table border=\"1\" class=\"dataframe\">\n",
       "  <thead>\n",
       "    <tr style=\"text-align: right;\">\n",
       "      <th></th>\n",
       "      <th>ilid</th>\n",
       "      <th>iid</th>\n",
       "      <th>tid</th>\n",
       "      <th>uprice</th>\n",
       "      <th>quantity</th>\n",
       "    </tr>\n",
       "  </thead>\n",
       "  <tbody>\n",
       "    <tr>\n",
       "      <th>469</th>\n",
       "      <td>470</td>\n",
       "      <td>88</td>\n",
       "      <td>2832</td>\n",
       "      <td>1.99</td>\n",
       "      <td>1</td>\n",
       "    </tr>\n",
       "  </tbody>\n",
       "</table>\n",
       "</div>"
      ],
      "text/plain": [
       "     ilid  iid   tid  uprice  quantity\n",
       "469   470   88  2832    1.99         1"
      ]
     },
     "execution_count": 26,
     "metadata": {},
     "output_type": "execute_result"
    }
   ],
   "source": [
    "top_invoices.head(1)"
   ]
  },
  {
   "cell_type": "code",
   "execution_count": 23,
   "id": "fbbb3cd7-0910-4079-abc8-447cc556ec53",
   "metadata": {},
   "outputs": [],
   "source": [
    "tracks_invoices = non_mus_tcks.merge(top_invoices, on=\"tid\")"
   ]
  },
  {
   "cell_type": "code",
   "execution_count": 27,
   "id": "66ca3173-27b6-4761-b3fe-28d71949f94c",
   "metadata": {},
   "outputs": [
    {
     "data": {
      "text/html": [
       "<div>\n",
       "<style scoped>\n",
       "    .dataframe tbody tr th:only-of-type {\n",
       "        vertical-align: middle;\n",
       "    }\n",
       "\n",
       "    .dataframe tbody tr th {\n",
       "        vertical-align: top;\n",
       "    }\n",
       "\n",
       "    .dataframe thead th {\n",
       "        text-align: right;\n",
       "    }\n",
       "</style>\n",
       "<table border=\"1\" class=\"dataframe\">\n",
       "  <thead>\n",
       "    <tr style=\"text-align: right;\">\n",
       "      <th></th>\n",
       "      <th>tid</th>\n",
       "      <th>name</th>\n",
       "      <th>aid</th>\n",
       "      <th>mtid</th>\n",
       "      <th>gid</th>\n",
       "      <th>u_price</th>\n",
       "      <th>ilid</th>\n",
       "      <th>iid</th>\n",
       "      <th>uprice</th>\n",
       "      <th>quantity</th>\n",
       "    </tr>\n",
       "  </thead>\n",
       "  <tbody>\n",
       "    <tr>\n",
       "      <th>0</th>\n",
       "      <td>2850</td>\n",
       "      <td>The Fix</td>\n",
       "      <td>228</td>\n",
       "      <td>3</td>\n",
       "      <td>21</td>\n",
       "      <td>1.99</td>\n",
       "      <td>473</td>\n",
       "      <td>88</td>\n",
       "      <td>1.99</td>\n",
       "      <td>1</td>\n",
       "    </tr>\n",
       "    <tr>\n",
       "      <th>1</th>\n",
       "      <td>2850</td>\n",
       "      <td>The Fix</td>\n",
       "      <td>228</td>\n",
       "      <td>3</td>\n",
       "      <td>21</td>\n",
       "      <td>1.99</td>\n",
       "      <td>2192</td>\n",
       "      <td>404</td>\n",
       "      <td>1.99</td>\n",
       "      <td>1</td>\n",
       "    </tr>\n",
       "    <tr>\n",
       "      <th>2</th>\n",
       "      <td>2868</td>\n",
       "      <td>Walkabout</td>\n",
       "      <td>230</td>\n",
       "      <td>3</td>\n",
       "      <td>19</td>\n",
       "      <td>1.99</td>\n",
       "      <td>476</td>\n",
       "      <td>88</td>\n",
       "      <td>1.99</td>\n",
       "      <td>1</td>\n",
       "    </tr>\n",
       "    <tr>\n",
       "      <th>3</th>\n",
       "      <td>2868</td>\n",
       "      <td>Walkabout</td>\n",
       "      <td>230</td>\n",
       "      <td>3</td>\n",
       "      <td>19</td>\n",
       "      <td>1.99</td>\n",
       "      <td>2194</td>\n",
       "      <td>404</td>\n",
       "      <td>1.99</td>\n",
       "      <td>1</td>\n",
       "    </tr>\n",
       "    <tr>\n",
       "      <th>4</th>\n",
       "      <td>3177</td>\n",
       "      <td>Hot Girl</td>\n",
       "      <td>249</td>\n",
       "      <td>3</td>\n",
       "      <td>19</td>\n",
       "      <td>1.99</td>\n",
       "      <td>1668</td>\n",
       "      <td>306</td>\n",
       "      <td>1.99</td>\n",
       "      <td>1</td>\n",
       "    </tr>\n",
       "  </tbody>\n",
       "</table>\n",
       "</div>"
      ],
      "text/plain": [
       "    tid       name  aid  mtid  gid  u_price  ilid  iid  uprice  quantity\n",
       "0  2850    The Fix  228     3   21     1.99   473   88    1.99         1\n",
       "1  2850    The Fix  228     3   21     1.99  2192  404    1.99         1\n",
       "2  2868  Walkabout  230     3   19     1.99   476   88    1.99         1\n",
       "3  2868  Walkabout  230     3   19     1.99  2194  404    1.99         1\n",
       "4  3177   Hot Girl  249     3   19     1.99  1668  306    1.99         1"
      ]
     },
     "execution_count": 27,
     "metadata": {},
     "output_type": "execute_result"
    }
   ],
   "source": [
    "tracks_invoices.head()"
   ]
  },
  {
   "cell_type": "code",
   "execution_count": 29,
   "id": "716970ab-1e55-4c99-9b94-b95e042946da",
   "metadata": {},
   "outputs": [],
   "source": [
    "top_tracks = non_mus_tcks[non_mus_tcks[\"tid\"].isin(tracks_invoices[\"tid\"])]"
   ]
  },
  {
   "cell_type": "code",
   "execution_count": 30,
   "id": "1e2a11d6-1a2f-43ee-9737-88824a428b54",
   "metadata": {},
   "outputs": [
    {
     "data": {
      "text/html": [
       "<div>\n",
       "<style scoped>\n",
       "    .dataframe tbody tr th:only-of-type {\n",
       "        vertical-align: middle;\n",
       "    }\n",
       "\n",
       "    .dataframe tbody tr th {\n",
       "        vertical-align: top;\n",
       "    }\n",
       "\n",
       "    .dataframe thead th {\n",
       "        text-align: right;\n",
       "    }\n",
       "</style>\n",
       "<table border=\"1\" class=\"dataframe\">\n",
       "  <thead>\n",
       "    <tr style=\"text-align: right;\">\n",
       "      <th></th>\n",
       "      <th>tid</th>\n",
       "      <th>name</th>\n",
       "      <th>aid</th>\n",
       "      <th>mtid</th>\n",
       "      <th>gid</th>\n",
       "      <th>u_price</th>\n",
       "    </tr>\n",
       "  </thead>\n",
       "  <tbody>\n",
       "    <tr>\n",
       "      <th>2849</th>\n",
       "      <td>2850</td>\n",
       "      <td>The Fix</td>\n",
       "      <td>228</td>\n",
       "      <td>3</td>\n",
       "      <td>21</td>\n",
       "      <td>1.99</td>\n",
       "    </tr>\n",
       "    <tr>\n",
       "      <th>2867</th>\n",
       "      <td>2868</td>\n",
       "      <td>Walkabout</td>\n",
       "      <td>230</td>\n",
       "      <td>3</td>\n",
       "      <td>19</td>\n",
       "      <td>1.99</td>\n",
       "    </tr>\n",
       "    <tr>\n",
       "      <th>3176</th>\n",
       "      <td>3177</td>\n",
       "      <td>Hot Girl</td>\n",
       "      <td>249</td>\n",
       "      <td>3</td>\n",
       "      <td>19</td>\n",
       "      <td>1.99</td>\n",
       "    </tr>\n",
       "    <tr>\n",
       "      <th>3199</th>\n",
       "      <td>3200</td>\n",
       "      <td>Gay Witch Hunt</td>\n",
       "      <td>251</td>\n",
       "      <td>3</td>\n",
       "      <td>19</td>\n",
       "      <td>1.99</td>\n",
       "    </tr>\n",
       "    <tr>\n",
       "      <th>3213</th>\n",
       "      <td>3214</td>\n",
       "      <td>Phyllis's Wedding</td>\n",
       "      <td>251</td>\n",
       "      <td>3</td>\n",
       "      <td>22</td>\n",
       "      <td>1.99</td>\n",
       "    </tr>\n",
       "    <tr>\n",
       "      <th>3222</th>\n",
       "      <td>3223</td>\n",
       "      <td>How to Stop an Exploding Man</td>\n",
       "      <td>228</td>\n",
       "      <td>3</td>\n",
       "      <td>21</td>\n",
       "      <td>1.99</td>\n",
       "    </tr>\n",
       "    <tr>\n",
       "      <th>3249</th>\n",
       "      <td>3250</td>\n",
       "      <td>Pilot</td>\n",
       "      <td>254</td>\n",
       "      <td>3</td>\n",
       "      <td>19</td>\n",
       "      <td>1.99</td>\n",
       "    </tr>\n",
       "  </tbody>\n",
       "</table>\n",
       "</div>"
      ],
      "text/plain": [
       "       tid                          name  aid  mtid  gid  u_price\n",
       "2849  2850                       The Fix  228     3   21     1.99\n",
       "2867  2868                     Walkabout  230     3   19     1.99\n",
       "3176  3177                      Hot Girl  249     3   19     1.99\n",
       "3199  3200                Gay Witch Hunt  251     3   19     1.99\n",
       "3213  3214             Phyllis's Wedding  251     3   22     1.99\n",
       "3222  3223  How to Stop an Exploding Man  228     3   21     1.99\n",
       "3249  3250                         Pilot  254     3   19     1.99"
      ]
     },
     "execution_count": 30,
     "metadata": {},
     "output_type": "execute_result"
    }
   ],
   "source": [
    "top_tracks"
   ]
  },
  {
   "cell_type": "code",
   "execution_count": 31,
   "id": "7790eca8-1dce-4e6c-9e3c-e40082b5814c",
   "metadata": {},
   "outputs": [],
   "source": [
    "cnt_by_gid = top_tracks.groupby(\"gid\").agg({\"tid\":\"count\"})"
   ]
  },
  {
   "cell_type": "code",
   "execution_count": 32,
   "id": "87b5b044-5d8d-4092-b6af-90c7a2fb71ba",
   "metadata": {},
   "outputs": [
    {
     "data": {
      "text/html": [
       "<div>\n",
       "<style scoped>\n",
       "    .dataframe tbody tr th:only-of-type {\n",
       "        vertical-align: middle;\n",
       "    }\n",
       "\n",
       "    .dataframe tbody tr th {\n",
       "        vertical-align: top;\n",
       "    }\n",
       "\n",
       "    .dataframe thead th {\n",
       "        text-align: right;\n",
       "    }\n",
       "</style>\n",
       "<table border=\"1\" class=\"dataframe\">\n",
       "  <thead>\n",
       "    <tr style=\"text-align: right;\">\n",
       "      <th></th>\n",
       "      <th>tid</th>\n",
       "    </tr>\n",
       "    <tr>\n",
       "      <th>gid</th>\n",
       "      <th></th>\n",
       "    </tr>\n",
       "  </thead>\n",
       "  <tbody>\n",
       "    <tr>\n",
       "      <th>19</th>\n",
       "      <td>4</td>\n",
       "    </tr>\n",
       "    <tr>\n",
       "      <th>21</th>\n",
       "      <td>2</td>\n",
       "    </tr>\n",
       "    <tr>\n",
       "      <th>22</th>\n",
       "      <td>1</td>\n",
       "    </tr>\n",
       "  </tbody>\n",
       "</table>\n",
       "</div>"
      ],
      "text/plain": [
       "     tid\n",
       "gid     \n",
       "19     4\n",
       "21     2\n",
       "22     1"
      ]
     },
     "execution_count": 32,
     "metadata": {},
     "output_type": "execute_result"
    }
   ],
   "source": [
    "cnt_by_gid"
   ]
  },
  {
   "cell_type": "code",
   "execution_count": 33,
   "id": "edf544db-485b-4b28-ac56-48800214a2bc",
   "metadata": {},
   "outputs": [
    {
     "data": {
      "text/html": [
       "<div>\n",
       "<style scoped>\n",
       "    .dataframe tbody tr th:only-of-type {\n",
       "        vertical-align: middle;\n",
       "    }\n",
       "\n",
       "    .dataframe tbody tr th {\n",
       "        vertical-align: top;\n",
       "    }\n",
       "\n",
       "    .dataframe thead th {\n",
       "        text-align: right;\n",
       "    }\n",
       "</style>\n",
       "<table border=\"1\" class=\"dataframe\">\n",
       "  <thead>\n",
       "    <tr style=\"text-align: right;\">\n",
       "      <th></th>\n",
       "      <th>gid</th>\n",
       "      <th>tid</th>\n",
       "      <th>name</th>\n",
       "    </tr>\n",
       "  </thead>\n",
       "  <tbody>\n",
       "    <tr>\n",
       "      <th>0</th>\n",
       "      <td>19</td>\n",
       "      <td>4</td>\n",
       "      <td>TV Shows</td>\n",
       "    </tr>\n",
       "    <tr>\n",
       "      <th>1</th>\n",
       "      <td>21</td>\n",
       "      <td>2</td>\n",
       "      <td>Drama</td>\n",
       "    </tr>\n",
       "    <tr>\n",
       "      <th>2</th>\n",
       "      <td>22</td>\n",
       "      <td>1</td>\n",
       "      <td>Comedy</td>\n",
       "    </tr>\n",
       "  </tbody>\n",
       "</table>\n",
       "</div>"
      ],
      "text/plain": [
       "   gid  tid      name\n",
       "0   19    4  TV Shows\n",
       "1   21    2     Drama\n",
       "2   22    1    Comedy"
      ]
     },
     "execution_count": 33,
     "metadata": {},
     "output_type": "execute_result"
    }
   ],
   "source": [
    "cnt_by_gid.merge(genres, on=\"gid\")"
   ]
  },
  {
   "cell_type": "code",
   "execution_count": null,
   "id": "14d1a0f8-89d8-454e-ad76-4cef8c235efa",
   "metadata": {},
   "outputs": [],
   "source": []
  }
 ],
 "metadata": {
  "kernelspec": {
   "display_name": "Python 3 (ipykernel)",
   "language": "python",
   "name": "python3"
  },
  "language_info": {
   "codemirror_mode": {
    "name": "ipython",
    "version": 3
   },
   "file_extension": ".py",
   "mimetype": "text/x-python",
   "name": "python",
   "nbconvert_exporter": "python",
   "pygments_lexer": "ipython3",
   "version": "3.11.7"
  }
 },
 "nbformat": 4,
 "nbformat_minor": 5
}
