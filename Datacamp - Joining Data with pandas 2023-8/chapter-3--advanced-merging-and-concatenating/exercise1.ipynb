{
 "cells": [
  {
   "cell_type": "markdown",
   "id": "2e5ab624-4f50-4cf5-b6ea-207ea9927dfa",
   "metadata": {},
   "source": [
    "#  Performing an anti join\n",
    "\n",
    "```\n",
    "Exercise ID 1133460\n",
    "```\n",
    "\n",
    "##  Assignment \n",
    "\n",
    "In our music streaming company dataset, each customer is assigned an employee representative to assist them. In this exercise, filter the employee table by a table of top customers, returning only those employees who are **not** assigned to a customer. The results should resemble the results of an anti join. The company's leadership will assign these employees additional training so that they can work with high valued customers.\n",
    "\n",
    "The `top_cust` and `employees` tables have been provided for you.\n",
    "\n",
    "##  Pre exercise code \n",
    "\n",
    "```\n",
    "from pickle import load\n",
    "import urllib.request\n",
    "import pandas as pd\n",
    "\n",
    "fn_tcust = 'https://assets.datacamp.com/production/repositories/5486/datasets/b8a38619714ef17f99ac1cad7bb8ee95497d21dc/top_cust.p'\n",
    "fn_emp = 'https://assets.datacamp.com/production/repositories/5486/datasets/be325ed5e26abedbf5a65d454176d03a16a388d7/employees.p'\n",
    "\n",
    "top_cust = load(urllib.request.urlopen(fn_tcust))\n",
    "employees = load(urllib.request.urlopen(fn_emp))\n",
    "```\n"
   ]
  },
  {
   "cell_type": "code",
   "execution_count": 1,
   "id": "6bc0aba9-1caf-4145-bf43-e3ab1a217285",
   "metadata": {},
   "outputs": [],
   "source": [
    "from pickle import load\n",
    "import urllib.request\n",
    "import pandas as pd"
   ]
  },
  {
   "cell_type": "code",
   "execution_count": 5,
   "id": "5d5d2dac-bc67-430c-a7c3-b621da763753",
   "metadata": {},
   "outputs": [],
   "source": [
    "top_cust = pd.read_pickle(\"top_cust.p\")\n",
    "employees = pd.read_pickle(\"employees.p\")"
   ]
  },
  {
   "cell_type": "code",
   "execution_count": 6,
   "id": "531d005b-bb23-4340-aa29-8456cc164ec0",
   "metadata": {},
   "outputs": [
    {
     "data": {
      "text/html": [
       "<div>\n",
       "<style scoped>\n",
       "    .dataframe tbody tr th:only-of-type {\n",
       "        vertical-align: middle;\n",
       "    }\n",
       "\n",
       "    .dataframe tbody tr th {\n",
       "        vertical-align: top;\n",
       "    }\n",
       "\n",
       "    .dataframe thead th {\n",
       "        text-align: right;\n",
       "    }\n",
       "</style>\n",
       "<table border=\"1\" class=\"dataframe\">\n",
       "  <thead>\n",
       "    <tr style=\"text-align: right;\">\n",
       "      <th></th>\n",
       "      <th>cid</th>\n",
       "      <th>srid</th>\n",
       "      <th>fname</th>\n",
       "      <th>lname</th>\n",
       "      <th>phone</th>\n",
       "      <th>fax</th>\n",
       "      <th>email</th>\n",
       "    </tr>\n",
       "  </thead>\n",
       "  <tbody>\n",
       "    <tr>\n",
       "      <th>0</th>\n",
       "      <td>1</td>\n",
       "      <td>3</td>\n",
       "      <td>Luís</td>\n",
       "      <td>Gonçalves</td>\n",
       "      <td>+55 (12) 3923-5555</td>\n",
       "      <td>+55 (12) 3923-5566</td>\n",
       "      <td>luisg@embraer.com.br</td>\n",
       "    </tr>\n",
       "  </tbody>\n",
       "</table>\n",
       "</div>"
      ],
      "text/plain": [
       "   cid  srid fname      lname               phone                 fax  \\\n",
       "0    1     3  Luís  Gonçalves  +55 (12) 3923-5555  +55 (12) 3923-5566   \n",
       "\n",
       "                  email  \n",
       "0  luisg@embraer.com.br  "
      ]
     },
     "execution_count": 6,
     "metadata": {},
     "output_type": "execute_result"
    }
   ],
   "source": [
    "top_cust.head(1)"
   ]
  },
  {
   "cell_type": "code",
   "execution_count": 7,
   "id": "1cff095e-072a-410e-afd0-613551b22d49",
   "metadata": {},
   "outputs": [
    {
     "data": {
      "text/html": [
       "<div>\n",
       "<style scoped>\n",
       "    .dataframe tbody tr th:only-of-type {\n",
       "        vertical-align: middle;\n",
       "    }\n",
       "\n",
       "    .dataframe tbody tr th {\n",
       "        vertical-align: top;\n",
       "    }\n",
       "\n",
       "    .dataframe thead th {\n",
       "        text-align: right;\n",
       "    }\n",
       "</style>\n",
       "<table border=\"1\" class=\"dataframe\">\n",
       "  <thead>\n",
       "    <tr style=\"text-align: right;\">\n",
       "      <th></th>\n",
       "      <th>srid</th>\n",
       "      <th>lname</th>\n",
       "      <th>fname</th>\n",
       "      <th>title</th>\n",
       "      <th>hire_date</th>\n",
       "      <th>email</th>\n",
       "    </tr>\n",
       "  </thead>\n",
       "  <tbody>\n",
       "    <tr>\n",
       "      <th>0</th>\n",
       "      <td>1</td>\n",
       "      <td>Adams</td>\n",
       "      <td>Andrew</td>\n",
       "      <td>General Manager</td>\n",
       "      <td>2002-08-14</td>\n",
       "      <td>andrew@chinookcorp.com</td>\n",
       "    </tr>\n",
       "  </tbody>\n",
       "</table>\n",
       "</div>"
      ],
      "text/plain": [
       "   srid  lname   fname            title  hire_date                   email\n",
       "0     1  Adams  Andrew  General Manager 2002-08-14  andrew@chinookcorp.com"
      ]
     },
     "execution_count": 7,
     "metadata": {},
     "output_type": "execute_result"
    }
   ],
   "source": [
    "employees.head(1)"
   ]
  },
  {
   "cell_type": "markdown",
   "id": "46496ff6-70b9-4648-a660-eac3dc456734",
   "metadata": {},
   "source": [
    "##  Instructions \n",
    "\n",
    "- Merge `employees` and `top_cust` with a left join, setting `indicator` argument to `True`. Save the result to `empl_cust`.\n"
   ]
  },
  {
   "cell_type": "code",
   "execution_count": 13,
   "id": "421b70f9-111b-41bc-87cb-38bf61365389",
   "metadata": {},
   "outputs": [],
   "source": [
    "empl_cust = employees.merge(top_cust, on=\"srid\", how=\"left\", indicator=True, suffixes=[\"_emp\", \"_cust\"])"
   ]
  },
  {
   "cell_type": "code",
   "execution_count": 14,
   "id": "ff3c76a2-02a5-4db4-bfec-434a9320382e",
   "metadata": {},
   "outputs": [
    {
     "data": {
      "text/html": [
       "<div>\n",
       "<style scoped>\n",
       "    .dataframe tbody tr th:only-of-type {\n",
       "        vertical-align: middle;\n",
       "    }\n",
       "\n",
       "    .dataframe tbody tr th {\n",
       "        vertical-align: top;\n",
       "    }\n",
       "\n",
       "    .dataframe thead th {\n",
       "        text-align: right;\n",
       "    }\n",
       "</style>\n",
       "<table border=\"1\" class=\"dataframe\">\n",
       "  <thead>\n",
       "    <tr style=\"text-align: right;\">\n",
       "      <th></th>\n",
       "      <th>srid</th>\n",
       "      <th>lname_emp</th>\n",
       "      <th>fname_emp</th>\n",
       "      <th>title</th>\n",
       "      <th>hire_date</th>\n",
       "      <th>email_emp</th>\n",
       "      <th>cid</th>\n",
       "      <th>fname_cust</th>\n",
       "      <th>lname_cust</th>\n",
       "      <th>phone</th>\n",
       "      <th>fax</th>\n",
       "      <th>email_cust</th>\n",
       "      <th>_merge</th>\n",
       "    </tr>\n",
       "  </thead>\n",
       "  <tbody>\n",
       "    <tr>\n",
       "      <th>0</th>\n",
       "      <td>1</td>\n",
       "      <td>Adams</td>\n",
       "      <td>Andrew</td>\n",
       "      <td>General Manager</td>\n",
       "      <td>2002-08-14</td>\n",
       "      <td>andrew@chinookcorp.com</td>\n",
       "      <td>NaN</td>\n",
       "      <td>NaN</td>\n",
       "      <td>NaN</td>\n",
       "      <td>NaN</td>\n",
       "      <td>NaN</td>\n",
       "      <td>NaN</td>\n",
       "      <td>left_only</td>\n",
       "    </tr>\n",
       "    <tr>\n",
       "      <th>1</th>\n",
       "      <td>2</td>\n",
       "      <td>Edwards</td>\n",
       "      <td>Nancy</td>\n",
       "      <td>Sales Manager</td>\n",
       "      <td>2002-05-01</td>\n",
       "      <td>nancy@chinookcorp.com</td>\n",
       "      <td>NaN</td>\n",
       "      <td>NaN</td>\n",
       "      <td>NaN</td>\n",
       "      <td>NaN</td>\n",
       "      <td>NaN</td>\n",
       "      <td>NaN</td>\n",
       "      <td>left_only</td>\n",
       "    </tr>\n",
       "    <tr>\n",
       "      <th>2</th>\n",
       "      <td>3</td>\n",
       "      <td>Peacock</td>\n",
       "      <td>Jane</td>\n",
       "      <td>Sales Support Agent</td>\n",
       "      <td>2002-04-01</td>\n",
       "      <td>jane@chinookcorp.com</td>\n",
       "      <td>1.0</td>\n",
       "      <td>Luís</td>\n",
       "      <td>Gonçalves</td>\n",
       "      <td>+55 (12) 3923-5555</td>\n",
       "      <td>+55 (12) 3923-5566</td>\n",
       "      <td>luisg@embraer.com.br</td>\n",
       "      <td>both</td>\n",
       "    </tr>\n",
       "    <tr>\n",
       "      <th>3</th>\n",
       "      <td>3</td>\n",
       "      <td>Peacock</td>\n",
       "      <td>Jane</td>\n",
       "      <td>Sales Support Agent</td>\n",
       "      <td>2002-04-01</td>\n",
       "      <td>jane@chinookcorp.com</td>\n",
       "      <td>3.0</td>\n",
       "      <td>François</td>\n",
       "      <td>Tremblay</td>\n",
       "      <td>+1 (514) 721-4711</td>\n",
       "      <td>NaN</td>\n",
       "      <td>ftremblay@gmail.com</td>\n",
       "      <td>both</td>\n",
       "    </tr>\n",
       "    <tr>\n",
       "      <th>4</th>\n",
       "      <td>3</td>\n",
       "      <td>Peacock</td>\n",
       "      <td>Jane</td>\n",
       "      <td>Sales Support Agent</td>\n",
       "      <td>2002-04-01</td>\n",
       "      <td>jane@chinookcorp.com</td>\n",
       "      <td>12.0</td>\n",
       "      <td>Roberto</td>\n",
       "      <td>Almeida</td>\n",
       "      <td>+55 (21) 2271-7000</td>\n",
       "      <td>+55 (21) 2271-7070</td>\n",
       "      <td>roberto.almeida@riotur.gov.br</td>\n",
       "      <td>both</td>\n",
       "    </tr>\n",
       "  </tbody>\n",
       "</table>\n",
       "</div>"
      ],
      "text/plain": [
       "   srid lname_emp fname_emp                title  hire_date  \\\n",
       "0     1     Adams    Andrew      General Manager 2002-08-14   \n",
       "1     2   Edwards     Nancy        Sales Manager 2002-05-01   \n",
       "2     3   Peacock      Jane  Sales Support Agent 2002-04-01   \n",
       "3     3   Peacock      Jane  Sales Support Agent 2002-04-01   \n",
       "4     3   Peacock      Jane  Sales Support Agent 2002-04-01   \n",
       "\n",
       "                email_emp   cid fname_cust lname_cust               phone  \\\n",
       "0  andrew@chinookcorp.com   NaN        NaN        NaN                 NaN   \n",
       "1   nancy@chinookcorp.com   NaN        NaN        NaN                 NaN   \n",
       "2    jane@chinookcorp.com   1.0       Luís  Gonçalves  +55 (12) 3923-5555   \n",
       "3    jane@chinookcorp.com   3.0   François   Tremblay   +1 (514) 721-4711   \n",
       "4    jane@chinookcorp.com  12.0    Roberto    Almeida  +55 (21) 2271-7000   \n",
       "\n",
       "                  fax                     email_cust     _merge  \n",
       "0                 NaN                            NaN  left_only  \n",
       "1                 NaN                            NaN  left_only  \n",
       "2  +55 (12) 3923-5566           luisg@embraer.com.br       both  \n",
       "3                 NaN            ftremblay@gmail.com       both  \n",
       "4  +55 (21) 2271-7070  roberto.almeida@riotur.gov.br       both  "
      ]
     },
     "execution_count": 14,
     "metadata": {},
     "output_type": "execute_result"
    }
   ],
   "source": [
    "empl_cust.head()"
   ]
  },
  {
   "cell_type": "markdown",
   "id": "3c074531-7a4a-4620-b3ad-8f18d840016d",
   "metadata": {},
   "source": [
    "- Select the `srid` column of `empl_cust` and the rows where `_merge` is `'left_only'`. Save the result to `srid_list`."
   ]
  },
  {
   "cell_type": "code",
   "execution_count": 15,
   "id": "0ae0a585-f299-450b-b3c6-890676222755",
   "metadata": {},
   "outputs": [],
   "source": [
    "srid_list = empl_cust[empl_cust[\"_merge\"] == \"left_only\"][\"srid\"]"
   ]
  },
  {
   "cell_type": "code",
   "execution_count": 16,
   "id": "cd0b9a36-205b-44a7-8100-8300f8ec6477",
   "metadata": {},
   "outputs": [
    {
     "data": {
      "text/plain": [
       "0     1\n",
       "1     2\n",
       "61    6\n",
       "62    7\n",
       "63    8\n",
       "Name: srid, dtype: int64"
      ]
     },
     "execution_count": 16,
     "metadata": {},
     "output_type": "execute_result"
    }
   ],
   "source": [
    "srid_list.head()"
   ]
  },
  {
   "cell_type": "markdown",
   "id": "4755d5c2-48d8-45d7-882e-cbf35d2a096e",
   "metadata": {},
   "source": [
    "- Subset the `employees` table and select those rows where the `srid` is in the variable `srid_list` and print the results."
   ]
  },
  {
   "cell_type": "code",
   "execution_count": 17,
   "id": "c79f1de4-871f-46fe-a471-90f1b06652c3",
   "metadata": {},
   "outputs": [
    {
     "data": {
      "text/html": [
       "<div>\n",
       "<style scoped>\n",
       "    .dataframe tbody tr th:only-of-type {\n",
       "        vertical-align: middle;\n",
       "    }\n",
       "\n",
       "    .dataframe tbody tr th {\n",
       "        vertical-align: top;\n",
       "    }\n",
       "\n",
       "    .dataframe thead th {\n",
       "        text-align: right;\n",
       "    }\n",
       "</style>\n",
       "<table border=\"1\" class=\"dataframe\">\n",
       "  <thead>\n",
       "    <tr style=\"text-align: right;\">\n",
       "      <th></th>\n",
       "      <th>srid</th>\n",
       "      <th>lname</th>\n",
       "      <th>fname</th>\n",
       "      <th>title</th>\n",
       "      <th>hire_date</th>\n",
       "      <th>email</th>\n",
       "    </tr>\n",
       "  </thead>\n",
       "  <tbody>\n",
       "    <tr>\n",
       "      <th>0</th>\n",
       "      <td>1</td>\n",
       "      <td>Adams</td>\n",
       "      <td>Andrew</td>\n",
       "      <td>General Manager</td>\n",
       "      <td>2002-08-14</td>\n",
       "      <td>andrew@chinookcorp.com</td>\n",
       "    </tr>\n",
       "    <tr>\n",
       "      <th>1</th>\n",
       "      <td>2</td>\n",
       "      <td>Edwards</td>\n",
       "      <td>Nancy</td>\n",
       "      <td>Sales Manager</td>\n",
       "      <td>2002-05-01</td>\n",
       "      <td>nancy@chinookcorp.com</td>\n",
       "    </tr>\n",
       "    <tr>\n",
       "      <th>5</th>\n",
       "      <td>6</td>\n",
       "      <td>Mitchell</td>\n",
       "      <td>Michael</td>\n",
       "      <td>IT Manager</td>\n",
       "      <td>2003-10-17</td>\n",
       "      <td>michael@chinookcorp.com</td>\n",
       "    </tr>\n",
       "    <tr>\n",
       "      <th>6</th>\n",
       "      <td>7</td>\n",
       "      <td>King</td>\n",
       "      <td>Robert</td>\n",
       "      <td>IT Staff</td>\n",
       "      <td>2004-01-02</td>\n",
       "      <td>robert@chinookcorp.com</td>\n",
       "    </tr>\n",
       "    <tr>\n",
       "      <th>7</th>\n",
       "      <td>8</td>\n",
       "      <td>Callahan</td>\n",
       "      <td>Laura</td>\n",
       "      <td>IT Staff</td>\n",
       "      <td>2004-03-04</td>\n",
       "      <td>laura@chinookcorp.com</td>\n",
       "    </tr>\n",
       "  </tbody>\n",
       "</table>\n",
       "</div>"
      ],
      "text/plain": [
       "   srid     lname    fname            title  hire_date  \\\n",
       "0     1     Adams   Andrew  General Manager 2002-08-14   \n",
       "1     2   Edwards    Nancy    Sales Manager 2002-05-01   \n",
       "5     6  Mitchell  Michael       IT Manager 2003-10-17   \n",
       "6     7      King   Robert         IT Staff 2004-01-02   \n",
       "7     8  Callahan    Laura         IT Staff 2004-03-04   \n",
       "\n",
       "                     email  \n",
       "0   andrew@chinookcorp.com  \n",
       "1    nancy@chinookcorp.com  \n",
       "5  michael@chinookcorp.com  \n",
       "6   robert@chinookcorp.com  \n",
       "7    laura@chinookcorp.com  "
      ]
     },
     "execution_count": 17,
     "metadata": {},
     "output_type": "execute_result"
    }
   ],
   "source": [
    "employees[employees[\"srid\"].isin(srid_list)]"
   ]
  },
  {
   "cell_type": "code",
   "execution_count": null,
   "id": "99b3d987-36ba-4fc7-b784-17ec5caa434b",
   "metadata": {},
   "outputs": [],
   "source": []
  }
 ],
 "metadata": {
  "kernelspec": {
   "display_name": "Python 3 (ipykernel)",
   "language": "python",
   "name": "python3"
  },
  "language_info": {
   "codemirror_mode": {
    "name": "ipython",
    "version": 3
   },
   "file_extension": ".py",
   "mimetype": "text/x-python",
   "name": "python",
   "nbconvert_exporter": "python",
   "pygments_lexer": "ipython3",
   "version": "3.11.7"
  }
 },
 "nbformat": 4,
 "nbformat_minor": 5
}
