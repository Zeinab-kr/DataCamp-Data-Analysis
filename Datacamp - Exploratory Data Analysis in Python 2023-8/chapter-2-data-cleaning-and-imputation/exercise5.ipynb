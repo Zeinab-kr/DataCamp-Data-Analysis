{
 "cells": [
  {
   "cell_type": "markdown",
   "id": "889d98f2-9d77-42cd-8856-fed4c7548646",
   "metadata": {},
   "source": [
    "\n",
    "#  Flight duration categories\n",
    "\n",
    "##  Assignment \n",
    "\n",
    "As you saw, there are 362 unique values in the `\"Duration\"` column of `planes`. Calling `planes[\"Duration\"].head()`, we see the following values:\n",
    "\n",
    "```\n",
    "0        19h\n",
    "1     5h 25m\n",
    "2     4h 45m\n",
    "3     2h 25m\n",
    "4    15h 30m\n",
    "Name: Duration, dtype: object\n",
    "\n",
    "```\n",
    "\n",
    "Looks like this won't be simple to convert to numbers. However, you could categorize flights by duration and examine the frequency of different flight lengths! \n",
    "\n",
    "You'll create a `\"Duration_Category\"` column in the `planes` DataFrame. Before you can do this you'll need to create a list of the values you would like to insert into the DataFrame, followed by the existing values that these should be created from.\n",
    "\n",
    "##  Pre exercise code \n",
    "\n",
    "```\n",
    "import pandas as pd\n",
    "planes = pd.read_csv(\"https://assets.datacamp.com/production/repositories/6180/datasets/95900664a952fb60b2dd7ea0499ad3e0e20a62f0/planes_end_ex_2.4.csv\")\n",
    "```\n"
   ]
  },
  {
   "cell_type": "code",
   "execution_count": 51,
   "id": "214324d1-578b-4333-87c5-30aa534470b7",
   "metadata": {},
   "outputs": [],
   "source": [
    "import pandas as pd\n",
    "planes = pd.read_csv(\"planes_ex.csv\")"
   ]
  },
  {
   "cell_type": "markdown",
   "id": "6f83734d-8773-4539-8361-6031bb903fa3",
   "metadata": {},
   "source": [
    "##  Instructions \n",
    "\n",
    "- Create a list of categories containing `\"Short-haul\"`, `\"Medium\"`, and `\"Long-haul\"`.\n",
    "\n"
   ]
  },
  {
   "cell_type": "code",
   "execution_count": 52,
   "id": "9ac260e6-4bb2-4661-9867-2147e006fc6f",
   "metadata": {},
   "outputs": [],
   "source": [
    "duration_category = ['Short_haul', 'Medium', 'Long_haul']"
   ]
  },
  {
   "cell_type": "markdown",
   "id": "fb9e01ed-fece-45b0-a273-453b6fdceec1",
   "metadata": {},
   "source": [
    "- Create `short_flights`, a string to capture values of `\"0h\"`, `\"1h\"`, `\"2h\"`, `\"3h\"`, or `\"4h\"` taking care to avoid values such as `\"10h\"`.\n",
    "- Create `medium_flights` to capture any values between five and nine hours.\n",
    "- Create `long_flights` to capture any values from 10 hours to 16 hours inclusive.\n",
    "\n"
   ]
  },
  {
   "cell_type": "code",
   "execution_count": 53,
   "id": "5929ab61-41d1-4ac3-a591-5d72d2deaffe",
   "metadata": {},
   "outputs": [],
   "source": [
    "short_flights = \"^0h|^1h|^2h|^3h|^4h\"\n",
    "medium_flights = \"^5h|^6h|^7h|^8h|^9h\"\n",
    "long_flights = \"10h|11h|12h|13h|14h|15h|16h\""
   ]
  },
  {
   "cell_type": "code",
   "execution_count": 54,
   "id": "528e9de0-658e-4401-afc5-a3cde0f997d0",
   "metadata": {},
   "outputs": [],
   "source": [
    "conditions = [\n",
    "    (planes['Duration'].str.contains(short_flights)),\n",
    "    (planes['Duration'].str.contains(medium_flights)),\n",
    "    (planes['Duration'].str.contains(long_flights))\n",
    "]"
   ]
  },
  {
   "cell_type": "code",
   "execution_count": 56,
   "id": "ab165348-ec63-4581-9689-cb45cb06aa2a",
   "metadata": {},
   "outputs": [],
   "source": [
    "import numpy as np"
   ]
  },
  {
   "cell_type": "code",
   "execution_count": 60,
   "id": "45a7695c-7d21-4203-a5cc-962b08160f30",
   "metadata": {},
   "outputs": [],
   "source": [
    "planes['Duration Category'] = np.select(conditions, duration_category, default=\"Extreme duration\")"
   ]
  },
  {
   "cell_type": "code",
   "execution_count": 61,
   "id": "d7ceec55-ed28-4823-a80e-0068c993c07c",
   "metadata": {},
   "outputs": [
    {
     "data": {
      "text/html": [
       "<div>\n",
       "<style scoped>\n",
       "    .dataframe tbody tr th:only-of-type {\n",
       "        vertical-align: middle;\n",
       "    }\n",
       "\n",
       "    .dataframe tbody tr th {\n",
       "        vertical-align: top;\n",
       "    }\n",
       "\n",
       "    .dataframe thead th {\n",
       "        text-align: right;\n",
       "    }\n",
       "</style>\n",
       "<table border=\"1\" class=\"dataframe\">\n",
       "  <thead>\n",
       "    <tr style=\"text-align: right;\">\n",
       "      <th></th>\n",
       "      <th>Unnamed: 0</th>\n",
       "      <th>Airline</th>\n",
       "      <th>Date_of_Journey</th>\n",
       "      <th>Source</th>\n",
       "      <th>Destination</th>\n",
       "      <th>Route</th>\n",
       "      <th>Dep_Time</th>\n",
       "      <th>Duration</th>\n",
       "      <th>Total_Stops</th>\n",
       "      <th>Additional_Info</th>\n",
       "      <th>Price</th>\n",
       "      <th>Duration Category</th>\n",
       "    </tr>\n",
       "  </thead>\n",
       "  <tbody>\n",
       "    <tr>\n",
       "      <th>0</th>\n",
       "      <td>0</td>\n",
       "      <td>Jet Airways</td>\n",
       "      <td>9/06/2019</td>\n",
       "      <td>Delhi</td>\n",
       "      <td>Cochin</td>\n",
       "      <td>DEL → LKO → BOM → COK</td>\n",
       "      <td>09:25</td>\n",
       "      <td>19h</td>\n",
       "      <td>2 stops</td>\n",
       "      <td>No info</td>\n",
       "      <td>13882.0</td>\n",
       "      <td>Extreme duration</td>\n",
       "    </tr>\n",
       "    <tr>\n",
       "      <th>1</th>\n",
       "      <td>1</td>\n",
       "      <td>IndiGo</td>\n",
       "      <td>12/05/2019</td>\n",
       "      <td>Kolkata</td>\n",
       "      <td>Banglore</td>\n",
       "      <td>CCU → NAG → BLR</td>\n",
       "      <td>18:05</td>\n",
       "      <td>5h 25m</td>\n",
       "      <td>1 stop</td>\n",
       "      <td>No info</td>\n",
       "      <td>6218.0</td>\n",
       "      <td>Medium</td>\n",
       "    </tr>\n",
       "    <tr>\n",
       "      <th>2</th>\n",
       "      <td>2</td>\n",
       "      <td>IndiGo</td>\n",
       "      <td>01/03/2019</td>\n",
       "      <td>Banglore</td>\n",
       "      <td>New Delhi</td>\n",
       "      <td>BLR → NAG → DEL</td>\n",
       "      <td>16:50</td>\n",
       "      <td>4h 45m</td>\n",
       "      <td>1 stop</td>\n",
       "      <td>No info</td>\n",
       "      <td>13302.0</td>\n",
       "      <td>Short_haul</td>\n",
       "    </tr>\n",
       "    <tr>\n",
       "      <th>3</th>\n",
       "      <td>3</td>\n",
       "      <td>SpiceJet</td>\n",
       "      <td>24/06/2019</td>\n",
       "      <td>Kolkata</td>\n",
       "      <td>Banglore</td>\n",
       "      <td>CCU → BLR</td>\n",
       "      <td>09:00</td>\n",
       "      <td>2h 25m</td>\n",
       "      <td>non-stop</td>\n",
       "      <td>No info</td>\n",
       "      <td>3873.0</td>\n",
       "      <td>Short_haul</td>\n",
       "    </tr>\n",
       "    <tr>\n",
       "      <th>4</th>\n",
       "      <td>4</td>\n",
       "      <td>Jet Airways</td>\n",
       "      <td>12/03/2019</td>\n",
       "      <td>Banglore</td>\n",
       "      <td>New Delhi</td>\n",
       "      <td>BLR → BOM → DEL</td>\n",
       "      <td>18:55</td>\n",
       "      <td>15h 30m</td>\n",
       "      <td>1 stop</td>\n",
       "      <td>In-flight meal not included</td>\n",
       "      <td>11087.0</td>\n",
       "      <td>Long_haul</td>\n",
       "    </tr>\n",
       "  </tbody>\n",
       "</table>\n",
       "</div>"
      ],
      "text/plain": [
       "   Unnamed: 0      Airline Date_of_Journey    Source Destination  \\\n",
       "0           0  Jet Airways       9/06/2019     Delhi      Cochin   \n",
       "1           1       IndiGo      12/05/2019   Kolkata    Banglore   \n",
       "2           2       IndiGo      01/03/2019  Banglore   New Delhi   \n",
       "3           3     SpiceJet      24/06/2019   Kolkata    Banglore   \n",
       "4           4  Jet Airways      12/03/2019  Banglore   New Delhi   \n",
       "\n",
       "                   Route Dep_Time Duration Total_Stops  \\\n",
       "0  DEL → LKO → BOM → COK    09:25      19h     2 stops   \n",
       "1        CCU → NAG → BLR    18:05   5h 25m      1 stop   \n",
       "2        BLR → NAG → DEL    16:50   4h 45m      1 stop   \n",
       "3              CCU → BLR    09:00   2h 25m    non-stop   \n",
       "4        BLR → BOM → DEL    18:55  15h 30m      1 stop   \n",
       "\n",
       "               Additional_Info    Price Duration Category  \n",
       "0                      No info  13882.0  Extreme duration  \n",
       "1                      No info   6218.0            Medium  \n",
       "2                      No info  13302.0        Short_haul  \n",
       "3                      No info   3873.0        Short_haul  \n",
       "4  In-flight meal not included  11087.0         Long_haul  "
      ]
     },
     "execution_count": 61,
     "metadata": {},
     "output_type": "execute_result"
    }
   ],
   "source": [
    "planes.head()"
   ]
  },
  {
   "cell_type": "code",
   "execution_count": 62,
   "id": "a94146da-4c05-48ae-8764-b8d5f377f5f8",
   "metadata": {},
   "outputs": [
    {
     "data": {
      "text/plain": [
       "Duration Category\n",
       "Short_haul          2995\n",
       "Long_haul           1914\n",
       "Extreme duration    1881\n",
       "Medium              1718\n",
       "Name: count, dtype: int64"
      ]
     },
     "execution_count": 62,
     "metadata": {},
     "output_type": "execute_result"
    }
   ],
   "source": [
    "planes['Duration Category'].value_counts()"
   ]
  },
  {
   "cell_type": "code",
   "execution_count": null,
   "id": "d07e00ce-72e9-4956-adcd-a93b6e12e3bf",
   "metadata": {},
   "outputs": [],
   "source": []
  }
 ],
 "metadata": {
  "kernelspec": {
   "display_name": "Python 3 (ipykernel)",
   "language": "python",
   "name": "python3"
  },
  "language_info": {
   "codemirror_mode": {
    "name": "ipython",
    "version": 3
   },
   "file_extension": ".py",
   "mimetype": "text/x-python",
   "name": "python",
   "nbconvert_exporter": "python",
   "pygments_lexer": "ipython3",
   "version": "3.11.7"
  }
 },
 "nbformat": 4,
 "nbformat_minor": 5
}
