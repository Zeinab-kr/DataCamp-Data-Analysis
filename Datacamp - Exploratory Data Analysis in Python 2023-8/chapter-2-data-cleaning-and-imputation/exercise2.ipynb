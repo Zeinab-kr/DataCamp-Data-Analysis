{
 "cells": [
  {
   "cell_type": "markdown",
   "id": "72519292-e1a1-4055-a1e4-4c37e8b73d22",
   "metadata": {},
   "source": [
    "\n",
    "#  Strategies for remaining missing data\n",
    "\n",
    "##  Assignment \n",
    "\n",
    "The five percent rule has worked nicely for your `planes` dataset, eliminating missing values from nine out of 11 columns!\n",
    "\n",
    "Now, you need to decide what to do with the `\"Additional_Info\"` and `\"Price\"` columns, which are missing `300` and `368` values respectively.\n",
    "\n",
    "You'll first take a look at what `\"Additional_Info\"` contains, then visualize the price of plane tickets by different airlines. \n",
    "\n",
    "The following imports have been made for you:\n",
    "\n",
    "```\n",
    "import pandas as pd\n",
    "import seaborn as sns\n",
    "import matplotlib.pyplot as plt\n",
    "\n",
    "```\n",
    "\n",
    "##  Pre exercise code \n",
    "\n",
    "```\n",
    "import pandas as pd\n",
    "import seaborn as sns\n",
    "import matplotlib.pyplot as plt\n",
    "\n",
    "planes = pd.read_csv(\"https://assets.datacamp.com/production/repositories/6180/datasets/65bb8594cc06715617673622b9d694772ed8b31f/planes.csv\")\n",
    "threshold = len(planes) * 0.05\n",
    "cols_to_drop = planes.columns[planes.isna().sum() <= threshold]\n",
    "planes.dropna(subset=cols_to_drop, inplace=True)\n",
    "```\n"
   ]
  },
  {
   "cell_type": "code",
   "execution_count": 19,
   "id": "cf397ac0-0df1-4eba-878a-8e64375dbb60",
   "metadata": {},
   "outputs": [],
   "source": [
    "import pandas as pd\n",
    "import seaborn as sns\n",
    "import matplotlib.pyplot as plt\n",
    "\n",
    "planes = pd.read_csv(\"planes.csv\")\n",
    "threshold = len(planes) * 0.05\n",
    "cols_to_drop = planes.columns[planes.isna().sum() <= threshold]\n",
    "planes.dropna(subset=cols_to_drop, inplace=True)"
   ]
  },
  {
   "cell_type": "markdown",
   "id": "7a866dee-8925-40e9-b855-be3723415632",
   "metadata": {},
   "source": [
    "\n",
    "##  Instructions \n",
    "\n",
    "- Print the values and frequencies of `\"Additional_Info\"`.\n",
    "\n"
   ]
  },
  {
   "cell_type": "code",
   "execution_count": 20,
   "id": "f4b82eeb-e1c3-4ac3-914b-a8a0fa7d3e08",
   "metadata": {},
   "outputs": [
    {
     "data": {
      "text/html": [
       "<div>\n",
       "<style scoped>\n",
       "    .dataframe tbody tr th:only-of-type {\n",
       "        vertical-align: middle;\n",
       "    }\n",
       "\n",
       "    .dataframe tbody tr th {\n",
       "        vertical-align: top;\n",
       "    }\n",
       "\n",
       "    .dataframe thead th {\n",
       "        text-align: right;\n",
       "    }\n",
       "</style>\n",
       "<table border=\"1\" class=\"dataframe\">\n",
       "  <thead>\n",
       "    <tr style=\"text-align: right;\">\n",
       "      <th></th>\n",
       "      <th>Airline</th>\n",
       "      <th>Date_of_Journey</th>\n",
       "      <th>Source</th>\n",
       "      <th>Destination</th>\n",
       "      <th>Route</th>\n",
       "      <th>Dep_Time</th>\n",
       "      <th>Arrival_Time</th>\n",
       "      <th>Duration</th>\n",
       "      <th>Total_Stops</th>\n",
       "      <th>Additional_Info</th>\n",
       "      <th>Price</th>\n",
       "    </tr>\n",
       "  </thead>\n",
       "  <tbody>\n",
       "    <tr>\n",
       "      <th>0</th>\n",
       "      <td>Jet Airways</td>\n",
       "      <td>9/06/2019</td>\n",
       "      <td>Delhi</td>\n",
       "      <td>Cochin</td>\n",
       "      <td>DEL → LKO → BOM → COK</td>\n",
       "      <td>09:25</td>\n",
       "      <td>04:25 10 Jun</td>\n",
       "      <td>19h</td>\n",
       "      <td>2 stops</td>\n",
       "      <td>No info</td>\n",
       "      <td>13882.0</td>\n",
       "    </tr>\n",
       "  </tbody>\n",
       "</table>\n",
       "</div>"
      ],
      "text/plain": [
       "       Airline Date_of_Journey Source Destination                  Route  \\\n",
       "0  Jet Airways       9/06/2019  Delhi      Cochin  DEL → LKO → BOM → COK   \n",
       "\n",
       "  Dep_Time  Arrival_Time Duration Total_Stops Additional_Info    Price  \n",
       "0    09:25  04:25 10 Jun      19h     2 stops         No info  13882.0  "
      ]
     },
     "execution_count": 20,
     "metadata": {},
     "output_type": "execute_result"
    }
   ],
   "source": [
    "planes.head(1)"
   ]
  },
  {
   "cell_type": "code",
   "execution_count": 21,
   "id": "5e540b0f-d0cb-49d5-98e8-9ee93322e798",
   "metadata": {},
   "outputs": [
    {
     "data": {
      "text/plain": [
       "Additional_Info\n",
       "No info                         6399\n",
       "In-flight meal not included     1525\n",
       "No check-in baggage included     258\n",
       "1 Long layover                    14\n",
       "Change airports                    7\n",
       "No Info                            2\n",
       "Business class                     1\n",
       "Red-eye flight                     1\n",
       "2 Long layover                     1\n",
       "Name: count, dtype: int64"
      ]
     },
     "execution_count": 21,
     "metadata": {},
     "output_type": "execute_result"
    }
   ],
   "source": [
    "planes['Additional_Info'].value_counts()"
   ]
  },
  {
   "cell_type": "markdown",
   "id": "828f8d7d-ac7a-4593-a0ba-330b3cb9ba24",
   "metadata": {},
   "source": [
    "\n",
    "- Create a boxplot of `\"Price\"` by `\"Airline\"`.\n",
    "\n"
   ]
  },
  {
   "cell_type": "code",
   "execution_count": 23,
   "id": "345a5ff7-b1b2-4a3f-9b92-e2f425ae541e",
   "metadata": {},
   "outputs": [
    {
     "data": {
      "text/plain": [
       "<Axes: xlabel='Price', ylabel='Airline'>"
      ]
     },
     "execution_count": 23,
     "metadata": {},
     "output_type": "execute_result"
    },
    {
     "data": {
      "image/png": "[encoded data removed]",
      "text/plain": [
       "<Figure size 640x480 with 1 Axes>"
      ]
     },
     "metadata": {},
     "output_type": "display_data"
    }
   ],
   "source": [
    "sns.boxplot(data=planes, x='Price', y='Airline')"
   ]
  },
  {
   "cell_type": "code",
   "execution_count": null,
   "id": "99eac59d-4a21-4794-b946-1e23d92e92e2",
   "metadata": {},
   "outputs": [],
   "source": []
  }
 ],
 "metadata": {
  "kernelspec": {
   "display_name": "Python 3 (ipykernel)",
   "language": "python",
   "name": "python3"
  },
  "language_info": {
   "codemirror_mode": {
    "name": "ipython",
    "version": 3
   },
   "file_extension": ".py",
   "mimetype": "text/x-python",
   "name": "python",
   "nbconvert_exporter": "python",
   "pygments_lexer": "ipython3",
   "version": "3.11.7"
  }
 },
 "nbformat": 4,
 "nbformat_minor": 5
}
