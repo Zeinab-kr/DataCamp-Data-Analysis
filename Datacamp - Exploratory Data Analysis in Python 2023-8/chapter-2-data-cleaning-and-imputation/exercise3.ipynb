{
 "cells": [
  {
   "cell_type": "markdown",
   "id": "2858d890-3946-4156-8376-964cb9310e31",
   "metadata": {},
   "source": [
    "\n",
    "#  Imputing missing plane prices\n",
    "\n",
    "##  Assignment \n",
    "\n",
    "Now there's just one column with missing values left!\n",
    "\n",
    "You've removed the `\"Additional_Info\"` column from `planes`&mdash;the last step is to impute the missing data in the `\"Price\"` column of the dataset.\n",
    "\n",
    "As a reminder, you generated this boxplot, which suggested that imputing the median price based on the `\"Airline\"` is a solid approach!\n",
    "\n",
    "<img src=\"https://assets.datacamp.com/production/repositories/6180/datasets/6fcf987858997fd0e36d1846669923fe7925fe24/plane_prices_by_airline_boxplot_v3.jpg\" alt=\"Box plot of plane ticket prices by Airline\">\n",
    "\n",
    "##  Pre exercise code \n",
    "\n",
    "```\n",
    "import pandas as pd\n",
    "\n",
    "planes = pd.read_csv(\"https://assets.datacamp.com/production/repositories/6180/datasets/65bb8594cc06715617673622b9d694772ed8b31f/planes.csv\")\n",
    "threshold = len(planes) * 0.05\n",
    "cols_to_drop = planes.columns[planes.isna().sum() <= threshold]\n",
    "planes.dropna(subset=cols_to_drop, inplace=True)\n",
    "planes.drop(columns=[\"Additional_Info\"], inplace=True)\n",
    "```\n"
   ]
  },
  {
   "cell_type": "code",
   "execution_count": 24,
   "id": "860870e9-ecd6-4176-bbf3-2fc194c77538",
   "metadata": {},
   "outputs": [],
   "source": [
    "import pandas as pd\n",
    "\n",
    "planes = pd.read_csv(\"planes.csv\")\n",
    "threshold = len(planes) * 0.05\n",
    "cols_to_drop = planes.columns[planes.isna().sum() <= threshold]\n",
    "planes.dropna(subset=cols_to_drop, inplace=True)\n",
    "planes.drop(columns=[\"Additional_Info\"], inplace=True)"
   ]
  },
  {
   "cell_type": "code",
   "execution_count": 27,
   "id": "15c0d19a-8147-4d86-a99f-6886766961fe",
   "metadata": {},
   "outputs": [
    {
     "data": {
      "text/html": [
       "<div>\n",
       "<style scoped>\n",
       "    .dataframe tbody tr th:only-of-type {\n",
       "        vertical-align: middle;\n",
       "    }\n",
       "\n",
       "    .dataframe tbody tr th {\n",
       "        vertical-align: top;\n",
       "    }\n",
       "\n",
       "    .dataframe thead th {\n",
       "        text-align: right;\n",
       "    }\n",
       "</style>\n",
       "<table border=\"1\" class=\"dataframe\">\n",
       "  <thead>\n",
       "    <tr style=\"text-align: right;\">\n",
       "      <th></th>\n",
       "      <th>Airline</th>\n",
       "      <th>Date_of_Journey</th>\n",
       "      <th>Source</th>\n",
       "      <th>Destination</th>\n",
       "      <th>Route</th>\n",
       "      <th>Dep_Time</th>\n",
       "      <th>Arrival_Time</th>\n",
       "      <th>Duration</th>\n",
       "      <th>Total_Stops</th>\n",
       "      <th>Price</th>\n",
       "    </tr>\n",
       "  </thead>\n",
       "  <tbody>\n",
       "    <tr>\n",
       "      <th>0</th>\n",
       "      <td>Jet Airways</td>\n",
       "      <td>9/06/2019</td>\n",
       "      <td>Delhi</td>\n",
       "      <td>Cochin</td>\n",
       "      <td>DEL → LKO → BOM → COK</td>\n",
       "      <td>09:25</td>\n",
       "      <td>04:25 10 Jun</td>\n",
       "      <td>19h</td>\n",
       "      <td>2 stops</td>\n",
       "      <td>13882.0</td>\n",
       "    </tr>\n",
       "  </tbody>\n",
       "</table>\n",
       "</div>"
      ],
      "text/plain": [
       "       Airline Date_of_Journey Source Destination                  Route  \\\n",
       "0  Jet Airways       9/06/2019  Delhi      Cochin  DEL → LKO → BOM → COK   \n",
       "\n",
       "  Dep_Time  Arrival_Time Duration Total_Stops    Price  \n",
       "0    09:25  04:25 10 Jun      19h     2 stops  13882.0  "
      ]
     },
     "execution_count": 27,
     "metadata": {},
     "output_type": "execute_result"
    }
   ],
   "source": [
    "planes.head(1)"
   ]
  },
  {
   "cell_type": "markdown",
   "id": "91880552-ce4b-4a14-9c7f-b6321b142054",
   "metadata": {},
   "source": [
    "##  Instructions \n",
    "\n",
    "- Group `planes` by airline and calculate the median price.\n",
    "\n"
   ]
  },
  {
   "cell_type": "code",
   "execution_count": 33,
   "id": "877ad03d-bcf4-44af-a1d6-d5b59a25a291",
   "metadata": {},
   "outputs": [],
   "source": [
    "med_price = planes.groupby('Airline')['Price'].median()"
   ]
  },
  {
   "cell_type": "markdown",
   "id": "af760ccb-75ea-414b-a6f9-6d18218422f8",
   "metadata": {},
   "source": [
    "- Convert the grouped median prices to a dictionary.\n"
   ]
  },
  {
   "cell_type": "code",
   "execution_count": 34,
   "id": "8a142c04-abf8-45f2-86cf-8a9824c4ecb0",
   "metadata": {},
   "outputs": [],
   "source": [
    "med_price = med_price.to_dict()"
   ]
  },
  {
   "cell_type": "code",
   "execution_count": 35,
   "id": "088b0d88-5493-42e8-8de0-9bcc4a04f313",
   "metadata": {},
   "outputs": [
    {
     "data": {
      "text/plain": [
       "{'Air Asia': 5192.0,\n",
       " 'Air India': 9443.0,\n",
       " 'GoAir': 5003.5,\n",
       " 'IndiGo': 5054.0,\n",
       " 'Jet Airways': 11507.0,\n",
       " 'Multiple carriers': 10197.0,\n",
       " 'SpiceJet': 3873.0,\n",
       " 'Vistara': 8028.0}"
      ]
     },
     "execution_count": 35,
     "metadata": {},
     "output_type": "execute_result"
    }
   ],
   "source": [
    "med_price"
   ]
  },
  {
   "cell_type": "markdown",
   "id": "9b212771-e1fe-421c-9a43-b7ed8e2b6ba6",
   "metadata": {},
   "source": [
    "- Conditionally impute missing values for `\"Price\"` by mapping values in the `\"Airline column\"` based on `prices_dict`.\n",
    "- Check for remaining missing values.\n"
   ]
  },
  {
   "cell_type": "code",
   "execution_count": 36,
   "id": "d018572e-c3e7-46a5-8fe0-67daa359db0c",
   "metadata": {},
   "outputs": [],
   "source": [
    "planes['Price'] = planes['Price'].fillna(planes['Airline'].map(med_price))"
   ]
  },
  {
   "cell_type": "code",
   "execution_count": 37,
   "id": "836ca63f-bd48-4a59-a837-7838e5e133f8",
   "metadata": {},
   "outputs": [
    {
     "data": {
      "text/html": [
       "<div>\n",
       "<style scoped>\n",
       "    .dataframe tbody tr th:only-of-type {\n",
       "        vertical-align: middle;\n",
       "    }\n",
       "\n",
       "    .dataframe tbody tr th {\n",
       "        vertical-align: top;\n",
       "    }\n",
       "\n",
       "    .dataframe thead th {\n",
       "        text-align: right;\n",
       "    }\n",
       "</style>\n",
       "<table border=\"1\" class=\"dataframe\">\n",
       "  <thead>\n",
       "    <tr style=\"text-align: right;\">\n",
       "      <th></th>\n",
       "      <th>Airline</th>\n",
       "      <th>Date_of_Journey</th>\n",
       "      <th>Source</th>\n",
       "      <th>Destination</th>\n",
       "      <th>Route</th>\n",
       "      <th>Dep_Time</th>\n",
       "      <th>Arrival_Time</th>\n",
       "      <th>Duration</th>\n",
       "      <th>Total_Stops</th>\n",
       "      <th>Price</th>\n",
       "    </tr>\n",
       "  </thead>\n",
       "  <tbody>\n",
       "    <tr>\n",
       "      <th>0</th>\n",
       "      <td>Jet Airways</td>\n",
       "      <td>9/06/2019</td>\n",
       "      <td>Delhi</td>\n",
       "      <td>Cochin</td>\n",
       "      <td>DEL → LKO → BOM → COK</td>\n",
       "      <td>09:25</td>\n",
       "      <td>04:25 10 Jun</td>\n",
       "      <td>19h</td>\n",
       "      <td>2 stops</td>\n",
       "      <td>13882.0</td>\n",
       "    </tr>\n",
       "    <tr>\n",
       "      <th>1</th>\n",
       "      <td>IndiGo</td>\n",
       "      <td>12/05/2019</td>\n",
       "      <td>Kolkata</td>\n",
       "      <td>Banglore</td>\n",
       "      <td>CCU → NAG → BLR</td>\n",
       "      <td>18:05</td>\n",
       "      <td>23:30</td>\n",
       "      <td>5h 25m</td>\n",
       "      <td>1 stop</td>\n",
       "      <td>6218.0</td>\n",
       "    </tr>\n",
       "    <tr>\n",
       "      <th>2</th>\n",
       "      <td>IndiGo</td>\n",
       "      <td>01/03/2019</td>\n",
       "      <td>Banglore</td>\n",
       "      <td>New Delhi</td>\n",
       "      <td>BLR → NAG → DEL</td>\n",
       "      <td>16:50</td>\n",
       "      <td>21:35</td>\n",
       "      <td>4h 45m</td>\n",
       "      <td>1 stop</td>\n",
       "      <td>13302.0</td>\n",
       "    </tr>\n",
       "    <tr>\n",
       "      <th>3</th>\n",
       "      <td>SpiceJet</td>\n",
       "      <td>24/06/2019</td>\n",
       "      <td>Kolkata</td>\n",
       "      <td>Banglore</td>\n",
       "      <td>CCU → BLR</td>\n",
       "      <td>09:00</td>\n",
       "      <td>11:25</td>\n",
       "      <td>2h 25m</td>\n",
       "      <td>non-stop</td>\n",
       "      <td>3873.0</td>\n",
       "    </tr>\n",
       "    <tr>\n",
       "      <th>4</th>\n",
       "      <td>Jet Airways</td>\n",
       "      <td>12/03/2019</td>\n",
       "      <td>Banglore</td>\n",
       "      <td>New Delhi</td>\n",
       "      <td>BLR → BOM → DEL</td>\n",
       "      <td>18:55</td>\n",
       "      <td>10:25 13 Mar</td>\n",
       "      <td>15h 30m</td>\n",
       "      <td>1 stop</td>\n",
       "      <td>11087.0</td>\n",
       "    </tr>\n",
       "  </tbody>\n",
       "</table>\n",
       "</div>"
      ],
      "text/plain": [
       "       Airline Date_of_Journey    Source Destination                  Route  \\\n",
       "0  Jet Airways       9/06/2019     Delhi      Cochin  DEL → LKO → BOM → COK   \n",
       "1       IndiGo      12/05/2019   Kolkata    Banglore        CCU → NAG → BLR   \n",
       "2       IndiGo      01/03/2019  Banglore   New Delhi        BLR → NAG → DEL   \n",
       "3     SpiceJet      24/06/2019   Kolkata    Banglore              CCU → BLR   \n",
       "4  Jet Airways      12/03/2019  Banglore   New Delhi        BLR → BOM → DEL   \n",
       "\n",
       "  Dep_Time  Arrival_Time Duration Total_Stops    Price  \n",
       "0    09:25  04:25 10 Jun      19h     2 stops  13882.0  \n",
       "1    18:05         23:30   5h 25m      1 stop   6218.0  \n",
       "2    16:50         21:35   4h 45m      1 stop  13302.0  \n",
       "3    09:00         11:25   2h 25m    non-stop   3873.0  \n",
       "4    18:55  10:25 13 Mar  15h 30m      1 stop  11087.0  "
      ]
     },
     "execution_count": 37,
     "metadata": {},
     "output_type": "execute_result"
    }
   ],
   "source": [
    "planes.head()"
   ]
  },
  {
   "cell_type": "code",
   "execution_count": 39,
   "id": "a080c25c-76f1-4d75-9900-989a0cb80e05",
   "metadata": {},
   "outputs": [
    {
     "data": {
      "text/plain": [
       "0"
      ]
     },
     "execution_count": 39,
     "metadata": {},
     "output_type": "execute_result"
    }
   ],
   "source": [
    "planes['Price'].isna().sum()"
   ]
  },
  {
   "cell_type": "code",
   "execution_count": null,
   "id": "0a3f2569-68c5-4677-9967-2431d31cb23b",
   "metadata": {},
   "outputs": [],
   "source": []
  }
 ],
 "metadata": {
  "kernelspec": {
   "display_name": "Python 3 (ipykernel)",
   "language": "python",
   "name": "python3"
  },
  "language_info": {
   "codemirror_mode": {
    "name": "ipython",
    "version": 3
   },
   "file_extension": ".py",
   "mimetype": "text/x-python",
   "name": "python",
   "nbconvert_exporter": "python",
   "pygments_lexer": "ipython3",
   "version": "3.11.7"
  }
 },
 "nbformat": 4,
 "nbformat_minor": 5
}
