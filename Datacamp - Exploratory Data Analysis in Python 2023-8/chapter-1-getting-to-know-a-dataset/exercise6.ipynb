{
 "cells": [
  {
   "cell_type": "markdown",
   "id": "46289ac7-6fe4-49e4-8ed0-589df9b3f45e",
   "metadata": {},
   "source": [
    "\n",
    "#  Validating range\n",
    "\n",
    "##  Assignment \n",
    "\n",
    "Now it's time to validate our numerical data. We saw in the previous lesson using `.describe()` that the largest unemployment rate during 2021 was nearly 34 percent, while the lowest was just above zero. \n",
    "\n",
    "Your task in this exercise is to get much more detailed information about the range of `unemployment` data using Seaborn's boxplot, and you'll also visualize the range of unemployment rates in each continent to understand geographical range differences.\n",
    "\n",
    "`unemployment` is available, and the following have been imported for you: Seaborn as `sns`, `matplotlib.pyplot` as `plt`, and `pandas` as `pd`.\n",
    "\n",
    "##  Pre exercise code \n",
    "\n",
    "```\n",
    "import pandas as pd\n",
    "import seaborn as sns\n",
    "import matplotlib.pyplot as plt\n",
    "unemployment = pd.read_csv(\"https://assets.datacamp.com/production/repositories/6180/datasets/a7e05e14dfd1aa575314dd9a0d8df74a14341c4e/clean_unemployment.csv\")\n",
    "```\n",
    "\n",
    "\n",
    "\n",
    "##  Instructions \n",
    "\n",
    "- Print the minimum and maximum unemployment rates, in that order, during 2021.\n",
    "- Create a boxplot of 2021 unemployment rates, broken down by continent.\n"
   ]
  },
  {
   "cell_type": "code",
   "execution_count": 38,
   "id": "0b9d92c8-0f41-459f-86ed-3907cfc01c29",
   "metadata": {},
   "outputs": [],
   "source": [
    "import pandas as pd\n",
    "import seaborn as sns\n",
    "import matplotlib.pyplot as plt\n",
    "unemployment = pd.read_csv(\"clean_unemployment.csv\")"
   ]
  },
  {
   "cell_type": "code",
   "execution_count": 39,
   "id": "f2a11b77-6974-498f-b243-a82db089579d",
   "metadata": {},
   "outputs": [
    {
     "data": {
      "text/html": [
       "<div>\n",
       "<style scoped>\n",
       "    .dataframe tbody tr th:only-of-type {\n",
       "        vertical-align: middle;\n",
       "    }\n",
       "\n",
       "    .dataframe tbody tr th {\n",
       "        vertical-align: top;\n",
       "    }\n",
       "\n",
       "    .dataframe thead th {\n",
       "        text-align: right;\n",
       "    }\n",
       "</style>\n",
       "<table border=\"1\" class=\"dataframe\">\n",
       "  <thead>\n",
       "    <tr style=\"text-align: right;\">\n",
       "      <th></th>\n",
       "      <th>country_code</th>\n",
       "      <th>country_name</th>\n",
       "      <th>continent</th>\n",
       "      <th>2010</th>\n",
       "      <th>2011</th>\n",
       "      <th>2012</th>\n",
       "      <th>2013</th>\n",
       "      <th>2014</th>\n",
       "      <th>2015</th>\n",
       "      <th>2016</th>\n",
       "      <th>2017</th>\n",
       "      <th>2018</th>\n",
       "      <th>2019</th>\n",
       "      <th>2020</th>\n",
       "      <th>2021</th>\n",
       "    </tr>\n",
       "  </thead>\n",
       "  <tbody>\n",
       "    <tr>\n",
       "      <th>0</th>\n",
       "      <td>AFG</td>\n",
       "      <td>Afghanistan</td>\n",
       "      <td>Asia</td>\n",
       "      <td>11.35</td>\n",
       "      <td>11.05</td>\n",
       "      <td>11.34</td>\n",
       "      <td>11.19</td>\n",
       "      <td>11.14</td>\n",
       "      <td>11.13</td>\n",
       "      <td>11.16</td>\n",
       "      <td>11.18</td>\n",
       "      <td>11.15</td>\n",
       "      <td>11.22</td>\n",
       "      <td>11.71</td>\n",
       "      <td>13.28</td>\n",
       "    </tr>\n",
       "  </tbody>\n",
       "</table>\n",
       "</div>"
      ],
      "text/plain": [
       "  country_code country_name continent   2010   2011   2012   2013   2014  \\\n",
       "0          AFG  Afghanistan      Asia  11.35  11.05  11.34  11.19  11.14   \n",
       "\n",
       "    2015   2016   2017   2018   2019   2020   2021  \n",
       "0  11.13  11.16  11.18  11.15  11.22  11.71  13.28  "
      ]
     },
     "execution_count": 39,
     "metadata": {},
     "output_type": "execute_result"
    }
   ],
   "source": [
    "unemployment.head(1)"
   ]
  },
  {
   "cell_type": "code",
   "execution_count": 40,
   "id": "daa1fe6d-4591-4862-a397-4f37d00e6d03",
   "metadata": {},
   "outputs": [
    {
     "data": {
      "text/plain": [
       "min     0.26\n",
       "max    33.56\n",
       "Name: 2021, dtype: float64"
      ]
     },
     "execution_count": 40,
     "metadata": {},
     "output_type": "execute_result"
    }
   ],
   "source": [
    "unemployment['2021'].agg(['min', 'max'])"
   ]
  },
  {
   "cell_type": "code",
   "execution_count": 45,
   "id": "b03635b3-2d1c-48ce-86b0-29ac6abc0254",
   "metadata": {},
   "outputs": [
    {
     "data": {
      "text/plain": [
       "<Axes: xlabel='continent', ylabel='2021'>"
      ]
     },
     "execution_count": 45,
     "metadata": {},
     "output_type": "execute_result"
    },
    {
     "data": {
      "image/png": "[encoded data removed]",
      "text/plain": [
       "<Figure size 640x480 with 1 Axes>"
      ]
     },
     "metadata": {},
     "output_type": "display_data"
    }
   ],
   "source": [
    "plt.xticks(rotation=20)\n",
    "sns.boxplot(data=unemployment, x='continent', y='2021')"
   ]
  },
  {
   "cell_type": "code",
   "execution_count": null,
   "id": "9598d621-2247-429b-bddb-d0afab5cf3c8",
   "metadata": {},
   "outputs": [],
   "source": []
  }
 ],
 "metadata": {
  "kernelspec": {
   "display_name": "Python 3 (ipykernel)",
   "language": "python",
   "name": "python3"
  },
  "language_info": {
   "codemirror_mode": {
    "name": "ipython",
    "version": 3
   },
   "file_extension": ".py",
   "mimetype": "text/x-python",
   "name": "python",
   "nbconvert_exporter": "python",
   "pygments_lexer": "ipython3",
   "version": "3.11.7"
  }
 },
 "nbformat": 4,
 "nbformat_minor": 5
}
