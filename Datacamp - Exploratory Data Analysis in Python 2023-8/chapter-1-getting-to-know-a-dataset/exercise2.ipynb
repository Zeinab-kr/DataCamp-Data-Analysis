{
 "cells": [
  {
   "cell_type": "markdown",
   "id": "ac912fe9-0c60-444a-b35a-f280a31cde6a",
   "metadata": {},
   "source": [
    "\n",
    "#  Counting categorical values\n",
    "\n",
    "##  Assignment \n",
    "\n",
    "Recall from the previous exercise that the `unemployment` DataFrame contains 182 rows of country data including `country_code`, `country_name`, `continent`, and unemployment percentages from 2010 through 2021. \n",
    "\n",
    "You'd now like to explore the categorical data contained in `unemployment` to understand the data that it contains related to each continent.\n",
    "\n",
    "The `unemployment` DataFrame has been loaded for you along with `pandas` as `pd`.\n",
    "\n",
    "##  Pre exercise code \n",
    "\n",
    "```\n",
    "import pandas as pd\n",
    "unemployment = pd.read_csv(\"https://assets.datacamp.com/production/repositories/6180/datasets/a7e05e14dfd1aa575314dd9a0d8df74a14341c4e/clean_unemployment.csv\")\n",
    "```\n",
    "\n",
    "\n",
    "\n",
    "##  Instructions \n",
    "\n",
    "- Use a `pandas` function to count the values associated with each `continent` in the `unemployment` DataFrame.\n",
    "\n"
   ]
  },
  {
   "cell_type": "code",
   "execution_count": 9,
   "id": "0498c787-7018-47fc-92d6-e4e6de7602e3",
   "metadata": {},
   "outputs": [],
   "source": [
    "import pandas as pd\n",
    "unemployment = pd.read_csv(\"clean_unemployment.csv\")"
   ]
  },
  {
   "cell_type": "code",
   "execution_count": 11,
   "id": "0ab549fc-72b6-4a3a-ab26-cb8561e38524",
   "metadata": {},
   "outputs": [
    {
     "data": {
      "text/plain": [
       "continent\n",
       "Africa           53\n",
       "Asia             47\n",
       "Europe           39\n",
       "North America    18\n",
       "South America    12\n",
       "Oceania           8\n",
       "Name: count, dtype: int64"
      ]
     },
     "execution_count": 11,
     "metadata": {},
     "output_type": "execute_result"
    }
   ],
   "source": [
    "unemployment['continent'].value_counts()"
   ]
  },
  {
   "cell_type": "code",
   "execution_count": null,
   "id": "71f0e351-6afa-4184-ae18-72b71c3f2b1b",
   "metadata": {},
   "outputs": [],
   "source": []
  }
 ],
 "metadata": {
  "kernelspec": {
   "display_name": "Python 3 (ipykernel)",
   "language": "python",
   "name": "python3"
  },
  "language_info": {
   "codemirror_mode": {
    "name": "ipython",
    "version": 3
   },
   "file_extension": ".py",
   "mimetype": "text/x-python",
   "name": "python",
   "nbconvert_exporter": "python",
   "pygments_lexer": "ipython3",
   "version": "3.11.7"
  }
 },
 "nbformat": 4,
 "nbformat_minor": 5
}
