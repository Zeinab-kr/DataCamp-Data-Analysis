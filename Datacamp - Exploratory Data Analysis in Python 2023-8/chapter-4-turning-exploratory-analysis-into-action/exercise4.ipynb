{
 "cells": [
  {
   "cell_type": "markdown",
   "id": "3284a7b6-9ed2-4dae-8068-3de8f62a0173",
   "metadata": {},
   "source": [
    "\n",
    "#  Comparing salaries\n",
    "\n",
    "\n",
    "\n",
    "##  Assignment \n",
    "\n",
    "Exploratory data analysis is a crucial step in generating hypotheses!\n",
    "\n",
    "You've had an idea you'd like to explore&mdash;do data professionals get paid more in the USA than they do in Great Britain? \n",
    "\n",
    "You'll need to subset the data by `\"Employee_Location\"` and produce a plot displaying the average salary between the two groups.\n",
    "\n",
    "The `salaries` DataFrame has been imported as a pandas DataFrame.\n",
    "\n",
    "`pandas` has been imported as `pd`, `maplotlib.pyplot` as `plt` and `seaborn` as `sns`.\n",
    "\n",
    "##  Pre exercise code \n",
    "\n",
    "```\n",
    "import pandas as pd\n",
    "import matplotlib.pyplot as plt\n",
    "import seaborn as sns\n",
    "\n",
    "salaries = pd.read_csv(\"https://assets.datacamp.com/production/repositories/6180/datasets/03025bd963fc9a29a0cb671f99fb7815765c9e19/ds_salaries_date_added.csv\")\n",
    "```\n",
    "\n",
    "\n",
    "\n",
    "##  Instructions \n",
    "\n",
    "- Filter `salaries` where `\"Employee_Location\"` is `\"US\"` **or** `\"GB\"`, saving as `usa_and_gb`.\n",
    "- Use `usa_and_gb` to create a barplot visualizing `\"Salary_USD\"` against `\"Employee_Location\"`.\n"
   ]
  },
  {
   "cell_type": "code",
   "execution_count": 61,
   "id": "eba8e8d4-d929-478c-baf7-50ee0aecf4b3",
   "metadata": {},
   "outputs": [],
   "source": [
    "import pandas as pd\n",
    "import matplotlib.pyplot as plt\n",
    "import seaborn as sns\n",
    "\n",
    "salaries = pd.read_csv(\"ds_salaries_clean.csv\")"
   ]
  },
  {
   "cell_type": "code",
   "execution_count": 62,
   "id": "1995751b-0fdd-4517-91ff-5a698e4dbf94",
   "metadata": {},
   "outputs": [
    {
     "data": {
      "text/html": [
       "<div>\n",
       "<style scoped>\n",
       "    .dataframe tbody tr th:only-of-type {\n",
       "        vertical-align: middle;\n",
       "    }\n",
       "\n",
       "    .dataframe tbody tr th {\n",
       "        vertical-align: top;\n",
       "    }\n",
       "\n",
       "    .dataframe thead th {\n",
       "        text-align: right;\n",
       "    }\n",
       "</style>\n",
       "<table border=\"1\" class=\"dataframe\">\n",
       "  <thead>\n",
       "    <tr style=\"text-align: right;\">\n",
       "      <th></th>\n",
       "      <th>Working_Year</th>\n",
       "      <th>Designation</th>\n",
       "      <th>Experience</th>\n",
       "      <th>Employment_Status</th>\n",
       "      <th>Employee_Location</th>\n",
       "      <th>Company_Size</th>\n",
       "      <th>Remote_Working_Ratio</th>\n",
       "      <th>Salary_USD</th>\n",
       "    </tr>\n",
       "  </thead>\n",
       "  <tbody>\n",
       "    <tr>\n",
       "      <th>0</th>\n",
       "      <td>2020</td>\n",
       "      <td>Data Scientist</td>\n",
       "      <td>Mid</td>\n",
       "      <td>FT</td>\n",
       "      <td>DE</td>\n",
       "      <td>L</td>\n",
       "      <td>0</td>\n",
       "      <td>76227.0</td>\n",
       "    </tr>\n",
       "  </tbody>\n",
       "</table>\n",
       "</div>"
      ],
      "text/plain": [
       "   Working_Year     Designation Experience Employment_Status  \\\n",
       "0          2020  Data Scientist        Mid                FT   \n",
       "\n",
       "  Employee_Location Company_Size  Remote_Working_Ratio  Salary_USD  \n",
       "0                DE            L                     0     76227.0  "
      ]
     },
     "execution_count": 62,
     "metadata": {},
     "output_type": "execute_result"
    }
   ],
   "source": [
    "salaries.head(1)"
   ]
  },
  {
   "cell_type": "code",
   "execution_count": 68,
   "id": "a963f067-1f3d-4893-920e-66611b0a49f2",
   "metadata": {},
   "outputs": [],
   "source": [
    "usa_and_gb = salaries.query('Employee_Location in [\"US\", \"GB\"]')"
   ]
  },
  {
   "cell_type": "code",
   "execution_count": 71,
   "id": "7c82ef75-1970-4eb2-92a3-29e55a91c2ef",
   "metadata": {},
   "outputs": [
    {
     "data": {
      "text/plain": [
       "<Axes: xlabel='Employee_Location', ylabel='Salary_USD'>"
      ]
     },
     "execution_count": 71,
     "metadata": {},
     "output_type": "execute_result"
    },
    {
     "data": {
      "image/png": "[encoded data removed]",
      "text/plain": [
       "<Figure size 640x480 with 1 Axes>"
      ]
     },
     "metadata": {},
     "output_type": "display_data"
    }
   ],
   "source": [
    "sns.barplot(data=usa_and_gb, x='Employee_Location', y='Salary_USD')"
   ]
  },
  {
   "cell_type": "code",
   "execution_count": null,
   "id": "437f5ef6-bc19-4147-9e10-ed83f8fcd040",
   "metadata": {},
   "outputs": [],
   "source": []
  }
 ],
 "metadata": {
  "kernelspec": {
   "display_name": "Python 3 (ipykernel)",
   "language": "python",
   "name": "python3"
  },
  "language_info": {
   "codemirror_mode": {
    "name": "ipython",
    "version": 3
   },
   "file_extension": ".py",
   "mimetype": "text/x-python",
   "name": "python",
   "nbconvert_exporter": "python",
   "pygments_lexer": "ipython3",
   "version": "3.11.7"
  }
 },
 "nbformat": 4,
 "nbformat_minor": 5
}
