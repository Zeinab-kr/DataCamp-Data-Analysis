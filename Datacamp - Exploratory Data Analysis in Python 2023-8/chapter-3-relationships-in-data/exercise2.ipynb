{
 "cells": [
  {
   "cell_type": "markdown",
   "id": "2d9a6dff-c702-44db-aa94-0dad73026e18",
   "metadata": {},
   "source": [
    "\n",
    "#  Updating data type to DateTime\n",
    "\n",
    "##  Assignment \n",
    "\n",
    "Now, the `divorce` DataFrame has been loaded for you, but one column is stored as a string that should be DateTime data. Which one is it? Once you've identified the column, you'll update it so that you can explore it more closely in the next exercise.\n",
    "\n",
    "`pandas` has been imported as `pd`.\n",
    "\n",
    "##  Pre exercise code \n",
    "\n",
    "```\n",
    "import pandas as pd\n",
    "divorce = pd.read_csv(\"https://assets.datacamp.com/production/repositories/6180/datasets/a200990873d84f5beec93aab5fa0a9b8f93bd71a/divorce.csv\", parse_dates=[\"divorce_date\", \"dob_man\", \"dob_woman\"])\n",
    "```\n"
   ]
  },
  {
   "cell_type": "code",
   "execution_count": 6,
   "id": "f7270333-a015-47ac-8bdd-9d9dbb777396",
   "metadata": {},
   "outputs": [],
   "source": [
    "import pandas as pd\n",
    "divorce = pd.read_csv(\"divorce.csv\", parse_dates=[\"divorce_date\", \"dob_man\", \"dob_woman\"])"
   ]
  },
  {
   "cell_type": "markdown",
   "id": "cf61b09c-1acf-4c01-8bdf-deac88f8315a",
   "metadata": {},
   "source": [
    "##  Instructions \n",
    "\n",
    "- Convert the `marriage_date` column of the `divorce` DataFrame to `DateTime` values.\n",
    "\n"
   ]
  },
  {
   "cell_type": "code",
   "execution_count": 7,
   "id": "8a10bf61-b63f-402f-b672-4cb345d8a687",
   "metadata": {},
   "outputs": [
    {
     "data": {
      "text/plain": [
       "divorce_date         datetime64[ns]\n",
       "dob_man              datetime64[ns]\n",
       "education_man                object\n",
       "income_man                  float64\n",
       "dob_woman            datetime64[ns]\n",
       "education_woman              object\n",
       "income_woman                float64\n",
       "marriage_date                object\n",
       "marriage_duration           float64\n",
       "num_kids                    float64\n",
       "dtype: object"
      ]
     },
     "execution_count": 7,
     "metadata": {},
     "output_type": "execute_result"
    }
   ],
   "source": [
    "divorce.dtypes"
   ]
  },
  {
   "cell_type": "code",
   "execution_count": 8,
   "id": "efdb3202-7b1c-4130-9de9-33928662a292",
   "metadata": {},
   "outputs": [],
   "source": [
    "divorce['marriage_date'] = pd.to_datetime(divorce['marriage_date'])"
   ]
  },
  {
   "cell_type": "code",
   "execution_count": 9,
   "id": "1fb52789-c4c5-4586-9084-d3710c53bf67",
   "metadata": {},
   "outputs": [
    {
     "data": {
      "text/plain": [
       "divorce_date         datetime64[ns]\n",
       "dob_man              datetime64[ns]\n",
       "education_man                object\n",
       "income_man                  float64\n",
       "dob_woman            datetime64[ns]\n",
       "education_woman              object\n",
       "income_woman                float64\n",
       "marriage_date        datetime64[ns]\n",
       "marriage_duration           float64\n",
       "num_kids                    float64\n",
       "dtype: object"
      ]
     },
     "execution_count": 9,
     "metadata": {},
     "output_type": "execute_result"
    }
   ],
   "source": [
    "divorce.dtypes"
   ]
  },
  {
   "cell_type": "code",
   "execution_count": null,
   "id": "2087f3ad-a59a-4f78-a95d-4157c0c508ae",
   "metadata": {},
   "outputs": [],
   "source": []
  }
 ],
 "metadata": {
  "kernelspec": {
   "display_name": "Python 3 (ipykernel)",
   "language": "python",
   "name": "python3"
  },
  "language_info": {
   "codemirror_mode": {
    "name": "ipython",
    "version": 3
   },
   "file_extension": ".py",
   "mimetype": "text/x-python",
   "name": "python",
   "nbconvert_exporter": "python",
   "pygments_lexer": "ipython3",
   "version": "3.11.7"
  }
 },
 "nbformat": 4,
 "nbformat_minor": 5
}
