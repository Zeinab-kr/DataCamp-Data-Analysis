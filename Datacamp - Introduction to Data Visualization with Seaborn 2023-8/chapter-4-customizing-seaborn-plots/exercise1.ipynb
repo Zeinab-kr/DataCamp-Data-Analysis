{
 "cells": [
  {
   "cell_type": "markdown",
   "id": "e0a68370-c033-432a-9193-8b2969511244",
   "metadata": {},
   "source": [
    "\n",
    "#  Changing style and palette\n",
    "\n",
    "##  Assignment \n",
    "\n",
    "Let's return to our dataset containing the results of a survey given to young people about their habits and preferences. We've provided the code to create a count plot of their responses to the question \"How often do you listen to your parents' advice?\". Now let's change the style and palette to make this plot easier to interpret.\n",
    "\n",
    "We've already imported Seaborn as `sns` and `matplotlib.pyplot` as `plt`.\n",
    "\n",
    "##  Pre exercise code \n",
    "\n",
    "```\n",
    "import matplotlib.pyplot as plt\n",
    "import seaborn as sns\n",
    "import pandas as pd\n",
    "\n",
    "survey_data = pd.read_csv(\"https://assets.datacamp.com/production/repositories/3996/datasets/ab13162732ae9ca1a9a27e2efd3da923ed6a4e7b/young-people-survey-responses.csv\", index_col=0)\n",
    "\n",
    "# Sort by parents' advice column\n",
    "survey_data.sort_values(by=\"Parents' advice\", inplace=True)\n",
    "\n",
    "# clean up parents' advice column\n",
    "survey_data.rename(columns={\"Parents' advice\": \"Parents Advice\"}, inplace=True)\n",
    "new_vals = {1.0: \"Never\", 2.0: \"Rarely\", 3.0: \"Sometimes\", \n",
    "            4.0: \"Often\", 5.0: \"Always\"}\n",
    "survey_data[\"Parents Advice\"] = survey_data[\"Parents Advice\"].map(new_vals)\n",
    "```\n",
    "\n"
   ]
  },
  {
   "cell_type": "code",
   "execution_count": 1,
   "id": "286c496c-73a4-4cb8-96a8-5dd889de8523",
   "metadata": {},
   "outputs": [],
   "source": [
    "import matplotlib.pyplot as plt\n",
    "import seaborn as sns\n",
    "import pandas as pd\n",
    "\n",
    "survey_data = pd.read_csv(\"young-people-survey-responses.csv\", index_col=0)\n",
    "\n",
    "# Sort by parents' advice column\n",
    "survey_data.sort_values(by=\"Parents' advice\", inplace=True)\n",
    "\n",
    "# clean up parents' advice column\n",
    "survey_data.rename(columns={\"Parents' advice\": \"Parents Advice\"}, inplace=True)\n",
    "new_vals = {1.0: \"Never\", 2.0: \"Rarely\", 3.0: \"Sometimes\", \n",
    "            4.0: \"Often\", 5.0: \"Always\"}\n",
    "survey_data[\"Parents Advice\"] = survey_data[\"Parents Advice\"].map(new_vals)\n"
   ]
  },
  {
   "cell_type": "code",
   "execution_count": 2,
   "id": "4ad24bb4-4b35-4f63-b6b2-a00b2c764119",
   "metadata": {},
   "outputs": [
    {
     "data": {
      "text/html": [
       "<div>\n",
       "<style scoped>\n",
       "    .dataframe tbody tr th:only-of-type {\n",
       "        vertical-align: middle;\n",
       "    }\n",
       "\n",
       "    .dataframe tbody tr th {\n",
       "        vertical-align: top;\n",
       "    }\n",
       "\n",
       "    .dataframe thead th {\n",
       "        text-align: right;\n",
       "    }\n",
       "</style>\n",
       "<table border=\"1\" class=\"dataframe\">\n",
       "  <thead>\n",
       "    <tr style=\"text-align: right;\">\n",
       "      <th></th>\n",
       "      <th>Music</th>\n",
       "      <th>Techno</th>\n",
       "      <th>Movies</th>\n",
       "      <th>History</th>\n",
       "      <th>Mathematics</th>\n",
       "      <th>Pets</th>\n",
       "      <th>Spiders</th>\n",
       "      <th>Loneliness</th>\n",
       "      <th>Parents Advice</th>\n",
       "      <th>Internet usage</th>\n",
       "      <th>Finances</th>\n",
       "      <th>Age</th>\n",
       "      <th>Siblings</th>\n",
       "      <th>Gender</th>\n",
       "      <th>Village - town</th>\n",
       "    </tr>\n",
       "  </thead>\n",
       "  <tbody>\n",
       "    <tr>\n",
       "      <th>94</th>\n",
       "      <td>5.0</td>\n",
       "      <td>4.0</td>\n",
       "      <td>5.0</td>\n",
       "      <td>3.0</td>\n",
       "      <td>1.0</td>\n",
       "      <td>3.0</td>\n",
       "      <td>2.0</td>\n",
       "      <td>2.0</td>\n",
       "      <td>Never</td>\n",
       "      <td>most of the day</td>\n",
       "      <td>3.0</td>\n",
       "      <td>21.0</td>\n",
       "      <td>1.0</td>\n",
       "      <td>male</td>\n",
       "      <td>city</td>\n",
       "    </tr>\n",
       "  </tbody>\n",
       "</table>\n",
       "</div>"
      ],
      "text/plain": [
       "    Music  Techno  Movies  History  Mathematics  Pets  Spiders  Loneliness  \\\n",
       "94    5.0     4.0     5.0      3.0          1.0   3.0      2.0         2.0   \n",
       "\n",
       "   Parents Advice   Internet usage  Finances   Age  Siblings Gender  \\\n",
       "94          Never  most of the day       3.0  21.0       1.0   male   \n",
       "\n",
       "   Village - town  \n",
       "94           city  "
      ]
     },
     "execution_count": 2,
     "metadata": {},
     "output_type": "execute_result"
    }
   ],
   "source": [
    "survey_data.head(1)"
   ]
  },
  {
   "cell_type": "markdown",
   "id": "bf58caa9-f2d8-467a-a904-fc2909cdcd76",
   "metadata": {},
   "source": [
    "##  Instructions \n",
    "\n",
    "- Set the style to `\"whitegrid\"` to help the audience determine the number of responses in each category.\n"
   ]
  },
  {
   "cell_type": "code",
   "execution_count": 3,
   "id": "c5f1ba71-75ad-43bb-a21d-ae2831efa50b",
   "metadata": {},
   "outputs": [],
   "source": [
    "sns.set_style('whitegrid')"
   ]
  },
  {
   "cell_type": "markdown",
   "id": "81ef9439-b1a2-4645-8c4e-03b4c23458cf",
   "metadata": {},
   "source": [
    "\n",
    "- Set the color palette to the sequential palette named `\"Purples\"`.\n",
    "\n"
   ]
  },
  {
   "cell_type": "code",
   "execution_count": 4,
   "id": "947efb5d-5566-4b8f-92d0-cacba64b6d87",
   "metadata": {},
   "outputs": [],
   "source": [
    "sns.set_palette('Purples')"
   ]
  },
  {
   "cell_type": "code",
   "execution_count": 5,
   "id": "a8a57ddd-fad4-42c0-ad06-8e5a6af7d541",
   "metadata": {},
   "outputs": [
    {
     "data": {
      "text/plain": [
       "<seaborn.axisgrid.FacetGrid at 0x2267f98ee90>"
      ]
     },
     "execution_count": 5,
     "metadata": {},
     "output_type": "execute_result"
    },
    {
     "data": {
      "image/png": "[encoded data removed]",
      "text/plain": [
       "<Figure size 511.111x500 with 1 Axes>"
      ]
     },
     "metadata": {},
     "output_type": "display_data"
    }
   ],
   "source": [
    "category_order = [\"Never\", \"Rarely\", \"Sometimes\", \n",
    "                  \"Often\", \"Always\"]\n",
    "\n",
    "sns.catplot(x=\"Parents Advice\", \n",
    "            data=survey_data, \n",
    "            kind=\"count\", \n",
    "            order=category_order)"
   ]
  },
  {
   "cell_type": "markdown",
   "id": "7edaa007-4e2a-4c34-a2a0-0865aa3f1330",
   "metadata": {},
   "source": [
    "\n",
    "- Change the color palette to the diverging palette named `\"RdBu\"`.\n",
    "\n"
   ]
  },
  {
   "cell_type": "code",
   "execution_count": 9,
   "id": "cc9c510a-b41d-44ed-9a40-5c02557e9d9f",
   "metadata": {},
   "outputs": [],
   "source": [
    "sns.set_palette('RdBu')"
   ]
  },
  {
   "cell_type": "code",
   "execution_count": 10,
   "id": "4e14f063-bd44-4653-accd-b1b83cb515ad",
   "metadata": {},
   "outputs": [
    {
     "data": {
      "text/plain": [
       "<seaborn.axisgrid.FacetGrid at 0x22607429bd0>"
      ]
     },
     "execution_count": 10,
     "metadata": {},
     "output_type": "execute_result"
    },
    {
     "data": {
      "image/png": "[encoded data removed]",
      "text/plain": [
       "<Figure size 511.111x500 with 1 Axes>"
      ]
     },
     "metadata": {},
     "output_type": "display_data"
    }
   ],
   "source": [
    "category_order = [\"Never\", \"Rarely\", \"Sometimes\", \n",
    "                  \"Often\", \"Always\"]\n",
    "\n",
    "sns.catplot(x=\"Parents Advice\", \n",
    "            data=survey_data, \n",
    "            kind=\"count\", \n",
    "            order=category_order)"
   ]
  },
  {
   "cell_type": "code",
   "execution_count": null,
   "id": "e5878ad3-2acf-4757-9475-0c0563d8fd3a",
   "metadata": {},
   "outputs": [],
   "source": []
  }
 ],
 "metadata": {
  "kernelspec": {
   "display_name": "Python 3 (ipykernel)",
   "language": "python",
   "name": "python3"
  },
  "language_info": {
   "codemirror_mode": {
    "name": "ipython",
    "version": 3
   },
   "file_extension": ".py",
   "mimetype": "text/x-python",
   "name": "python",
   "nbconvert_exporter": "python",
   "pygments_lexer": "ipython3",
   "version": "3.11.7"
  }
 },
 "nbformat": 4,
 "nbformat_minor": 5
}
