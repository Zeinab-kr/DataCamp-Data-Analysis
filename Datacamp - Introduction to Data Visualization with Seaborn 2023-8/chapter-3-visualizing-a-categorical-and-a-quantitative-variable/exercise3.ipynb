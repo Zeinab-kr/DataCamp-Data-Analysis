{
 "cells": [
  {
   "cell_type": "markdown",
   "id": "d24f645f-ddab-4ccc-bd83-54906a2ab69c",
   "metadata": {},
   "source": [
    "#  Customizing bar plots\n",
    "\n",
    "\n",
    "##  Assignment \n",
    "\n",
    "In this exercise, we'll explore data from students in secondary school. The `\"study_time\"` variable records each student's reported weekly study time as one of the following categories: `\"&lt;2 hours\"`, `\"2 to 5 hours\"`, `\"5 to 10 hours\"`, or `\"&gt;10 hours\"`. Do students who report higher amounts of studying tend to get better final grades? Let's compare the average final grade among students in each category using a bar plot.\n",
    "\n",
    "Seaborn has been imported as `sns` and `matplotlib.pyplot` has been imported as `plt`.\n",
    "\n",
    "##  Pre exercise code \n",
    "\n",
    "```\n",
    "import matplotlib.pyplot as plt\n",
    "import pandas as pd\n",
    "import seaborn as sns\n",
    "\n",
    "student_data = pd.read_csv('https://assets.datacamp.com/production/repositories/3996/datasets/61e08004fef1a1b02b62620e3cd2533834239c90/student-alcohol-consumption.csv', index_col=0)\n",
    "```\n"
   ]
  },
  {
   "cell_type": "code",
   "execution_count": 9,
   "id": "de31c9fa-39d1-49ed-943c-584648194783",
   "metadata": {},
   "outputs": [],
   "source": [
    "import matplotlib.pyplot as plt\n",
    "import pandas as pd\n",
    "import seaborn as sns\n",
    "\n",
    "student_data = pd.read_csv('student-alcohol-consumption.csv', index_col=0)"
   ]
  },
  {
   "cell_type": "markdown",
   "id": "e26b7b71-4522-4e1a-b0e7-905a7588720a",
   "metadata": {},
   "source": [
    "##  Instructions \n",
    "\n",
    "- Use `sns.catplot()` to create a bar plot with `\"study_time\"` on the x-axis and final grade (`\"G3\"`) on the y-axis, using the `student_data` DataFrame.\n"
   ]
  },
  {
   "cell_type": "code",
   "execution_count": 10,
   "id": "9ac04c88-1ed8-4a48-b41f-d9fa5700b66c",
   "metadata": {},
   "outputs": [
    {
     "data": {
      "text/plain": [
       "<seaborn.axisgrid.FacetGrid at 0x1cb980a1d50>"
      ]
     },
     "execution_count": 10,
     "metadata": {},
     "output_type": "execute_result"
    },
    {
     "data": {
      "image/png": "[encoded data removed]",
      "text/plain": [
       "<Figure size 511.111x500 with 1 Axes>"
      ]
     },
     "metadata": {},
     "output_type": "display_data"
    }
   ],
   "source": [
    "sns.catplot(x='study_time', y='G3', data=student_data, kind='bar')"
   ]
  },
  {
   "cell_type": "markdown",
   "id": "76ae08a8-a6d9-4b7c-8865-6f47e2603498",
   "metadata": {},
   "source": [
    "- Using the `order` parameter and the `category_order` list that is provided, rearrange the bars so that they are in order from lowest study time to highest.\n"
   ]
  },
  {
   "cell_type": "code",
   "execution_count": 11,
   "id": "d7be6222-a923-45e6-9674-658a0af50b1c",
   "metadata": {},
   "outputs": [
    {
     "data": {
      "text/html": [
       "<div>\n",
       "<style scoped>\n",
       "    .dataframe tbody tr th:only-of-type {\n",
       "        vertical-align: middle;\n",
       "    }\n",
       "\n",
       "    .dataframe tbody tr th {\n",
       "        vertical-align: top;\n",
       "    }\n",
       "\n",
       "    .dataframe thead th {\n",
       "        text-align: right;\n",
       "    }\n",
       "</style>\n",
       "<table border=\"1\" class=\"dataframe\">\n",
       "  <thead>\n",
       "    <tr style=\"text-align: right;\">\n",
       "      <th></th>\n",
       "      <th>school</th>\n",
       "      <th>sex</th>\n",
       "      <th>age</th>\n",
       "      <th>famsize</th>\n",
       "      <th>Pstatus</th>\n",
       "      <th>Medu</th>\n",
       "      <th>Fedu</th>\n",
       "      <th>traveltime</th>\n",
       "      <th>failures</th>\n",
       "      <th>schoolsup</th>\n",
       "      <th>...</th>\n",
       "      <th>goout</th>\n",
       "      <th>Dalc</th>\n",
       "      <th>Walc</th>\n",
       "      <th>health</th>\n",
       "      <th>absences</th>\n",
       "      <th>G1</th>\n",
       "      <th>G2</th>\n",
       "      <th>G3</th>\n",
       "      <th>location</th>\n",
       "      <th>study_time</th>\n",
       "    </tr>\n",
       "  </thead>\n",
       "  <tbody>\n",
       "    <tr>\n",
       "      <th>0</th>\n",
       "      <td>GP</td>\n",
       "      <td>F</td>\n",
       "      <td>18</td>\n",
       "      <td>GT3</td>\n",
       "      <td>A</td>\n",
       "      <td>4</td>\n",
       "      <td>4</td>\n",
       "      <td>2</td>\n",
       "      <td>0</td>\n",
       "      <td>yes</td>\n",
       "      <td>...</td>\n",
       "      <td>4</td>\n",
       "      <td>1</td>\n",
       "      <td>1</td>\n",
       "      <td>3</td>\n",
       "      <td>6</td>\n",
       "      <td>5</td>\n",
       "      <td>6</td>\n",
       "      <td>6</td>\n",
       "      <td>Urban</td>\n",
       "      <td>2 to 5 hours</td>\n",
       "    </tr>\n",
       "  </tbody>\n",
       "</table>\n",
       "<p>1 rows × 29 columns</p>\n",
       "</div>"
      ],
      "text/plain": [
       "  school sex  age famsize Pstatus  Medu  Fedu  traveltime  failures schoolsup  \\\n",
       "0     GP   F   18     GT3       A     4     4           2         0       yes   \n",
       "\n",
       "   ... goout Dalc Walc health absences G1 G2  G3  location    study_time  \n",
       "0  ...     4    1    1      3        6  5  6   6     Urban  2 to 5 hours  \n",
       "\n",
       "[1 rows x 29 columns]"
      ]
     },
     "execution_count": 11,
     "metadata": {},
     "output_type": "execute_result"
    }
   ],
   "source": [
    "student_data.head(1)"
   ]
  },
  {
   "cell_type": "code",
   "execution_count": 12,
   "id": "8c2df5b5-4a86-4e09-b6d2-3c1f5713d632",
   "metadata": {},
   "outputs": [],
   "source": [
    "category_order = [\"<2 hours\", \n",
    "                  \"2 to 5 hours\", \n",
    "                  \"5 to 10 hours\", \n",
    "                  \">10 hours\"]"
   ]
  },
  {
   "cell_type": "code",
   "execution_count": 13,
   "id": "6f606e85-0534-4a0a-8104-2adcaa36212b",
   "metadata": {},
   "outputs": [
    {
     "data": {
      "text/plain": [
       "<seaborn.axisgrid.FacetGrid at 0x1cb980bf610>"
      ]
     },
     "execution_count": 13,
     "metadata": {},
     "output_type": "execute_result"
    },
    {
     "data": {
      "image/png": "[encoded data removed]",
      "text/plain": [
       "<Figure size 511.111x500 with 1 Axes>"
      ]
     },
     "metadata": {},
     "output_type": "display_data"
    }
   ],
   "source": [
    "sns.catplot(x='study_time', y='G3', data=student_data, kind='bar', order=category_order)"
   ]
  },
  {
   "cell_type": "markdown",
   "id": "357fe233-50ce-4c4a-98c8-9187cc4fb239",
   "metadata": {},
   "source": [
    "- Update the plot so that it no longer displays confidence intervals.\n",
    "\n"
   ]
  },
  {
   "cell_type": "code",
   "execution_count": 14,
   "id": "61a68fcf-af8d-44c0-a06c-1f3b889c771b",
   "metadata": {},
   "outputs": [
    {
     "data": {
      "text/plain": [
       "<seaborn.axisgrid.FacetGrid at 0x1cb982c6ed0>"
      ]
     },
     "execution_count": 14,
     "metadata": {},
     "output_type": "execute_result"
    },
    {
     "data": {
      "image/png": "[encoded data removed]",
      "text/plain": [
       "<Figure size 511.111x500 with 1 Axes>"
      ]
     },
     "metadata": {},
     "output_type": "display_data"
    }
   ],
   "source": [
    "sns.catplot(x='study_time', y='G3', data=student_data, kind='bar', order=category_order, errorbar=None)"
   ]
  },
  {
   "cell_type": "code",
   "execution_count": null,
   "id": "5e9e7d1e-d430-47f1-801c-310765595a18",
   "metadata": {},
   "outputs": [],
   "source": []
  }
 ],
 "metadata": {
  "kernelspec": {
   "display_name": "Python 3 (ipykernel)",
   "language": "python",
   "name": "python3"
  },
  "language_info": {
   "codemirror_mode": {
    "name": "ipython",
    "version": 3
   },
   "file_extension": ".py",
   "mimetype": "text/x-python",
   "name": "python",
   "nbconvert_exporter": "python",
   "pygments_lexer": "ipython3",
   "version": "3.11.7"
  }
 },
 "nbformat": 4,
 "nbformat_minor": 5
}
