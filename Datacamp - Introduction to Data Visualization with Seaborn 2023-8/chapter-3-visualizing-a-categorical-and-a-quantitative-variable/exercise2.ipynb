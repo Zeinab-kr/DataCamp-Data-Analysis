{
 "cells": [
  {
   "cell_type": "markdown",
   "id": "fd486fce-2c3a-4923-81c0-b382bc03fb3f",
   "metadata": {},
   "source": [
    "\n",
    "#  Bar plots with percentages\n",
    "\n",
    "##  Assignment \n",
    "\n",
    "Let's continue exploring the responses to a survey sent out to young people. The variable `\"Interested in Math\"` is `True` if the person reported being interested or very interested in mathematics, and `False` otherwise. What percentage of young people report being interested in math, and does this vary based on gender? Let's use a bar plot to find out.\n",
    "\n",
    "As a reminder, we'll create a bar plot using the `catplot()` function, providing the name of categorical variable to put on the x-axis (`x=____`), the name of the quantitative variable to summarize on the y-axis (`y=____`), the pandas DataFrame to use (`data=____`), and the type of categorical plot (`kind=\"bar\"`).\n",
    "\n",
    "Seaborn has been imported as `sns` and `matplotlib.pyplot` has been imported as `plt`.\n",
    "\n",
    "##  Pre exercise code \n",
    "\n",
    "```\n",
    "import matplotlib.pyplot as plt\n",
    "import seaborn as sns\n",
    "import pandas as pd\n",
    "\n",
    "survey_data = pd.read_csv(\"https://assets.datacamp.com/production/repositories/3996/datasets/ab13162732ae9ca1a9a27e2efd3da923ed6a4e7b/young-people-survey-responses.csv\", index_col=0)\n",
    "\n",
    "survey_data[\"Interested in Math\"] = survey_data[\"Mathematics\"] > 3.0\n",
    "```\n",
    "\n",
    "\n",
    "\n",
    "##  Instructions \n",
    "\n",
    "- Use the `survey_data` DataFrame and `sns.catplot()` to create a bar plot with `\"Gender\"` on the x-axis and `\"Interested in Math\"` on the y-axis.\n"
   ]
  },
  {
   "cell_type": "code",
   "execution_count": 7,
   "id": "041c1b10-e889-4dd9-bd4d-6c6ea04207b8",
   "metadata": {},
   "outputs": [],
   "source": [
    "import matplotlib.pyplot as plt\n",
    "import seaborn as sns\n",
    "import pandas as pd\n",
    "\n",
    "survey_data = pd.read_csv(\"young-people-survey-responses.csv\", index_col=0)\n",
    "\n",
    "survey_data[\"Interested in Math\"] = survey_data[\"Mathematics\"] > 3.0"
   ]
  },
  {
   "cell_type": "code",
   "execution_count": 8,
   "id": "abb48966-1a31-49c2-b451-c52e5b914cd6",
   "metadata": {},
   "outputs": [
    {
     "data": {
      "text/plain": [
       "<seaborn.axisgrid.FacetGrid at 0x1cb97ef88d0>"
      ]
     },
     "execution_count": 8,
     "metadata": {},
     "output_type": "execute_result"
    },
    {
     "data": {
      "image/png": "[encoded data removed]",
      "text/plain": [
       "<Figure size 511.111x500 with 1 Axes>"
      ]
     },
     "metadata": {},
     "output_type": "display_data"
    }
   ],
   "source": [
    "sns.catplot(x='Gender', y='Interested in Math', data=survey_data, kind='bar')"
   ]
  },
  {
   "cell_type": "code",
   "execution_count": null,
   "id": "4e3e1539-b465-4350-a4dc-c5c49d4896e3",
   "metadata": {},
   "outputs": [],
   "source": []
  }
 ],
 "metadata": {
  "kernelspec": {
   "display_name": "Python 3 (ipykernel)",
   "language": "python",
   "name": "python3"
  },
  "language_info": {
   "codemirror_mode": {
    "name": "ipython",
    "version": 3
   },
   "file_extension": ".py",
   "mimetype": "text/x-python",
   "name": "python",
   "nbconvert_exporter": "python",
   "pygments_lexer": "ipython3",
   "version": "3.11.7"
  }
 },
 "nbformat": 4,
 "nbformat_minor": 5
}
