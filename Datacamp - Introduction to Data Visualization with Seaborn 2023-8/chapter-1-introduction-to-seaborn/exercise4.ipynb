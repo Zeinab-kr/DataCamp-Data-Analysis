{
 "cells": [
  {
   "cell_type": "markdown",
   "id": "a9b88a0f-b89e-44b5-8302-f5d3c4ba7fc2",
   "metadata": {},
   "source": [
    "\n",
    "#  Making a count plot with a DataFrame\n",
    "\n",
    "##  Assignment \n",
    "\n",
    "In this exercise, we'll look at the responses to a survey sent out to young people. Our primary question here is: how many young people surveyed report being scared of spiders? Survey participants were asked to agree or disagree with the statement \"I am afraid of spiders\". Responses vary from 1 to 5, where 1 is \"Strongly disagree\" and 5 is \"Strongly agree\".\n",
    "\n",
    "To get you started, the filepath to the csv file with the survey data has been assigned to the variable `csv_filepath`.\n",
    "\n",
    "Note that because `csv_filepath` is a Python variable, you will not need to put quotation marks around it when you read the csv.\n",
    "\n",
    "##  Pre exercise code \n",
    "\n",
    "```\n",
    "csv_filepath = \"https://assets.datacamp.com/production/repositories/3996/datasets/ab13162732ae9ca1a9a27e2efd3da923ed6a4e7b/young-people-survey-responses.csv\"\n",
    "```\n",
    "\n",
    "\n",
    "\n",
    "##  Instructions \n",
    "\n",
    "- Import Matplotlib, pandas, and Seaborn using the standard names.\n",
    "- Create a DataFrame named `df` from the csv file located at `csv_filepath`.\n",
    "- Use the `countplot()` function with the `x=` and `data=` arguments to create a count plot with the `\"Spiders\"` column values on the x-axis.\n",
    "- Display the plot.\n"
   ]
  },
  {
   "cell_type": "code",
   "execution_count": 21,
   "id": "76b8e9cb-674a-4854-acea-960c51346aae",
   "metadata": {},
   "outputs": [],
   "source": [
    "csv_filepath = \"young-people-survey-responses.csv\""
   ]
  },
  {
   "cell_type": "code",
   "execution_count": 22,
   "id": "0e380c26-da00-4437-a689-bea5c0c16505",
   "metadata": {},
   "outputs": [],
   "source": [
    "import pandas as pd\n",
    "import matplotlib.pyplot as plt\n",
    "import seaborn as sns"
   ]
  },
  {
   "cell_type": "code",
   "execution_count": 23,
   "id": "cbb29557-c9c9-458f-b180-79ba24db5bdd",
   "metadata": {},
   "outputs": [],
   "source": [
    "df = pd.read_csv(csv_filepath)"
   ]
  },
  {
   "cell_type": "code",
   "execution_count": 24,
   "id": "81c60a77-2e7b-47c0-9dbe-0ad1785d71a5",
   "metadata": {},
   "outputs": [
    {
     "data": {
      "text/html": [
       "<div>\n",
       "<style scoped>\n",
       "    .dataframe tbody tr th:only-of-type {\n",
       "        vertical-align: middle;\n",
       "    }\n",
       "\n",
       "    .dataframe tbody tr th {\n",
       "        vertical-align: top;\n",
       "    }\n",
       "\n",
       "    .dataframe thead th {\n",
       "        text-align: right;\n",
       "    }\n",
       "</style>\n",
       "<table border=\"1\" class=\"dataframe\">\n",
       "  <thead>\n",
       "    <tr style=\"text-align: right;\">\n",
       "      <th></th>\n",
       "      <th>Unnamed: 0</th>\n",
       "      <th>Music</th>\n",
       "      <th>Techno</th>\n",
       "      <th>Movies</th>\n",
       "      <th>History</th>\n",
       "      <th>Mathematics</th>\n",
       "      <th>Pets</th>\n",
       "      <th>Spiders</th>\n",
       "      <th>Loneliness</th>\n",
       "      <th>Parents' advice</th>\n",
       "      <th>Internet usage</th>\n",
       "      <th>Finances</th>\n",
       "      <th>Age</th>\n",
       "      <th>Siblings</th>\n",
       "      <th>Gender</th>\n",
       "      <th>Village - town</th>\n",
       "    </tr>\n",
       "  </thead>\n",
       "  <tbody>\n",
       "    <tr>\n",
       "      <th>0</th>\n",
       "      <td>0</td>\n",
       "      <td>5.0</td>\n",
       "      <td>1.0</td>\n",
       "      <td>5.0</td>\n",
       "      <td>1.0</td>\n",
       "      <td>3.0</td>\n",
       "      <td>4.0</td>\n",
       "      <td>1.0</td>\n",
       "      <td>3.0</td>\n",
       "      <td>4.0</td>\n",
       "      <td>few hours a day</td>\n",
       "      <td>3.0</td>\n",
       "      <td>20.0</td>\n",
       "      <td>1.0</td>\n",
       "      <td>female</td>\n",
       "      <td>village</td>\n",
       "    </tr>\n",
       "  </tbody>\n",
       "</table>\n",
       "</div>"
      ],
      "text/plain": [
       "   Unnamed: 0  Music  Techno  Movies  History  Mathematics  Pets  Spiders  \\\n",
       "0           0    5.0     1.0     5.0      1.0          3.0   4.0      1.0   \n",
       "\n",
       "   Loneliness  Parents' advice   Internet usage  Finances   Age  Siblings  \\\n",
       "0         3.0              4.0  few hours a day       3.0  20.0       1.0   \n",
       "\n",
       "   Gender Village - town  \n",
       "0  female        village  "
      ]
     },
     "execution_count": 24,
     "metadata": {},
     "output_type": "execute_result"
    }
   ],
   "source": [
    "df.head(1)"
   ]
  },
  {
   "cell_type": "code",
   "execution_count": 25,
   "id": "ffb26441-2ac3-4d6f-abe6-a81617230f64",
   "metadata": {},
   "outputs": [
    {
     "data": {
      "text/plain": [
       "<Axes: xlabel='Spiders', ylabel='count'>"
      ]
     },
     "execution_count": 25,
     "metadata": {},
     "output_type": "execute_result"
    },
    {
     "data": {
      "image/png": "[encoded data removed]",
      "text/plain": [
       "<Figure size 640x480 with 1 Axes>"
      ]
     },
     "metadata": {},
     "output_type": "display_data"
    }
   ],
   "source": [
    "sns.countplot(x='Spiders', data=df)"
   ]
  },
  {
   "cell_type": "code",
   "execution_count": null,
   "id": "5255f511-495b-4c6a-86d6-cdc8f9d6fbec",
   "metadata": {},
   "outputs": [],
   "source": []
  }
 ],
 "metadata": {
  "kernelspec": {
   "display_name": "Python 3 (ipykernel)",
   "language": "python",
   "name": "python3"
  },
  "language_info": {
   "codemirror_mode": {
    "name": "ipython",
    "version": 3
   },
   "file_extension": ".py",
   "mimetype": "text/x-python",
   "name": "python",
   "nbconvert_exporter": "python",
   "pygments_lexer": "ipython3",
   "version": "3.11.7"
  }
 },
 "nbformat": 4,
 "nbformat_minor": 5
}
