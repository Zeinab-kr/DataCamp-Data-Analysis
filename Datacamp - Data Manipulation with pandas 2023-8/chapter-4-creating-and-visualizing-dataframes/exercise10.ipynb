{
 "cells": [
  {
   "cell_type": "markdown",
   "id": "a074dc12-59ed-43f9-803b-740fc4c7a934",
   "metadata": {},
   "source": [
    "#  CSV to DataFrame\n",
    "\n",
    "##  Assignment \n",
    "\n",
    "You work for an airline, and your manager has asked you to do a competitive analysis and see how often passengers flying on other airlines are involuntarily bumped from their flights.\n",
    "You got a CSV file (`airline_bumping.csv`) from the Department of Transportation containing data on passengers that were involuntarily denied boarding in 2016 and 2017, but it doesn't have the exact numbers you want. In order to figure this out, you'll need to get the CSV into a pandas DataFrame and do some manipulation!\n",
    "\n",
    "`pandas` is imported for you as `pd`. `\"airline_bumping.csv\"` is in your working directory.\n",
    "\n",
    "##  Pre exercise code \n",
    "\n",
    "```\n",
    "from urllib.request import urlretrieve\n",
    "url = \"https://assets.datacamp.com/production/repositories/5386/datasets/e0bbcc236b192efe5814c379d8c669157311acc5/airline_bumping.csv\"\n",
    "urlretrieve(url, \"airline_bumping.csv\")\n",
    "\n",
    "import pandas as pd\n",
    "```"
   ]
  },
  {
   "cell_type": "code",
   "execution_count": 1,
   "id": "5b728f32-94ce-4261-919b-8b4e174941dc",
   "metadata": {},
   "outputs": [],
   "source": [
    "from urllib.request import urlretrieve"
   ]
  },
  {
   "cell_type": "code",
   "execution_count": 2,
   "id": "8d060d55-5685-417c-bd97-5519df79aaa6",
   "metadata": {},
   "outputs": [
    {
     "data": {
      "text/plain": [
       "('airline_bumping.csv', <http.client.HTTPMessage at 0x295b0e84210>)"
      ]
     },
     "execution_count": 2,
     "metadata": {},
     "output_type": "execute_result"
    }
   ],
   "source": [
    "url = \"https://assets.datacamp.com/production/repositories/5386/datasets/e0bbcc236b192efe5814c379d8c669157311acc5/airline_bumping.csv\"\n",
    "urlretrieve(url, \"airline_bumping.csv\")"
   ]
  },
  {
   "cell_type": "code",
   "execution_count": 3,
   "id": "143ad508-30ce-47cd-9e91-afe0b35e6398",
   "metadata": {},
   "outputs": [],
   "source": [
    "import pandas as pd"
   ]
  },
  {
   "cell_type": "markdown",
   "id": "be8f29e9-86fb-4450-a97f-62040ec2f014",
   "metadata": {},
   "source": [
    "##  Instructions \n",
    "\n",
    "- Read the CSV file `\"airline_bumping.csv\"` and store it as a DataFrame called `airline_bumping`.\n",
    "- Print the first few rows of `airline_bumping`.\n",
    "\n",
    "\n",
    "\n",
    "```\n",
    "# Read CSV as DataFrame called airline_bumping\n",
    "airline_bumping = ____\n",
    "\n",
    "# Take a look at the DataFrame\n",
    "print(____)\n",
    "```"
   ]
  },
  {
   "cell_type": "code",
   "execution_count": 13,
   "id": "1ef3ee77-e3e1-4ad5-a27e-597d9bf5646b",
   "metadata": {},
   "outputs": [],
   "source": [
    "airline_bumping = pd.read_csv(\"airline_bumping.csv\")"
   ]
  },
  {
   "cell_type": "code",
   "execution_count": 14,
   "id": "1d9310a3-303e-4265-81d6-01a2b2fcbf4a",
   "metadata": {},
   "outputs": [
    {
     "data": {
      "text/html": [
       "<div>\n",
       "<style scoped>\n",
       "    .dataframe tbody tr th:only-of-type {\n",
       "        vertical-align: middle;\n",
       "    }\n",
       "\n",
       "    .dataframe tbody tr th {\n",
       "        vertical-align: top;\n",
       "    }\n",
       "\n",
       "    .dataframe thead th {\n",
       "        text-align: right;\n",
       "    }\n",
       "</style>\n",
       "<table border=\"1\" class=\"dataframe\">\n",
       "  <thead>\n",
       "    <tr style=\"text-align: right;\">\n",
       "      <th></th>\n",
       "      <th>airline</th>\n",
       "      <th>year</th>\n",
       "      <th>nb_bumped</th>\n",
       "      <th>total_passengers</th>\n",
       "    </tr>\n",
       "  </thead>\n",
       "  <tbody>\n",
       "    <tr>\n",
       "      <th>0</th>\n",
       "      <td>DELTA AIR LINES</td>\n",
       "      <td>2017</td>\n",
       "      <td>679</td>\n",
       "      <td>99796155</td>\n",
       "    </tr>\n",
       "    <tr>\n",
       "      <th>1</th>\n",
       "      <td>VIRGIN AMERICA</td>\n",
       "      <td>2017</td>\n",
       "      <td>165</td>\n",
       "      <td>6090029</td>\n",
       "    </tr>\n",
       "    <tr>\n",
       "      <th>2</th>\n",
       "      <td>JETBLUE AIRWAYS</td>\n",
       "      <td>2017</td>\n",
       "      <td>1475</td>\n",
       "      <td>27255038</td>\n",
       "    </tr>\n",
       "    <tr>\n",
       "      <th>3</th>\n",
       "      <td>UNITED AIRLINES</td>\n",
       "      <td>2017</td>\n",
       "      <td>2067</td>\n",
       "      <td>70030765</td>\n",
       "    </tr>\n",
       "    <tr>\n",
       "      <th>4</th>\n",
       "      <td>HAWAIIAN AIRLINES</td>\n",
       "      <td>2017</td>\n",
       "      <td>92</td>\n",
       "      <td>8422734</td>\n",
       "    </tr>\n",
       "  </tbody>\n",
       "</table>\n",
       "</div>"
      ],
      "text/plain": [
       "             airline  year  nb_bumped  total_passengers\n",
       "0    DELTA AIR LINES  2017        679          99796155\n",
       "1     VIRGIN AMERICA  2017        165           6090029\n",
       "2    JETBLUE AIRWAYS  2017       1475          27255038\n",
       "3    UNITED AIRLINES  2017       2067          70030765\n",
       "4  HAWAIIAN AIRLINES  2017         92           8422734"
      ]
     },
     "execution_count": 14,
     "metadata": {},
     "output_type": "execute_result"
    }
   ],
   "source": [
    "airline_bumping.head()"
   ]
  },
  {
   "cell_type": "markdown",
   "id": "66d62929-5ba7-4244-b6ec-b69e789eeb5d",
   "metadata": {},
   "source": [
    "##  Instructions \n",
    "\n",
    "- For each airline group, select the `nb_bumped`, and `total_passengers` columns, and calculate the sum (for both years). Store this as `airline_totals`."
   ]
  },
  {
   "cell_type": "code",
   "execution_count": 15,
   "id": "bdf762c0-2524-408b-9073-191c03ad5b5c",
   "metadata": {},
   "outputs": [],
   "source": [
    "airline_totals = airline_bumping.groupby(\"airline\")[[\"nb_bumped\", \"total_passengers\"]].sum()"
   ]
  },
  {
   "cell_type": "code",
   "execution_count": 16,
   "id": "d8db0cf6-731f-4358-a07c-c471fa95f465",
   "metadata": {},
   "outputs": [
    {
     "data": {
      "text/html": [
       "<div>\n",
       "<style scoped>\n",
       "    .dataframe tbody tr th:only-of-type {\n",
       "        vertical-align: middle;\n",
       "    }\n",
       "\n",
       "    .dataframe tbody tr th {\n",
       "        vertical-align: top;\n",
       "    }\n",
       "\n",
       "    .dataframe thead th {\n",
       "        text-align: right;\n",
       "    }\n",
       "</style>\n",
       "<table border=\"1\" class=\"dataframe\">\n",
       "  <thead>\n",
       "    <tr style=\"text-align: right;\">\n",
       "      <th></th>\n",
       "      <th>nb_bumped</th>\n",
       "      <th>total_passengers</th>\n",
       "    </tr>\n",
       "    <tr>\n",
       "      <th>airline</th>\n",
       "      <th></th>\n",
       "      <th></th>\n",
       "    </tr>\n",
       "  </thead>\n",
       "  <tbody>\n",
       "    <tr>\n",
       "      <th>ALASKA AIRLINES</th>\n",
       "      <td>1392</td>\n",
       "      <td>36543121</td>\n",
       "    </tr>\n",
       "    <tr>\n",
       "      <th>AMERICAN AIRLINES</th>\n",
       "      <td>11115</td>\n",
       "      <td>197365225</td>\n",
       "    </tr>\n",
       "    <tr>\n",
       "      <th>DELTA AIR LINES</th>\n",
       "      <td>1591</td>\n",
       "      <td>197033215</td>\n",
       "    </tr>\n",
       "    <tr>\n",
       "      <th>EXPRESSJET AIRLINES</th>\n",
       "      <td>3326</td>\n",
       "      <td>27858678</td>\n",
       "    </tr>\n",
       "    <tr>\n",
       "      <th>FRONTIER AIRLINES</th>\n",
       "      <td>1228</td>\n",
       "      <td>22954995</td>\n",
       "    </tr>\n",
       "    <tr>\n",
       "      <th>HAWAIIAN AIRLINES</th>\n",
       "      <td>122</td>\n",
       "      <td>16577572</td>\n",
       "    </tr>\n",
       "    <tr>\n",
       "      <th>JETBLUE AIRWAYS</th>\n",
       "      <td>3615</td>\n",
       "      <td>53245866</td>\n",
       "    </tr>\n",
       "    <tr>\n",
       "      <th>SKYWEST AIRLINES</th>\n",
       "      <td>3094</td>\n",
       "      <td>47091737</td>\n",
       "    </tr>\n",
       "    <tr>\n",
       "      <th>SOUTHWEST AIRLINES</th>\n",
       "      <td>18585</td>\n",
       "      <td>228142036</td>\n",
       "    </tr>\n",
       "    <tr>\n",
       "      <th>SPIRIT AIRLINES</th>\n",
       "      <td>2920</td>\n",
       "      <td>32304571</td>\n",
       "    </tr>\n",
       "    <tr>\n",
       "      <th>UNITED AIRLINES</th>\n",
       "      <td>4941</td>\n",
       "      <td>134468897</td>\n",
       "    </tr>\n",
       "    <tr>\n",
       "      <th>VIRGIN AMERICA</th>\n",
       "      <td>242</td>\n",
       "      <td>12017967</td>\n",
       "    </tr>\n",
       "  </tbody>\n",
       "</table>\n",
       "</div>"
      ],
      "text/plain": [
       "                     nb_bumped  total_passengers\n",
       "airline                                         \n",
       "ALASKA AIRLINES           1392          36543121\n",
       "AMERICAN AIRLINES        11115         197365225\n",
       "DELTA AIR LINES           1591         197033215\n",
       "EXPRESSJET AIRLINES       3326          27858678\n",
       "FRONTIER AIRLINES         1228          22954995\n",
       "HAWAIIAN AIRLINES          122          16577572\n",
       "JETBLUE AIRWAYS           3615          53245866\n",
       "SKYWEST AIRLINES          3094          47091737\n",
       "SOUTHWEST AIRLINES       18585         228142036\n",
       "SPIRIT AIRLINES           2920          32304571\n",
       "UNITED AIRLINES           4941         134468897\n",
       "VIRGIN AMERICA             242          12017967"
      ]
     },
     "execution_count": 16,
     "metadata": {},
     "output_type": "execute_result"
    }
   ],
   "source": [
    "airline_totals"
   ]
  },
  {
   "cell_type": "markdown",
   "id": "f9af0961-7bdb-42be-b3ff-ad72b46885ef",
   "metadata": {},
   "source": [
    "##  Instructions \n",
    "\n",
    "- Create a new column of `airline_totals` called `bumps_per_10k`, which is the number of passengers bumped per 10,000 passengers in 2016 and 2017."
   ]
  },
  {
   "cell_type": "code",
   "execution_count": 17,
   "id": "12ccf80c-832e-4bb8-a872-6b1aad8d8720",
   "metadata": {},
   "outputs": [],
   "source": [
    "airline_totals[\"bumps_per_10k\"] = airline_totals[\"nb_bumped\"] / airline_totals[\"total_passengers\"] * 10000"
   ]
  },
  {
   "cell_type": "code",
   "execution_count": 19,
   "id": "f8c4ec09-dd34-4f51-97c9-3fb0fc57e47c",
   "metadata": {},
   "outputs": [
    {
     "data": {
      "text/html": [
       "<div>\n",
       "<style scoped>\n",
       "    .dataframe tbody tr th:only-of-type {\n",
       "        vertical-align: middle;\n",
       "    }\n",
       "\n",
       "    .dataframe tbody tr th {\n",
       "        vertical-align: top;\n",
       "    }\n",
       "\n",
       "    .dataframe thead th {\n",
       "        text-align: right;\n",
       "    }\n",
       "</style>\n",
       "<table border=\"1\" class=\"dataframe\">\n",
       "  <thead>\n",
       "    <tr style=\"text-align: right;\">\n",
       "      <th></th>\n",
       "      <th>nb_bumped</th>\n",
       "      <th>total_passengers</th>\n",
       "      <th>bumps_per_10k</th>\n",
       "    </tr>\n",
       "    <tr>\n",
       "      <th>airline</th>\n",
       "      <th></th>\n",
       "      <th></th>\n",
       "      <th></th>\n",
       "    </tr>\n",
       "  </thead>\n",
       "  <tbody>\n",
       "    <tr>\n",
       "      <th>ALASKA AIRLINES</th>\n",
       "      <td>1392</td>\n",
       "      <td>36543121</td>\n",
       "      <td>0.380920</td>\n",
       "    </tr>\n",
       "    <tr>\n",
       "      <th>AMERICAN AIRLINES</th>\n",
       "      <td>11115</td>\n",
       "      <td>197365225</td>\n",
       "      <td>0.563169</td>\n",
       "    </tr>\n",
       "    <tr>\n",
       "      <th>DELTA AIR LINES</th>\n",
       "      <td>1591</td>\n",
       "      <td>197033215</td>\n",
       "      <td>0.080748</td>\n",
       "    </tr>\n",
       "    <tr>\n",
       "      <th>EXPRESSJET AIRLINES</th>\n",
       "      <td>3326</td>\n",
       "      <td>27858678</td>\n",
       "      <td>1.193883</td>\n",
       "    </tr>\n",
       "    <tr>\n",
       "      <th>FRONTIER AIRLINES</th>\n",
       "      <td>1228</td>\n",
       "      <td>22954995</td>\n",
       "      <td>0.534960</td>\n",
       "    </tr>\n",
       "  </tbody>\n",
       "</table>\n",
       "</div>"
      ],
      "text/plain": [
       "                     nb_bumped  total_passengers  bumps_per_10k\n",
       "airline                                                        \n",
       "ALASKA AIRLINES           1392          36543121       0.380920\n",
       "AMERICAN AIRLINES        11115         197365225       0.563169\n",
       "DELTA AIR LINES           1591         197033215       0.080748\n",
       "EXPRESSJET AIRLINES       3326          27858678       1.193883\n",
       "FRONTIER AIRLINES         1228          22954995       0.534960"
      ]
     },
     "execution_count": 19,
     "metadata": {},
     "output_type": "execute_result"
    }
   ],
   "source": [
    "airline_totals.head()"
   ]
  },
  {
   "cell_type": "code",
   "execution_count": null,
   "id": "9f917ac9-2bdb-4b4f-931e-f06c5dd9e753",
   "metadata": {},
   "outputs": [],
   "source": []
  }
 ],
 "metadata": {
  "kernelspec": {
   "display_name": "Python 3 (ipykernel)",
   "language": "python",
   "name": "python3"
  },
  "language_info": {
   "codemirror_mode": {
    "name": "ipython",
    "version": 3
   },
   "file_extension": ".py",
   "mimetype": "text/x-python",
   "name": "python",
   "nbconvert_exporter": "python",
   "pygments_lexer": "ipython3",
   "version": "3.11.7"
  }
 },
 "nbformat": 4,
 "nbformat_minor": 5
}
