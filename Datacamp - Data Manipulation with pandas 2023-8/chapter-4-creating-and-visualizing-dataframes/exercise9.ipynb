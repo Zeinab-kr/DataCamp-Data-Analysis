{
 "cells": [
  {
   "cell_type": "markdown",
   "id": "4946c02e-5491-4674-ae0d-17c4f91cc320",
   "metadata": {},
   "source": [
    "#  Dictionary of lists\n",
    "\n",
    "##  Assignment \n",
    "\n",
    "Some more data just came in! This time, you'll use the dictionary of lists method, parsing the data column by column.\n",
    "\n",
    "|date|small_sold|large_sold\n",
    "|------\n",
    "|\"2019-11-17\"|10859987|7674135\n",
    "|\"2019-12-01\"|9291631|6238096\n",
    "\n",
    "\n",
    "##  Instructions \n",
    "\n",
    "- Create a dictionary of lists with the new data called `avocados_dict`.\n",
    "- Convert the dictionary to a DataFrame called `avocados_2019`.\n",
    "- Print your new DataFrame."
   ]
  },
  {
   "cell_type": "code",
   "execution_count": 1,
   "id": "fe482d18-6bf7-4ea2-aac4-15e4d8c70761",
   "metadata": {},
   "outputs": [],
   "source": [
    "import pandas as pd"
   ]
  },
  {
   "cell_type": "code",
   "execution_count": 2,
   "id": "4251ab9b-b679-467a-8fd2-b0d80a1cb445",
   "metadata": {},
   "outputs": [],
   "source": [
    "avocados_dict = {\"type\": [\"conventional\", \"conventional\", \"organic\"],\n",
    "                 \"year\": [2019, 2019, 2019],\n",
    "                 \"avg_price\": [1.04, 0.89, 1.44],\n",
    "                 \"nb_sold\": [12569277.14, 13003371.07,  8235135.43]}"
   ]
  },
  {
   "cell_type": "code",
   "execution_count": 3,
   "id": "e32846f0-769e-4979-89b9-1ab15f0c9d6b",
   "metadata": {},
   "outputs": [],
   "source": [
    "avos_2019 = pd.DataFrame(avocados_dict)"
   ]
  },
  {
   "cell_type": "code",
   "execution_count": 4,
   "id": "ece4061e-0d03-44cc-b66a-8986f7036fb0",
   "metadata": {},
   "outputs": [
    {
     "data": {
      "text/html": [
       "<div>\n",
       "<style scoped>\n",
       "    .dataframe tbody tr th:only-of-type {\n",
       "        vertical-align: middle;\n",
       "    }\n",
       "\n",
       "    .dataframe tbody tr th {\n",
       "        vertical-align: top;\n",
       "    }\n",
       "\n",
       "    .dataframe thead th {\n",
       "        text-align: right;\n",
       "    }\n",
       "</style>\n",
       "<table border=\"1\" class=\"dataframe\">\n",
       "  <thead>\n",
       "    <tr style=\"text-align: right;\">\n",
       "      <th></th>\n",
       "      <th>type</th>\n",
       "      <th>year</th>\n",
       "      <th>avg_price</th>\n",
       "      <th>nb_sold</th>\n",
       "    </tr>\n",
       "  </thead>\n",
       "  <tbody>\n",
       "    <tr>\n",
       "      <th>0</th>\n",
       "      <td>conventional</td>\n",
       "      <td>2019</td>\n",
       "      <td>1.04</td>\n",
       "      <td>12569277.14</td>\n",
       "    </tr>\n",
       "    <tr>\n",
       "      <th>1</th>\n",
       "      <td>conventional</td>\n",
       "      <td>2019</td>\n",
       "      <td>0.89</td>\n",
       "      <td>13003371.07</td>\n",
       "    </tr>\n",
       "    <tr>\n",
       "      <th>2</th>\n",
       "      <td>organic</td>\n",
       "      <td>2019</td>\n",
       "      <td>1.44</td>\n",
       "      <td>8235135.43</td>\n",
       "    </tr>\n",
       "  </tbody>\n",
       "</table>\n",
       "</div>"
      ],
      "text/plain": [
       "           type  year  avg_price      nb_sold\n",
       "0  conventional  2019       1.04  12569277.14\n",
       "1  conventional  2019       0.89  13003371.07\n",
       "2       organic  2019       1.44   8235135.43"
      ]
     },
     "execution_count": 4,
     "metadata": {},
     "output_type": "execute_result"
    }
   ],
   "source": [
    "avos_2019"
   ]
  },
  {
   "cell_type": "code",
   "execution_count": null,
   "id": "9b9123ab-c533-4e0c-a87d-0251ae458f38",
   "metadata": {},
   "outputs": [],
   "source": []
  }
 ],
 "metadata": {
  "kernelspec": {
   "display_name": "Python 3 (ipykernel)",
   "language": "python",
   "name": "python3"
  },
  "language_info": {
   "codemirror_mode": {
    "name": "ipython",
    "version": 3
   },
   "file_extension": ".py",
   "mimetype": "text/x-python",
   "name": "python",
   "nbconvert_exporter": "python",
   "pygments_lexer": "ipython3",
   "version": "3.11.7"
  }
 },
 "nbformat": 4,
 "nbformat_minor": 5
}
