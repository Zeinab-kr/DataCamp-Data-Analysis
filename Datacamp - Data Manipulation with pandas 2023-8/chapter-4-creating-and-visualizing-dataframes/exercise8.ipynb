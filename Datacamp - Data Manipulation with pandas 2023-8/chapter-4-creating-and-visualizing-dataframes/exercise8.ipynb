{
 "cells": [
  {
   "cell_type": "markdown",
   "id": "4bab6037-fe41-4c40-9b6a-5b386d30fb2a",
   "metadata": {},
   "source": [
    "#  List of dictionaries\n",
    "\n",
    "##  Assignment \n",
    "\n",
    "You recently got some new avocado data from 2019 that you'd like to put in a DataFrame using the list of dictionaries method. Remember that with this method, you go through the data row by row.\n",
    "\n",
    "|date|small_sold|large_sold\n",
    "|------\n",
    "|\"2019-11-03\"|10376832|7835071\n",
    "|\"2019-11-10\"|10717154|8561348\n",
    "\n",
    "\n",
    "##  Instructions \n",
    "\n",
    "- Create a list of dictionaries with the new data called `avocados_list`.\n",
    "- Convert the list into a DataFrame called `avocados_2019`.\n",
    "- Print your new DataFrame.\n"
   ]
  },
  {
   "cell_type": "code",
   "execution_count": 1,
   "id": "6508af2b-eeea-425a-a31e-53a827c81cf1",
   "metadata": {},
   "outputs": [],
   "source": [
    "import pandas as pd"
   ]
  },
  {
   "cell_type": "code",
   "execution_count": 4,
   "id": "1cd80f09-71bc-44f6-8680-d2d73d49c572",
   "metadata": {},
   "outputs": [],
   "source": [
    "avocados_list = [{\"type\": \"conventional\", \"year\": 2019, \"avg_price\": 1.04, \"nb_sold\": 12569277.14},\n",
    "                 {\"type\": \"conventional\", \"year\": 2019, \"avg_price\": 0.89, \"nb_sold\": 13003371.07},\n",
    "                {\"type\": \"organic\", \"year\": 2019, \"avg_price\": 1.44, \"nb_sold\": 8235135.43}]"
   ]
  },
  {
   "cell_type": "code",
   "execution_count": 6,
   "id": "10accf83-786e-4e55-9ac7-34a27aca2c22",
   "metadata": {},
   "outputs": [],
   "source": [
    "avos_2019 = pd.DataFrame(avocados_list)"
   ]
  },
  {
   "cell_type": "code",
   "execution_count": 7,
   "id": "48e1e8e0-a341-4fcb-8d8e-a219f221a1dc",
   "metadata": {},
   "outputs": [
    {
     "data": {
      "text/html": [
       "<div>\n",
       "<style scoped>\n",
       "    .dataframe tbody tr th:only-of-type {\n",
       "        vertical-align: middle;\n",
       "    }\n",
       "\n",
       "    .dataframe tbody tr th {\n",
       "        vertical-align: top;\n",
       "    }\n",
       "\n",
       "    .dataframe thead th {\n",
       "        text-align: right;\n",
       "    }\n",
       "</style>\n",
       "<table border=\"1\" class=\"dataframe\">\n",
       "  <thead>\n",
       "    <tr style=\"text-align: right;\">\n",
       "      <th></th>\n",
       "      <th>type</th>\n",
       "      <th>year</th>\n",
       "      <th>avg_price</th>\n",
       "      <th>nb_sold</th>\n",
       "    </tr>\n",
       "  </thead>\n",
       "  <tbody>\n",
       "    <tr>\n",
       "      <th>0</th>\n",
       "      <td>conventional</td>\n",
       "      <td>2019</td>\n",
       "      <td>1.04</td>\n",
       "      <td>12569277.14</td>\n",
       "    </tr>\n",
       "    <tr>\n",
       "      <th>1</th>\n",
       "      <td>conventional</td>\n",
       "      <td>2019</td>\n",
       "      <td>0.89</td>\n",
       "      <td>13003371.07</td>\n",
       "    </tr>\n",
       "    <tr>\n",
       "      <th>2</th>\n",
       "      <td>organic</td>\n",
       "      <td>2019</td>\n",
       "      <td>1.44</td>\n",
       "      <td>8235135.43</td>\n",
       "    </tr>\n",
       "  </tbody>\n",
       "</table>\n",
       "</div>"
      ],
      "text/plain": [
       "           type  year  avg_price      nb_sold\n",
       "0  conventional  2019       1.04  12569277.14\n",
       "1  conventional  2019       0.89  13003371.07\n",
       "2       organic  2019       1.44   8235135.43"
      ]
     },
     "execution_count": 7,
     "metadata": {},
     "output_type": "execute_result"
    }
   ],
   "source": [
    "avos_2019"
   ]
  },
  {
   "cell_type": "code",
   "execution_count": null,
   "id": "1ec10a2d-0345-4f5a-820f-e4d02a69f02f",
   "metadata": {},
   "outputs": [],
   "source": []
  }
 ],
 "metadata": {
  "kernelspec": {
   "display_name": "Python 3 (ipykernel)",
   "language": "python",
   "name": "python3"
  },
  "language_info": {
   "codemirror_mode": {
    "name": "ipython",
    "version": 3
   },
   "file_extension": ".py",
   "mimetype": "text/x-python",
   "name": "python",
   "nbconvert_exporter": "python",
   "pygments_lexer": "ipython3",
   "version": "3.11.7"
  }
 },
 "nbformat": 4,
 "nbformat_minor": 5
}
