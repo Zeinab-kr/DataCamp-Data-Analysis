{
 "cells": [
  {
   "cell_type": "markdown",
   "id": "f4ded79f-6938-4666-81b2-ef24f752bbac",
   "metadata": {},
   "source": [
    "#  Calculating on a pivot table\n",
    "\n",
    "\n",
    "##  Assignment \n",
    "\n",
    "Pivot tables are filled with summary statistics, but they are only a first step to finding something insightful. Often you'll need to perform further calculations on them. A common thing to do is to find the rows or columns where the highest or lowest value occurs. \n",
    "\n",
    "Recall from Chapter 1 that you can easily subset a Series or DataFrame to find rows of interest using a logical condition inside of square brackets. For example: `series[series &gt; value]`.\n",
    "\n",
    "##  Pre exercise code \n",
    "\n",
    "```\n",
    "import pandas as pd\n",
    "temperatures = pd.read_pickle(\"/usr/local/share/datasets/temperatures_no_unc.pkl\")\n",
    "\n",
    "temperatures[\"year\"] = temperatures[\"date\"].dt.year\n",
    "temp_by_country_city_vs_year = temperatures.pivot_table(\"avg_temp_c\", index = [\"country\", \"city\"], columns = \"year\")\n",
    "```\n",
    "\n",
    "\n",
    "\n",
    "##  Instructions \n",
    "\n",
    "- Calculate the mean temperature for each year, assigning to `mean_temp_by_year`.\n",
    "- Filter `mean_temp_by_year` for the year that had the highest mean temperature.\n",
    "- Calculate the mean temperature for each city (across columns), assigning to `mean_temp_by_city`.\n",
    "- Filter `mean_temp_by_city` for the city that had the lowest mean temperature.\n"
   ]
  },
  {
   "cell_type": "code",
   "execution_count": 1,
   "id": "4ce82818-29d9-4c23-b0bc-84fc9cd945db",
   "metadata": {},
   "outputs": [],
   "source": [
    "import pandas as pd"
   ]
  },
  {
   "cell_type": "code",
   "execution_count": 3,
   "id": "b0f44459-a92b-4767-8e1f-50e7bfc5bdee",
   "metadata": {},
   "outputs": [],
   "source": [
    "temps = pd.read_csv(\"temperatures.csv\")"
   ]
  },
  {
   "cell_type": "code",
   "execution_count": 4,
   "id": "7f3d9864-f721-4a17-b556-bd6ce78d0367",
   "metadata": {},
   "outputs": [],
   "source": [
    "temps[\"date\"] = pd.to_datetime(temps[\"date\"])"
   ]
  },
  {
   "cell_type": "code",
   "execution_count": 5,
   "id": "3561870b-ffbc-423c-b607-21742d7bb427",
   "metadata": {},
   "outputs": [],
   "source": [
    "temps[\"year\"] = temps[\"date\"].dt.year"
   ]
  },
  {
   "cell_type": "code",
   "execution_count": 6,
   "id": "5e813549-2572-4e04-b491-66a0cd5555c5",
   "metadata": {},
   "outputs": [],
   "source": [
    "temp_by_country_city_vs_year = temps.pivot_table(\"avg_temp_c\", index=[\"country\", \"city\"], columns=\"year\")"
   ]
  },
  {
   "cell_type": "code",
   "execution_count": 7,
   "id": "646aac0d-cfcb-44a0-b512-ec0ea498a26a",
   "metadata": {},
   "outputs": [],
   "source": [
    "mean_temp_by_year = temp_by_country_city_vs_year.mean()"
   ]
  },
  {
   "cell_type": "code",
   "execution_count": 8,
   "id": "3cd35511-9534-4a19-888f-f97ca7bf5e2b",
   "metadata": {},
   "outputs": [
    {
     "data": {
      "text/plain": [
       "year\n",
       "2000    19.506243\n",
       "2001    19.679352\n",
       "2002    19.855685\n",
       "2003    19.630197\n",
       "2004    19.672204\n",
       "2005    19.607239\n",
       "2006    19.793993\n",
       "2007    19.854270\n",
       "2008    19.608778\n",
       "2009    19.833752\n",
       "2010    19.911734\n",
       "2011    19.549197\n",
       "2012    19.668239\n",
       "2013    20.312285\n",
       "dtype: float64"
      ]
     },
     "execution_count": 8,
     "metadata": {},
     "output_type": "execute_result"
    }
   ],
   "source": [
    "mean_temp_by_year"
   ]
  },
  {
   "cell_type": "code",
   "execution_count": 10,
   "id": "3a8c8f09-b200-40a9-8bf6-734d9758a300",
   "metadata": {},
   "outputs": [
    {
     "data": {
      "text/plain": [
       "year\n",
       "2013    20.312285\n",
       "dtype: float64"
      ]
     },
     "execution_count": 10,
     "metadata": {},
     "output_type": "execute_result"
    }
   ],
   "source": [
    "mean_temp_by_year[mean_temp_by_year == mean_temp_by_year.max()]"
   ]
  },
  {
   "cell_type": "code",
   "execution_count": 11,
   "id": "ac7c26be-b307-48c1-a943-ffdd3db8d368",
   "metadata": {},
   "outputs": [],
   "source": [
    "mean_temp_by_city = temp_by_country_city_vs_year.mean(axis=\"columns\")"
   ]
  },
  {
   "cell_type": "code",
   "execution_count": 12,
   "id": "a5895348-b626-4996-8c0d-fe6c2580c8dc",
   "metadata": {},
   "outputs": [
    {
     "data": {
      "text/plain": [
       "country        city            \n",
       "Afghanistan    Kabul               15.541955\n",
       "Angola         Luanda              24.391616\n",
       "Australia      Melbourne           14.275411\n",
       "               Sydney              17.799250\n",
       "Bangladesh     Dhaka               26.174440\n",
       "                                     ...    \n",
       "United States  Chicago             11.330825\n",
       "               Los Angeles         16.675399\n",
       "               New York            10.911034\n",
       "Vietnam        Ho Chi Minh City    27.922857\n",
       "Zimbabwe       Harare              20.699000\n",
       "Length: 100, dtype: float64"
      ]
     },
     "execution_count": 12,
     "metadata": {},
     "output_type": "execute_result"
    }
   ],
   "source": [
    "mean_temp_by_city"
   ]
  },
  {
   "cell_type": "code",
   "execution_count": 13,
   "id": "c2cd19b2-c9ef-4456-ae3e-cb0e4420d270",
   "metadata": {},
   "outputs": [
    {
     "data": {
      "text/plain": [
       "country  city  \n",
       "China    Harbin    4.876551\n",
       "dtype: float64"
      ]
     },
     "execution_count": 13,
     "metadata": {},
     "output_type": "execute_result"
    }
   ],
   "source": [
    "mean_temp_by_city[mean_temp_by_city == mean_temp_by_city.min()]"
   ]
  },
  {
   "cell_type": "code",
   "execution_count": null,
   "id": "d52a5e4a-ec0b-406c-9c4b-e27ef0488c4b",
   "metadata": {},
   "outputs": [],
   "source": []
  }
 ],
 "metadata": {
  "kernelspec": {
   "display_name": "Python 3 (ipykernel)",
   "language": "python",
   "name": "python3"
  },
  "language_info": {
   "codemirror_mode": {
    "name": "ipython",
    "version": 3
   },
   "file_extension": ".py",
   "mimetype": "text/x-python",
   "name": "python",
   "nbconvert_exporter": "python",
   "pygments_lexer": "ipython3",
   "version": "3.11.7"
  }
 },
 "nbformat": 4,
 "nbformat_minor": 5
}
