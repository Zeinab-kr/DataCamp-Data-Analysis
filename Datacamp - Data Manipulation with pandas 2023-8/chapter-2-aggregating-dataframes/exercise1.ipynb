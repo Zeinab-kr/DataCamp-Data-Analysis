{
 "cells": [
  {
   "cell_type": "markdown",
   "id": "08a580be-5c22-4ae0-ac9e-de6e3e67dd51",
   "metadata": {},
   "source": [
    "##  Assignment \n",
    "\n",
    "Summary statistics are exactly what they sound like - they summarize many numbers in one statistic. For example, mean, median, minimum, maximum, and standard deviation are summary statistics. Calculating summary statistics allows you to get a better sense of your data, even if there's a lot of it. \n",
    "\n",
    "##  Instructions \n",
    "\n",
    "- Explore your new DataFrame first by printing the first few rows of the `sales` DataFrame.\n",
    "- Print information about the columns in `sales`.\n",
    "- Print the mean of the `weekly_sales` column.\n",
    "- Print the median of the `weekly_sales` column."
   ]
  },
  {
   "cell_type": "code",
   "execution_count": 1,
   "id": "d6af6803-2bef-4925-a455-f227e5830909",
   "metadata": {},
   "outputs": [],
   "source": [
    "import pandas as pd"
   ]
  },
  {
   "cell_type": "code",
   "execution_count": 2,
   "id": "288a6672-9cc3-48ea-9aba-a8d82f785236",
   "metadata": {},
   "outputs": [],
   "source": [
    "sales = pd.read_csv(\"sales.csv\")"
   ]
  },
  {
   "cell_type": "code",
   "execution_count": 3,
   "id": "82b2796d-8d9d-4fd4-bf6f-037a56c5fc62",
   "metadata": {},
   "outputs": [
    {
     "data": {
      "text/html": [
       "<div>\n",
       "<style scoped>\n",
       "    .dataframe tbody tr th:only-of-type {\n",
       "        vertical-align: middle;\n",
       "    }\n",
       "\n",
       "    .dataframe tbody tr th {\n",
       "        vertical-align: top;\n",
       "    }\n",
       "\n",
       "    .dataframe thead th {\n",
       "        text-align: right;\n",
       "    }\n",
       "</style>\n",
       "<table border=\"1\" class=\"dataframe\">\n",
       "  <thead>\n",
       "    <tr style=\"text-align: right;\">\n",
       "      <th></th>\n",
       "      <th>Unnamed: 0</th>\n",
       "      <th>store</th>\n",
       "      <th>type</th>\n",
       "      <th>department</th>\n",
       "      <th>date</th>\n",
       "      <th>weekly_sales</th>\n",
       "      <th>is_holiday</th>\n",
       "      <th>temperature_c</th>\n",
       "      <th>fuel_price_usd_per_l</th>\n",
       "      <th>unemployment</th>\n",
       "    </tr>\n",
       "  </thead>\n",
       "  <tbody>\n",
       "    <tr>\n",
       "      <th>0</th>\n",
       "      <td>0</td>\n",
       "      <td>1</td>\n",
       "      <td>A</td>\n",
       "      <td>1</td>\n",
       "      <td>2010-02-05</td>\n",
       "      <td>24924.50</td>\n",
       "      <td>False</td>\n",
       "      <td>5.727778</td>\n",
       "      <td>0.679451</td>\n",
       "      <td>8.106</td>\n",
       "    </tr>\n",
       "    <tr>\n",
       "      <th>1</th>\n",
       "      <td>1</td>\n",
       "      <td>1</td>\n",
       "      <td>A</td>\n",
       "      <td>1</td>\n",
       "      <td>2010-03-05</td>\n",
       "      <td>21827.90</td>\n",
       "      <td>False</td>\n",
       "      <td>8.055556</td>\n",
       "      <td>0.693452</td>\n",
       "      <td>8.106</td>\n",
       "    </tr>\n",
       "    <tr>\n",
       "      <th>2</th>\n",
       "      <td>2</td>\n",
       "      <td>1</td>\n",
       "      <td>A</td>\n",
       "      <td>1</td>\n",
       "      <td>2010-04-02</td>\n",
       "      <td>57258.43</td>\n",
       "      <td>False</td>\n",
       "      <td>16.816667</td>\n",
       "      <td>0.718284</td>\n",
       "      <td>7.808</td>\n",
       "    </tr>\n",
       "    <tr>\n",
       "      <th>3</th>\n",
       "      <td>3</td>\n",
       "      <td>1</td>\n",
       "      <td>A</td>\n",
       "      <td>1</td>\n",
       "      <td>2010-05-07</td>\n",
       "      <td>17413.94</td>\n",
       "      <td>False</td>\n",
       "      <td>22.527778</td>\n",
       "      <td>0.748928</td>\n",
       "      <td>7.808</td>\n",
       "    </tr>\n",
       "    <tr>\n",
       "      <th>4</th>\n",
       "      <td>4</td>\n",
       "      <td>1</td>\n",
       "      <td>A</td>\n",
       "      <td>1</td>\n",
       "      <td>2010-06-04</td>\n",
       "      <td>17558.09</td>\n",
       "      <td>False</td>\n",
       "      <td>27.050000</td>\n",
       "      <td>0.714586</td>\n",
       "      <td>7.808</td>\n",
       "    </tr>\n",
       "  </tbody>\n",
       "</table>\n",
       "</div>"
      ],
      "text/plain": [
       "   Unnamed: 0  store type  department        date  weekly_sales  is_holiday  \\\n",
       "0           0      1    A           1  2010-02-05      24924.50       False   \n",
       "1           1      1    A           1  2010-03-05      21827.90       False   \n",
       "2           2      1    A           1  2010-04-02      57258.43       False   \n",
       "3           3      1    A           1  2010-05-07      17413.94       False   \n",
       "4           4      1    A           1  2010-06-04      17558.09       False   \n",
       "\n",
       "   temperature_c  fuel_price_usd_per_l  unemployment  \n",
       "0       5.727778              0.679451         8.106  \n",
       "1       8.055556              0.693452         8.106  \n",
       "2      16.816667              0.718284         7.808  \n",
       "3      22.527778              0.748928         7.808  \n",
       "4      27.050000              0.714586         7.808  "
      ]
     },
     "execution_count": 3,
     "metadata": {},
     "output_type": "execute_result"
    }
   ],
   "source": [
    "sales.head()"
   ]
  },
  {
   "cell_type": "code",
   "execution_count": 4,
   "id": "4dc97534-0192-4bcc-9092-7386a94e4c54",
   "metadata": {},
   "outputs": [
    {
     "name": "stdout",
     "output_type": "stream",
     "text": [
      "<class 'pandas.core.frame.DataFrame'>\n",
      "RangeIndex: 10774 entries, 0 to 10773\n",
      "Data columns (total 10 columns):\n",
      " #   Column                Non-Null Count  Dtype  \n",
      "---  ------                --------------  -----  \n",
      " 0   Unnamed: 0            10774 non-null  int64  \n",
      " 1   store                 10774 non-null  int64  \n",
      " 2   type                  10774 non-null  object \n",
      " 3   department            10774 non-null  int64  \n",
      " 4   date                  10774 non-null  object \n",
      " 5   weekly_sales          10774 non-null  float64\n",
      " 6   is_holiday            10774 non-null  bool   \n",
      " 7   temperature_c         10774 non-null  float64\n",
      " 8   fuel_price_usd_per_l  10774 non-null  float64\n",
      " 9   unemployment          10774 non-null  float64\n",
      "dtypes: bool(1), float64(4), int64(3), object(2)\n",
      "memory usage: 768.2+ KB\n"
     ]
    }
   ],
   "source": [
    "sales.info()"
   ]
  },
  {
   "cell_type": "code",
   "execution_count": 5,
   "id": "53925a82-816c-4371-8e00-d37ff6926523",
   "metadata": {},
   "outputs": [
    {
     "data": {
      "text/html": [
       "<div>\n",
       "<style scoped>\n",
       "    .dataframe tbody tr th:only-of-type {\n",
       "        vertical-align: middle;\n",
       "    }\n",
       "\n",
       "    .dataframe tbody tr th {\n",
       "        vertical-align: top;\n",
       "    }\n",
       "\n",
       "    .dataframe thead th {\n",
       "        text-align: right;\n",
       "    }\n",
       "</style>\n",
       "<table border=\"1\" class=\"dataframe\">\n",
       "  <thead>\n",
       "    <tr style=\"text-align: right;\">\n",
       "      <th></th>\n",
       "      <th>Unnamed: 0</th>\n",
       "      <th>store</th>\n",
       "      <th>department</th>\n",
       "      <th>weekly_sales</th>\n",
       "      <th>temperature_c</th>\n",
       "      <th>fuel_price_usd_per_l</th>\n",
       "      <th>unemployment</th>\n",
       "    </tr>\n",
       "  </thead>\n",
       "  <tbody>\n",
       "    <tr>\n",
       "      <th>count</th>\n",
       "      <td>10774.000000</td>\n",
       "      <td>10774.000000</td>\n",
       "      <td>10774.000000</td>\n",
       "      <td>10774.000000</td>\n",
       "      <td>10774.000000</td>\n",
       "      <td>10774.000000</td>\n",
       "      <td>10774.000000</td>\n",
       "    </tr>\n",
       "    <tr>\n",
       "      <th>mean</th>\n",
       "      <td>5386.500000</td>\n",
       "      <td>15.441897</td>\n",
       "      <td>45.218118</td>\n",
       "      <td>23843.950149</td>\n",
       "      <td>15.731978</td>\n",
       "      <td>0.749746</td>\n",
       "      <td>8.082009</td>\n",
       "    </tr>\n",
       "    <tr>\n",
       "      <th>std</th>\n",
       "      <td>3110.330234</td>\n",
       "      <td>11.534511</td>\n",
       "      <td>29.867779</td>\n",
       "      <td>30220.387557</td>\n",
       "      <td>9.922446</td>\n",
       "      <td>0.059494</td>\n",
       "      <td>0.624355</td>\n",
       "    </tr>\n",
       "    <tr>\n",
       "      <th>min</th>\n",
       "      <td>0.000000</td>\n",
       "      <td>1.000000</td>\n",
       "      <td>1.000000</td>\n",
       "      <td>-1098.000000</td>\n",
       "      <td>-8.366667</td>\n",
       "      <td>0.664129</td>\n",
       "      <td>3.879000</td>\n",
       "    </tr>\n",
       "    <tr>\n",
       "      <th>25%</th>\n",
       "      <td>2693.250000</td>\n",
       "      <td>4.000000</td>\n",
       "      <td>20.000000</td>\n",
       "      <td>3867.115000</td>\n",
       "      <td>7.583333</td>\n",
       "      <td>0.708246</td>\n",
       "      <td>7.795000</td>\n",
       "    </tr>\n",
       "    <tr>\n",
       "      <th>50%</th>\n",
       "      <td>5386.500000</td>\n",
       "      <td>13.000000</td>\n",
       "      <td>40.000000</td>\n",
       "      <td>12049.065000</td>\n",
       "      <td>16.966667</td>\n",
       "      <td>0.743381</td>\n",
       "      <td>8.099000</td>\n",
       "    </tr>\n",
       "    <tr>\n",
       "      <th>75%</th>\n",
       "      <td>8079.750000</td>\n",
       "      <td>20.000000</td>\n",
       "      <td>72.000000</td>\n",
       "      <td>32349.850000</td>\n",
       "      <td>24.166667</td>\n",
       "      <td>0.781421</td>\n",
       "      <td>8.360000</td>\n",
       "    </tr>\n",
       "    <tr>\n",
       "      <th>max</th>\n",
       "      <td>10773.000000</td>\n",
       "      <td>39.000000</td>\n",
       "      <td>99.000000</td>\n",
       "      <td>293966.050000</td>\n",
       "      <td>33.827778</td>\n",
       "      <td>1.107674</td>\n",
       "      <td>9.765000</td>\n",
       "    </tr>\n",
       "  </tbody>\n",
       "</table>\n",
       "</div>"
      ],
      "text/plain": [
       "         Unnamed: 0         store    department   weekly_sales  temperature_c  \\\n",
       "count  10774.000000  10774.000000  10774.000000   10774.000000   10774.000000   \n",
       "mean    5386.500000     15.441897     45.218118   23843.950149      15.731978   \n",
       "std     3110.330234     11.534511     29.867779   30220.387557       9.922446   \n",
       "min        0.000000      1.000000      1.000000   -1098.000000      -8.366667   \n",
       "25%     2693.250000      4.000000     20.000000    3867.115000       7.583333   \n",
       "50%     5386.500000     13.000000     40.000000   12049.065000      16.966667   \n",
       "75%     8079.750000     20.000000     72.000000   32349.850000      24.166667   \n",
       "max    10773.000000     39.000000     99.000000  293966.050000      33.827778   \n",
       "\n",
       "       fuel_price_usd_per_l  unemployment  \n",
       "count          10774.000000  10774.000000  \n",
       "mean               0.749746      8.082009  \n",
       "std                0.059494      0.624355  \n",
       "min                0.664129      3.879000  \n",
       "25%                0.708246      7.795000  \n",
       "50%                0.743381      8.099000  \n",
       "75%                0.781421      8.360000  \n",
       "max                1.107674      9.765000  "
      ]
     },
     "execution_count": 5,
     "metadata": {},
     "output_type": "execute_result"
    }
   ],
   "source": [
    "sales.describe()"
   ]
  },
  {
   "cell_type": "code",
   "execution_count": 6,
   "id": "9d1f227d-fe01-46d5-bdf6-e2dc41fe72fb",
   "metadata": {},
   "outputs": [
    {
     "data": {
      "text/plain": [
       "23843.95014850566"
      ]
     },
     "execution_count": 6,
     "metadata": {},
     "output_type": "execute_result"
    }
   ],
   "source": [
    "sales[\"weekly_sales\"].mean()"
   ]
  },
  {
   "cell_type": "code",
   "execution_count": 7,
   "id": "4e475da9-bda7-42c2-860f-9e981b251b62",
   "metadata": {},
   "outputs": [
    {
     "data": {
      "text/plain": [
       "12049.064999999999"
      ]
     },
     "execution_count": 7,
     "metadata": {},
     "output_type": "execute_result"
    }
   ],
   "source": [
    "sales[\"weekly_sales\"].median()"
   ]
  },
  {
   "cell_type": "code",
   "execution_count": null,
   "id": "32766a2f-e206-4c3e-867e-1916e1d9a6ba",
   "metadata": {},
   "outputs": [],
   "source": []
  }
 ],
 "metadata": {
  "kernelspec": {
   "display_name": "Python 3 (ipykernel)",
   "language": "python",
   "name": "python3"
  },
  "language_info": {
   "codemirror_mode": {
    "name": "ipython",
    "version": 3
   },
   "file_extension": ".py",
   "mimetype": "text/x-python",
   "name": "python",
   "nbconvert_exporter": "python",
   "pygments_lexer": "ipython3",
   "version": "3.11.7"
  }
 },
 "nbformat": 4,
 "nbformat_minor": 5
}
