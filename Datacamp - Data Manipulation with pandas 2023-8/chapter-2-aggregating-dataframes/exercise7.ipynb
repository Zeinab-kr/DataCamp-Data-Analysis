{
 "cells": [
  {
   "cell_type": "markdown",
   "id": "8a07250f-8b69-45d3-9b6d-ed3f7382aa15",
   "metadata": {},
   "source": [
    "#  What percent of sales occurred at each store type?\n",
    "\n",
    "##  Assignment \n",
    "\n",
    "While `.groupby()` is useful, you can calculate grouped summary statistics without it. \n",
    "\n",
    "Walmart distinguishes three types of stores: \"supercenters,\" \"discount stores,\" and \"neighborhood markets,\" encoded in this dataset as type \"A,\" \"B,\" and \"C.\" In this exercise, you'll calculate the total sales made at each store type, without using `.groupby()`. You can then use these numbers to see what proportion of Walmart's total sales were made at each type.\n",
    "\n",
    "\n",
    "##  Instructions \n",
    "\n",
    "- Calculate the total `weekly_sales` over the whole dataset.\n",
    "- Subset for `type` `\"A\"` stores, and calculate their total weekly sales.\n",
    "- Do the same for `type` `\"B\"` and `type` `\"C\"` stores.\n",
    "- Combine the A/B/C results into a list, and divide by `sales_all` to get the proportion of sales by type.\n"
   ]
  },
  {
   "cell_type": "code",
   "execution_count": 1,
   "id": "7f53ee16-d7bd-4457-ab3d-eabf0a5ee015",
   "metadata": {},
   "outputs": [],
   "source": [
    "import pandas as pd"
   ]
  },
  {
   "cell_type": "code",
   "execution_count": 2,
   "id": "161121c1-29ae-46d2-88a8-a45e8a106c4d",
   "metadata": {},
   "outputs": [],
   "source": [
    "sales = pd.read_csv(\"sales.csv\")"
   ]
  },
  {
   "cell_type": "code",
   "execution_count": 3,
   "id": "eda3b1ad-755a-4bd5-8844-e355e61ec9c3",
   "metadata": {},
   "outputs": [
    {
     "data": {
      "text/html": [
       "<div>\n",
       "<style scoped>\n",
       "    .dataframe tbody tr th:only-of-type {\n",
       "        vertical-align: middle;\n",
       "    }\n",
       "\n",
       "    .dataframe tbody tr th {\n",
       "        vertical-align: top;\n",
       "    }\n",
       "\n",
       "    .dataframe thead th {\n",
       "        text-align: right;\n",
       "    }\n",
       "</style>\n",
       "<table border=\"1\" class=\"dataframe\">\n",
       "  <thead>\n",
       "    <tr style=\"text-align: right;\">\n",
       "      <th></th>\n",
       "      <th>Unnamed: 0</th>\n",
       "      <th>store</th>\n",
       "      <th>type</th>\n",
       "      <th>department</th>\n",
       "      <th>date</th>\n",
       "      <th>weekly_sales</th>\n",
       "      <th>is_holiday</th>\n",
       "      <th>temperature_c</th>\n",
       "      <th>fuel_price_usd_per_l</th>\n",
       "      <th>unemployment</th>\n",
       "    </tr>\n",
       "  </thead>\n",
       "  <tbody>\n",
       "    <tr>\n",
       "      <th>0</th>\n",
       "      <td>0</td>\n",
       "      <td>1</td>\n",
       "      <td>A</td>\n",
       "      <td>1</td>\n",
       "      <td>2010-02-05</td>\n",
       "      <td>24924.50</td>\n",
       "      <td>False</td>\n",
       "      <td>5.727778</td>\n",
       "      <td>0.679451</td>\n",
       "      <td>8.106</td>\n",
       "    </tr>\n",
       "    <tr>\n",
       "      <th>1</th>\n",
       "      <td>1</td>\n",
       "      <td>1</td>\n",
       "      <td>A</td>\n",
       "      <td>1</td>\n",
       "      <td>2010-03-05</td>\n",
       "      <td>21827.90</td>\n",
       "      <td>False</td>\n",
       "      <td>8.055556</td>\n",
       "      <td>0.693452</td>\n",
       "      <td>8.106</td>\n",
       "    </tr>\n",
       "    <tr>\n",
       "      <th>2</th>\n",
       "      <td>2</td>\n",
       "      <td>1</td>\n",
       "      <td>A</td>\n",
       "      <td>1</td>\n",
       "      <td>2010-04-02</td>\n",
       "      <td>57258.43</td>\n",
       "      <td>False</td>\n",
       "      <td>16.816667</td>\n",
       "      <td>0.718284</td>\n",
       "      <td>7.808</td>\n",
       "    </tr>\n",
       "    <tr>\n",
       "      <th>3</th>\n",
       "      <td>3</td>\n",
       "      <td>1</td>\n",
       "      <td>A</td>\n",
       "      <td>1</td>\n",
       "      <td>2010-05-07</td>\n",
       "      <td>17413.94</td>\n",
       "      <td>False</td>\n",
       "      <td>22.527778</td>\n",
       "      <td>0.748928</td>\n",
       "      <td>7.808</td>\n",
       "    </tr>\n",
       "    <tr>\n",
       "      <th>4</th>\n",
       "      <td>4</td>\n",
       "      <td>1</td>\n",
       "      <td>A</td>\n",
       "      <td>1</td>\n",
       "      <td>2010-06-04</td>\n",
       "      <td>17558.09</td>\n",
       "      <td>False</td>\n",
       "      <td>27.050000</td>\n",
       "      <td>0.714586</td>\n",
       "      <td>7.808</td>\n",
       "    </tr>\n",
       "  </tbody>\n",
       "</table>\n",
       "</div>"
      ],
      "text/plain": [
       "   Unnamed: 0  store type  department        date  weekly_sales  is_holiday  \\\n",
       "0           0      1    A           1  2010-02-05      24924.50       False   \n",
       "1           1      1    A           1  2010-03-05      21827.90       False   \n",
       "2           2      1    A           1  2010-04-02      57258.43       False   \n",
       "3           3      1    A           1  2010-05-07      17413.94       False   \n",
       "4           4      1    A           1  2010-06-04      17558.09       False   \n",
       "\n",
       "   temperature_c  fuel_price_usd_per_l  unemployment  \n",
       "0       5.727778              0.679451         8.106  \n",
       "1       8.055556              0.693452         8.106  \n",
       "2      16.816667              0.718284         7.808  \n",
       "3      22.527778              0.748928         7.808  \n",
       "4      27.050000              0.714586         7.808  "
      ]
     },
     "execution_count": 3,
     "metadata": {},
     "output_type": "execute_result"
    }
   ],
   "source": [
    "sales.head()"
   ]
  },
  {
   "cell_type": "code",
   "execution_count": 9,
   "id": "22487240-59b5-46b0-be57-311c396a259c",
   "metadata": {},
   "outputs": [],
   "source": [
    "sales_all = sales[\"weekly_sales\"].sum()"
   ]
  },
  {
   "cell_type": "code",
   "execution_count": 10,
   "id": "eaf217a2-a64f-4c24-b06a-832be11566e6",
   "metadata": {},
   "outputs": [
    {
     "data": {
      "text/plain": [
       "256894718.89999998"
      ]
     },
     "execution_count": 10,
     "metadata": {},
     "output_type": "execute_result"
    }
   ],
   "source": [
    "sales_all"
   ]
  },
  {
   "cell_type": "code",
   "execution_count": 11,
   "id": "3c972464-d32f-4e16-9cc2-ed6a7fa61cdd",
   "metadata": {},
   "outputs": [],
   "source": [
    "sales_A = sales[sales[\"type\"] == \"A\"][\"weekly_sales\"].sum()"
   ]
  },
  {
   "cell_type": "code",
   "execution_count": 12,
   "id": "bd5f5020-1418-43f2-9be4-ab5da5dacf64",
   "metadata": {},
   "outputs": [
    {
     "data": {
      "text/plain": [
       "233716315.01"
      ]
     },
     "execution_count": 12,
     "metadata": {},
     "output_type": "execute_result"
    }
   ],
   "source": [
    "sales_A"
   ]
  },
  {
   "cell_type": "code",
   "execution_count": 13,
   "id": "a88f8145-75f0-434a-a6a7-5edeabf4e639",
   "metadata": {},
   "outputs": [],
   "source": [
    "sales_B = sales[sales[\"type\"] == \"B\"][\"weekly_sales\"].sum()"
   ]
  },
  {
   "cell_type": "code",
   "execution_count": 14,
   "id": "eb01b737-39c3-4216-b5d1-a3516466cf2c",
   "metadata": {},
   "outputs": [
    {
     "data": {
      "text/plain": [
       "23178403.89"
      ]
     },
     "execution_count": 14,
     "metadata": {},
     "output_type": "execute_result"
    }
   ],
   "source": [
    "sales_B"
   ]
  },
  {
   "cell_type": "code",
   "execution_count": 15,
   "id": "30a75e1b-d670-413d-b2c0-8f516b7904ab",
   "metadata": {},
   "outputs": [],
   "source": [
    "sales_C = sales[sales[\"type\"] == \"C\"][\"weekly_sales\"].sum()"
   ]
  },
  {
   "cell_type": "code",
   "execution_count": 16,
   "id": "cb84a264-360d-4e30-84ff-a72ec5e0d918",
   "metadata": {},
   "outputs": [
    {
     "data": {
      "text/plain": [
       "0.0"
      ]
     },
     "execution_count": 16,
     "metadata": {},
     "output_type": "execute_result"
    }
   ],
   "source": [
    "sales_C"
   ]
  },
  {
   "cell_type": "code",
   "execution_count": 17,
   "id": "36154742-ece6-428a-b32c-cde8f25df089",
   "metadata": {},
   "outputs": [],
   "source": [
    "prop_list = [sales_A, sales_B, sales_C] / sales_all"
   ]
  },
  {
   "cell_type": "code",
   "execution_count": 19,
   "id": "a2818ff8-66ba-46be-8d43-7d4af8361c96",
   "metadata": {},
   "outputs": [
    {
     "name": "stdout",
     "output_type": "stream",
     "text": [
      "[0.9097747 0.0902253 0.       ]\n"
     ]
    }
   ],
   "source": [
    "print(prop_list)"
   ]
  },
  {
   "cell_type": "code",
   "execution_count": null,
   "id": "dcd4b133-5909-46ef-bc77-f22497969ea5",
   "metadata": {},
   "outputs": [],
   "source": []
  }
 ],
 "metadata": {
  "kernelspec": {
   "display_name": "Python 3 (ipykernel)",
   "language": "python",
   "name": "python3"
  },
  "language_info": {
   "codemirror_mode": {
    "name": "ipython",
    "version": 3
   },
   "file_extension": ".py",
   "mimetype": "text/x-python",
   "name": "python",
   "nbconvert_exporter": "python",
   "pygments_lexer": "ipython3",
   "version": "3.11.7"
  }
 },
 "nbformat": 4,
 "nbformat_minor": 5
}
