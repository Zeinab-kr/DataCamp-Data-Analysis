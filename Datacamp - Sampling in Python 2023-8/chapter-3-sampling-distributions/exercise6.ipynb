{
 "cells": [
  {
   "cell_type": "markdown",
   "id": "62ba4261-4b19-4411-8c2d-cf30fd4abf67",
   "metadata": {},
   "source": [
    "\n",
    "#  Generating an approximate sampling distribution\n",
    "\n",
    "##  Assignment \n",
    "\n",
    "Calculating the exact sampling distribution is only possible in very simple situations. With just five eight-sided dice, the number of possible rolls is `8**5`, which is over thirty thousand. When the dataset is more complicated, for example, where a variable has hundreds or thousands of categories, the number of possible outcomes becomes too difficult to compute exactly.\n",
    "\n",
    "In this situation, you can calculate an **approximate sampling distribution** by simulating the exact sampling distribution. That is, you can repeat a procedure over and over again to simulate both the sampling process and the sample statistic calculation process.\n",
    "\n",
    "`pandas`, `numpy`, and `matplotlib.pyplot` are loaded with their usual aliases.\n",
    "\n",
    "##  Pre exercise code \n",
    "\n",
    "```\n",
    "import pandas as pd\n",
    "import numpy as np\n",
    "import matplotlib.pyplot as plt\n",
    "```\n",
    "\n"
   ]
  },
  {
   "cell_type": "code",
   "execution_count": 53,
   "id": "c4e07d41-ad88-440b-b68a-53df667c8779",
   "metadata": {},
   "outputs": [],
   "source": [
    "import pandas as pd\n",
    "import numpy as np\n",
    "import matplotlib.pyplot as plt"
   ]
  },
  {
   "cell_type": "markdown",
   "id": "c1981f28-b48a-4f16-9a0c-b5b464b6739c",
   "metadata": {},
   "source": [
    "##  Instructions \n",
    "\n",
    "- Sample one to eight, five times, with replacement. Assign to `five_rolls`.\n",
    "- Calculate the mean of `five_rolls`.\n"
   ]
  },
  {
   "cell_type": "code",
   "execution_count": 56,
   "id": "d1c14808-22b2-4bb2-bcc7-84d4e9fcec13",
   "metadata": {},
   "outputs": [
    {
     "data": {
      "text/plain": [
       "array([5, 2, 6, 4, 3])"
      ]
     },
     "execution_count": 56,
     "metadata": {},
     "output_type": "execute_result"
    }
   ],
   "source": [
    "five_rolls = np.random.choice([1,2,3,4,5,6,7,8], size=5, replace=True)\n",
    "five_rolls"
   ]
  },
  {
   "cell_type": "code",
   "execution_count": 57,
   "id": "321e747c-57ff-495a-b875-cf075452f9fc",
   "metadata": {},
   "outputs": [
    {
     "data": {
      "text/plain": [
       "4.0"
      ]
     },
     "execution_count": 57,
     "metadata": {},
     "output_type": "execute_result"
    }
   ],
   "source": [
    "mean_five_rolls = five_rolls.mean()\n",
    "mean_five_rolls"
   ]
  },
  {
   "cell_type": "markdown",
   "id": "c894ca88-05c7-41b3-83f1-d13ffcc5b0fd",
   "metadata": {},
   "source": [
    "\n",
    "- Replicate the sampling code 1000 times, assigning each result to the list `sample_means_1000`.\n",
    "\n"
   ]
  },
  {
   "cell_type": "code",
   "execution_count": 61,
   "id": "4ea17196-8853-47fa-a44b-7d1810004bf8",
   "metadata": {},
   "outputs": [],
   "source": [
    "sample_means_1000 = [np.random.choice([1,2,3,4,5,6,7,8], size=5, replace=True).mean() for i in range(1000)]"
   ]
  },
  {
   "cell_type": "markdown",
   "id": "213e51fc-0d57-4e9c-9ee2-fa0e4577679b",
   "metadata": {},
   "source": [
    "\n",
    "- Plot `sample_means_1000` as a histogram with `20` bins.\n",
    "\n"
   ]
  },
  {
   "cell_type": "code",
   "execution_count": 63,
   "id": "05951214-94dc-4d08-b6c7-f0a990333b2c",
   "metadata": {},
   "outputs": [
    {
     "data": {
      "text/plain": [
       "(array([  8.,   4.,  12.,  11.,  56.,  37., 102.,  68., 149.,  66.,  61.,\n",
       "        141.,  68.,  93.,  37.,  52.,  14.,  17.,   2.,   2.]),\n",
       " array([1.6 , 1.89, 2.18, 2.47, 2.76, 3.05, 3.34, 3.63, 3.92, 4.21, 4.5 ,\n",
       "        4.79, 5.08, 5.37, 5.66, 5.95, 6.24, 6.53, 6.82, 7.11, 7.4 ]),\n",
       " <BarContainer object of 20 artists>)"
      ]
     },
     "execution_count": 63,
     "metadata": {},
     "output_type": "execute_result"
    },
    {
     "data": {
      "image/png": "[encoded data removed]",
      "text/plain": [
       "<Figure size 640x480 with 1 Axes>"
      ]
     },
     "metadata": {},
     "output_type": "display_data"
    }
   ],
   "source": [
    "plt.hist(sample_means_1000, bins=20)"
   ]
  },
  {
   "cell_type": "code",
   "execution_count": null,
   "id": "9a226c04-46d3-41e4-bd97-45eb65446286",
   "metadata": {},
   "outputs": [],
   "source": []
  }
 ],
 "metadata": {
  "kernelspec": {
   "display_name": "Python 3 (ipykernel)",
   "language": "python",
   "name": "python3"
  },
  "language_info": {
   "codemirror_mode": {
    "name": "ipython",
    "version": 3
   },
   "file_extension": ".py",
   "mimetype": "text/x-python",
   "name": "python",
   "nbconvert_exporter": "python",
   "pygments_lexer": "ipython3",
   "version": "3.11.7"
  }
 },
 "nbformat": 4,
 "nbformat_minor": 5
}
