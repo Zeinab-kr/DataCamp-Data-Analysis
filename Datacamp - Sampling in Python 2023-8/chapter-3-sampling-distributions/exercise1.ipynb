{
 "cells": [
  {
   "cell_type": "markdown",
   "id": "3159b1e6-f079-4d9d-904c-2d94d8857fe0",
   "metadata": {},
   "source": [
    "\n",
    "#  Calculating relative errors\n",
    "\n",
    "##  Assignment \n",
    "\n",
    "The size of the sample you take affects how accurately the point estimates reflect the corresponding population parameter. For example, when you calculate a sample mean, you want it to be close to the population mean. However, if your sample is too small, this might not be the case.\n",
    "\n",
    "The most common metric for assessing accuracy is **relative error**. This is the absolute difference between the population parameter and the point estimate, all divided by the population parameter. It is sometimes expressed as a percentage.\n",
    "\n",
    "`attrition_pop` and `mean_attrition_pop` (the mean of the `Attrition` column of `attrition_pop`) are available; `pandas` is loaded as `pd`.\n",
    "\n",
    "##  Pre exercise code \n",
    "\n",
    "```\n",
    "import pandas as pd\n",
    "import numpy as np\n",
    "attrition_pop = pd.read_feather(\n",
    "  path = \"/usr/local/share/datasets/attrition.feather\"\n",
    ")\n",
    "mean_attrition_pop = attrition_pop['Attrition'].mean()\n",
    "```\n"
   ]
  },
  {
   "cell_type": "code",
   "execution_count": 1,
   "id": "4f50ea14-36fa-4b80-8ec5-b6ebbf65ee33",
   "metadata": {},
   "outputs": [],
   "source": [
    "import pandas as pd\n",
    "import numpy as np\n",
    "attrition_pop = pd.read_feather(\n",
    "  path = \"attrition.feather\"\n",
    ")\n",
    "mean_attrition_pop = attrition_pop['Attrition'].mean()"
   ]
  },
  {
   "cell_type": "code",
   "execution_count": 2,
   "id": "d6711350-2040-4c3b-a3d3-4ba5d66e2c42",
   "metadata": {},
   "outputs": [
    {
     "data": {
      "text/html": [
       "<div>\n",
       "<style scoped>\n",
       "    .dataframe tbody tr th:only-of-type {\n",
       "        vertical-align: middle;\n",
       "    }\n",
       "\n",
       "    .dataframe tbody tr th {\n",
       "        vertical-align: top;\n",
       "    }\n",
       "\n",
       "    .dataframe thead th {\n",
       "        text-align: right;\n",
       "    }\n",
       "</style>\n",
       "<table border=\"1\" class=\"dataframe\">\n",
       "  <thead>\n",
       "    <tr style=\"text-align: right;\">\n",
       "      <th></th>\n",
       "      <th>Age</th>\n",
       "      <th>Attrition</th>\n",
       "      <th>BusinessTravel</th>\n",
       "      <th>DailyRate</th>\n",
       "      <th>Department</th>\n",
       "      <th>DistanceFromHome</th>\n",
       "      <th>Education</th>\n",
       "      <th>EducationField</th>\n",
       "      <th>EnvironmentSatisfaction</th>\n",
       "      <th>Gender</th>\n",
       "      <th>...</th>\n",
       "      <th>PerformanceRating</th>\n",
       "      <th>RelationshipSatisfaction</th>\n",
       "      <th>StockOptionLevel</th>\n",
       "      <th>TotalWorkingYears</th>\n",
       "      <th>TrainingTimesLastYear</th>\n",
       "      <th>WorkLifeBalance</th>\n",
       "      <th>YearsAtCompany</th>\n",
       "      <th>YearsInCurrentRole</th>\n",
       "      <th>YearsSinceLastPromotion</th>\n",
       "      <th>YearsWithCurrManager</th>\n",
       "    </tr>\n",
       "  </thead>\n",
       "  <tbody>\n",
       "    <tr>\n",
       "      <th>0</th>\n",
       "      <td>21</td>\n",
       "      <td>0.0</td>\n",
       "      <td>Travel_Rarely</td>\n",
       "      <td>391</td>\n",
       "      <td>Research_Development</td>\n",
       "      <td>15</td>\n",
       "      <td>College</td>\n",
       "      <td>Life_Sciences</td>\n",
       "      <td>High</td>\n",
       "      <td>Male</td>\n",
       "      <td>...</td>\n",
       "      <td>Excellent</td>\n",
       "      <td>Very_High</td>\n",
       "      <td>0</td>\n",
       "      <td>0</td>\n",
       "      <td>6</td>\n",
       "      <td>Better</td>\n",
       "      <td>0</td>\n",
       "      <td>0</td>\n",
       "      <td>0</td>\n",
       "      <td>0</td>\n",
       "    </tr>\n",
       "  </tbody>\n",
       "</table>\n",
       "<p>1 rows × 31 columns</p>\n",
       "</div>"
      ],
      "text/plain": [
       "   Age  Attrition BusinessTravel  DailyRate            Department  \\\n",
       "0   21        0.0  Travel_Rarely        391  Research_Development   \n",
       "\n",
       "   DistanceFromHome Education EducationField EnvironmentSatisfaction Gender  \\\n",
       "0                15   College  Life_Sciences                    High   Male   \n",
       "\n",
       "   ...  PerformanceRating RelationshipSatisfaction  StockOptionLevel  \\\n",
       "0  ...          Excellent                Very_High                 0   \n",
       "\n",
       "  TotalWorkingYears TrainingTimesLastYear WorkLifeBalance  YearsAtCompany  \\\n",
       "0                 0                     6          Better               0   \n",
       "\n",
       "   YearsInCurrentRole  YearsSinceLastPromotion YearsWithCurrManager  \n",
       "0                   0                        0                    0  \n",
       "\n",
       "[1 rows x 31 columns]"
      ]
     },
     "execution_count": 2,
     "metadata": {},
     "output_type": "execute_result"
    }
   ],
   "source": [
    "attrition_pop.head(1)"
   ]
  },
  {
   "cell_type": "markdown",
   "id": "3da844df-e175-4965-bb87-7ceeff8c576f",
   "metadata": {},
   "source": [
    "##  Instructions \n",
    "\n",
    "- Generate a simple random sample from `attrition_pop` of fifty rows, setting the seed to `2022`.\n",
    "- Calculate the mean employee `Attrition` in the sample.\n",
    "- Calculate the relative error between `mean_attrition_srs50` and `mean_attrition_pop` as a **percentage**.\n"
   ]
  },
  {
   "cell_type": "code",
   "execution_count": 4,
   "id": "fde21484-75b5-4e30-8338-5734a6f8926d",
   "metadata": {},
   "outputs": [],
   "source": [
    "attrition_srs = attrition_pop.sample(n=50, random_state=2022)"
   ]
  },
  {
   "cell_type": "code",
   "execution_count": 6,
   "id": "3f6c01b9-6666-4316-b47b-399aa8cd801a",
   "metadata": {},
   "outputs": [
    {
     "data": {
      "text/plain": [
       "0.06"
      ]
     },
     "execution_count": 6,
     "metadata": {},
     "output_type": "execute_result"
    }
   ],
   "source": [
    "mean_srs = attrition_srs['Attrition'].mean()\n",
    "mean_srs"
   ]
  },
  {
   "cell_type": "code",
   "execution_count": 7,
   "id": "bf8b52bc-d043-4069-a36f-8dd4c717e2a5",
   "metadata": {},
   "outputs": [
    {
     "data": {
      "text/plain": [
       "62.78481012658228"
      ]
     },
     "execution_count": 7,
     "metadata": {},
     "output_type": "execute_result"
    }
   ],
   "source": [
    "stde_srs = 100 * (abs(mean_srs - mean_attrition_pop) / mean_attrition_pop)\n",
    "stde_srs"
   ]
  },
  {
   "cell_type": "markdown",
   "id": "3c8a7563-49d1-459c-a374-39811803ebd0",
   "metadata": {},
   "source": [
    "\n",
    "- Calculate the **relative error percentage** again. This time, use a simple random sample of one hundred rows of `attrition_pop`.\n",
    "\n"
   ]
  },
  {
   "cell_type": "code",
   "execution_count": 10,
   "id": "3335cde1-2a11-4538-81ce-7025221bf3e4",
   "metadata": {},
   "outputs": [],
   "source": [
    "attrition_srs_100 = attrition_pop.sample(n=100, random_state=2022)"
   ]
  },
  {
   "cell_type": "code",
   "execution_count": 12,
   "id": "f280e0f1-8f90-4df6-8ef2-0f31dd6e8de9",
   "metadata": {},
   "outputs": [
    {
     "data": {
      "text/plain": [
       "0.15"
      ]
     },
     "execution_count": 12,
     "metadata": {},
     "output_type": "execute_result"
    }
   ],
   "source": [
    "mean_srs_100 = attrition_srs_100['Attrition'].mean()\n",
    "mean_srs_100"
   ]
  },
  {
   "cell_type": "code",
   "execution_count": 13,
   "id": "430788b3-3ff3-47e5-bb99-6b104cd3af4c",
   "metadata": {},
   "outputs": [
    {
     "data": {
      "text/plain": [
       "6.962025316455694"
      ]
     },
     "execution_count": 13,
     "metadata": {},
     "output_type": "execute_result"
    }
   ],
   "source": [
    "stde_srs_100 = 100 * (abs(mean_srs_100 - mean_attrition_pop) / mean_attrition_pop)\n",
    "stde_srs_100"
   ]
  },
  {
   "cell_type": "code",
   "execution_count": null,
   "id": "5c559b33-6854-4e74-b569-b45e39e0cf71",
   "metadata": {},
   "outputs": [],
   "source": []
  }
 ],
 "metadata": {
  "kernelspec": {
   "display_name": "Python 3 (ipykernel)",
   "language": "python",
   "name": "python3"
  },
  "language_info": {
   "codemirror_mode": {
    "name": "ipython",
    "version": 3
   },
   "file_extension": ".py",
   "mimetype": "text/x-python",
   "name": "python",
   "nbconvert_exporter": "python",
   "pygments_lexer": "ipython3",
   "version": "3.11.7"
  }
 },
 "nbformat": 4,
 "nbformat_minor": 5
}
