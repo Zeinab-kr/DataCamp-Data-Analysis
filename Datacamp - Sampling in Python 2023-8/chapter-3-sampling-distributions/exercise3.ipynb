{
 "cells": [
  {
   "cell_type": "markdown",
   "id": "67cdea4d-1751-4f44-9da3-7cdc2226f8e1",
   "metadata": {},
   "source": [
    "\n",
    "#  Replicating samples\n",
    "\n",
    "##  Assignment \n",
    "\n",
    "When you calculate a point estimate such as a sample mean, the value you calculate depends on the rows that were included in the sample. That means that there is some randomness in the answer. In order to quantify the variation caused by this randomness, you can create many samples and calculate the sample mean (or another statistic) for each sample.\n",
    "\n",
    "`attrition_pop` is available; `pandas` and `matplotlib.pyplot` are loaded with their usual aliases.\n",
    "\n",
    "##  Pre exercise code \n",
    "\n",
    "```\n",
    "import pandas as pd\n",
    "import matplotlib.pyplot as plt\n",
    "attrition_pop = pd.read_feather(\n",
    "  path = \"/usr/local/share/datasets/attrition.feather\"\n",
    ")\n",
    "```\n"
   ]
  },
  {
   "cell_type": "code",
   "execution_count": 14,
   "id": "b8e145a2-6f63-4f06-86db-5757a4e3d223",
   "metadata": {},
   "outputs": [],
   "source": [
    "import pandas as pd\n",
    "import matplotlib.pyplot as plt\n",
    "attrition_pop = pd.read_feather(\n",
    "  path = \"attrition.feather\"\n",
    ")"
   ]
  },
  {
   "cell_type": "code",
   "execution_count": 15,
   "id": "c173bef5-4d85-4e10-9f4d-c63aaa6cd82d",
   "metadata": {},
   "outputs": [
    {
     "data": {
      "text/html": [
       "<div>\n",
       "<style scoped>\n",
       "    .dataframe tbody tr th:only-of-type {\n",
       "        vertical-align: middle;\n",
       "    }\n",
       "\n",
       "    .dataframe tbody tr th {\n",
       "        vertical-align: top;\n",
       "    }\n",
       "\n",
       "    .dataframe thead th {\n",
       "        text-align: right;\n",
       "    }\n",
       "</style>\n",
       "<table border=\"1\" class=\"dataframe\">\n",
       "  <thead>\n",
       "    <tr style=\"text-align: right;\">\n",
       "      <th></th>\n",
       "      <th>Age</th>\n",
       "      <th>Attrition</th>\n",
       "      <th>BusinessTravel</th>\n",
       "      <th>DailyRate</th>\n",
       "      <th>Department</th>\n",
       "      <th>DistanceFromHome</th>\n",
       "      <th>Education</th>\n",
       "      <th>EducationField</th>\n",
       "      <th>EnvironmentSatisfaction</th>\n",
       "      <th>Gender</th>\n",
       "      <th>...</th>\n",
       "      <th>PerformanceRating</th>\n",
       "      <th>RelationshipSatisfaction</th>\n",
       "      <th>StockOptionLevel</th>\n",
       "      <th>TotalWorkingYears</th>\n",
       "      <th>TrainingTimesLastYear</th>\n",
       "      <th>WorkLifeBalance</th>\n",
       "      <th>YearsAtCompany</th>\n",
       "      <th>YearsInCurrentRole</th>\n",
       "      <th>YearsSinceLastPromotion</th>\n",
       "      <th>YearsWithCurrManager</th>\n",
       "    </tr>\n",
       "  </thead>\n",
       "  <tbody>\n",
       "    <tr>\n",
       "      <th>0</th>\n",
       "      <td>21</td>\n",
       "      <td>0.0</td>\n",
       "      <td>Travel_Rarely</td>\n",
       "      <td>391</td>\n",
       "      <td>Research_Development</td>\n",
       "      <td>15</td>\n",
       "      <td>College</td>\n",
       "      <td>Life_Sciences</td>\n",
       "      <td>High</td>\n",
       "      <td>Male</td>\n",
       "      <td>...</td>\n",
       "      <td>Excellent</td>\n",
       "      <td>Very_High</td>\n",
       "      <td>0</td>\n",
       "      <td>0</td>\n",
       "      <td>6</td>\n",
       "      <td>Better</td>\n",
       "      <td>0</td>\n",
       "      <td>0</td>\n",
       "      <td>0</td>\n",
       "      <td>0</td>\n",
       "    </tr>\n",
       "  </tbody>\n",
       "</table>\n",
       "<p>1 rows × 31 columns</p>\n",
       "</div>"
      ],
      "text/plain": [
       "   Age  Attrition BusinessTravel  DailyRate            Department  \\\n",
       "0   21        0.0  Travel_Rarely        391  Research_Development   \n",
       "\n",
       "   DistanceFromHome Education EducationField EnvironmentSatisfaction Gender  \\\n",
       "0                15   College  Life_Sciences                    High   Male   \n",
       "\n",
       "   ...  PerformanceRating RelationshipSatisfaction  StockOptionLevel  \\\n",
       "0  ...          Excellent                Very_High                 0   \n",
       "\n",
       "  TotalWorkingYears TrainingTimesLastYear WorkLifeBalance  YearsAtCompany  \\\n",
       "0                 0                     6          Better               0   \n",
       "\n",
       "   YearsInCurrentRole  YearsSinceLastPromotion YearsWithCurrManager  \n",
       "0                   0                        0                    0  \n",
       "\n",
       "[1 rows x 31 columns]"
      ]
     },
     "execution_count": 15,
     "metadata": {},
     "output_type": "execute_result"
    }
   ],
   "source": [
    "attrition_pop.head(1)"
   ]
  },
  {
   "cell_type": "markdown",
   "id": "cafe4dcd-4e69-4f8e-b04c-e76d0cd9c33a",
   "metadata": {},
   "source": [
    "##  Instructions \n",
    "\n",
    "- Replicate the provided code so that it runs `500` times. Assign the resulting list of sample means to `mean_attritions`.\n",
    "\n",
    "\n"
   ]
  },
  {
   "cell_type": "code",
   "execution_count": 16,
   "id": "08d248b9-5a7c-4a5f-b001-afdb35aa089e",
   "metadata": {},
   "outputs": [],
   "source": [
    "mean_attritions = []\n",
    "for i in range(100):\n",
    "    mean_attritions.append(\n",
    "        attrition_pop.sample(n=60)['Attrition'].mean()\n",
    "    )"
   ]
  },
  {
   "cell_type": "code",
   "execution_count": 17,
   "id": "72d45441-f5e8-4df1-ac29-d87c22ca88fa",
   "metadata": {},
   "outputs": [
    {
     "data": {
      "text/plain": [
       "[0.23333333333333334,\n",
       " 0.13333333333333333,\n",
       " 0.18333333333333332,\n",
       " 0.23333333333333334,\n",
       " 0.18333333333333332]"
      ]
     },
     "execution_count": 17,
     "metadata": {},
     "output_type": "execute_result"
    }
   ],
   "source": [
    "mean_attritions[0:5]"
   ]
  },
  {
   "cell_type": "markdown",
   "id": "6d7ab165-7eac-47ee-91c7-ed09d0a0eba1",
   "metadata": {},
   "source": [
    "\n",
    "- Draw a histogram of the `mean_attritions` list with 16 bins.\n",
    "\n"
   ]
  },
  {
   "cell_type": "code",
   "execution_count": 20,
   "id": "04827931-e0f7-4afb-b4fa-13e8fab026cd",
   "metadata": {},
   "outputs": [
    {
     "data": {
      "text/plain": [
       "(array([ 2.,  0.,  9.,  0.,  7., 10., 16., 13.,  0., 17., 10.,  0.,  6.,\n",
       "         5.,  2.,  3.]),\n",
       " array([0.06666667, 0.07916667, 0.09166667, 0.10416667, 0.11666667,\n",
       "        0.12916667, 0.14166667, 0.15416667, 0.16666667, 0.17916667,\n",
       "        0.19166667, 0.20416667, 0.21666667, 0.22916667, 0.24166667,\n",
       "        0.25416667, 0.26666667]),\n",
       " <BarContainer object of 16 artists>)"
      ]
     },
     "execution_count": 20,
     "metadata": {},
     "output_type": "execute_result"
    },
    {
     "data": {
      "image/png": "[encoded data removed]",
      "text/plain": [
       "<Figure size 640x480 with 1 Axes>"
      ]
     },
     "metadata": {},
     "output_type": "display_data"
    }
   ],
   "source": [
    "plt.hist(mean_attritions, bins=16)"
   ]
  },
  {
   "cell_type": "code",
   "execution_count": null,
   "id": "2fec5456-0177-4a32-bd3b-fa5680d3e1cd",
   "metadata": {},
   "outputs": [],
   "source": []
  }
 ],
 "metadata": {
  "kernelspec": {
   "display_name": "Python 3 (ipykernel)",
   "language": "python",
   "name": "python3"
  },
  "language_info": {
   "codemirror_mode": {
    "name": "ipython",
    "version": 3
   },
   "file_extension": ".py",
   "mimetype": "text/x-python",
   "name": "python",
   "nbconvert_exporter": "python",
   "pygments_lexer": "ipython3",
   "version": "3.11.7"
  }
 },
 "nbformat": 4,
 "nbformat_minor": 5
}
