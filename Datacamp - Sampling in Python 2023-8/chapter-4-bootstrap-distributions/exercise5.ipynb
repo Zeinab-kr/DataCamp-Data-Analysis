{
 "cells": [
  {
   "cell_type": "markdown",
   "id": "c27869b3-bdea-416f-80f3-6f34a5f967c1",
   "metadata": {},
   "source": [
    "\n",
    "#  Sampling distribution vs. bootstrap distribution\n",
    "\n",
    "##  Assignment \n",
    "\n",
    "The sampling distribution and bootstrap distribution are closely linked. In situations where you can repeatedly sample from a population (these occasions are rare), it's helpful to generate both the sampling distribution and the bootstrap distribution, one after the other, to see how they are related.\n",
    "\n",
    "Here, the statistic you are interested in is the mean `popularity` score of the songs.\n",
    "\n",
    "`spotify_population` (the whole dataset) and `spotify_sample` (`500` randomly sampled rows from `spotify_population`) are available; `pandas` and `numpy` are loaded with their usual aliases.\n",
    "\n",
    "##  Pre exercise code \n",
    "\n",
    "```\n",
    "import pandas as pd\n",
    "import numpy as np\n",
    "spotify_population = pd.read_feather(\n",
    "  path = \"/usr/local/share/datasets/spotify_2000_2020.feather\"\n",
    ")\n",
    "spotify_sample = spotify_population.reset_index().sample(n=500, random_state=19790801)\n",
    "```\n",
    "\n"
   ]
  },
  {
   "cell_type": "code",
   "execution_count": 7,
   "id": "11191e8e-8a10-4740-9b2d-756460f0c396",
   "metadata": {},
   "outputs": [],
   "source": [
    "import pandas as pd\n",
    "import numpy as np\n",
    "spotify_population = pd.read_feather(\n",
    "  path = \"spotify_2000_2020.feather\"\n",
    ")\n",
    "spotify_sample = spotify_population.reset_index().sample(n=500, random_state=19790801)"
   ]
  },
  {
   "cell_type": "markdown",
   "id": "4241e6a3-7c9e-4c40-86a7-ab0fff54e04f",
   "metadata": {},
   "source": [
    "##  Instructions \n",
    "\n",
    "- Generate a sampling distribution of 2000 replicates.\n",
    "- Sample 500 rows of the population without replacement and calculate the mean `popularity`.\n"
   ]
  },
  {
   "cell_type": "code",
   "execution_count": 11,
   "id": "4a05dc90-1c3b-437e-b8ce-e2bf8bddfe68",
   "metadata": {},
   "outputs": [
    {
     "data": {
      "text/plain": [
       "[55.122, 54.558, 55.102, 54.376, 53.692]"
      ]
     },
     "execution_count": 11,
     "metadata": {},
     "output_type": "execute_result"
    }
   ],
   "source": [
    "mean_pop_sample = [spotify_population.sample(n=500, replace=False)['popularity'].mean() for i in range(2000)]\n",
    "mean_pop_sample[0:5]"
   ]
  },
  {
   "cell_type": "markdown",
   "id": "1fd3f456-10a3-4a95-b465-4bfe1d1df3fa",
   "metadata": {},
   "source": [
    "##  Instructions \n",
    "\n",
    "- Generate a bootstrap distribution of 2000 replicates.\n",
    "- Sample 500 rows of the sample with replacement and calculate the mean `popularity`.\n",
    "\n"
   ]
  },
  {
   "cell_type": "code",
   "execution_count": 12,
   "id": "e244c144-eede-4a25-bcf2-31d5f23c8c4a",
   "metadata": {},
   "outputs": [
    {
     "data": {
      "text/plain": [
       "[55.164, 54.876, 54.796, 54.54, 54.444]"
      ]
     },
     "execution_count": 12,
     "metadata": {},
     "output_type": "execute_result"
    }
   ],
   "source": [
    "mean_pop_boot = [spotify_sample.sample(frac=1, replace=True)['popularity'].mean() for i in range(2000)]\n",
    "mean_pop_boot[0:5]"
   ]
  },
  {
   "cell_type": "code",
   "execution_count": 16,
   "id": "8237acc0-3e3f-4032-964c-80a17957d971",
   "metadata": {},
   "outputs": [
    {
     "data": {
      "text/plain": [
       "54.829632"
      ]
     },
     "execution_count": 16,
     "metadata": {},
     "output_type": "execute_result"
    }
   ],
   "source": [
    "np.mean(mean_pop_sample)"
   ]
  },
  {
   "cell_type": "code",
   "execution_count": 17,
   "id": "d6a93e4a-d34c-4ea2-a3a3-2f14777a4309",
   "metadata": {},
   "outputs": [
    {
     "data": {
      "text/plain": [
       "54.866858"
      ]
     },
     "execution_count": 17,
     "metadata": {},
     "output_type": "execute_result"
    }
   ],
   "source": [
    "np.mean(mean_pop_boot)"
   ]
  },
  {
   "cell_type": "code",
   "execution_count": 13,
   "id": "1a1b00e5-fffb-4e0a-a84f-d211dc788198",
   "metadata": {},
   "outputs": [],
   "source": [
    "import matplotlib.pyplot as plt"
   ]
  },
  {
   "cell_type": "code",
   "execution_count": 14,
   "id": "a8ae610e-798d-4fb9-805d-01467680a357",
   "metadata": {},
   "outputs": [
    {
     "data": {
      "text/plain": [
       "(array([  3.,   6.,  72., 257., 468., 589., 380., 165.,  51.,   9.]),\n",
       " array([52.942 , 53.2964, 53.6508, 54.0052, 54.3596, 54.714 , 55.0684,\n",
       "        55.4228, 55.7772, 56.1316, 56.486 ]),\n",
       " <BarContainer object of 10 artists>)"
      ]
     },
     "execution_count": 14,
     "metadata": {},
     "output_type": "execute_result"
    },
    {
     "data": {
      "image/png": "[encoded data removed]",
      "text/plain": [
       "<Figure size 640x480 with 1 Axes>"
      ]
     },
     "metadata": {},
     "output_type": "display_data"
    }
   ],
   "source": [
    "plt.hist(mean_pop_sample)"
   ]
  },
  {
   "cell_type": "code",
   "execution_count": 15,
   "id": "5c35ac81-a051-402e-8398-9bfb4a2a3ffb",
   "metadata": {},
   "outputs": [
    {
     "data": {
      "text/plain": [
       "(array([  6.,  49., 114., 261., 482., 491., 344., 175.,  54.,  24.]),\n",
       " array([53.254 , 53.5654, 53.8768, 54.1882, 54.4996, 54.811 , 55.1224,\n",
       "        55.4338, 55.7452, 56.0566, 56.368 ]),\n",
       " <BarContainer object of 10 artists>)"
      ]
     },
     "execution_count": 15,
     "metadata": {},
     "output_type": "execute_result"
    },
    {
     "data": {
      "image/png": "[encoded data removed]",
      "text/plain": [
       "<Figure size 640x480 with 1 Axes>"
      ]
     },
     "metadata": {},
     "output_type": "display_data"
    }
   ],
   "source": [
    "plt.hist(mean_pop_boot)"
   ]
  },
  {
   "cell_type": "code",
   "execution_count": null,
   "id": "a8b829a9-eafa-4694-b135-96e02d9ea519",
   "metadata": {},
   "outputs": [],
   "source": []
  }
 ],
 "metadata": {
  "kernelspec": {
   "display_name": "Python 3 (ipykernel)",
   "language": "python",
   "name": "python3"
  },
  "language_info": {
   "codemirror_mode": {
    "name": "ipython",
    "version": 3
   },
   "file_extension": ".py",
   "mimetype": "text/x-python",
   "name": "python",
   "nbconvert_exporter": "python",
   "pygments_lexer": "ipython3",
   "version": "3.11.7"
  }
 },
 "nbformat": 4,
 "nbformat_minor": 5
}
