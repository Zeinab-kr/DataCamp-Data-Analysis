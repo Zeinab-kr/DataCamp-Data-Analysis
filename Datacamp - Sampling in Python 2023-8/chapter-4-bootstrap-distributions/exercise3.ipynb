{
 "cells": [
  {
   "cell_type": "markdown",
   "id": "3aea4ee9-696c-468e-b915-ceca5db4865d",
   "metadata": {},
   "source": [
    "\n",
    "#  Generating a bootstrap distribution\n",
    "\n",
    "##  Assignment \n",
    "\n",
    "The process for generating a bootstrap distribution is similar to the process for generating a sampling distribution; only the first step is different.\n",
    "\n",
    "To make a sampling distribution, you start with the population and sample without replacement. To make a bootstrap distribution, you start with a sample and sample that with replacement. After that, the steps are the same: calculate the summary statistic that you are interested in on that sample/resample, then replicate the process many times. In each case, you can visualize the distribution with a histogram.\n",
    "\n",
    "Here, `spotify_sample` is a subset of the `spotify_population` dataset. To make it easier to see how resampling works, a row index column called `'index'` has been added, and only the artist name, song name, and `danceability` columns have been included.\n",
    "\n",
    "`spotify_sample` is available; `pandas`, `numpy`, and `matplotlib.pyplot` are loaded with their usual aliases.\n",
    "\n",
    "##  Pre exercise code \n",
    "\n",
    "```\n",
    "import pandas as pd\n",
    "import numpy as np\n",
    "import matplotlib.pyplot as plt\n",
    "spotify_population = pd.read_feather(\n",
    "  path = \"/usr/local/share/datasets/spotify_2000_2020.feather\"\n",
    ")\n",
    "\n",
    "spotify_focus = spotify_population[[\"artists\", \"name\", \"danceability\"]]\n",
    "spotify_focus = spotify_focus.reset_index()\n",
    "\n",
    "spotify_sample = spotify_focus.sample(\n",
    "  frac=1, replace=False, random_state = 19790801\n",
    ")\n",
    "\n",
    "```\n"
   ]
  },
  {
   "cell_type": "code",
   "execution_count": 1,
   "id": "48a0f746-1a8d-46ca-864a-74efa13477f5",
   "metadata": {},
   "outputs": [],
   "source": [
    "import pandas as pd\n",
    "import numpy as np\n",
    "import matplotlib.pyplot as plt\n",
    "spotify_population = pd.read_feather(\n",
    "  path = \"spotify_2000_2020.feather\"\n",
    ")\n",
    "\n",
    "spotify_focus = spotify_population[[\"artists\", \"name\", \"danceability\"]]\n",
    "spotify_focus = spotify_focus.reset_index()\n",
    "\n",
    "spotify_sample = spotify_focus.sample(\n",
    "  frac=1, replace=False, random_state = 19790801\n",
    ")"
   ]
  },
  {
   "cell_type": "markdown",
   "id": "7b2bc340-06c0-407e-82a7-0404ac2baf75",
   "metadata": {},
   "source": [
    "##  Instructions \n",
    "\n",
    "- Generate a single bootstrap resample from `spotify_sample`.\n",
    "\n",
    "\n"
   ]
  },
  {
   "cell_type": "code",
   "execution_count": 2,
   "id": "ca7dc665-db62-403c-897d-d4a85c5f506e",
   "metadata": {},
   "outputs": [],
   "source": [
    "spotify_resample = spotify_sample.sample(frac=1, replace=True)"
   ]
  },
  {
   "cell_type": "markdown",
   "id": "dcca637e-cb37-461e-8cbd-acf4d2499189",
   "metadata": {},
   "source": [
    "\n",
    "- Calculate the mean of the `danceability` column of `spotify_1_resample` using `numpy`.\n",
    "\n"
   ]
  },
  {
   "cell_type": "code",
   "execution_count": 3,
   "id": "a69e4b95-e1fc-40a1-96a5-12fe5ba3254f",
   "metadata": {},
   "outputs": [],
   "source": [
    "mean_dance = np.mean(spotify_resample['danceability'])"
   ]
  },
  {
   "cell_type": "markdown",
   "id": "250e918c-0899-45d9-a324-d4e0a51f9279",
   "metadata": {},
   "source": [
    "\n",
    "- Replicate the expression provided 1000 times.\n",
    "\n"
   ]
  },
  {
   "cell_type": "code",
   "execution_count": 5,
   "id": "392bd60b-a666-4424-9278-809732f3f6d3",
   "metadata": {},
   "outputs": [],
   "source": [
    "mean_dance_1000 = [np.mean(spotify_sample.sample(frac=1, replace=True)['danceability']) for i in range(1000)]"
   ]
  },
  {
   "cell_type": "markdown",
   "id": "eb2d64cc-eed6-4e05-b1cc-bcbbb667ebe0",
   "metadata": {},
   "source": [
    "\n",
    "- Create a bootstrap distribution by drawing a histogram of `mean_danceability_1000`.\n"
   ]
  },
  {
   "cell_type": "code",
   "execution_count": 6,
   "id": "08ed3175-23a3-4685-956a-7e929484c89a",
   "metadata": {},
   "outputs": [
    {
     "data": {
      "text/plain": [
       "(array([  2.,  13.,  76., 224., 317., 222., 110.,  32.,   2.,   2.]),\n",
       " array([0.58806697, 0.58873787, 0.58940878, 0.59007968, 0.59075058,\n",
       "        0.59142148, 0.59209239, 0.59276329, 0.59343419, 0.59410509,\n",
       "        0.594776  ]),\n",
       " <BarContainer object of 10 artists>)"
      ]
     },
     "execution_count": 6,
     "metadata": {},
     "output_type": "execute_result"
    },
    {
     "data": {
      "image/png": "[encoded data removed]",
      "text/plain": [
       "<Figure size 640x480 with 1 Axes>"
      ]
     },
     "metadata": {},
     "output_type": "display_data"
    }
   ],
   "source": [
    "plt.hist(mean_dance_1000)"
   ]
  },
  {
   "cell_type": "code",
   "execution_count": null,
   "id": "afabd759-ac89-4a55-8ff8-ce09f6cf826d",
   "metadata": {},
   "outputs": [],
   "source": []
  }
 ],
 "metadata": {
  "kernelspec": {
   "display_name": "Python 3 (ipykernel)",
   "language": "python",
   "name": "python3"
  },
  "language_info": {
   "codemirror_mode": {
    "name": "ipython",
    "version": 3
   },
   "file_extension": ".py",
   "mimetype": "text/x-python",
   "name": "python",
   "nbconvert_exporter": "python",
   "pygments_lexer": "ipython3",
   "version": "3.11.7"
  }
 },
 "nbformat": 4,
 "nbformat_minor": 5
}
