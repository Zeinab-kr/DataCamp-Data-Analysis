{
 "cells": [
  {
   "cell_type": "markdown",
   "id": "58f40138-6282-4eb8-bee6-ac04b3af5b50",
   "metadata": {},
   "source": [
    "\n",
    "#  S\n",
    "##  Assignment \n",
    "\n",
    "Throughout this chapter, you'll be exploring song data from Spotify. Each row of this population dataset represents a song, and there are over 40,000 rows. Columns include the song name, the artists who performed it, the release year, and attributes of the song like its duration, tempo, and danceability. You'll start by looking at the durations.\n",
    "\n",
    "Your first task is to sample the Spotify dataset and compare the mean duration of the population with the sample.\n",
    "\n",
    "`spotify_population` is available and `pandas` is loaded as `pd`.\n",
    "\n",
    "##  Pre exercise code \n",
    "\n",
    "```\n",
    "import pandas as pd\n",
    "spotify_population = pd.read_feather(\n",
    "  path = \"/usr/local/share/datasets/spotify_2000_2020.feather\"\n",
    ")\n",
    "```\n"
   ]
  },
  {
   "cell_type": "code",
   "execution_count": 2,
   "id": "18557bc0-c994-4644-8a84-360ec9acbda6",
   "metadata": {},
   "outputs": [],
   "source": [
    "import pandas as pd\n",
    "spotify_population = pd.read_feather(\n",
    "  path = \"spotify_2000_2020.feather\"\n",
    ")"
   ]
  },
  {
   "cell_type": "code",
   "execution_count": 4,
   "id": "97329f66-9a47-4be7-b9b3-7423f75746c3",
   "metadata": {},
   "outputs": [
    {
     "data": {
      "text/html": [
       "<div>\n",
       "<style scoped>\n",
       "    .dataframe tbody tr th:only-of-type {\n",
       "        vertical-align: middle;\n",
       "    }\n",
       "\n",
       "    .dataframe tbody tr th {\n",
       "        vertical-align: top;\n",
       "    }\n",
       "\n",
       "    .dataframe thead th {\n",
       "        text-align: right;\n",
       "    }\n",
       "</style>\n",
       "<table border=\"1\" class=\"dataframe\">\n",
       "  <thead>\n",
       "    <tr style=\"text-align: right;\">\n",
       "      <th></th>\n",
       "      <th>acousticness</th>\n",
       "      <th>artists</th>\n",
       "      <th>danceability</th>\n",
       "      <th>duration_ms</th>\n",
       "      <th>duration_minutes</th>\n",
       "      <th>energy</th>\n",
       "      <th>explicit</th>\n",
       "      <th>id</th>\n",
       "      <th>instrumentalness</th>\n",
       "      <th>key</th>\n",
       "      <th>liveness</th>\n",
       "      <th>loudness</th>\n",
       "      <th>mode</th>\n",
       "      <th>name</th>\n",
       "      <th>popularity</th>\n",
       "      <th>release_date</th>\n",
       "      <th>speechiness</th>\n",
       "      <th>tempo</th>\n",
       "      <th>valence</th>\n",
       "      <th>year</th>\n",
       "    </tr>\n",
       "  </thead>\n",
       "  <tbody>\n",
       "    <tr>\n",
       "      <th>0</th>\n",
       "      <td>0.972</td>\n",
       "      <td>['David Bauer']</td>\n",
       "      <td>0.567</td>\n",
       "      <td>313293.0</td>\n",
       "      <td>5.22155</td>\n",
       "      <td>0.227</td>\n",
       "      <td>0.0</td>\n",
       "      <td>0w0D8H1ubRerCXHWYJkinO</td>\n",
       "      <td>0.601</td>\n",
       "      <td>10.0</td>\n",
       "      <td>0.11</td>\n",
       "      <td>-13.441</td>\n",
       "      <td>1.0</td>\n",
       "      <td>Shout to the Lord</td>\n",
       "      <td>47.0</td>\n",
       "      <td>2000</td>\n",
       "      <td>0.029</td>\n",
       "      <td>136.123</td>\n",
       "      <td>0.0396</td>\n",
       "      <td>2000.0</td>\n",
       "    </tr>\n",
       "  </tbody>\n",
       "</table>\n",
       "</div>"
      ],
      "text/plain": [
       "   acousticness          artists  danceability  duration_ms  duration_minutes  \\\n",
       "0         0.972  ['David Bauer']         0.567     313293.0           5.22155   \n",
       "\n",
       "   energy  explicit                      id  instrumentalness   key  liveness  \\\n",
       "0   0.227       0.0  0w0D8H1ubRerCXHWYJkinO             0.601  10.0      0.11   \n",
       "\n",
       "   loudness  mode               name  popularity release_date  speechiness  \\\n",
       "0   -13.441   1.0  Shout to the Lord        47.0         2000        0.029   \n",
       "\n",
       "     tempo  valence    year  \n",
       "0  136.123   0.0396  2000.0  "
      ]
     },
     "execution_count": 4,
     "metadata": {},
     "output_type": "execute_result"
    }
   ],
   "source": [
    "spotify_population.head(1)"
   ]
  },
  {
   "cell_type": "markdown",
   "id": "16aeb85d-004a-4a43-ab4c-51e87b78f772",
   "metadata": {},
   "source": [
    "##  Instructions \n",
    "\n",
    "- Sample 1000 rows from `spotify_population`, assigning to `spotify_sample`.\n"
   ]
  },
  {
   "cell_type": "code",
   "execution_count": 5,
   "id": "94eebb0d-45c3-4b30-b31f-142ff979864b",
   "metadata": {},
   "outputs": [],
   "source": [
    "spotify_sample = spotify_population.sample(n=1000)"
   ]
  },
  {
   "cell_type": "markdown",
   "id": "a61482e0-75ef-4ecb-a49c-00df039e8f93",
   "metadata": {},
   "source": [
    "- Calculate the mean duration in minutes from `spotify_population` using `pandas`.\n",
    "- Calculate the mean duration in minutes from `spotify_sample` using `pandas`.\n",
    "\n"
   ]
  },
  {
   "cell_type": "code",
   "execution_count": 7,
   "id": "9e516e61-b394-4b26-ae4b-a2fb6bb5d350",
   "metadata": {},
   "outputs": [
    {
     "data": {
      "text/plain": [
       "3.8521519140900073"
      ]
     },
     "execution_count": 7,
     "metadata": {},
     "output_type": "execute_result"
    }
   ],
   "source": [
    "spotify_population['duration_minutes'].mean()"
   ]
  },
  {
   "cell_type": "code",
   "execution_count": 8,
   "id": "2b04eba4-bc1a-41d0-bba6-fa9cd3eebc7a",
   "metadata": {},
   "outputs": [
    {
     "data": {
      "text/plain": [
       "3.860085783333333"
      ]
     },
     "execution_count": 8,
     "metadata": {},
     "output_type": "execute_result"
    }
   ],
   "source": [
    "spotify_sample['duration_minutes'].mean()"
   ]
  },
  {
   "cell_type": "code",
   "execution_count": null,
   "id": "8bfddd9e-9071-4204-9133-fc128e1b7ee3",
   "metadata": {},
   "outputs": [],
   "source": []
  }
 ],
 "metadata": {
  "kernelspec": {
   "display_name": "Python 3 (ipykernel)",
   "language": "python",
   "name": "python3"
  },
  "language_info": {
   "codemirror_mode": {
    "name": "ipython",
    "version": 3
   },
   "file_extension": ".py",
   "mimetype": "text/x-python",
   "name": "python",
   "nbconvert_exporter": "python",
   "pygments_lexer": "ipython3",
   "version": "3.11.7"
  }
 },
 "nbformat": 4,
 "nbformat_minor": 5
}
