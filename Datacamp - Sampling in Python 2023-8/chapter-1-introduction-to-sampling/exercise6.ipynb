{
 "cells": [
  {
   "cell_type": "markdown",
   "id": "e046f167-24da-4aee-a3b0-3e18843b3d71",
   "metadata": {},
   "source": [
    "\n",
    "#  Generating random numbers\n",
    "\n",
    "##  Assignment \n",
    "\n",
    "You've used `.sample()` to generate pseudo-random numbers from a set of values in a DataFrame. A related task is to generate random numbers that follow a statistical distribution, like the uniform distribution or the normal distribution.\n",
    "\n",
    "Each random number generation function has distribution-specific arguments and an argument for specifying the number of random numbers to generate.\n",
    "\n",
    "`matplotlib.pyplot` is loaded as `plt`, and `numpy` is loaded as `np`.\n",
    "\n",
    "##  Pre exercise code \n",
    "\n",
    "```\n",
    "import matplotlib.pyplot as plt\n",
    "import numpy as np\n",
    "```"
   ]
  },
  {
   "cell_type": "code",
   "execution_count": 29,
   "id": "26dbcefd-739e-496b-b104-5b9ef58fbf93",
   "metadata": {},
   "outputs": [],
   "source": [
    "import matplotlib.pyplot as plt\n",
    "import numpy as np"
   ]
  },
  {
   "cell_type": "markdown",
   "id": "d825e75c-50c5-4d0c-9655-a5e74df2bb56",
   "metadata": {},
   "source": [
    "\n",
    "##  Instructions \n",
    "\n",
    "- Generate 5000 numbers from a uniform distribution, setting the parameters `low` to `-3` and `high` to `3`.\n"
   ]
  },
  {
   "cell_type": "code",
   "execution_count": 37,
   "id": "57075aa3-be46-4b3b-8121-83b633707346",
   "metadata": {},
   "outputs": [
    {
     "data": {
      "text/plain": [
       "array([-2.70436039, -1.1667809 , -1.47020775, ...,  2.31120121,\n",
       "        1.87713402,  1.07036158])"
      ]
     },
     "execution_count": 37,
     "metadata": {},
     "output_type": "execute_result"
    }
   ],
   "source": [
    "uniform = np.random.uniform(low=-3, high=3, size=5000)\n",
    "uniform"
   ]
  },
  {
   "cell_type": "markdown",
   "id": "f5075e70-8564-4fa5-9fe9-5646e8e0bb22",
   "metadata": {},
   "source": [
    "\n",
    "- Generate 5000 numbers from a normal distribution, setting the parameters `loc` to `5` and `scale` to `2`."
   ]
  },
  {
   "cell_type": "code",
   "execution_count": 38,
   "id": "d0ddc3a6-4497-40ca-b9b3-8bde506e8934",
   "metadata": {},
   "outputs": [
    {
     "data": {
      "text/plain": [
       "array([6.18641584, 3.19034909, 3.69577745, ..., 4.47270446, 6.41373644,\n",
       "       2.97754041])"
      ]
     },
     "execution_count": 38,
     "metadata": {},
     "output_type": "execute_result"
    }
   ],
   "source": [
    "normal = np.random.normal(loc=3, scale=2, size=5000)\n",
    "normal"
   ]
  },
  {
   "cell_type": "markdown",
   "id": "1a665867-9ca4-43e2-9f8e-120bb62f42f4",
   "metadata": {},
   "source": [
    "\n",
    "- Plot a histogram of `uniforms` with bins of width of `0.25` from `-3` to `3` using `plt.hist()`.\n",
    "\n",
    "\n"
   ]
  },
  {
   "cell_type": "code",
   "execution_count": 40,
   "id": "3343a0f7-e765-462c-9951-3b36c049b7bb",
   "metadata": {},
   "outputs": [
    {
     "data": {
      "text/plain": [
       "(array([208., 198., 196., 207., 218., 174., 207., 214., 211., 212., 204.,\n",
       "        213., 205., 208., 193., 185., 213., 222., 241., 207., 208., 198.,\n",
       "        237.]),\n",
       " array([-3.  , -2.75, -2.5 , -2.25, -2.  , -1.75, -1.5 , -1.25, -1.  ,\n",
       "        -0.75, -0.5 , -0.25,  0.  ,  0.25,  0.5 ,  0.75,  1.  ,  1.25,\n",
       "         1.5 ,  1.75,  2.  ,  2.25,  2.5 ,  2.75]),\n",
       " <BarContainer object of 23 artists>)"
      ]
     },
     "execution_count": 40,
     "metadata": {},
     "output_type": "execute_result"
    },
    {
     "data": {
      "image/png": "[encoded data removed]",
      "text/plain": [
       "<Figure size 640x480 with 1 Axes>"
      ]
     },
     "metadata": {},
     "output_type": "display_data"
    }
   ],
   "source": [
    "plt.hist(uniform, bins=np.arange(-3, 3, 0.25))"
   ]
  },
  {
   "cell_type": "markdown",
   "id": "a1f2e809-8fce-4454-9522-b10db5126495",
   "metadata": {},
   "source": [
    "\n",
    "- Plot a histogram of `normals` with bins of width of `0.5` from `-2` to `13` using `plt.hist()`.\n",
    "\n"
   ]
  },
  {
   "cell_type": "code",
   "execution_count": 42,
   "id": "aef00654-4daf-43b8-ae9a-167d8f13035c",
   "metadata": {},
   "outputs": [
    {
     "data": {
      "text/plain": [
       "(array([ 32.,  55.,  83., 153., 190., 288., 342., 427., 433., 498., 485.,\n",
       "        451., 390., 335., 260., 196., 125.,  94.,  64.,  26.,  23.,   7.,\n",
       "          3.,   1.,   0.,   0.,   0.,   0.,   0.]),\n",
       " array([-2. , -1.5, -1. , -0.5,  0. ,  0.5,  1. ,  1.5,  2. ,  2.5,  3. ,\n",
       "         3.5,  4. ,  4.5,  5. ,  5.5,  6. ,  6.5,  7. ,  7.5,  8. ,  8.5,\n",
       "         9. ,  9.5, 10. , 10.5, 11. , 11.5, 12. , 12.5]),\n",
       " <BarContainer object of 29 artists>)"
      ]
     },
     "execution_count": 42,
     "metadata": {},
     "output_type": "execute_result"
    },
    {
     "data": {
      "image/png": "[encoded data removed]",
      "text/plain": [
       "<Figure size 640x480 with 1 Axes>"
      ]
     },
     "metadata": {},
     "output_type": "display_data"
    }
   ],
   "source": [
    "plt.hist(normal, bins=np.arange(-2, 13, 0.5))"
   ]
  },
  {
   "cell_type": "code",
   "execution_count": null,
   "id": "6bbee8db-2b17-4b50-9d09-a4f4dacefb81",
   "metadata": {},
   "outputs": [],
   "source": []
  }
 ],
 "metadata": {
  "kernelspec": {
   "display_name": "Python 3 (ipykernel)",
   "language": "python",
   "name": "python3"
  },
  "language_info": {
   "codemirror_mode": {
    "name": "ipython",
    "version": 3
   },
   "file_extension": ".py",
   "mimetype": "text/x-python",
   "name": "python",
   "nbconvert_exporter": "python",
   "pygments_lexer": "ipython3",
   "version": "3.11.7"
  }
 },
 "nbformat": 4,
 "nbformat_minor": 5
}
