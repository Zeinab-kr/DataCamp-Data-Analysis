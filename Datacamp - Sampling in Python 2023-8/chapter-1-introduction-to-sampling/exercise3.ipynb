{
 "cells": [
  {
   "cell_type": "markdown",
   "id": "cd4d9dc9-6fe5-42a1-b0ff-5ab9693adda2",
   "metadata": {},
   "source": [
    "\n",
    "#  Simple sampling and calculating with NumPy\n",
    "\n",
    "##  Assignment \n",
    "\n",
    "You can also use `numpy` to calculate parameters or statistics from a list or `pandas` Series.\n",
    "\n",
    "You'll be turning it up to eleven and looking at the `loudness` property of each song.\n",
    "\n",
    "`spotify_population` is available and `numpy` is loaded as `np`.\n",
    "\n",
    "##  Pre exercise code \n",
    "\n",
    "```\n",
    "import pandas as pd\n",
    "import numpy as np\n",
    "spotify_population = pd.read_feather(\n",
    "  path = \"/usr/local/share/datasets/spotify_2000_2020.feather\"\n",
    ")\n",
    "```\n"
   ]
  },
  {
   "cell_type": "code",
   "execution_count": 9,
   "id": "29978406-0977-483e-bac5-92e9b1b48bd9",
   "metadata": {},
   "outputs": [],
   "source": [
    "import pandas as pd\n",
    "import numpy as np\n",
    "spotify_population = pd.read_feather(\n",
    "  path = \"spotify_2000_2020.feather\"\n",
    ")"
   ]
  },
  {
   "cell_type": "markdown",
   "id": "cd44af41-1826-489b-9b1a-1026fba64e7b",
   "metadata": {},
   "source": [
    "##  Instructions \n",
    "\n",
    "- Create a `pandas` Series, `loudness_pop`, by subsetting the `loudness` column from `spotify_population`.\n",
    "- Sample `loudness_pop` to get 100 random values, assigning to `loudness_samp`.\n",
    "\n"
   ]
  },
  {
   "cell_type": "code",
   "execution_count": 10,
   "id": "dd9b706a-0c9f-4df5-9a68-55042a671c9b",
   "metadata": {},
   "outputs": [],
   "source": [
    "loudness_pop = spotify_population['loudness']"
   ]
  },
  {
   "cell_type": "code",
   "execution_count": 11,
   "id": "4c5631c6-9507-4da0-be94-0102b729dcc6",
   "metadata": {},
   "outputs": [],
   "source": [
    "loudness_samp = loudness_pop.sample(n=100)"
   ]
  },
  {
   "cell_type": "markdown",
   "id": "70951533-a3fb-489e-bc4f-89084f80ce9a",
   "metadata": {},
   "source": [
    "- Calculate the mean of `loudness_pop` using `numpy`.\n",
    "- Calculate the mean of `loudness_samp` using `numpy`.\n",
    "\n"
   ]
  },
  {
   "cell_type": "code",
   "execution_count": 12,
   "id": "f5161291-00a5-4d71-81da-3771d0b644e2",
   "metadata": {},
   "outputs": [
    {
     "data": {
      "text/plain": [
       "-7.366856851353947"
      ]
     },
     "execution_count": 12,
     "metadata": {},
     "output_type": "execute_result"
    }
   ],
   "source": [
    "np.mean(loudness_pop)"
   ]
  },
  {
   "cell_type": "code",
   "execution_count": 13,
   "id": "4ca15d70-c2d3-4add-b36b-3c477fd3338b",
   "metadata": {},
   "outputs": [
    {
     "data": {
      "text/plain": [
       "-7.170480000000002"
      ]
     },
     "execution_count": 13,
     "metadata": {},
     "output_type": "execute_result"
    }
   ],
   "source": [
    "np.mean(loudness_samp)"
   ]
  },
  {
   "cell_type": "code",
   "execution_count": null,
   "id": "7982a50a-6d5d-4121-8c6e-01b4400d30ee",
   "metadata": {},
   "outputs": [],
   "source": []
  }
 ],
 "metadata": {
  "kernelspec": {
   "display_name": "Python 3 (ipykernel)",
   "language": "python",
   "name": "python3"
  },
  "language_info": {
   "codemirror_mode": {
    "name": "ipython",
    "version": 3
   },
   "file_extension": ".py",
   "mimetype": "text/x-python",
   "name": "python",
   "nbconvert_exporter": "python",
   "pygments_lexer": "ipython3",
   "version": "3.11.7"
  }
 },
 "nbformat": 4,
 "nbformat_minor": 5
}
