{
 "cells": [
  {
   "cell_type": "markdown",
   "id": "5906575a-7810-4102-bce1-def3b26d8e40",
   "metadata": {},
   "source": [
    "\n",
    "#  Comparing point estimates\n",
    "\n",
    "##  Assignment \n",
    "\n",
    "Now that you have three types of sample (simple, stratified, and cluster), you can compare point estimates from each sample to the population parameter. That is, you can calculate the same summary statistic on each sample and see how it compares to the summary statistic for the population.\n",
    "\n",
    "Here, we'll look at how satisfaction with the company affects whether or not the employee leaves the company. That is, you'll calculate the proportion of employees who left the company (they have an `Attrition` value of `1`) for each value of `RelationshipSatisfaction`.\n",
    "\n",
    "`attrition_pop`, `attrition_srs`, `attrition_strat`, and `attrition_clust` are available; `pandas` is loaded with its usual alias.\n",
    "\n",
    "##  Pre exercise code \n",
    "\n",
    "```\n",
    "import pandas as pd\n",
    "import random\n",
    "\n",
    "\n",
    "attrition_pop = pd.read_feather(\n",
    "  path = \"/usr/local/share/datasets/attrition.feather\"\n",
    ")\n",
    "attrition_srs = attrition_pop.sample(frac=0.25, random_state=2022)\n",
    "attrition_strat = attrition_pop.groupby(\"RelationshipSatisfaction\").sample(frac=0.25, random_state=2022)\n",
    "random.seed(2019)\n",
    "satisfaction_unique = list(attrition_pop['RelationshipSatisfaction'].unique())\n",
    "satisfaction_samp = random.sample(satisfaction_unique, k=2)\n",
    "satis_condition = attrition_pop['RelationshipSatisfaction'].isin(satisfaction_samp)\n",
    "attrition_clust_prep = attrition_pop[satis_condition]\n",
    "attrition_clust_prep['RelationshipSatisfaction'] = attrition_clust_prep['RelationshipSatisfaction'].cat.remove_unused_categories()\n",
    "attrition_clust = attrition_clust_prep.groupby(\"RelationshipSatisfaction\").sample(n=len(attrition_clust_prep) // 4, random_state=2022)\n",
    "```\n"
   ]
  },
  {
   "cell_type": "code",
   "execution_count": 89,
   "id": "21e4febd-9677-44b0-be4f-c831e1494704",
   "metadata": {},
   "outputs": [
    {
     "name": "stderr",
     "output_type": "stream",
     "text": [
      "C:\\Users\\ROYAL\\AppData\\Local\\Temp\\ipykernel_10672\\3649541806.py:9: FutureWarning: The default of observed=False is deprecated and will be changed to True in a future version of pandas. Pass observed=False to retain current behavior or observed=True to adopt the future default and silence this warning.\n",
      "  attrition_strat = attrition_pop.groupby(\"RelationshipSatisfaction\").sample(frac=0.25, random_state=2022)\n",
      "C:\\Users\\ROYAL\\AppData\\Local\\Temp\\ipykernel_10672\\3649541806.py:15: SettingWithCopyWarning: \n",
      "A value is trying to be set on a copy of a slice from a DataFrame.\n",
      "Try using .loc[row_indexer,col_indexer] = value instead\n",
      "\n",
      "See the caveats in the documentation: https://pandas.pydata.org/pandas-docs/stable/user_guide/indexing.html#returning-a-view-versus-a-copy\n",
      "  attrition_clust_prep['RelationshipSatisfaction'] = attrition_clust_prep['RelationshipSatisfaction'].cat.remove_unused_categories()\n",
      "C:\\Users\\ROYAL\\AppData\\Local\\Temp\\ipykernel_10672\\3649541806.py:16: FutureWarning: The default of observed=False is deprecated and will be changed to True in a future version of pandas. Pass observed=False to retain current behavior or observed=True to adopt the future default and silence this warning.\n",
      "  attrition_clust = attrition_clust_prep.groupby(\"RelationshipSatisfaction\").sample(n=len(attrition_clust_prep) // 4, random_state=2022)\n"
     ]
    }
   ],
   "source": [
    "import pandas as pd\n",
    "import random\n",
    "\n",
    "\n",
    "attrition_pop = pd.read_feather(\n",
    "  path = \"attrition.feather\"\n",
    ")\n",
    "attrition_srs = attrition_pop.sample(frac=0.25, random_state=2022)\n",
    "attrition_strat = attrition_pop.groupby(\"RelationshipSatisfaction\").sample(frac=0.25, random_state=2022)\n",
    "random.seed(2019)\n",
    "satisfaction_unique = list(attrition_pop['RelationshipSatisfaction'].unique())\n",
    "satisfaction_samp = random.sample(satisfaction_unique, k=2)\n",
    "satis_condition = attrition_pop['RelationshipSatisfaction'].isin(satisfaction_samp)\n",
    "attrition_clust_prep = attrition_pop[satis_condition]\n",
    "attrition_clust_prep['RelationshipSatisfaction'] = attrition_clust_prep['RelationshipSatisfaction'].cat.remove_unused_categories()\n",
    "attrition_clust = attrition_clust_prep.groupby(\"RelationshipSatisfaction\").sample(n=len(attrition_clust_prep) // 4, random_state=2022)"
   ]
  },
  {
   "cell_type": "markdown",
   "id": "7072cce0-723d-4f8e-b6b0-f97fb770998e",
   "metadata": {},
   "source": [
    "##  Instructions \n",
    "\n",
    "Group `attrition_pop` by `RelationshipSatisfaction` levels and calculate the mean of `Attrition` for each level.\n",
    "\n"
   ]
  },
  {
   "cell_type": "code",
   "execution_count": 90,
   "id": "4a5304e5-e681-4357-9fc9-eb996fcb76fd",
   "metadata": {},
   "outputs": [
    {
     "data": {
      "text/html": [
       "<div>\n",
       "<style scoped>\n",
       "    .dataframe tbody tr th:only-of-type {\n",
       "        vertical-align: middle;\n",
       "    }\n",
       "\n",
       "    .dataframe tbody tr th {\n",
       "        vertical-align: top;\n",
       "    }\n",
       "\n",
       "    .dataframe thead th {\n",
       "        text-align: right;\n",
       "    }\n",
       "</style>\n",
       "<table border=\"1\" class=\"dataframe\">\n",
       "  <thead>\n",
       "    <tr style=\"text-align: right;\">\n",
       "      <th></th>\n",
       "      <th>Age</th>\n",
       "      <th>Attrition</th>\n",
       "      <th>BusinessTravel</th>\n",
       "      <th>DailyRate</th>\n",
       "      <th>Department</th>\n",
       "      <th>DistanceFromHome</th>\n",
       "      <th>Education</th>\n",
       "      <th>EducationField</th>\n",
       "      <th>EnvironmentSatisfaction</th>\n",
       "      <th>Gender</th>\n",
       "      <th>...</th>\n",
       "      <th>PerformanceRating</th>\n",
       "      <th>RelationshipSatisfaction</th>\n",
       "      <th>StockOptionLevel</th>\n",
       "      <th>TotalWorkingYears</th>\n",
       "      <th>TrainingTimesLastYear</th>\n",
       "      <th>WorkLifeBalance</th>\n",
       "      <th>YearsAtCompany</th>\n",
       "      <th>YearsInCurrentRole</th>\n",
       "      <th>YearsSinceLastPromotion</th>\n",
       "      <th>YearsWithCurrManager</th>\n",
       "    </tr>\n",
       "  </thead>\n",
       "  <tbody>\n",
       "    <tr>\n",
       "      <th>0</th>\n",
       "      <td>21</td>\n",
       "      <td>0.0</td>\n",
       "      <td>Travel_Rarely</td>\n",
       "      <td>391</td>\n",
       "      <td>Research_Development</td>\n",
       "      <td>15</td>\n",
       "      <td>College</td>\n",
       "      <td>Life_Sciences</td>\n",
       "      <td>High</td>\n",
       "      <td>Male</td>\n",
       "      <td>...</td>\n",
       "      <td>Excellent</td>\n",
       "      <td>Very_High</td>\n",
       "      <td>0</td>\n",
       "      <td>0</td>\n",
       "      <td>6</td>\n",
       "      <td>Better</td>\n",
       "      <td>0</td>\n",
       "      <td>0</td>\n",
       "      <td>0</td>\n",
       "      <td>0</td>\n",
       "    </tr>\n",
       "  </tbody>\n",
       "</table>\n",
       "<p>1 rows × 31 columns</p>\n",
       "</div>"
      ],
      "text/plain": [
       "   Age  Attrition BusinessTravel  DailyRate            Department  \\\n",
       "0   21        0.0  Travel_Rarely        391  Research_Development   \n",
       "\n",
       "   DistanceFromHome Education EducationField EnvironmentSatisfaction Gender  \\\n",
       "0                15   College  Life_Sciences                    High   Male   \n",
       "\n",
       "   ...  PerformanceRating RelationshipSatisfaction  StockOptionLevel  \\\n",
       "0  ...          Excellent                Very_High                 0   \n",
       "\n",
       "  TotalWorkingYears TrainingTimesLastYear WorkLifeBalance  YearsAtCompany  \\\n",
       "0                 0                     6          Better               0   \n",
       "\n",
       "   YearsInCurrentRole  YearsSinceLastPromotion YearsWithCurrManager  \n",
       "0                   0                        0                    0  \n",
       "\n",
       "[1 rows x 31 columns]"
      ]
     },
     "execution_count": 90,
     "metadata": {},
     "output_type": "execute_result"
    }
   ],
   "source": [
    "attrition_pop.head(1)"
   ]
  },
  {
   "cell_type": "code",
   "execution_count": 98,
   "id": "e5c2d805-ad18-494b-8273-c6bc890ca19b",
   "metadata": {},
   "outputs": [
    {
     "data": {
      "text/plain": [
       "RelationshipSatisfaction\n",
       "Low          0.206522\n",
       "Medium       0.148515\n",
       "High         0.154684\n",
       "Very_High    0.148148\n",
       "Name: Attrition, dtype: float64"
      ]
     },
     "execution_count": 98,
     "metadata": {},
     "output_type": "execute_result"
    }
   ],
   "source": [
    "attrition_pop.groupby('RelationshipSatisfaction', observed=False)['Attrition'].mean()"
   ]
  },
  {
   "cell_type": "markdown",
   "id": "c4513b0f-0c3e-4b16-bf68-d07e5939d137",
   "metadata": {},
   "source": [
    "- Calculate the proportion of employee attrition for each relationship satisfaction group, this time on the simple random sample, `attrition_srs`.\n"
   ]
  },
  {
   "cell_type": "code",
   "execution_count": 94,
   "id": "41c5d533-bed2-41c4-bbae-5f1930c6d592",
   "metadata": {},
   "outputs": [
    {
     "data": {
      "text/plain": [
       "RelationshipSatisfaction\n",
       "Low          0.134328\n",
       "Medium       0.164179\n",
       "High         0.160000\n",
       "Very_High    0.155963\n",
       "Name: Attrition, dtype: float64"
      ]
     },
     "execution_count": 94,
     "metadata": {},
     "output_type": "execute_result"
    }
   ],
   "source": [
    "attrition_srs.groupby('RelationshipSatisfaction', observed=False)['Attrition'].mean()"
   ]
  },
  {
   "cell_type": "markdown",
   "id": "a510a09e-6dd7-4b0e-a7dd-722b60068ea6",
   "metadata": {},
   "source": [
    "- Calculate the proportion of employee attrition for each relationship satisfaction group, this time on the stratified sample, `attrition_strat`.\n"
   ]
  },
  {
   "cell_type": "code",
   "execution_count": 95,
   "id": "4b456def-d394-4ffd-adad-de6ba2bd629f",
   "metadata": {},
   "outputs": [
    {
     "data": {
      "text/plain": [
       "RelationshipSatisfaction\n",
       "Low          0.144928\n",
       "Medium       0.078947\n",
       "High         0.165217\n",
       "Very_High    0.129630\n",
       "Name: Attrition, dtype: float64"
      ]
     },
     "execution_count": 95,
     "metadata": {},
     "output_type": "execute_result"
    }
   ],
   "source": [
    "attrition_strat.groupby('RelationshipSatisfaction', observed=False)['Attrition'].mean()"
   ]
  },
  {
   "cell_type": "markdown",
   "id": "b70cd4fa-bbed-4f97-b3c7-8fd3aff3370e",
   "metadata": {},
   "source": [
    "- Calculate the proportion of employee attrition for each relationship satisfaction group, this time on the cluster sample, `attrition_clust`.\n"
   ]
  },
  {
   "cell_type": "code",
   "execution_count": 96,
   "id": "d361980c-09f5-4660-bf37-c0fbf208c238",
   "metadata": {},
   "outputs": [
    {
     "data": {
      "text/plain": [
       "RelationshipSatisfaction\n",
       "High         0.139640\n",
       "Very_High    0.162162\n",
       "Name: Attrition, dtype: float64"
      ]
     },
     "execution_count": 96,
     "metadata": {},
     "output_type": "execute_result"
    }
   ],
   "source": [
    "attrition_clust.groupby('RelationshipSatisfaction', observed=False)['Attrition'].mean()"
   ]
  },
  {
   "cell_type": "code",
   "execution_count": null,
   "id": "93ead4f1-ca12-4c92-afc2-49bd553c6e56",
   "metadata": {},
   "outputs": [],
   "source": []
  }
 ],
 "metadata": {
  "kernelspec": {
   "display_name": "Python 3 (ipykernel)",
   "language": "python",
   "name": "python3"
  },
  "language_info": {
   "codemirror_mode": {
    "name": "ipython",
    "version": 3
   },
   "file_extension": ".py",
   "mimetype": "text/x-python",
   "name": "python",
   "nbconvert_exporter": "python",
   "pygments_lexer": "ipython3",
   "version": "3.11.7"
  }
 },
 "nbformat": 4,
 "nbformat_minor": 5
}
