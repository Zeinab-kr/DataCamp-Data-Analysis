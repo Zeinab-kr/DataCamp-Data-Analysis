{
 "cells": [
  {
   "cell_type": "markdown",
   "id": "fcd1f0d4-a78d-411f-8bab-1e148ab2896d",
   "metadata": {},
   "source": [
    "\n",
    "#  Equal counts stratified sampling\n",
    "\n",
    "##  Assignment \n",
    "\n",
    "If one subgroup is larger than another subgroup in the population, but you don't want to reflect that difference in your analysis, then you can use **equal counts stratified sampling** to generate samples where each subgroup has the same amount of data. For example, if you are analyzing blood types, O is the most common blood type worldwide, but you may wish to have equal amounts of O, A, B, and AB in your sample.\n",
    "\n",
    "`attrition_pop` is available; `pandas` is loaded with its usual alias.\n",
    "\n",
    "##  Pre exercise code \n",
    "\n",
    "```\n",
    "import pandas as pd\n",
    "attrition_pop = pd.read_feather(\n",
    "  path = \"/usr/local/share/datasets/attrition.feather\"\n",
    ")\n",
    "```\n"
   ]
  },
  {
   "cell_type": "code",
   "execution_count": 37,
   "id": "1ed4de4a-4ec9-4246-bbff-67819c0e5d2d",
   "metadata": {},
   "outputs": [],
   "source": [
    "import pandas as pd\n",
    "attrition_pop = pd.read_feather(\n",
    "  path = \"attrition.feather\"\n",
    ")"
   ]
  },
  {
   "cell_type": "markdown",
   "id": "501389ad-4b82-4b8b-bf50-2e1429132e0f",
   "metadata": {},
   "source": [
    "##  Instructions \n",
    "\n",
    "- Use equal counts stratified sampling on `attrition_pop` to get 30 employees from each `Education` group, setting the seed to `2022`.\n",
    "\n",
    "\n"
   ]
  },
  {
   "cell_type": "code",
   "execution_count": 42,
   "id": "d09cbd71-b5d5-4e73-834e-55e7494ef199",
   "metadata": {},
   "outputs": [
    {
     "name": "stderr",
     "output_type": "stream",
     "text": [
      "C:\\Users\\ROYAL\\AppData\\Local\\Temp\\ipykernel_10672\\1075322085.py:1: FutureWarning: The default of observed=False is deprecated and will be changed to True in a future version of pandas. Pass observed=False to retain current behavior or observed=True to adopt the future default and silence this warning.\n",
      "  attrition_strat = attrition_pop.groupby('Education').sample(n=30, random_state=2022)\n"
     ]
    }
   ],
   "source": [
    "attrition_strat = attrition_pop.groupby('Education').sample(n=30, random_state=2022)"
   ]
  },
  {
   "cell_type": "markdown",
   "id": "de78fd2c-72b9-4625-9ddf-b8a62041eb0d",
   "metadata": {},
   "source": [
    "\n",
    "- Get the proportion of employees by `Education` level from `attrition_eq`.\n",
    "\n",
    "\n"
   ]
  },
  {
   "cell_type": "code",
   "execution_count": 43,
   "id": "7e63c306-4a57-465b-92e7-ac87576734d9",
   "metadata": {},
   "outputs": [
    {
     "data": {
      "text/plain": [
       "Education\n",
       "Below_College    0.2\n",
       "College          0.2\n",
       "Bachelor         0.2\n",
       "Master           0.2\n",
       "Doctor           0.2\n",
       "Name: proportion, dtype: float64"
      ]
     },
     "execution_count": 43,
     "metadata": {},
     "output_type": "execute_result"
    }
   ],
   "source": [
    "attrition_strat['Education'].value_counts(normalize=True)"
   ]
  },
  {
   "cell_type": "code",
   "execution_count": null,
   "id": "1b9ce2ef-d945-43b5-85a7-92969c351515",
   "metadata": {},
   "outputs": [],
   "source": []
  }
 ],
 "metadata": {
  "kernelspec": {
   "display_name": "Python 3 (ipykernel)",
   "language": "python",
   "name": "python3"
  },
  "language_info": {
   "codemirror_mode": {
    "name": "ipython",
    "version": 3
   },
   "file_extension": ".py",
   "mimetype": "text/x-python",
   "name": "python",
   "nbconvert_exporter": "python",
   "pygments_lexer": "ipython3",
   "version": "3.11.7"
  }
 },
 "nbformat": 4,
 "nbformat_minor": 5
}
