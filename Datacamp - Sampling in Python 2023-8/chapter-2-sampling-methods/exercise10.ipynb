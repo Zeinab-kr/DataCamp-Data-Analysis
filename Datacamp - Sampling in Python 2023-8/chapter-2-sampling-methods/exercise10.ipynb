{
 "cells": [
  {
   "cell_type": "markdown",
   "id": "ad9fd147-f4a4-451b-b40a-ee82a85d1591",
   "metadata": {},
   "source": [
    "\n",
    "#  3 kinds of sampling\n",
    "\n",
    "##  Assignment \n",
    "\n",
    "You're going to compare the performance of point estimates using simple, stratified, and cluster sampling. Before doing that, you'll have to set up the samples.\n",
    "\n",
    "You'll use the `RelationshipSatisfaction` column of the `attrition_pop` dataset, which categorizes the employee's relationship with the company. It has four levels: `Low`, `Medium`, `High`, and `Very_High`. `pandas` has been loaded with its usual alias, and the `random` package has been loaded.\n",
    "\n",
    "##  Pre exercise code \n",
    "\n",
    "```\n",
    "import pandas as pd\n",
    "import random\n",
    "import numpy as np\n",
    "random.seed(2019)\n",
    "attrition_pop = pd.read_feather(\n",
    "  path = \"/usr/local/share/datasets/attrition.feather\"\n",
    ")\n",
    "\n",
    "\n",
    "# Added 2022-09-05 by James to make sure that Step 3 can never throw an error due to it choosing a cluster with fewer rows than one-quarter of the population.\n",
    "def my_function(sequence, k):\n",
    "  if sorted(sequence) == sorted(list(attrition_pop['RelationshipSatisfaction'].unique())):\n",
    "    return(['High', 'Very_High'])\n",
    "    \n",
    "  else:\n",
    "    random_arr = np.random.choice(sequence, size=k, replace=False)\n",
    "    return(list(random_arr))\n",
    "\n",
    "random.sample = my_function\n",
    "```\n"
   ]
  },
  {
   "cell_type": "code",
   "execution_count": 75,
   "id": "2a04c548-08e5-4b8e-a856-ee614b9cee4d",
   "metadata": {},
   "outputs": [],
   "source": [
    "import pandas as pd\n",
    "import random\n",
    "import numpy as np\n",
    "random.seed(2019)\n",
    "attrition_pop = pd.read_feather(\n",
    "  path = \"attrition.feather\"\n",
    ")\n",
    "\n",
    "\n",
    "# Added 2022-09-05 by James to make sure that Step 3 can never throw an error due to it choosing a cluster with fewer rows than one-quarter of the population.\n",
    "def my_function(sequence, k):\n",
    "  if sorted(sequence) == sorted(list(attrition_pop['RelationshipSatisfaction'].unique())):\n",
    "    return(['High', 'Very_High'])\n",
    "    \n",
    "  else:\n",
    "    random_arr = np.random.choice(sequence, size=k, replace=False)\n",
    "    return(list(random_arr))\n",
    "\n",
    "random.sample = my_function\n"
   ]
  },
  {
   "cell_type": "markdown",
   "id": "90eb9d16-deaa-4309-91cd-7c16aa9d3c7f",
   "metadata": {},
   "source": [
    "\n",
    "##  Instructions \n",
    "\n",
    "- Perform simple random sampling on `attrition_pop` to get one-quarter of the population, setting the seed to `2022`.\n",
    "\n"
   ]
  },
  {
   "cell_type": "code",
   "execution_count": 77,
   "id": "edf412a6-a770-4b50-bdff-d80854f77a09",
   "metadata": {},
   "outputs": [],
   "source": [
    "att_sample = attrition_pop.sample(frac=0.25, random_state=2022)"
   ]
  },
  {
   "cell_type": "markdown",
   "id": "00e771d5-f987-4f81-8448-b427e4ec5562",
   "metadata": {},
   "source": [
    "- Perform stratified sampling on `attrition_pop` to sample one-quarter of each `RelationshipSatisfaction` group, setting the seed to `2022`.\n"
   ]
  },
  {
   "cell_type": "code",
   "execution_count": 78,
   "id": "cb89b691-da5c-4899-bae0-d3f82e60603f",
   "metadata": {},
   "outputs": [
    {
     "name": "stderr",
     "output_type": "stream",
     "text": [
      "C:\\Users\\ROYAL\\AppData\\Local\\Temp\\ipykernel_10672\\3081455543.py:1: FutureWarning: The default of observed=False is deprecated and will be changed to True in a future version of pandas. Pass observed=False to retain current behavior or observed=True to adopt the future default and silence this warning.\n",
      "  att_strat_sample = attrition_pop.groupby('RelationshipSatisfaction').sample(frac=0.25, random_state=2022)\n"
     ]
    }
   ],
   "source": [
    "att_strat_sample = attrition_pop.groupby('RelationshipSatisfaction').sample(frac=0.25, random_state=2022)"
   ]
  },
  {
   "cell_type": "markdown",
   "id": "fb6dfd88-2de3-4eb4-b475-3c59a9c835c4",
   "metadata": {},
   "source": [
    "\n",
    "- Create a list of unique values from `attrition_pop`'s `RelationshipSatisfaction` column.\n",
    "- Randomly sample `satisfaction_unique` to get two values.\n",
    "- Subset the population for rows where `RelationshipSatisfaction` is in `satisfaction_samp` and clear any unused categories from `RelationshipSatisfaction`; assign to `attrition_clust_prep`.\n",
    "- Perform cluster sampling on the selected satisfaction groups, sampling one quarter of the **population** and setting the seed to `2022`.\n",
    "\n"
   ]
  },
  {
   "cell_type": "code",
   "execution_count": 82,
   "id": "1cadcd05-2461-4283-984f-0ecfadfea55e",
   "metadata": {},
   "outputs": [
    {
     "name": "stderr",
     "output_type": "stream",
     "text": [
      "C:\\Users\\ROYAL\\AppData\\Local\\Temp\\ipykernel_10672\\1942380034.py:4: FutureWarning: Setting an item of incompatible dtype is deprecated and will raise in a future error of pandas. Value '['Very_High', 'Very_High', 'High', 'Very_High', 'High', ..., 'Very_High', 'Very_High', 'High', 'Very_High', 'Very_High']\n",
      "Length: 891\n",
      "Categories (2, object): ['High' < 'Very_High']' has dtype incompatible with category, please explicitly cast to a compatible dtype first.\n",
      "  att_subset.loc[:, 'RelationshipSatisfaction'] = att_subset['RelationshipSatisfaction'].cat.remove_unused_categories()\n"
     ]
    }
   ],
   "source": [
    "rel_values = list(attrition_pop['RelationshipSatisfaction'].unique())\n",
    "rel_sample = random.sample(rel_values, k=2)\n",
    "att_subset = attrition_pop[attrition_pop['RelationshipSatisfaction'].isin(rel_sample)]\n",
    "att_subset.loc[:, 'RelationshipSatisfaction'] = att_subset['RelationshipSatisfaction'].cat.remove_unused_categories()"
   ]
  },
  {
   "cell_type": "code",
   "execution_count": 86,
   "id": "878a02c0-55d2-4aa1-93fc-f7e80bcc21bf",
   "metadata": {},
   "outputs": [
    {
     "data": {
      "text/plain": [
       "<Axes: >"
      ]
     },
     "execution_count": 86,
     "metadata": {},
     "output_type": "execute_result"
    },
    {
     "data": {
      "image/png": "[encoded data removed]",
      "text/plain": [
       "<Figure size 640x480 with 1 Axes>"
      ]
     },
     "metadata": {},
     "output_type": "display_data"
    }
   ],
   "source": [
    "att_sample['RelationshipSatisfaction'].hist()"
   ]
  },
  {
   "cell_type": "code",
   "execution_count": 87,
   "id": "3a611f05-f1d3-4eea-b4f1-cc02d0584bd2",
   "metadata": {},
   "outputs": [
    {
     "data": {
      "text/plain": [
       "<Axes: >"
      ]
     },
     "execution_count": 87,
     "metadata": {},
     "output_type": "execute_result"
    },
    {
     "data": {
      "image/png": "[encoded data removed]",
      "text/plain": [
       "<Figure size 640x480 with 1 Axes>"
      ]
     },
     "metadata": {},
     "output_type": "display_data"
    }
   ],
   "source": [
    "att_strat_sample['RelationshipSatisfaction'].hist()"
   ]
  },
  {
   "cell_type": "code",
   "execution_count": 88,
   "id": "f30585fb-a2ea-40bb-91bc-803c34d20e71",
   "metadata": {},
   "outputs": [
    {
     "data": {
      "text/plain": [
       "<Axes: >"
      ]
     },
     "execution_count": 88,
     "metadata": {},
     "output_type": "execute_result"
    },
    {
     "data": {
      "image/png": "[encoded data removed]",
      "text/plain": [
       "<Figure size 640x480 with 1 Axes>"
      ]
     },
     "metadata": {},
     "output_type": "display_data"
    }
   ],
   "source": [
    "att_subset.sample(frac=0.25, random_state=2022)['RelationshipSatisfaction'].hist()"
   ]
  },
  {
   "cell_type": "code",
   "execution_count": null,
   "id": "5c00a328-83e1-455b-b6c1-e337294471a8",
   "metadata": {},
   "outputs": [],
   "source": []
  }
 ],
 "metadata": {
  "kernelspec": {
   "display_name": "Python 3 (ipykernel)",
   "language": "python",
   "name": "python3"
  },
  "language_info": {
   "codemirror_mode": {
    "name": "ipython",
    "version": 3
   },
   "file_extension": ".py",
   "mimetype": "text/x-python",
   "name": "python",
   "nbconvert_exporter": "python",
   "pygments_lexer": "ipython3",
   "version": "3.11.7"
  }
 },
 "nbformat": 4,
 "nbformat_minor": 5
}
