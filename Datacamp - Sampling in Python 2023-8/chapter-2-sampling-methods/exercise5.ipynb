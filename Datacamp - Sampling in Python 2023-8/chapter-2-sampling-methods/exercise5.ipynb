{
 "cells": [
  {
   "cell_type": "markdown",
   "id": "a08487e2-920f-478b-992d-19f03bdf2fcb",
   "metadata": {},
   "source": [
    "\n",
    "#  Proportional stratified sampling\n",
    "\n",
    "##  Assignment \n",
    "\n",
    "If you are interested in subgroups within the population, then you may need to carefully control the counts of each subgroup within the population. **Proportional stratified sampling** results in subgroup sizes within the sample that are representative of the subgroup sizes within the population. It is equivalent to performing a simple random sample on each subgroup.\n",
    "\n",
    "`attrition_pop` is available; `pandas` is loaded with its usual alias.\n",
    "\n",
    "##  Pre exercise code \n",
    "\n",
    "```\n",
    "import pandas as pd\n",
    "attrition_pop = pd.read_feather(\n",
    "  path = \"/usr/local/share/datasets/attrition.feather\"\n",
    ")\n",
    "```\n"
   ]
  },
  {
   "cell_type": "code",
   "execution_count": 30,
   "id": "79eb1314-9c8f-475b-a676-fc419a62b935",
   "metadata": {},
   "outputs": [],
   "source": [
    "import pandas as pd\n",
    "attrition_pop = pd.read_feather(\n",
    "  path = \"attrition.feather\"\n",
    ")"
   ]
  },
  {
   "cell_type": "code",
   "execution_count": 31,
   "id": "f687901c-2f90-4cea-843c-68275c354182",
   "metadata": {},
   "outputs": [
    {
     "data": {
      "text/html": [
       "<div>\n",
       "<style scoped>\n",
       "    .dataframe tbody tr th:only-of-type {\n",
       "        vertical-align: middle;\n",
       "    }\n",
       "\n",
       "    .dataframe tbody tr th {\n",
       "        vertical-align: top;\n",
       "    }\n",
       "\n",
       "    .dataframe thead th {\n",
       "        text-align: right;\n",
       "    }\n",
       "</style>\n",
       "<table border=\"1\" class=\"dataframe\">\n",
       "  <thead>\n",
       "    <tr style=\"text-align: right;\">\n",
       "      <th></th>\n",
       "      <th>Age</th>\n",
       "      <th>Attrition</th>\n",
       "      <th>BusinessTravel</th>\n",
       "      <th>DailyRate</th>\n",
       "      <th>Department</th>\n",
       "      <th>DistanceFromHome</th>\n",
       "      <th>Education</th>\n",
       "      <th>EducationField</th>\n",
       "      <th>EnvironmentSatisfaction</th>\n",
       "      <th>Gender</th>\n",
       "      <th>...</th>\n",
       "      <th>PerformanceRating</th>\n",
       "      <th>RelationshipSatisfaction</th>\n",
       "      <th>StockOptionLevel</th>\n",
       "      <th>TotalWorkingYears</th>\n",
       "      <th>TrainingTimesLastYear</th>\n",
       "      <th>WorkLifeBalance</th>\n",
       "      <th>YearsAtCompany</th>\n",
       "      <th>YearsInCurrentRole</th>\n",
       "      <th>YearsSinceLastPromotion</th>\n",
       "      <th>YearsWithCurrManager</th>\n",
       "    </tr>\n",
       "  </thead>\n",
       "  <tbody>\n",
       "    <tr>\n",
       "      <th>0</th>\n",
       "      <td>21</td>\n",
       "      <td>0.0</td>\n",
       "      <td>Travel_Rarely</td>\n",
       "      <td>391</td>\n",
       "      <td>Research_Development</td>\n",
       "      <td>15</td>\n",
       "      <td>College</td>\n",
       "      <td>Life_Sciences</td>\n",
       "      <td>High</td>\n",
       "      <td>Male</td>\n",
       "      <td>...</td>\n",
       "      <td>Excellent</td>\n",
       "      <td>Very_High</td>\n",
       "      <td>0</td>\n",
       "      <td>0</td>\n",
       "      <td>6</td>\n",
       "      <td>Better</td>\n",
       "      <td>0</td>\n",
       "      <td>0</td>\n",
       "      <td>0</td>\n",
       "      <td>0</td>\n",
       "    </tr>\n",
       "  </tbody>\n",
       "</table>\n",
       "<p>1 rows × 31 columns</p>\n",
       "</div>"
      ],
      "text/plain": [
       "   Age  Attrition BusinessTravel  DailyRate            Department  \\\n",
       "0   21        0.0  Travel_Rarely        391  Research_Development   \n",
       "\n",
       "   DistanceFromHome Education EducationField EnvironmentSatisfaction Gender  \\\n",
       "0                15   College  Life_Sciences                    High   Male   \n",
       "\n",
       "   ...  PerformanceRating RelationshipSatisfaction  StockOptionLevel  \\\n",
       "0  ...          Excellent                Very_High                 0   \n",
       "\n",
       "  TotalWorkingYears TrainingTimesLastYear WorkLifeBalance  YearsAtCompany  \\\n",
       "0                 0                     6          Better               0   \n",
       "\n",
       "   YearsInCurrentRole  YearsSinceLastPromotion YearsWithCurrManager  \n",
       "0                   0                        0                    0  \n",
       "\n",
       "[1 rows x 31 columns]"
      ]
     },
     "execution_count": 31,
     "metadata": {},
     "output_type": "execute_result"
    }
   ],
   "source": [
    "attrition_pop.head(1)"
   ]
  },
  {
   "cell_type": "markdown",
   "id": "a2c89ef7-3427-4f5e-b85f-015aab59cae9",
   "metadata": {},
   "source": [
    "##  Instructions \n",
    "\n",
    "- Get the proportion of employees by `Education` level from `attrition_pop`.\n"
   ]
  },
  {
   "cell_type": "code",
   "execution_count": 33,
   "id": "59f6e2e3-17dd-45cb-b02d-914508703504",
   "metadata": {},
   "outputs": [
    {
     "data": {
      "text/plain": [
       "Education\n",
       "Bachelor         0.389116\n",
       "Master           0.270748\n",
       "College          0.191837\n",
       "Below_College    0.115646\n",
       "Doctor           0.032653\n",
       "Name: proportion, dtype: float64"
      ]
     },
     "execution_count": 33,
     "metadata": {},
     "output_type": "execute_result"
    }
   ],
   "source": [
    "attrition_pop['Education'].value_counts(normalize=True)"
   ]
  },
  {
   "cell_type": "markdown",
   "id": "30e9ec92-5148-4625-8486-82958c386a83",
   "metadata": {},
   "source": [
    "- Use proportional stratified sampling on `attrition_pop` to sample 40% of each `Education` group, setting the seed to `2022`.\n",
    "\n",
    "\n"
   ]
  },
  {
   "cell_type": "code",
   "execution_count": 35,
   "id": "4867ae21-b881-4b67-8df8-edf3016e0ca6",
   "metadata": {},
   "outputs": [
    {
     "name": "stderr",
     "output_type": "stream",
     "text": [
      "C:\\Users\\ROYAL\\AppData\\Local\\Temp\\ipykernel_10672\\4081304381.py:1: FutureWarning: The default of observed=False is deprecated and will be changed to True in a future version of pandas. Pass observed=False to retain current behavior or observed=True to adopt the future default and silence this warning.\n",
      "  attrition_strat = attrition_pop.groupby('Education').sample(frac=0.4, random_state=2022)\n"
     ]
    }
   ],
   "source": [
    "attrition_strat = attrition_pop.groupby('Education').sample(frac=0.4, random_state=2022)"
   ]
  },
  {
   "cell_type": "markdown",
   "id": "3f97be97-679d-4095-b986-092d495af010",
   "metadata": {},
   "source": [
    "\n",
    "- Get the proportion of employees by `Education` level from `attrition_strat`.\n",
    "\n",
    "\n"
   ]
  },
  {
   "cell_type": "code",
   "execution_count": 36,
   "id": "e4fcc4ba-836c-40d0-999b-eeb85c685860",
   "metadata": {},
   "outputs": [
    {
     "data": {
      "text/plain": [
       "Education\n",
       "Bachelor         0.389456\n",
       "Master           0.270408\n",
       "College          0.192177\n",
       "Below_College    0.115646\n",
       "Doctor           0.032313\n",
       "Name: proportion, dtype: float64"
      ]
     },
     "execution_count": 36,
     "metadata": {},
     "output_type": "execute_result"
    }
   ],
   "source": [
    "attrition_strat['Education'].value_counts(normalize=True)"
   ]
  },
  {
   "cell_type": "code",
   "execution_count": null,
   "id": "346cc40f-3b3c-4a13-b108-5bed0464f9bf",
   "metadata": {},
   "outputs": [],
   "source": []
  }
 ],
 "metadata": {
  "kernelspec": {
   "display_name": "Python 3 (ipykernel)",
   "language": "python",
   "name": "python3"
  },
  "language_info": {
   "codemirror_mode": {
    "name": "ipython",
    "version": 3
   },
   "file_extension": ".py",
   "mimetype": "text/x-python",
   "name": "python",
   "nbconvert_exporter": "python",
   "pygments_lexer": "ipython3",
   "version": "3.11.7"
  }
 },
 "nbformat": 4,
 "nbformat_minor": 5
}
