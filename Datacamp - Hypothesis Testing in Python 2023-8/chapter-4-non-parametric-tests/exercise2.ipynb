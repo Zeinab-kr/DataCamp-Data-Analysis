{
 "cells": [
  {
   "cell_type": "markdown",
   "id": "4f53e0f3-8b10-43fa-a0f1-53f889b5024d",
   "metadata": {},
   "source": [
    "\n",
    "#  Testing sample size\n",
    "\n",
    "##  Assignment \n",
    "\n",
    "In order to conduct a hypothesis test and be sure that the result is fair, a sample must meet three requirements: it is a random sample of the population, the observations are independent, and there are enough observations. Of these, only the last condition is easily testable with code.\n",
    "\n",
    "The minimum sample size depends on the type of hypothesis tests you want to perform. You'll now test some scenarios on the `late_shipments` dataset.\n",
    "\n",
    "Note that the `.all()` method from `pandas` can be used to check if all elements are true. For example, given a DataFrame `df` with numeric entries, you check to see if all its elements are less than `5`, using `(df &lt; 5).all()`.\n",
    "\n",
    "`late_shipments` is available, and `pandas` is loaded as `pd`.\n",
    "\n",
    "##  Pre exercise code \n",
    "\n",
    "```\n",
    "import pandas as pd\n",
    "import numpy as np\n",
    "import matplotlib.pyplot as plt\n",
    "import pingouin\n",
    "late_shipments = pd.read_feather(\n",
    "  path = \"/usr/local/share/datasets/late_shipments.feather\"\n",
    ")\n",
    "late_shipments['freight_cost_group'] = np.where(late_shipments['freight_cost_usd'] <= 5000, \"reasonable\", \"expensive\")\n",
    "late_shipments = late_shipments[late_shipments['vendor_inco_term'] != \"DDU\"]\n",
    "```\n"
   ]
  },
  {
   "cell_type": "code",
   "execution_count": 1,
   "id": "7229edf7-a08d-4684-918b-21e2610b4cb8",
   "metadata": {},
   "outputs": [],
   "source": [
    "import pandas as pd\n",
    "import numpy as np\n",
    "import matplotlib.pyplot as plt\n",
    "import pingouin\n",
    "late_shipments = pd.read_feather(\n",
    "  path = \"late_shipments.feather\"\n",
    ")\n",
    "late_shipments['freight_cost_group'] = np.where(late_shipments['freight_cost_usd'] <= 5000, \"reasonable\", \"expensive\")\n",
    "late_shipments = late_shipments[late_shipments['vendor_inco_term'] != \"DDU\"]"
   ]
  },
  {
   "cell_type": "markdown",
   "id": "4c449eba-eb14-487e-810c-73baaa25e971",
   "metadata": {},
   "source": [
    "##  Instructions \n",
    "\n",
    "- Get the count of each value in the `freight_cost_group` column of `late_shipments`.\n",
    "- Insert a suitable number to inspect whether the counts are \"big enough\" for a two sample t-test.\n",
    "\n"
   ]
  },
  {
   "cell_type": "code",
   "execution_count": 2,
   "id": "b388cd1a-40f2-4e53-82c0-1e001c026263",
   "metadata": {},
   "outputs": [
    {
     "data": {
      "text/plain": [
       "freight_cost_group\n",
       "expensive     545\n",
       "reasonable    454\n",
       "Name: count, dtype: int64"
      ]
     },
     "execution_count": 2,
     "metadata": {},
     "output_type": "execute_result"
    }
   ],
   "source": [
    "freight_count = late_shipments['freight_cost_group'].value_counts()\n",
    "freight_count"
   ]
  },
  {
   "cell_type": "code",
   "execution_count": 3,
   "id": "5ee32dd7-fe29-44ef-b1c0-d9da8fa81f0f",
   "metadata": {},
   "outputs": [
    {
     "data": {
      "text/plain": [
       "True"
      ]
     },
     "execution_count": 3,
     "metadata": {},
     "output_type": "execute_result"
    }
   ],
   "source": [
    "(freight_count >= 30).all()"
   ]
  },
  {
   "cell_type": "markdown",
   "id": "1a859172-a7ab-469f-a673-5ae310ef409f",
   "metadata": {},
   "source": [
    "- Get the count of each value in the `late` column of `late_shipments`.\n",
    "- Insert a suitable number to inspect whether the counts are \"big enough\" for a one sample proportion test.\n"
   ]
  },
  {
   "cell_type": "code",
   "execution_count": 4,
   "id": "96c7c752-d186-4f9d-a482-169c00667b72",
   "metadata": {},
   "outputs": [
    {
     "data": {
      "text/plain": [
       "late\n",
       "No     938\n",
       "Yes     61\n",
       "Name: count, dtype: int64"
      ]
     },
     "execution_count": 4,
     "metadata": {},
     "output_type": "execute_result"
    }
   ],
   "source": [
    "late_count = late_shipments['late'].value_counts()\n",
    "late_count"
   ]
  },
  {
   "cell_type": "code",
   "execution_count": 5,
   "id": "07e38439-ef2d-4031-a8c6-20430987e045",
   "metadata": {},
   "outputs": [
    {
     "data": {
      "text/plain": [
       "True"
      ]
     },
     "execution_count": 5,
     "metadata": {},
     "output_type": "execute_result"
    }
   ],
   "source": [
    "(late_count >= 10).all()"
   ]
  },
  {
   "cell_type": "markdown",
   "id": "7228c48b-1328-496a-8112-4d985f33bdbc",
   "metadata": {},
   "source": [
    "- Get the count of each value in the `freight_cost_group` column of `late_shipments` grouped by `vendor_inco_term`.\n",
    "- Insert a suitable number to inspect whether the counts are \"big enough\" for a chi-square independence test.\n"
   ]
  },
  {
   "cell_type": "code",
   "execution_count": 6,
   "id": "fe3c9934-4023-46bc-8210-c6cdb5fcf83c",
   "metadata": {},
   "outputs": [
    {
     "data": {
      "text/plain": [
       "vendor_inco_term  freight_cost_group\n",
       "CIP               reasonable             34\n",
       "                  expensive              22\n",
       "DDP               expensive              55\n",
       "                  reasonable             45\n",
       "EXW               expensive             430\n",
       "                  reasonable            302\n",
       "FCA               reasonable             73\n",
       "                  expensive              38\n",
       "Name: count, dtype: int64"
      ]
     },
     "execution_count": 6,
     "metadata": {},
     "output_type": "execute_result"
    }
   ],
   "source": [
    "counts = late_shipments.groupby('vendor_inco_term')['freight_cost_group'].value_counts()\n",
    "counts"
   ]
  },
  {
   "cell_type": "code",
   "execution_count": 7,
   "id": "30a80b4f-0b72-45fd-a240-bebb364580c5",
   "metadata": {},
   "outputs": [
    {
     "data": {
      "text/plain": [
       "True"
      ]
     },
     "execution_count": 7,
     "metadata": {},
     "output_type": "execute_result"
    }
   ],
   "source": [
    "(counts >= 5).all()"
   ]
  },
  {
   "cell_type": "markdown",
   "id": "18b61c13-ab62-4579-ab67-7dde7a580fc9",
   "metadata": {},
   "source": [
    "\n",
    "- Get the count of each value in the `shipment_mode` column of `late_shipments`.\n",
    "- Insert a suitable number to inspect whether the counts are \"big enough\" for an ANOVA test.\n"
   ]
  },
  {
   "cell_type": "code",
   "execution_count": 8,
   "id": "7981b9cf-a9e2-4227-b189-8442353c4a7d",
   "metadata": {},
   "outputs": [
    {
     "data": {
      "text/plain": [
       "shipment_mode\n",
       "Air            905\n",
       "Ocean           88\n",
       "Air Charter      6\n",
       "Name: count, dtype: int64"
      ]
     },
     "execution_count": 8,
     "metadata": {},
     "output_type": "execute_result"
    }
   ],
   "source": [
    "counts = late_shipments['shipment_mode'].value_counts()\n",
    "counts"
   ]
  },
  {
   "cell_type": "code",
   "execution_count": 9,
   "id": "f77b9749-b23c-4323-ac18-f3b1efe267bd",
   "metadata": {},
   "outputs": [
    {
     "data": {
      "text/plain": [
       "False"
      ]
     },
     "execution_count": 9,
     "metadata": {},
     "output_type": "execute_result"
    }
   ],
   "source": [
    "(counts >= 30).all()"
   ]
  },
  {
   "cell_type": "code",
   "execution_count": null,
   "id": "050ecb83-8349-4d2c-b368-3d638571aa41",
   "metadata": {},
   "outputs": [],
   "source": []
  }
 ],
 "metadata": {
  "kernelspec": {
   "display_name": "Python 3 (ipykernel)",
   "language": "python",
   "name": "python3"
  },
  "language_info": {
   "codemirror_mode": {
    "name": "ipython",
    "version": 3
   },
   "file_extension": ".py",
   "mimetype": "text/x-python",
   "name": "python",
   "nbconvert_exporter": "python",
   "pygments_lexer": "ipython3",
   "version": "3.11.7"
  }
 },
 "nbformat": 4,
 "nbformat_minor": 5
}
