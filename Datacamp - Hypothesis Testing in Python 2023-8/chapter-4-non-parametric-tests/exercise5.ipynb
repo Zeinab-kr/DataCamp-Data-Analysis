{
 "cells": [
  {
   "cell_type": "markdown",
   "id": "5343ff02-dbc3-400a-9f2b-fed78fdaaa05",
   "metadata": {},
   "source": [
    "\n",
    "#  Wilcoxon-Mann-Whitney\n",
    "\n",
    "##  Assignment \n",
    "\n",
    "Another class of non-parametric hypothesis tests are called **rank sum tests**. Ranks are the positions of numeric values from smallest to largest. Think of them as positions in running events: whoever has the fastest (smallest) time is rank 1, second fastest is rank 2, and so on.\n",
    "\n",
    "By calculating on the ranks of data instead of the actual values, you can avoid making assumptions about the distribution of the test statistic. It's more robust in the same way that a median is more robust than a mean.\n",
    "\n",
    "One common rank-based test is the Wilcoxon-Mann-Whitney test, which is like a non-parametric t-test.\n",
    "\n",
    "`late_shipments` is available, and the following packages have been loaded: `pingouin` and `pandas` as `pd`.\n",
    "\n",
    "##  Pre exercise code \n",
    "\n",
    "```\n",
    "import pingouin\n",
    "import pandas as pd\n",
    "late_shipments = pd.read_feather(\n",
    "  path = \"/usr/local/share/datasets/late_shipments.feather\"\n",
    ")\n",
    "```\n",
    "\n",
    "\n",
    "\n",
    "##  Instructions \n",
    "\n",
    "- Select `weight_kilograms` and `late` from `late_shipments`, assigning the name `weight_vs_late`.\n",
    "- Convert `weight_vs_late` from long-to-wide format, setting `columns` to `'late'`.\n",
    "- Run a Wilcoxon-Mann-Whitney test for a difference in `weight_kilograms` when the shipment was late and on-time.\n"
   ]
  },
  {
   "cell_type": "code",
   "execution_count": 17,
   "id": "0e7bbef4-06c0-4d85-92b6-13a31d93d33c",
   "metadata": {},
   "outputs": [],
   "source": [
    "import pingouin\n",
    "import pandas as pd\n",
    "late_shipments = pd.read_feather(\n",
    "  path = \"late_shipments.feather\"\n",
    ")"
   ]
  },
  {
   "cell_type": "code",
   "execution_count": 18,
   "id": "4020dadf-a352-4d0e-9af0-1f04211dccf6",
   "metadata": {},
   "outputs": [
    {
     "data": {
      "text/html": [
       "<div>\n",
       "<style scoped>\n",
       "    .dataframe tbody tr th:only-of-type {\n",
       "        vertical-align: middle;\n",
       "    }\n",
       "\n",
       "    .dataframe tbody tr th {\n",
       "        vertical-align: top;\n",
       "    }\n",
       "\n",
       "    .dataframe thead th {\n",
       "        text-align: right;\n",
       "    }\n",
       "</style>\n",
       "<table border=\"1\" class=\"dataframe\">\n",
       "  <thead>\n",
       "    <tr style=\"text-align: right;\">\n",
       "      <th></th>\n",
       "      <th>weight_kilograms</th>\n",
       "      <th>late</th>\n",
       "    </tr>\n",
       "  </thead>\n",
       "  <tbody>\n",
       "    <tr>\n",
       "      <th>0</th>\n",
       "      <td>1426.0</td>\n",
       "      <td>Yes</td>\n",
       "    </tr>\n",
       "    <tr>\n",
       "      <th>1</th>\n",
       "      <td>10.0</td>\n",
       "      <td>No</td>\n",
       "    </tr>\n",
       "    <tr>\n",
       "      <th>2</th>\n",
       "      <td>3723.0</td>\n",
       "      <td>No</td>\n",
       "    </tr>\n",
       "    <tr>\n",
       "      <th>3</th>\n",
       "      <td>7698.0</td>\n",
       "      <td>No</td>\n",
       "    </tr>\n",
       "    <tr>\n",
       "      <th>4</th>\n",
       "      <td>56.0</td>\n",
       "      <td>No</td>\n",
       "    </tr>\n",
       "    <tr>\n",
       "      <th>...</th>\n",
       "      <td>...</td>\n",
       "      <td>...</td>\n",
       "    </tr>\n",
       "    <tr>\n",
       "      <th>995</th>\n",
       "      <td>43.0</td>\n",
       "      <td>No</td>\n",
       "    </tr>\n",
       "    <tr>\n",
       "      <th>996</th>\n",
       "      <td>99.0</td>\n",
       "      <td>No</td>\n",
       "    </tr>\n",
       "    <tr>\n",
       "      <th>997</th>\n",
       "      <td>881.0</td>\n",
       "      <td>Yes</td>\n",
       "    </tr>\n",
       "    <tr>\n",
       "      <th>998</th>\n",
       "      <td>16234.0</td>\n",
       "      <td>No</td>\n",
       "    </tr>\n",
       "    <tr>\n",
       "      <th>999</th>\n",
       "      <td>46.0</td>\n",
       "      <td>No</td>\n",
       "    </tr>\n",
       "  </tbody>\n",
       "</table>\n",
       "<p>1000 rows × 2 columns</p>\n",
       "</div>"
      ],
      "text/plain": [
       "     weight_kilograms late\n",
       "0              1426.0  Yes\n",
       "1                10.0   No\n",
       "2              3723.0   No\n",
       "3              7698.0   No\n",
       "4                56.0   No\n",
       "..                ...  ...\n",
       "995              43.0   No\n",
       "996              99.0   No\n",
       "997             881.0  Yes\n",
       "998           16234.0   No\n",
       "999              46.0   No\n",
       "\n",
       "[1000 rows x 2 columns]"
      ]
     },
     "execution_count": 18,
     "metadata": {},
     "output_type": "execute_result"
    }
   ],
   "source": [
    "weight_vs_late = late_shipments[['weight_kilograms', 'late']]\n",
    "weight_vs_late"
   ]
  },
  {
   "cell_type": "code",
   "execution_count": 23,
   "id": "99d3a70d-bee5-48ab-910a-a649ecdce815",
   "metadata": {},
   "outputs": [],
   "source": [
    "weight_vs_late = weight_vs_late.pivot(columns='late', values='weight_kilograms')"
   ]
  },
  {
   "cell_type": "code",
   "execution_count": 24,
   "id": "0ed7dd28-6318-4604-bb17-c8448d5c5753",
   "metadata": {},
   "outputs": [
    {
     "data": {
      "text/html": [
       "<div>\n",
       "<style scoped>\n",
       "    .dataframe tbody tr th:only-of-type {\n",
       "        vertical-align: middle;\n",
       "    }\n",
       "\n",
       "    .dataframe tbody tr th {\n",
       "        vertical-align: top;\n",
       "    }\n",
       "\n",
       "    .dataframe thead th {\n",
       "        text-align: right;\n",
       "    }\n",
       "</style>\n",
       "<table border=\"1\" class=\"dataframe\">\n",
       "  <thead>\n",
       "    <tr style=\"text-align: right;\">\n",
       "      <th></th>\n",
       "      <th>U-val</th>\n",
       "      <th>alternative</th>\n",
       "      <th>p-val</th>\n",
       "      <th>RBC</th>\n",
       "      <th>CLES</th>\n",
       "    </tr>\n",
       "  </thead>\n",
       "  <tbody>\n",
       "    <tr>\n",
       "      <th>MWU</th>\n",
       "      <td>38145.0</td>\n",
       "      <td>two-sided</td>\n",
       "      <td>0.000014</td>\n",
       "      <td>0.331902</td>\n",
       "      <td>0.665951</td>\n",
       "    </tr>\n",
       "  </tbody>\n",
       "</table>\n",
       "</div>"
      ],
      "text/plain": [
       "       U-val alternative     p-val       RBC      CLES\n",
       "MWU  38145.0   two-sided  0.000014  0.331902  0.665951"
      ]
     },
     "execution_count": 24,
     "metadata": {},
     "output_type": "execute_result"
    }
   ],
   "source": [
    "pingouin.mwu(x=weight_vs_late['Yes'],\n",
    "             y=weight_vs_late['No'],\n",
    "             alternative='two-sided')"
   ]
  },
  {
   "cell_type": "code",
   "execution_count": null,
   "id": "057874d1-6011-4e17-9ecd-70c0a07c7ea0",
   "metadata": {},
   "outputs": [],
   "source": []
  }
 ],
 "metadata": {
  "kernelspec": {
   "display_name": "Python 3 (ipykernel)",
   "language": "python",
   "name": "python3"
  },
  "language_info": {
   "codemirror_mode": {
    "name": "ipython",
    "version": 3
   },
   "file_extension": ".py",
   "mimetype": "text/x-python",
   "name": "python",
   "nbconvert_exporter": "python",
   "pygments_lexer": "ipython3",
   "version": "3.11.7"
  }
 },
 "nbformat": 4,
 "nbformat_minor": 5
}
