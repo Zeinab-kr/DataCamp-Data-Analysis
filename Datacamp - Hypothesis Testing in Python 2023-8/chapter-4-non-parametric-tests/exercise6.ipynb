{
 "cells": [
  {
   "cell_type": "markdown",
   "id": "8d9150fb-5328-40fa-96a8-6940892a6252",
   "metadata": {},
   "source": [
    "\n",
    "#  Kruskal-Wallis\n",
    "\n",
    "##  Assignment \n",
    "\n",
    "Recall that the Kruskal-Wallis test is a non-parametric version of an ANOVA test, comparing the means across multiple groups.\n",
    "\n",
    "`late_shipments` is available, and the following packages have been loaded: `pingouin` and `pandas` as `pd`.\n",
    "\n",
    "##  Pre exercise code \n",
    "\n",
    "```\n",
    "import pingouin\n",
    "import pandas as pd\n",
    "late_shipments = pd.read_feather(\n",
    "  path = \"/usr/local/share/datasets/late_shipments.feather\"\n",
    ")\n",
    "```\n",
    "\n",
    "\n",
    "\n",
    "##  Instructions \n",
    "\n",
    "- Run a Kruskal-Wallis test on `weight_kilograms` between the different shipment modes in `late_shipments`."
   ]
  },
  {
   "cell_type": "code",
   "execution_count": 25,
   "id": "743de54b-73c7-4393-a705-3019f9e47006",
   "metadata": {},
   "outputs": [],
   "source": [
    "import pingouin\n",
    "import pandas as pd\n",
    "late_shipments = pd.read_feather(\n",
    "  path = \"late_shipments.feather\"\n",
    ")"
   ]
  },
  {
   "cell_type": "code",
   "execution_count": 26,
   "id": "ca05dc4a-1bc2-4fc0-b599-7218e75567cd",
   "metadata": {},
   "outputs": [
    {
     "data": {
      "text/html": [
       "<div>\n",
       "<style scoped>\n",
       "    .dataframe tbody tr th:only-of-type {\n",
       "        vertical-align: middle;\n",
       "    }\n",
       "\n",
       "    .dataframe tbody tr th {\n",
       "        vertical-align: top;\n",
       "    }\n",
       "\n",
       "    .dataframe thead th {\n",
       "        text-align: right;\n",
       "    }\n",
       "</style>\n",
       "<table border=\"1\" class=\"dataframe\">\n",
       "  <thead>\n",
       "    <tr style=\"text-align: right;\">\n",
       "      <th></th>\n",
       "      <th>Source</th>\n",
       "      <th>ddof1</th>\n",
       "      <th>H</th>\n",
       "      <th>p-unc</th>\n",
       "    </tr>\n",
       "  </thead>\n",
       "  <tbody>\n",
       "    <tr>\n",
       "      <th>Kruskal</th>\n",
       "      <td>shipment_mode</td>\n",
       "      <td>2</td>\n",
       "      <td>125.096618</td>\n",
       "      <td>6.848799e-28</td>\n",
       "    </tr>\n",
       "  </tbody>\n",
       "</table>\n",
       "</div>"
      ],
      "text/plain": [
       "                Source  ddof1           H         p-unc\n",
       "Kruskal  shipment_mode      2  125.096618  6.848799e-28"
      ]
     },
     "execution_count": 26,
     "metadata": {},
     "output_type": "execute_result"
    }
   ],
   "source": [
    "pingouin.kruskal(data=late_shipments,\n",
    "                 dv='weight_kilograms',\n",
    "                 between='shipment_mode')"
   ]
  },
  {
   "cell_type": "code",
   "execution_count": null,
   "id": "e8750b2e-c4ae-4fc7-aead-f09ebb4fb6aa",
   "metadata": {},
   "outputs": [],
   "source": []
  }
 ],
 "metadata": {
  "kernelspec": {
   "display_name": "Python 3 (ipykernel)",
   "language": "python",
   "name": "python3"
  },
  "language_info": {
   "codemirror_mode": {
    "name": "ipython",
    "version": 3
   },
   "file_extension": ".py",
   "mimetype": "text/x-python",
   "name": "python",
   "nbconvert_exporter": "python",
   "pygments_lexer": "ipython3",
   "version": "3.11.7"
  }
 },
 "nbformat": 4,
 "nbformat_minor": 5
}
