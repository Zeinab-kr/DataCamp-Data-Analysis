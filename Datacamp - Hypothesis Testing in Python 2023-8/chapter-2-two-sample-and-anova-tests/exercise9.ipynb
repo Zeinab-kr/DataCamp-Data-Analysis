{
 "cells": [
  {
   "cell_type": "markdown",
   "id": "9e940bc8-3ee1-4a16-b33c-1b54a8c9fe0a",
   "metadata": {},
   "source": [
    "\n",
    "#  Visualizing many categories\n",
    "\n",
    "##  Assignment \n",
    "\n",
    "So far in this chapter, we've only considered the case of differences in a numeric variable between two categories. Of course, many datasets contain more categories. Before you get to conducting tests on many categories, it's often helpful to perform exploratory data analysis (EDA), calculating summary statistics for each group and visualizing the distributions of the numeric variable for each category using box plots.\n",
    "\n",
    "Here, we'll return to the late shipments data, and how the price of each package (`pack_price`) varies between the three shipment modes (`shipment_mode`): `\"Air\"`, `\"Air Charter\"`, and `\"Ocean\"`.\n",
    "\n",
    "`late_shipments` is available; `pandas` and `matplotlib.pyplot` are loaded with their standard aliases, and `seaborn` is loaded as `sns`.\n",
    "\n",
    "##  Pre exercise code \n",
    "\n",
    "```\n",
    "import pandas as pd\n",
    "import seaborn as sns\n",
    "import matplotlib.pyplot as plt\n",
    "late_shipments = pd.read_feather(\"/usr/local/share/datasets/late_shipments.feather\")\n",
    "```\n",
    "\n"
   ]
  },
  {
   "cell_type": "code",
   "execution_count": 26,
   "id": "921ab654-e212-4583-ae46-571a774c7dc5",
   "metadata": {},
   "outputs": [],
   "source": [
    "import pandas as pd\n",
    "import seaborn as sns\n",
    "import matplotlib.pyplot as plt\n",
    "late_shipments = pd.read_feather(\"late_shipments.feather\")"
   ]
  },
  {
   "cell_type": "code",
   "execution_count": 27,
   "id": "b3cf0c19-3121-418e-a5fa-9f0aff530e36",
   "metadata": {},
   "outputs": [
    {
     "data": {
      "text/html": [
       "<div>\n",
       "<style scoped>\n",
       "    .dataframe tbody tr th:only-of-type {\n",
       "        vertical-align: middle;\n",
       "    }\n",
       "\n",
       "    .dataframe tbody tr th {\n",
       "        vertical-align: top;\n",
       "    }\n",
       "\n",
       "    .dataframe thead th {\n",
       "        text-align: right;\n",
       "    }\n",
       "</style>\n",
       "<table border=\"1\" class=\"dataframe\">\n",
       "  <thead>\n",
       "    <tr style=\"text-align: right;\">\n",
       "      <th></th>\n",
       "      <th>id</th>\n",
       "      <th>country</th>\n",
       "      <th>managed_by</th>\n",
       "      <th>fulfill_via</th>\n",
       "      <th>vendor_inco_term</th>\n",
       "      <th>shipment_mode</th>\n",
       "      <th>late_delivery</th>\n",
       "      <th>late</th>\n",
       "      <th>product_group</th>\n",
       "      <th>sub_classification</th>\n",
       "      <th>...</th>\n",
       "      <th>line_item_quantity</th>\n",
       "      <th>line_item_value</th>\n",
       "      <th>pack_price</th>\n",
       "      <th>unit_price</th>\n",
       "      <th>manufacturing_site</th>\n",
       "      <th>first_line_designation</th>\n",
       "      <th>weight_kilograms</th>\n",
       "      <th>freight_cost_usd</th>\n",
       "      <th>freight_cost_groups</th>\n",
       "      <th>line_item_insurance_usd</th>\n",
       "    </tr>\n",
       "  </thead>\n",
       "  <tbody>\n",
       "    <tr>\n",
       "      <th>0</th>\n",
       "      <td>36203.0</td>\n",
       "      <td>Nigeria</td>\n",
       "      <td>PMO - US</td>\n",
       "      <td>Direct Drop</td>\n",
       "      <td>EXW</td>\n",
       "      <td>Air</td>\n",
       "      <td>1.0</td>\n",
       "      <td>Yes</td>\n",
       "      <td>HRDT</td>\n",
       "      <td>HIV test</td>\n",
       "      <td>...</td>\n",
       "      <td>2996.0</td>\n",
       "      <td>266644.0</td>\n",
       "      <td>89.0</td>\n",
       "      <td>0.89</td>\n",
       "      <td>Alere Medical Co., Ltd.</td>\n",
       "      <td>Yes</td>\n",
       "      <td>1426.0</td>\n",
       "      <td>33279.83</td>\n",
       "      <td>expensive</td>\n",
       "      <td>373.83</td>\n",
       "    </tr>\n",
       "  </tbody>\n",
       "</table>\n",
       "<p>1 rows × 27 columns</p>\n",
       "</div>"
      ],
      "text/plain": [
       "        id  country managed_by  fulfill_via vendor_inco_term shipment_mode  \\\n",
       "0  36203.0  Nigeria   PMO - US  Direct Drop              EXW           Air   \n",
       "\n",
       "   late_delivery late product_group sub_classification  ...  \\\n",
       "0            1.0  Yes          HRDT           HIV test  ...   \n",
       "\n",
       "  line_item_quantity line_item_value pack_price unit_price  \\\n",
       "0             2996.0        266644.0       89.0       0.89   \n",
       "\n",
       "        manufacturing_site first_line_designation  weight_kilograms  \\\n",
       "0  Alere Medical Co., Ltd.                    Yes            1426.0   \n",
       "\n",
       "   freight_cost_usd  freight_cost_groups  line_item_insurance_usd  \n",
       "0          33279.83            expensive                   373.83  \n",
       "\n",
       "[1 rows x 27 columns]"
      ]
     },
     "execution_count": 27,
     "metadata": {},
     "output_type": "execute_result"
    }
   ],
   "source": [
    "late_shipments.head(1)"
   ]
  },
  {
   "cell_type": "markdown",
   "id": "d71180ae-6b9b-4d6d-b329-01fb18ba5902",
   "metadata": {},
   "source": [
    "##  Instructions \n",
    "\n",
    "- Group `late_shipments` by `shipment_mode` and calculate the mean `pack_price` for each group, storing the result in `xbar_pack_by_mode`.\n",
    "\n",
    "\n"
   ]
  },
  {
   "cell_type": "code",
   "execution_count": 28,
   "id": "f4fd7d56-62d8-437b-b0ff-298f7267d810",
   "metadata": {},
   "outputs": [],
   "source": [
    "xbar_pack_by_mode = late_shipments.groupby(\"shipment_mode\")['pack_price'].mean()"
   ]
  },
  {
   "cell_type": "code",
   "execution_count": 29,
   "id": "61999031-05cd-48ed-9a57-cabbd8ab3618",
   "metadata": {},
   "outputs": [
    {
     "data": {
      "text/plain": [
       "shipment_mode\n",
       "Air            39.712395\n",
       "Air Charter     4.226667\n",
       "Ocean           6.432273\n",
       "Name: pack_price, dtype: float64"
      ]
     },
     "execution_count": 29,
     "metadata": {},
     "output_type": "execute_result"
    }
   ],
   "source": [
    "xbar_pack_by_mode"
   ]
  },
  {
   "cell_type": "markdown",
   "id": "16c32758-4d53-41d3-977e-2b810b7f7f71",
   "metadata": {},
   "source": [
    "- Group `late_shipments` by `shipment_mode` and calculate the standard deviation `pack_price` for each group, storing the result in `s_pack_by_mode`.\n",
    "\n"
   ]
  },
  {
   "cell_type": "code",
   "execution_count": 30,
   "id": "c0bfffaf-040d-4e44-9a3a-b8b6ca4a10df",
   "metadata": {},
   "outputs": [],
   "source": [
    "s_pack_by_mode = late_shipments.groupby('shipment_mode')['pack_price'].std()"
   ]
  },
  {
   "cell_type": "code",
   "execution_count": 31,
   "id": "2dfb903c-38f3-48c0-8c97-8eb1329ae5c3",
   "metadata": {},
   "outputs": [
    {
     "data": {
      "text/plain": [
       "shipment_mode\n",
       "Air            48.932861\n",
       "Air Charter     0.992969\n",
       "Ocean           5.303047\n",
       "Name: pack_price, dtype: float64"
      ]
     },
     "execution_count": 31,
     "metadata": {},
     "output_type": "execute_result"
    }
   ],
   "source": [
    "s_pack_by_mode"
   ]
  },
  {
   "cell_type": "markdown",
   "id": "b82137c4-e134-40f4-bc8b-055c7fdd60cf",
   "metadata": {},
   "source": [
    "\n",
    "- Create a boxplot from `late_shipments` with `\"pack_price\"` as `x` and `\"shipment_mode\"` as `y`.\n",
    "\n",
    "\n"
   ]
  },
  {
   "cell_type": "code",
   "execution_count": 34,
   "id": "b1c11b18-2dad-4669-a5e9-4ddf13beafdc",
   "metadata": {},
   "outputs": [
    {
     "data": {
      "text/plain": [
       "<Axes: xlabel='pack_price', ylabel='shipment_mode'>"
      ]
     },
     "execution_count": 34,
     "metadata": {},
     "output_type": "execute_result"
    },
    {
     "data": {
      "image/png": "[encoded data removed]",
      "text/plain": [
       "<Figure size 640x480 with 1 Axes>"
      ]
     },
     "metadata": {},
     "output_type": "display_data"
    }
   ],
   "source": [
    "sns.boxplot(data=late_shipments, x='pack_price', y='shipment_mode')"
   ]
  },
  {
   "cell_type": "code",
   "execution_count": null,
   "id": "f3287889-d361-4bb6-a8e3-a0599183f746",
   "metadata": {},
   "outputs": [],
   "source": []
  }
 ],
 "metadata": {
  "kernelspec": {
   "display_name": "Python 3 (ipykernel)",
   "language": "python",
   "name": "python3"
  },
  "language_info": {
   "codemirror_mode": {
    "name": "ipython",
    "version": 3
   },
   "file_extension": ".py",
   "mimetype": "text/x-python",
   "name": "python",
   "nbconvert_exporter": "python",
   "pygments_lexer": "ipython3",
   "version": "3.11.7"
  }
 },
 "nbformat": 4,
 "nbformat_minor": 5
}
