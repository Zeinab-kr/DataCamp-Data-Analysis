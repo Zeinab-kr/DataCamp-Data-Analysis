{
 "cells": [
  {
   "cell_type": "markdown",
   "id": "0c197a12-b07c-4306-85fa-62bda4aa8834",
   "metadata": {},
   "source": [
    "\n",
    "#  Two sample mean test statistic\n",
    "\n",
    "##  Assignment \n",
    "\n",
    "The hypothesis test for determining if there is a difference between the means of two populations uses a different type of test statistic to the z-scores you saw in Chapter 1. It's called \"t\", and it can be calculated from three values from each sample using this equation.\n",
    "\n",
    "$$\n",
    "t = \\dfrac{(\\bar{x}_{\\text{child}} - \\bar{x}_{\\text{adult}})}{\\sqrt{\\dfrac{s_{\\text{child}}^2}{n_{\\text{child}}} + \\dfrac{s_{\\text{adult}}^2}{n_{\\text{adult}}}}}\n",
    "$$\n",
    "\n",
    "While trying to determine why some shipments are late, you may wonder if the weight of the shipments that were on time is **less than** the weight of the shipments that were late. The `late_shipments` dataset has been split into a \"yes\" group, where `late == \"Yes\"` and a \"no\" group where `late == \"No\"`. The weight of the shipment is given in the `weight_kilograms` variable.\n",
    "\n",
    "The sample means for the two groups are available as `xbar_no` and `xbar_yes`. The sample standard deviations are `s_no` and `s_yes`. The sample sizes are `n_no` and `n_yes`. `numpy` is also loaded as `np`.\n",
    "\n",
    "##  Pre exercise code \n",
    "\n",
    "```\n",
    "import numpy as np\n",
    "import pandas as pd\n",
    "late_shipments = pd.read_feather(\n",
    "  path = \"/usr/local/share/datasets/late_shipments.feather\"\n",
    ")\n",
    "xbar = late_shipments.groupby('late')['weight_kilograms'].mean()\n",
    "s = late_shipments.groupby('late')['weight_kilograms'].std()\n",
    "n = late_shipments.groupby('late')['weight_kilograms'].count()\n",
    "\n",
    "xbar_no = xbar['No']\n",
    "xbar_yes = xbar['Yes']\n",
    "s_no = s['No']\n",
    "s_yes = s['Yes']\n",
    "n_no = n['No']\n",
    "n_yes = n['Yes']\n",
    "```\n",
    "\n",
    "\n",
    "\n",
    "##  Instructions \n",
    "\n",
    "- Calculate the numerator of the \\(t\\) test statistic.\n",
    "- Calculate the denominator of the \\(t\\) test statistic.\n",
    "- Use those two numbers to calculate the \\(t\\) test statistic.\n"
   ]
  },
  {
   "cell_type": "code",
   "execution_count": 1,
   "id": "f774ff90-9246-4327-9cac-6b2838d09e5c",
   "metadata": {},
   "outputs": [],
   "source": [
    "import numpy as np\n",
    "import pandas as pd\n",
    "late_shipments = pd.read_feather(\n",
    "  path = \"late_shipments.feather\"\n",
    ")\n",
    "xbar = late_shipments.groupby('late')['weight_kilograms'].mean()\n",
    "s = late_shipments.groupby('late')['weight_kilograms'].std()\n",
    "n = late_shipments.groupby('late')['weight_kilograms'].count()\n",
    "\n",
    "xbar_no = xbar['No']\n",
    "xbar_yes = xbar['Yes']\n",
    "s_no = s['No']\n",
    "s_yes = s['Yes']\n",
    "n_no = n['No']\n",
    "n_yes = n['Yes']"
   ]
  },
  {
   "cell_type": "code",
   "execution_count": 6,
   "id": "0c2b45d1-1c97-4cfd-b38b-b987dab09d4b",
   "metadata": {},
   "outputs": [],
   "source": [
    "num = xbar_no - xbar_yes\n",
    "den = np.sqrt((s_yes ** 2 / n_yes) + (s_no ** 2 / n_no))"
   ]
  },
  {
   "cell_type": "code",
   "execution_count": 7,
   "id": "0cd2c2d0-cdea-499b-8b20-21ea940256d6",
   "metadata": {},
   "outputs": [
    {
     "data": {
      "text/plain": [
       "-2.3936661778766433"
      ]
     },
     "execution_count": 7,
     "metadata": {},
     "output_type": "execute_result"
    }
   ],
   "source": [
    "t_stat = num / den\n",
    "t_stat"
   ]
  },
  {
   "cell_type": "code",
   "execution_count": null,
   "id": "52430d18-dd18-49d5-8205-8c20372fb5c1",
   "metadata": {},
   "outputs": [],
   "source": []
  }
 ],
 "metadata": {
  "kernelspec": {
   "display_name": "Python 3 (ipykernel)",
   "language": "python",
   "name": "python3"
  },
  "language_info": {
   "codemirror_mode": {
    "name": "ipython",
    "version": 3
   },
   "file_extension": ".py",
   "mimetype": "text/x-python",
   "name": "python",
   "nbconvert_exporter": "python",
   "pygments_lexer": "ipython3",
   "version": "3.11.7"
  }
 },
 "nbformat": 4,
 "nbformat_minor": 5
}
