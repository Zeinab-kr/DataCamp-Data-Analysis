{
 "cells": [
  {
   "cell_type": "markdown",
   "id": "ac305b6c-918d-4ec3-bbfc-1e63c5fbecba",
   "metadata": {},
   "source": [
    "\n",
    "#  From t to p\n",
    "\n",
    "##  Assignment \n",
    "\n",
    "Previously, you calculated the test statistic for the two-sample problem of whether the mean weight of shipments is smaller for shipments that weren't late (`late == \"No\"`) compared to shipments that were late (`late == \"Yes\"`). In order to make decisions about it, you need to transform the test statistic with a cumulative distribution function to get a p-value.\n",
    "\n",
    "Recall the hypotheses:\n",
    "\n",
    "\\(H_{0}\\): The mean weight of shipments that weren't late is the same as the mean weight of shipments that were late.\n",
    "\n",
    "\\(H_{A}\\): The mean weight of shipments that weren't late is less than the mean weight of shipments that were late.\n",
    "\n",
    "The test statistic, `t_stat`, is available, as are the samples sizes for each group, `n_no` and `n_yes`. Use a significance level of `alpha = 0.05`.\n",
    "\n",
    "`t` has also been imported from `scipy.stats`.\n",
    "\n",
    "##  Pre exercise code \n",
    "\n",
    "```\n",
    "import numpy as np\n",
    "import pandas as pd\n",
    "late_shipments = pd.read_feather(\n",
    "  path = \"/usr/local/share/datasets/late_shipments.feather\"\n",
    ")\n",
    "xbar = late_shipments.groupby('late')['weight_kilograms'].mean()\n",
    "s = late_shipments.groupby('late')['weight_kilograms'].std(ddof=1)\n",
    "n = late_shipments.groupby('late')['weight_kilograms'].count()\n",
    "\n",
    "xbar_no = xbar['No']\n",
    "xbar_yes = xbar['Yes']\n",
    "s_no = s['No']\n",
    "s_yes = s['Yes']\n",
    "n_no = n['No']\n",
    "n_yes = n['Yes']\n",
    "\n",
    "t_stat = (xbar_no - xbar_yes) / np.sqrt(s_no ** 2 / n_no + s_yes ** 2 / n_yes)\n",
    "\n",
    "from scipy.stats import t\n",
    "```\n"
   ]
  },
  {
   "cell_type": "code",
   "execution_count": 8,
   "id": "b1c28862-f6dd-4fb4-95e3-f9f8e0a7ab01",
   "metadata": {},
   "outputs": [],
   "source": [
    "import numpy as np\n",
    "import pandas as pd\n",
    "late_shipments = pd.read_feather(\n",
    "  path = \"late_shipments.feather\"\n",
    ")\n",
    "xbar = late_shipments.groupby('late')['weight_kilograms'].mean()\n",
    "s = late_shipments.groupby('late')['weight_kilograms'].std(ddof=1)\n",
    "n = late_shipments.groupby('late')['weight_kilograms'].count()\n",
    "\n",
    "xbar_no = xbar['No']\n",
    "xbar_yes = xbar['Yes']\n",
    "s_no = s['No']\n",
    "s_yes = s['Yes']\n",
    "n_no = n['No']\n",
    "n_yes = n['Yes']\n",
    "\n",
    "t_stat = (xbar_no - xbar_yes) / np.sqrt(s_no ** 2 / n_no + s_yes ** 2 / n_yes)\n",
    "\n",
    "from scipy.stats import t"
   ]
  },
  {
   "cell_type": "markdown",
   "id": "8fbde334-538b-4dbe-b037-91be95933d75",
   "metadata": {},
   "source": [
    "\n",
    "##  Instructions \n",
    "\n",
    "- Calculate the degrees of freedom for the test.\n",
    "- Compute the p-value using the test statistic, `t_stat`.\n"
   ]
  },
  {
   "cell_type": "code",
   "execution_count": 9,
   "id": "62b5227c-a468-4cad-8481-cc07477c00bd",
   "metadata": {},
   "outputs": [],
   "source": [
    "dof = n_no + n_yes - 2"
   ]
  },
  {
   "cell_type": "code",
   "execution_count": 10,
   "id": "4d70ee97-15e0-400b-b223-fdcab9502788",
   "metadata": {},
   "outputs": [],
   "source": [
    "p_value = t.cdf(t_stat, df=dof)"
   ]
  },
  {
   "cell_type": "code",
   "execution_count": 11,
   "id": "c9788f97-c86b-48ab-abf1-74991ab8b93b",
   "metadata": {},
   "outputs": [
    {
     "data": {
      "text/plain": [
       "0.008432382146249523"
      ]
     },
     "execution_count": 11,
     "metadata": {},
     "output_type": "execute_result"
    }
   ],
   "source": [
    "p_value"
   ]
  },
  {
   "cell_type": "code",
   "execution_count": null,
   "id": "8a45282a-cafd-4410-8f1e-12ae78553a32",
   "metadata": {},
   "outputs": [],
   "source": []
  }
 ],
 "metadata": {
  "kernelspec": {
   "display_name": "Python 3 (ipykernel)",
   "language": "python",
   "name": "python3"
  },
  "language_info": {
   "codemirror_mode": {
    "name": "ipython",
    "version": 3
   },
   "file_extension": ".py",
   "mimetype": "text/x-python",
   "name": "python",
   "nbconvert_exporter": "python",
   "pygments_lexer": "ipython3",
   "version": "3.11.7"
  }
 },
 "nbformat": 4,
 "nbformat_minor": 5
}
