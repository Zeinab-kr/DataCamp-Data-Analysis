{
 "cells": [
  {
   "cell_type": "markdown",
   "id": "263570ea-9534-479b-b3d6-1251ef254bbe",
   "metadata": {},
   "source": [
    "\n",
    "#  Calculating a z-score\n",
    "\n",
    "\n",
    "##  Assignment \n",
    "\n",
    "Since variables have arbitrary ranges and units, we need to standardize them. For example, a hypothesis test that gave different answers if the variables were in Euros instead of US dollars would be of little value. Standardization avoids that.\n",
    "\n",
    "One standardized value of interest in a hypothesis test is called a z-score. To calculate it, you need three numbers: the sample statistic (point estimate), the hypothesized statistic, and the standard error of the statistic (estimated from the bootstrap distribution).\n",
    "\n",
    "The sample statistic is available as `late_prop_samp`.\n",
    "\n",
    "`late_shipments_boot_distn` is a bootstrap distribution of the proportion of late shipments, available as a list.\n",
    "\n",
    "`pandas` and `numpy` are loaded with their usual aliases.\n",
    "\n",
    "##  Pre exercise code \n",
    "\n",
    "```\n",
    "import pandas as pd\n",
    "import numpy as np\n",
    "late_shipments = pd.read_feather(\n",
    "  path = \"/usr/local/share/datasets/late_shipments.feather\"\n",
    ")\n",
    "from urllib.request import urlretrieve\n",
    "url = \"https://assets.datacamp.com/production/repositories/5982/datasets/3ff1ae9931f4568eef19a2d2fce4a89c840257b0/late_shipments_boot_distn.pkl\"\n",
    "urlretrieve(url, \"late_shipments_boot_distn.pkl\")\n",
    "import pickle\n",
    "with open(\"late_shipments_boot_distn.pkl\", 'rb') as f:\n",
    "  late_shipments_boot_distn = pickle.load(f)\n",
    "\n",
    "late_prop_samp = (late_shipments['late'] == \"Yes\").mean()\n",
    "```\n",
    "\n",
    "\n",
    "\n",
    "##  Instructions \n",
    "\n",
    "- Hypothesize that the proportion of late shipments is 6%.\n",
    "- Calculate the standard error from the standard deviation of the bootstrap distribution.\n",
    "- Calculate the z-score.\n",
    "\n"
   ]
  },
  {
   "cell_type": "code",
   "execution_count": 8,
   "id": "ccb66016-ee81-46e9-9da1-7833d7239046",
   "metadata": {},
   "outputs": [],
   "source": [
    "import pandas as pd\n",
    "import numpy as np\n",
    "late_shipments = pd.read_feather(\n",
    "  path = \"late_shipments.feather\"\n",
    ")\n",
    "\n",
    "late_shipments_boot_distn = pd.read_pickle(\"late_shipments_boot_distn.pkl\")\n",
    "\n",
    "late_prop_samp = (late_shipments['late'] == \"Yes\").mean()"
   ]
  },
  {
   "cell_type": "code",
   "execution_count": 12,
   "id": "cb912641-0715-432f-b4ab-b08f827ccfc8",
   "metadata": {},
   "outputs": [
    {
     "data": {
      "text/plain": [
       "0.061"
      ]
     },
     "execution_count": 12,
     "metadata": {},
     "output_type": "execute_result"
    }
   ],
   "source": [
    "late_prop_samp"
   ]
  },
  {
   "cell_type": "code",
   "execution_count": 9,
   "id": "20aecea2-dbfc-4d09-8c94-ba2f9d36cd3d",
   "metadata": {},
   "outputs": [],
   "source": [
    "prop_hyp = 0.06"
   ]
  },
  {
   "cell_type": "code",
   "execution_count": 11,
   "id": "560bc4e1-1347-49df-a5d5-1021b609d24f",
   "metadata": {},
   "outputs": [
    {
     "data": {
      "text/plain": [
       "0.007488520883926666"
      ]
     },
     "execution_count": 11,
     "metadata": {},
     "output_type": "execute_result"
    }
   ],
   "source": [
    "std_error = np.std(late_shipments_boot_distn, ddof=1)\n",
    "std_error"
   ]
  },
  {
   "cell_type": "code",
   "execution_count": 13,
   "id": "a53d06f3-e221-432c-b27b-037042e83af8",
   "metadata": {},
   "outputs": [
    {
     "data": {
      "text/plain": [
       "0.13353771933071554"
      ]
     },
     "execution_count": 13,
     "metadata": {},
     "output_type": "execute_result"
    }
   ],
   "source": [
    "z_score = (late_prop_samp - prop_hyp) / std_error\n",
    "z_score"
   ]
  },
  {
   "cell_type": "code",
   "execution_count": null,
   "id": "7202a765-6666-4a71-85eb-f7d9c71d7ba4",
   "metadata": {},
   "outputs": [],
   "source": []
  }
 ],
 "metadata": {
  "kernelspec": {
   "display_name": "Python 3 (ipykernel)",
   "language": "python",
   "name": "python3"
  },
  "language_info": {
   "codemirror_mode": {
    "name": "ipython",
    "version": 3
   },
   "file_extension": ".py",
   "mimetype": "text/x-python",
   "name": "python",
   "nbconvert_exporter": "python",
   "pygments_lexer": "ipython3",
   "version": "3.11.7"
  }
 },
 "nbformat": 4,
 "nbformat_minor": 5
}
