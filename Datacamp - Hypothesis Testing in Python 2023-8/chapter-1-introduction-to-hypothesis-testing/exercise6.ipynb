{
 "cells": [
  {
   "cell_type": "markdown",
   "id": "efc87682-f620-4ae5-ae61-e2d8fb83ab1a",
   "metadata": {},
   "source": [
    "\n",
    "#  Calculating p-values\n",
    "\n",
    "##  Assignment \n",
    "\n",
    "In order to determine whether to choose the null hypothesis or the alternative hypothesis, you need to calculate a p-value from the z-score.\n",
    "\n",
    "You'll now return to the late shipments dataset and the proportion of late shipments.\n",
    "\n",
    "The null hypothesis, \\(H_{0}\\), is that the proportion of late shipments is six percent.\n",
    "\n",
    "The alternative hypothesis, \\(H_{A}\\), is that the proportion of late shipments is **greater than** six percent.\n",
    "\n",
    "The observed sample statistic, `late_prop_samp`, the hypothesized value, `late_prop_hyp` (6%), and the bootstrap standard error, `std_error` are available. `norm` from `scipy.stats` has also been loaded without an alias.\n",
    "\n",
    "##  Pre exercise code \n",
    "\n",
    "```\n",
    "import pandas as pd\n",
    "import numpy as np\n",
    "late_shipments = pd.read_feather(\n",
    "  path = \"/usr/local/share/datasets/late_shipments.feather\"\n",
    ")\n",
    "from urllib.request import urlretrieve\n",
    "url = \"https://assets.datacamp.com/production/repositories/5982/datasets/3ff1ae9931f4568eef19a2d2fce4a89c840257b0/late_shipments_boot_distn.pkl\"\n",
    "urlretrieve(url, \"late_shipments_boot_distn.pkl\")\n",
    "import pickle\n",
    "with open(\"late_shipments_boot_distn.pkl\", 'rb') as f:\n",
    "  late_shipments_boot_distn = pickle.load(f)\n",
    "\n",
    "late_prop_samp = (late_shipments['late'] == \"Yes\").mean()\n",
    "std_error = np.std(late_shipments_boot_distn, ddof=1)\n",
    "late_prop_hyp = 0.06\n",
    "from scipy.stats import norm\n",
    "```"
   ]
  },
  {
   "cell_type": "code",
   "execution_count": 14,
   "id": "368e9338-ba76-4f31-b0b6-faab7011356c",
   "metadata": {},
   "outputs": [],
   "source": [
    "import pandas as pd\n",
    "import numpy as np\n",
    "late_shipments = pd.read_feather(\n",
    "  path = \"late_shipments.feather\"\n",
    ")\n",
    "\n",
    "late_shipments_boot_distn = pd.read_pickle('late_shipments_boot_distn.pkl')\n",
    "\n",
    "late_prop_samp = (late_shipments['late'] == \"Yes\").mean()\n",
    "std_error = np.std(late_shipments_boot_distn, ddof=1)\n",
    "late_prop_hyp = 0.06\n",
    "from scipy.stats import norm"
   ]
  },
  {
   "cell_type": "markdown",
   "id": "ab20d43a-6c44-48ec-a901-c39eaab1166c",
   "metadata": {},
   "source": [
    "##  Instructions \n",
    "\n",
    "- Calculate the z-score of `late_prop_samp`. \n",
    "- Calculate the p-value for the z-score, using a right-tailed test.\n"
   ]
  },
  {
   "cell_type": "code",
   "execution_count": 15,
   "id": "b89d9678-8455-439a-a6dd-9cef88dadcb6",
   "metadata": {},
   "outputs": [
    {
     "data": {
      "text/plain": [
       "0.13353771933071554"
      ]
     },
     "execution_count": 15,
     "metadata": {},
     "output_type": "execute_result"
    }
   ],
   "source": [
    "z_score = (late_prop_samp - late_prop_hyp) / std_error\n",
    "z_score"
   ]
  },
  {
   "cell_type": "code",
   "execution_count": 17,
   "id": "8952b583-679e-459e-9cf0-c668eb617dec",
   "metadata": {},
   "outputs": [
    {
     "data": {
      "text/plain": [
       "0.4468840678346485"
      ]
     },
     "execution_count": 17,
     "metadata": {},
     "output_type": "execute_result"
    }
   ],
   "source": [
    "1 - norm.cdf(z_score)"
   ]
  },
  {
   "cell_type": "code",
   "execution_count": null,
   "id": "d78c210e-7878-4ac2-9103-d3e2d3972917",
   "metadata": {},
   "outputs": [],
   "source": []
  }
 ],
 "metadata": {
  "kernelspec": {
   "display_name": "Python 3 (ipykernel)",
   "language": "python",
   "name": "python3"
  },
  "language_info": {
   "codemirror_mode": {
    "name": "ipython",
    "version": 3
   },
   "file_extension": ".py",
   "mimetype": "text/x-python",
   "name": "python",
   "nbconvert_exporter": "python",
   "pygments_lexer": "ipython3",
   "version": "3.11.7"
  }
 },
 "nbformat": 4,
 "nbformat_minor": 5
}
