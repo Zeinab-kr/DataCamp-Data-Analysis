{
 "cells": [
  {
   "cell_type": "markdown",
   "id": "5e8675b7-b7c1-488a-87e7-c426e2dda999",
   "metadata": {},
   "source": [
    "\n",
    "#  Visualizing goodness of fit\n",
    "\n",
    "\n",
    "##  Assignment \n",
    "\n",
    "The **chi-square goodness of fit test** compares proportions of each level of a categorical variable to hypothesized values. Before running such a test, it can be helpful to visually compare the distribution in the sample to the hypothesized distribution.\n",
    "\n",
    "Recall the vendor incoterms in the `late_shipments` dataset. You hypothesize that the four values occur with these frequencies in the population of shipments.\n",
    "\n",
    "- `CIP`: 0.05\n",
    "- `DDP`: 0.1\n",
    "- `EXW`: 0.75\n",
    "- `FCA`: 0.1\n",
    "\n",
    "These frequencies are stored in the `hypothesized` DataFrame.\n",
    "\n",
    "The `incoterm_counts` DataFrame stores the `.value_counts()` of the `vendor_inco_term` column.\n",
    "\n",
    "`late_shipments` is available; `pandas` and `matplotlib.pyplot` are loaded with their standard aliases.\n",
    "\n",
    "##  Pre exercise code \n",
    "\n",
    "```\n",
    "import pandas as pd\n",
    "import numpy as np\n",
    "import matplotlib.pyplot as plt\n",
    "late_shipments = pd.read_feather(\n",
    "  path = \"/usr/local/share/datasets/late_shipments.feather\"\n",
    ")\n",
    "late_shipments['freight_cost_group'] = np.where(late_shipments['freight_cost_usd'] <= 5000, \"reasonable\", \"expensive\")\n",
    "late_shipments = late_shipments[late_shipments['vendor_inco_term'] != \"DDU\"]\n",
    "\n",
    "hypothesized = pd.DataFrame({\n",
    "  'vendor_inco_term': ['EXW', 'CIP', 'DDP', 'FCA'], \n",
    "  'prop': [0.75, 0.05, 0.1, 0.1]}).sort_values('vendor_inco_term')\n",
    "\n",
    "incoterm_counts = late_shipments['vendor_inco_term'].value_counts().rename_axis('vendor_inco_term').reset_index(name='n').sort_values('vendor_inco_term')\n",
    "```"
   ]
  },
  {
   "cell_type": "code",
   "execution_count": 50,
   "id": "2a307007-07f3-44c5-9d5e-99180b5ae1b8",
   "metadata": {},
   "outputs": [],
   "source": [
    "import pandas as pd\n",
    "import numpy as np\n",
    "import matplotlib.pyplot as plt\n",
    "late_shipments = pd.read_feather(\n",
    "  path = \"late_shipments.feather\"\n",
    ")\n",
    "late_shipments['freight_cost_group'] = np.where(late_shipments['freight_cost_usd'] <= 5000, \"reasonable\", \"expensive\")\n",
    "late_shipments = late_shipments[late_shipments['vendor_inco_term'] != \"DDU\"]\n",
    "\n",
    "hypothesized = pd.DataFrame({\n",
    "  'vendor_inco_term': ['EXW', 'CIP', 'DDP', 'FCA'], \n",
    "  'prop': [0.75, 0.05, 0.1, 0.1]}).sort_values('vendor_inco_term')\n",
    "\n",
    "incoterm_counts = late_shipments['vendor_inco_term'].value_counts().rename_axis('vendor_inco_term').reset_index(name='n').sort_values('vendor_inco_term')\n"
   ]
  },
  {
   "cell_type": "markdown",
   "id": "15399e03-11b6-4212-ad91-e3556d72c550",
   "metadata": {},
   "source": [
    "\n",
    "##  Instructions \n",
    "\n",
    "- Find the total number of rows in `late_shipments`.\n"
   ]
  },
  {
   "cell_type": "code",
   "execution_count": 51,
   "id": "9c2d6ef4-fb36-46c8-ba20-4d8216cec1b1",
   "metadata": {},
   "outputs": [
    {
     "data": {
      "text/plain": [
       "999"
      ]
     },
     "execution_count": 51,
     "metadata": {},
     "output_type": "execute_result"
    }
   ],
   "source": [
    "n = len(late_shipments)\n",
    "n"
   ]
  },
  {
   "cell_type": "markdown",
   "id": "7321cb83-a8d1-4b14-8e9e-f4e193d5701f",
   "metadata": {},
   "source": [
    "\n",
    "- Add a column named `n` to the `hypothesized` DataFrame that is the `hypothesized` `prop` column times `n_total`.\n"
   ]
  },
  {
   "cell_type": "code",
   "execution_count": 52,
   "id": "10483664-b790-415a-9fe7-24df0e25cd87",
   "metadata": {},
   "outputs": [
    {
     "data": {
      "text/html": [
       "<div>\n",
       "<style scoped>\n",
       "    .dataframe tbody tr th:only-of-type {\n",
       "        vertical-align: middle;\n",
       "    }\n",
       "\n",
       "    .dataframe tbody tr th {\n",
       "        vertical-align: top;\n",
       "    }\n",
       "\n",
       "    .dataframe thead th {\n",
       "        text-align: right;\n",
       "    }\n",
       "</style>\n",
       "<table border=\"1\" class=\"dataframe\">\n",
       "  <thead>\n",
       "    <tr style=\"text-align: right;\">\n",
       "      <th></th>\n",
       "      <th>vendor_inco_term</th>\n",
       "      <th>prop</th>\n",
       "      <th>n</th>\n",
       "    </tr>\n",
       "  </thead>\n",
       "  <tbody>\n",
       "    <tr>\n",
       "      <th>1</th>\n",
       "      <td>CIP</td>\n",
       "      <td>0.05</td>\n",
       "      <td>49.95</td>\n",
       "    </tr>\n",
       "    <tr>\n",
       "      <th>2</th>\n",
       "      <td>DDP</td>\n",
       "      <td>0.10</td>\n",
       "      <td>99.90</td>\n",
       "    </tr>\n",
       "    <tr>\n",
       "      <th>0</th>\n",
       "      <td>EXW</td>\n",
       "      <td>0.75</td>\n",
       "      <td>749.25</td>\n",
       "    </tr>\n",
       "    <tr>\n",
       "      <th>3</th>\n",
       "      <td>FCA</td>\n",
       "      <td>0.10</td>\n",
       "      <td>99.90</td>\n",
       "    </tr>\n",
       "  </tbody>\n",
       "</table>\n",
       "</div>"
      ],
      "text/plain": [
       "  vendor_inco_term  prop       n\n",
       "1              CIP  0.05   49.95\n",
       "2              DDP  0.10   99.90\n",
       "0              EXW  0.75  749.25\n",
       "3              FCA  0.10   99.90"
      ]
     },
     "execution_count": 52,
     "metadata": {},
     "output_type": "execute_result"
    }
   ],
   "source": [
    "hypothesized['n'] = hypothesized['prop'] * n\n",
    "hypothesized"
   ]
  },
  {
   "cell_type": "markdown",
   "id": "16a67800-088c-4aa3-a149-3a737ad99dee",
   "metadata": {},
   "source": [
    "- Create a bar graph of `'n'` versus `'vendor_inco_term'` for the `incoterm_counts` data, specifying a red color.\n"
   ]
  },
  {
   "cell_type": "code",
   "execution_count": 53,
   "id": "f28b2fbc-6486-460b-bc1d-959c692d2786",
   "metadata": {},
   "outputs": [
    {
     "data": {
      "text/plain": [
       "<BarContainer object of 4 artists>"
      ]
     },
     "execution_count": 53,
     "metadata": {},
     "output_type": "execute_result"
    },
    {
     "data": {
      "image/png": "[encoded data removed]",
      "text/plain": [
       "<Figure size 640x480 with 1 Axes>"
      ]
     },
     "metadata": {},
     "output_type": "display_data"
    }
   ],
   "source": [
    "plt.bar(incoterm_counts['vendor_inco_term'], incoterm_counts['n'], color=\"red\", label=\"Observed\")"
   ]
  },
  {
   "cell_type": "markdown",
   "id": "e3e13873-4929-4404-87fa-1f57859b17c8",
   "metadata": {},
   "source": [
    "\n",
    "- Add blue bars to the plot showing the same results from the `hypothesized` DataFrame, specifying an `alpha` of `0.5`.\n"
   ]
  },
  {
   "cell_type": "code",
   "execution_count": 55,
   "id": "b0babd0a-4527-41a9-82c0-0813c3e8dd6d",
   "metadata": {},
   "outputs": [
    {
     "data": {
      "text/plain": [
       "<matplotlib.legend.Legend at 0x21b130c8650>"
      ]
     },
     "execution_count": 55,
     "metadata": {},
     "output_type": "execute_result"
    },
    {
     "data": {
      "image/png": "[encoded data removed]",
      "text/plain": [
       "<Figure size 640x480 with 1 Axes>"
      ]
     },
     "metadata": {},
     "output_type": "display_data"
    }
   ],
   "source": [
    "plt.bar(incoterm_counts['vendor_inco_term'], incoterm_counts['n'], color=\"red\", label=\"Observed\")\n",
    "plt.bar(hypothesized['vendor_inco_term'], hypothesized['n'], alpha=0.5, color=\"blue\", label=\"Hypothesized\")\n",
    "plt.legend()"
   ]
  },
  {
   "cell_type": "code",
   "execution_count": null,
   "id": "0b5fb7df-a198-4f4d-b2a1-18987344be79",
   "metadata": {},
   "outputs": [],
   "source": []
  }
 ],
 "metadata": {
  "kernelspec": {
   "display_name": "Python 3 (ipykernel)",
   "language": "python",
   "name": "python3"
  },
  "language_info": {
   "codemirror_mode": {
    "name": "ipython",
    "version": 3
   },
   "file_extension": ".py",
   "mimetype": "text/x-python",
   "name": "python",
   "nbconvert_exporter": "python",
   "pygments_lexer": "ipython3",
   "version": "3.11.7"
  }
 },
 "nbformat": 4,
 "nbformat_minor": 5
}
