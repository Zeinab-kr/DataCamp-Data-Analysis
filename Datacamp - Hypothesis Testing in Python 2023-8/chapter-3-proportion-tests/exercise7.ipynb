{
 "cells": [
  {
   "cell_type": "markdown",
   "id": "ecaca554-d0f8-4d1e-9aa4-feb40abb1498",
   "metadata": {},
   "source": [
    "\n",
    "#  Performing a chi-square test\n",
    "\n",
    "##  Assignment \n",
    "\n",
    "The **chi-square independence test** compares proportions of successes of one categorical variable across the categories of another categorical variable.\n",
    "\n",
    "Trade deals often use a form of business shorthand in order to specify the exact details of their contract. These are International Chamber of Commerce (ICC) international commercial terms, or **incoterms** for short.\n",
    "\n",
    "The `late_shipments` dataset includes a `vendor_inco_term` that describes the incoterms that applied to a given shipment. The choices are:\n",
    "\n",
    "- [`EXW`](https://www.investopedia.com/terms/e/exw.asp): \"Ex works\". The buyer pays for transportation of the goods.\n",
    "- [`CIP`](https://www.investopedia.com/terms/c/carriage-and-insurance-paid-cip.asp): \"Carriage and insurance paid to\". The seller pays for freight and insurance until the goods board a ship.\n",
    "- [`DDP`](https://www.investopedia.com/terms/d/delivery-duty-paid.asp): \"Delivered duty paid\". The seller pays for transportation of the goods until they reach a destination port.\n",
    "- [`FCA`](https://www.investopedia.com/terms/f/fca.asp): \"Free carrier\". The seller pays for transportation of the goods.\n",
    "\n",
    "Perhaps the incoterms affect whether or not the freight costs are expensive. Test these hypotheses with a significance level of `0.01`.\n",
    "\n",
    "\\(H_{0}\\): `vendor_inco_term` and `freight_cost_group` are independent.\n",
    "\n",
    "\\(H_{A}\\): `vendor_inco_term` and `freight_cost_group` are associated.\n",
    "\n",
    "`late_shipments` is available, and the following have been loaded: `matplotlib.pyplot` as `plt`, `pandas` as `pd`, and `pingouin`.\n",
    "\n",
    "##  Pre exercise code \n",
    "\n",
    "```\n",
    "import pandas as pd\n",
    "import numpy as np\n",
    "import matplotlib.pyplot as plt\n",
    "import pingouin\n",
    "late_shipments = pd.read_feather(\n",
    "  path = \"/usr/local/share/datasets/late_shipments.feather\"\n",
    ")\n",
    "late_shipments['freight_cost_group'] = np.where(late_shipments['freight_cost_usd'] <= 5000, \"reasonable\", \"expensive\")\n",
    "late_shipments = late_shipments[late_shipments['vendor_inco_term'] != \"DDU\"]\n",
    "```\n",
    "\n"
   ]
  },
  {
   "cell_type": "code",
   "execution_count": 39,
   "id": "c31fe79f-b6ce-41a8-8b00-e2e3abe62c02",
   "metadata": {},
   "outputs": [],
   "source": [
    "import pandas as pd\n",
    "import numpy as np\n",
    "import matplotlib.pyplot as plt\n",
    "import pingouin\n",
    "late_shipments = pd.read_feather(\n",
    "  path = \"late_shipments.feather\"\n",
    ")\n",
    "late_shipments['freight_cost_group'] = np.where(late_shipments['freight_cost_usd'] <= 5000, \"reasonable\", \"expensive\")\n",
    "late_shipments = late_shipments[late_shipments['vendor_inco_term'] != \"DDU\"]\n"
   ]
  },
  {
   "cell_type": "markdown",
   "id": "1b1d00bf-b812-47b7-a22f-133f7f1230f0",
   "metadata": {},
   "source": [
    "##  Instructions \n",
    "\n",
    "- Calculate the proportion of `freight_cost_group` in `late_shipments` grouped by `vendor_inco_term`.\n",
    "\n",
    "\n"
   ]
  },
  {
   "cell_type": "code",
   "execution_count": 41,
   "id": "3d9805e6-7c49-4b54-8e51-9793da6c701e",
   "metadata": {},
   "outputs": [
    {
     "data": {
      "text/plain": [
       "vendor_inco_term  freight_cost_group\n",
       "CIP               reasonable            0.607143\n",
       "                  expensive             0.392857\n",
       "DDP               expensive             0.550000\n",
       "                  reasonable            0.450000\n",
       "EXW               expensive             0.587432\n",
       "                  reasonable            0.412568\n",
       "FCA               reasonable            0.657658\n",
       "                  expensive             0.342342\n",
       "Name: proportion, dtype: float64"
      ]
     },
     "execution_count": 41,
     "metadata": {},
     "output_type": "execute_result"
    }
   ],
   "source": [
    "props = late_shipments.groupby('vendor_inco_term')['freight_cost_group'].value_counts(normalize=True)\n",
    "props"
   ]
  },
  {
   "cell_type": "markdown",
   "id": "43e893fa-714a-4c28-a910-7430092d4e9a",
   "metadata": {},
   "source": [
    "\n",
    "- Unstack the `.value_counts()` result to be in wide format instead of long.\n"
   ]
  },
  {
   "cell_type": "code",
   "execution_count": 42,
   "id": "924a3c14-edd5-430b-921e-8e07436c0b0a",
   "metadata": {},
   "outputs": [],
   "source": [
    "props = props.unstack()"
   ]
  },
  {
   "cell_type": "code",
   "execution_count": 43,
   "id": "3e008623-062b-471e-8e1c-7058dcbc710f",
   "metadata": {},
   "outputs": [
    {
     "data": {
      "text/html": [
       "<div>\n",
       "<style scoped>\n",
       "    .dataframe tbody tr th:only-of-type {\n",
       "        vertical-align: middle;\n",
       "    }\n",
       "\n",
       "    .dataframe tbody tr th {\n",
       "        vertical-align: top;\n",
       "    }\n",
       "\n",
       "    .dataframe thead th {\n",
       "        text-align: right;\n",
       "    }\n",
       "</style>\n",
       "<table border=\"1\" class=\"dataframe\">\n",
       "  <thead>\n",
       "    <tr style=\"text-align: right;\">\n",
       "      <th>freight_cost_group</th>\n",
       "      <th>expensive</th>\n",
       "      <th>reasonable</th>\n",
       "    </tr>\n",
       "    <tr>\n",
       "      <th>vendor_inco_term</th>\n",
       "      <th></th>\n",
       "      <th></th>\n",
       "    </tr>\n",
       "  </thead>\n",
       "  <tbody>\n",
       "    <tr>\n",
       "      <th>CIP</th>\n",
       "      <td>0.392857</td>\n",
       "      <td>0.607143</td>\n",
       "    </tr>\n",
       "    <tr>\n",
       "      <th>DDP</th>\n",
       "      <td>0.550000</td>\n",
       "      <td>0.450000</td>\n",
       "    </tr>\n",
       "    <tr>\n",
       "      <th>EXW</th>\n",
       "      <td>0.587432</td>\n",
       "      <td>0.412568</td>\n",
       "    </tr>\n",
       "    <tr>\n",
       "      <th>FCA</th>\n",
       "      <td>0.342342</td>\n",
       "      <td>0.657658</td>\n",
       "    </tr>\n",
       "  </tbody>\n",
       "</table>\n",
       "</div>"
      ],
      "text/plain": [
       "freight_cost_group  expensive  reasonable\n",
       "vendor_inco_term                         \n",
       "CIP                  0.392857    0.607143\n",
       "DDP                  0.550000    0.450000\n",
       "EXW                  0.587432    0.412568\n",
       "FCA                  0.342342    0.657658"
      ]
     },
     "execution_count": 43,
     "metadata": {},
     "output_type": "execute_result"
    }
   ],
   "source": [
    "props"
   ]
  },
  {
   "cell_type": "markdown",
   "id": "3c6667c2-e0be-4e6f-be59-4741892e92c2",
   "metadata": {},
   "source": [
    "\n",
    "- Create a proportional stacked bar plot with bars filled based on `freight_cost_group` across the levels of `vendor_inco_term`.\n"
   ]
  },
  {
   "cell_type": "code",
   "execution_count": 47,
   "id": "13aeb303-c63a-43cb-bb07-70d7275d0c0a",
   "metadata": {},
   "outputs": [
    {
     "data": {
      "text/plain": [
       "<Axes: xlabel='vendor_inco_term'>"
      ]
     },
     "execution_count": 47,
     "metadata": {},
     "output_type": "execute_result"
    },
    {
     "data": {
      "image/png": "[encoded data removed]",
      "text/plain": [
       "<Figure size 640x480 with 1 Axes>"
      ]
     },
     "metadata": {},
     "output_type": "display_data"
    }
   ],
   "source": [
    "props.plot(kind='bar', stacked=True)"
   ]
  },
  {
   "cell_type": "markdown",
   "id": "c1067857-5f4c-4d86-82e1-de69cc50969c",
   "metadata": {},
   "source": [
    "- Perform a chi-square test of independence on `freight_cost_group` and `vendor_inco_term` in the `late_shipments` dataset.\n",
    "\n"
   ]
  },
  {
   "cell_type": "code",
   "execution_count": 49,
   "id": "6abcc7c0-b996-4fee-95f9-58eec848d723",
   "metadata": {},
   "outputs": [
    {
     "data": {
      "text/html": [
       "<div>\n",
       "<style scoped>\n",
       "    .dataframe tbody tr th:only-of-type {\n",
       "        vertical-align: middle;\n",
       "    }\n",
       "\n",
       "    .dataframe tbody tr th {\n",
       "        vertical-align: top;\n",
       "    }\n",
       "\n",
       "    .dataframe thead th {\n",
       "        text-align: right;\n",
       "    }\n",
       "</style>\n",
       "<table border=\"1\" class=\"dataframe\">\n",
       "  <thead>\n",
       "    <tr style=\"text-align: right;\">\n",
       "      <th></th>\n",
       "      <th>test</th>\n",
       "      <th>lambda</th>\n",
       "      <th>chi2</th>\n",
       "      <th>dof</th>\n",
       "      <th>pval</th>\n",
       "      <th>cramer</th>\n",
       "      <th>power</th>\n",
       "    </tr>\n",
       "  </thead>\n",
       "  <tbody>\n",
       "    <tr>\n",
       "      <th>0</th>\n",
       "      <td>pearson</td>\n",
       "      <td>1.0</td>\n",
       "      <td>28.940828</td>\n",
       "      <td>3.0</td>\n",
       "      <td>0.000002</td>\n",
       "      <td>0.170205</td>\n",
       "      <td>0.99775</td>\n",
       "    </tr>\n",
       "  </tbody>\n",
       "</table>\n",
       "</div>"
      ],
      "text/plain": [
       "      test  lambda       chi2  dof      pval    cramer    power\n",
       "0  pearson     1.0  28.940828  3.0  0.000002  0.170205  0.99775"
      ]
     },
     "execution_count": 49,
     "metadata": {},
     "output_type": "execute_result"
    }
   ],
   "source": [
    "exp, obs, stats = pingouin.chi2_independence(data=late_shipments,\n",
    "                                             x='freight_cost_group',\n",
    "                                             y='vendor_inco_term')\n",
    "stats[stats['test'] == 'pearson']"
   ]
  },
  {
   "cell_type": "markdown",
   "id": "1219a861-ea4e-4a01-b058-4541df980917",
   "metadata": {},
   "source": [
    "Reject the null hypothesis and conclude that `vendor_inco_term` and `freight_cost_group` are associated."
   ]
  },
  {
   "cell_type": "code",
   "execution_count": null,
   "id": "50ef806f-22ff-4830-bc70-70dd528c6ca4",
   "metadata": {},
   "outputs": [],
   "source": []
  }
 ],
 "metadata": {
  "kernelspec": {
   "display_name": "Python 3 (ipykernel)",
   "language": "python",
   "name": "python3"
  },
  "language_info": {
   "codemirror_mode": {
    "name": "ipython",
    "version": 3
   },
   "file_extension": ".py",
   "mimetype": "text/x-python",
   "name": "python",
   "nbconvert_exporter": "python",
   "pygments_lexer": "ipython3",
   "version": "3.11.7"
  }
 },
 "nbformat": 4,
 "nbformat_minor": 5
}
