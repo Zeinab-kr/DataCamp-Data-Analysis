{
 "cells": [
  {
   "cell_type": "markdown",
   "id": "8d6791a3-b6bd-4cd1-941f-55d0216d840c",
   "metadata": {},
   "source": [
    "\n",
    "#  proportions_ztest() for two samples\n",
    "\n",
    "##  Assignment \n",
    "\n",
    "That took a lot of effort to calculate the p-value, so while it is useful to see how the calculations work, it isn't practical to do in real-world analyses. For daily usage, it's better to use the `statsmodels` package.\n",
    "\n",
    "Recall the hypotheses.\n",
    "\n",
    "\\(H_{0}\\): \\(late_{\\text{expensive}} -  late_{\\text{reasonable}} = 0\\) \n",
    "\n",
    "\\(H_{A}\\): \\(late_{\\text{expensive}} -  late_{\\text{reasonable}} &gt; 0\\)\n",
    "\n",
    "`late_shipments` is available, containing the `freight_cost_group` column. `numpy` and `pandas` have been loaded under their standard aliases, and `proportions_ztest` has been loaded from `statsmodels.stats.proportion`.\n",
    "\n",
    "##  Pre exercise code \n",
    "\n",
    "```\n",
    "import pandas as pd\n",
    "import numpy as np\n",
    "from statsmodels.stats.proportion import proportions_ztest\n",
    "late_shipments = pd.read_feather(\n",
    "  path = \"/usr/local/share/datasets/late_shipments.feather\"\n",
    ")\n",
    "late_shipments['freight_cost_group'] = np.where(late_shipments['freight_cost_usd'] <= 5000, \"reasonable\", \"expensive\")\n",
    "```\n"
   ]
  },
  {
   "cell_type": "code",
   "execution_count": 29,
   "id": "98369e89-fe54-4734-8716-012c2b76be1d",
   "metadata": {},
   "outputs": [],
   "source": [
    "import pandas as pd\n",
    "import numpy as np\n",
    "from statsmodels.stats.proportion import proportions_ztest\n",
    "late_shipments = pd.read_feather(\n",
    "  path = \"late_shipments.feather\"\n",
    ")\n",
    "late_shipments['freight_cost_group'] = np.where(late_shipments['freight_cost_usd'] <= 5000, \"reasonable\", \"expensive\")"
   ]
  },
  {
   "cell_type": "code",
   "execution_count": 30,
   "id": "d5ffc72e-2dae-405b-93a4-214b6461f51b",
   "metadata": {},
   "outputs": [
    {
     "data": {
      "text/html": [
       "<div>\n",
       "<style scoped>\n",
       "    .dataframe tbody tr th:only-of-type {\n",
       "        vertical-align: middle;\n",
       "    }\n",
       "\n",
       "    .dataframe tbody tr th {\n",
       "        vertical-align: top;\n",
       "    }\n",
       "\n",
       "    .dataframe thead th {\n",
       "        text-align: right;\n",
       "    }\n",
       "</style>\n",
       "<table border=\"1\" class=\"dataframe\">\n",
       "  <thead>\n",
       "    <tr style=\"text-align: right;\">\n",
       "      <th></th>\n",
       "      <th>id</th>\n",
       "      <th>country</th>\n",
       "      <th>managed_by</th>\n",
       "      <th>fulfill_via</th>\n",
       "      <th>vendor_inco_term</th>\n",
       "      <th>shipment_mode</th>\n",
       "      <th>late_delivery</th>\n",
       "      <th>late</th>\n",
       "      <th>product_group</th>\n",
       "      <th>sub_classification</th>\n",
       "      <th>...</th>\n",
       "      <th>line_item_value</th>\n",
       "      <th>pack_price</th>\n",
       "      <th>unit_price</th>\n",
       "      <th>manufacturing_site</th>\n",
       "      <th>first_line_designation</th>\n",
       "      <th>weight_kilograms</th>\n",
       "      <th>freight_cost_usd</th>\n",
       "      <th>freight_cost_groups</th>\n",
       "      <th>line_item_insurance_usd</th>\n",
       "      <th>freight_cost_group</th>\n",
       "    </tr>\n",
       "  </thead>\n",
       "  <tbody>\n",
       "    <tr>\n",
       "      <th>0</th>\n",
       "      <td>36203.0</td>\n",
       "      <td>Nigeria</td>\n",
       "      <td>PMO - US</td>\n",
       "      <td>Direct Drop</td>\n",
       "      <td>EXW</td>\n",
       "      <td>Air</td>\n",
       "      <td>1.0</td>\n",
       "      <td>Yes</td>\n",
       "      <td>HRDT</td>\n",
       "      <td>HIV test</td>\n",
       "      <td>...</td>\n",
       "      <td>266644.0</td>\n",
       "      <td>89.0</td>\n",
       "      <td>0.89</td>\n",
       "      <td>Alere Medical Co., Ltd.</td>\n",
       "      <td>Yes</td>\n",
       "      <td>1426.0</td>\n",
       "      <td>33279.83</td>\n",
       "      <td>expensive</td>\n",
       "      <td>373.83</td>\n",
       "      <td>expensive</td>\n",
       "    </tr>\n",
       "  </tbody>\n",
       "</table>\n",
       "<p>1 rows × 28 columns</p>\n",
       "</div>"
      ],
      "text/plain": [
       "        id  country managed_by  fulfill_via vendor_inco_term shipment_mode  \\\n",
       "0  36203.0  Nigeria   PMO - US  Direct Drop              EXW           Air   \n",
       "\n",
       "   late_delivery late product_group sub_classification  ... line_item_value  \\\n",
       "0            1.0  Yes          HRDT           HIV test  ...        266644.0   \n",
       "\n",
       "  pack_price unit_price       manufacturing_site first_line_designation  \\\n",
       "0       89.0       0.89  Alere Medical Co., Ltd.                    Yes   \n",
       "\n",
       "  weight_kilograms  freight_cost_usd  freight_cost_groups  \\\n",
       "0           1426.0          33279.83            expensive   \n",
       "\n",
       "   line_item_insurance_usd  freight_cost_group  \n",
       "0                   373.83           expensive  \n",
       "\n",
       "[1 rows x 28 columns]"
      ]
     },
     "execution_count": 30,
     "metadata": {},
     "output_type": "execute_result"
    }
   ],
   "source": [
    "late_shipments.head(1)"
   ]
  },
  {
   "cell_type": "markdown",
   "id": "4c91f817-ecb5-48bd-8144-08c00d7a0671",
   "metadata": {},
   "source": [
    "##  Instructions \n",
    "\n",
    "- Get the counts of the `late` column grouped by `freight_cost_group`.\n",
    "\n"
   ]
  },
  {
   "cell_type": "code",
   "execution_count": 31,
   "id": "f795a9a3-0922-4315-9a8c-f525ea16d234",
   "metadata": {},
   "outputs": [
    {
     "data": {
      "text/plain": [
       "freight_cost_group\n",
       "expensive     545\n",
       "reasonable    455\n",
       "Name: late, dtype: int64"
      ]
     },
     "execution_count": 31,
     "metadata": {},
     "output_type": "execute_result"
    }
   ],
   "source": [
    "counts = late_shipments.groupby('freight_cost_group')['late'].count()\n",
    "counts"
   ]
  },
  {
   "cell_type": "markdown",
   "id": "1f212d25-d0e9-4e53-b5bb-fddd2ad492f1",
   "metadata": {},
   "source": [
    "- Extract the number of `\"Yes\"`'s for the two `freight_cost_group` into a `numpy` array, specifying the `'expensive'` count and then `'reasonable'`.\n",
    "- Determine the overall number of rows in each `freight_cost_group` as a `numpy` array, specifying the `'expensive'` count and then `'reasonable'`.\n",
    "- Run a z-test using `proportions_ztest()`, specifying `alternative` as `\"larger\"`.\n"
   ]
  },
  {
   "cell_type": "code",
   "execution_count": 35,
   "id": "8aaab838-40ca-415c-9ee4-cd2305824eca",
   "metadata": {},
   "outputs": [
    {
     "data": {
      "text/plain": [
       "array([45, 16])"
      ]
     },
     "execution_count": 35,
     "metadata": {},
     "output_type": "execute_result"
    }
   ],
   "source": [
    "success_counts = np.array([len(late_shipments.query('(freight_cost_group == \"expensive\") & (late == \"Yes\")')),\n",
    "                          len(late_shipments.query('(freight_cost_group == \"reasonable\") & (late == \"Yes\")'))])\n",
    "success_counts"
   ]
  },
  {
   "cell_type": "code",
   "execution_count": 37,
   "id": "623c0b1b-1beb-44a0-8b3c-8d9445f40709",
   "metadata": {},
   "outputs": [
    {
     "data": {
      "text/plain": [
       "array([545, 455], dtype=int64)"
      ]
     },
     "execution_count": 37,
     "metadata": {},
     "output_type": "execute_result"
    }
   ],
   "source": [
    "n = np.array([counts['expensive'], counts['reasonable']])\n",
    "n"
   ]
  },
  {
   "cell_type": "code",
   "execution_count": 38,
   "id": "af67e0c8-e3bc-4634-9c33-fbc03a90cde9",
   "metadata": {},
   "outputs": [
    {
     "data": {
      "text/plain": [
       "0.0009072060637051224"
      ]
     },
     "execution_count": 38,
     "metadata": {},
     "output_type": "execute_result"
    }
   ],
   "source": [
    "z_score, p_value = proportions_ztest(count=success_counts, nobs=n, alternative='larger')\n",
    "p_value"
   ]
  },
  {
   "cell_type": "code",
   "execution_count": null,
   "id": "b1065411-6c48-470e-ae2c-0c0f08e0f0c4",
   "metadata": {},
   "outputs": [],
   "source": []
  }
 ],
 "metadata": {
  "kernelspec": {
   "display_name": "Python 3 (ipykernel)",
   "language": "python",
   "name": "python3"
  },
  "language_info": {
   "codemirror_mode": {
    "name": "ipython",
    "version": 3
   },
   "file_extension": ".py",
   "mimetype": "text/x-python",
   "name": "python",
   "nbconvert_exporter": "python",
   "pygments_lexer": "ipython3",
   "version": "3.11.7"
  }
 },
 "nbformat": 4,
 "nbformat_minor": 5
}
