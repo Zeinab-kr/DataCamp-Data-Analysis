{
 "cells": [
  {
   "cell_type": "markdown",
   "id": "c0728562-d65a-45d8-aa1b-bbe46fafb972",
   "metadata": {},
   "source": [
    "\n",
    "#  Test for single proportions\n",
    "\n",
    "##  Assignment \n",
    "\n",
    "In Chapter 1, you calculated a p-value for a test hypothesizing that the proportion of late shipments was **greater than** 6%. In that chapter, you used a bootstrap distribution to estimate the standard error of the statistic. An alternative is to use an equation for the standard error based on the sample proportion, hypothesized proportion, and sample size.\n",
    "\n",
    "\\(z = \\dfrac{\\hat{p} - p_{0}}{\\sqrt{\\dfrac{p_{0}*(1-p_{0})}{n}}}\\)\n",
    "\n",
    "You'll revisit the p-value using this simpler calculation.\n",
    "\n",
    "`late_shipments` is available. `pandas` and `numpy` are available under their usual aliases, and `norm` is loaded from `scipy.stats`.\n",
    "\n",
    "##  Pre exercise code \n",
    "\n",
    "```\n",
    "import pandas as pd\n",
    "import numpy as np\n",
    "from scipy.stats import norm\n",
    "late_shipments = pd.read_feather(\n",
    "  path = \"/usr/local/share/datasets/late_shipments.feather\"\n",
    ")\n",
    "```"
   ]
  },
  {
   "cell_type": "code",
   "execution_count": 1,
   "id": "08ef1f69-a71e-463f-94eb-424bbe00d1a0",
   "metadata": {},
   "outputs": [],
   "source": [
    "import pandas as pd\n",
    "import numpy as np\n",
    "from scipy.stats import norm\n",
    "late_shipments = pd.read_feather(\n",
    "  path = \"late_shipments.feather\"\n",
    ")"
   ]
  },
  {
   "cell_type": "code",
   "execution_count": 2,
   "id": "cedd57e3-5bb5-42a3-955b-40712157a250",
   "metadata": {},
   "outputs": [
    {
     "data": {
      "text/html": [
       "<div>\n",
       "<style scoped>\n",
       "    .dataframe tbody tr th:only-of-type {\n",
       "        vertical-align: middle;\n",
       "    }\n",
       "\n",
       "    .dataframe tbody tr th {\n",
       "        vertical-align: top;\n",
       "    }\n",
       "\n",
       "    .dataframe thead th {\n",
       "        text-align: right;\n",
       "    }\n",
       "</style>\n",
       "<table border=\"1\" class=\"dataframe\">\n",
       "  <thead>\n",
       "    <tr style=\"text-align: right;\">\n",
       "      <th></th>\n",
       "      <th>id</th>\n",
       "      <th>country</th>\n",
       "      <th>managed_by</th>\n",
       "      <th>fulfill_via</th>\n",
       "      <th>vendor_inco_term</th>\n",
       "      <th>shipment_mode</th>\n",
       "      <th>late_delivery</th>\n",
       "      <th>late</th>\n",
       "      <th>product_group</th>\n",
       "      <th>sub_classification</th>\n",
       "      <th>...</th>\n",
       "      <th>line_item_quantity</th>\n",
       "      <th>line_item_value</th>\n",
       "      <th>pack_price</th>\n",
       "      <th>unit_price</th>\n",
       "      <th>manufacturing_site</th>\n",
       "      <th>first_line_designation</th>\n",
       "      <th>weight_kilograms</th>\n",
       "      <th>freight_cost_usd</th>\n",
       "      <th>freight_cost_groups</th>\n",
       "      <th>line_item_insurance_usd</th>\n",
       "    </tr>\n",
       "  </thead>\n",
       "  <tbody>\n",
       "    <tr>\n",
       "      <th>0</th>\n",
       "      <td>36203.0</td>\n",
       "      <td>Nigeria</td>\n",
       "      <td>PMO - US</td>\n",
       "      <td>Direct Drop</td>\n",
       "      <td>EXW</td>\n",
       "      <td>Air</td>\n",
       "      <td>1.0</td>\n",
       "      <td>Yes</td>\n",
       "      <td>HRDT</td>\n",
       "      <td>HIV test</td>\n",
       "      <td>...</td>\n",
       "      <td>2996.0</td>\n",
       "      <td>266644.0</td>\n",
       "      <td>89.0</td>\n",
       "      <td>0.89</td>\n",
       "      <td>Alere Medical Co., Ltd.</td>\n",
       "      <td>Yes</td>\n",
       "      <td>1426.0</td>\n",
       "      <td>33279.83</td>\n",
       "      <td>expensive</td>\n",
       "      <td>373.83</td>\n",
       "    </tr>\n",
       "  </tbody>\n",
       "</table>\n",
       "<p>1 rows × 27 columns</p>\n",
       "</div>"
      ],
      "text/plain": [
       "        id  country managed_by  fulfill_via vendor_inco_term shipment_mode  \\\n",
       "0  36203.0  Nigeria   PMO - US  Direct Drop              EXW           Air   \n",
       "\n",
       "   late_delivery late product_group sub_classification  ...  \\\n",
       "0            1.0  Yes          HRDT           HIV test  ...   \n",
       "\n",
       "  line_item_quantity line_item_value pack_price unit_price  \\\n",
       "0             2996.0        266644.0       89.0       0.89   \n",
       "\n",
       "        manufacturing_site first_line_designation  weight_kilograms  \\\n",
       "0  Alere Medical Co., Ltd.                    Yes            1426.0   \n",
       "\n",
       "   freight_cost_usd  freight_cost_groups  line_item_insurance_usd  \n",
       "0          33279.83            expensive                   373.83  \n",
       "\n",
       "[1 rows x 27 columns]"
      ]
     },
     "execution_count": 2,
     "metadata": {},
     "output_type": "execute_result"
    }
   ],
   "source": [
    "late_shipments.head(1)"
   ]
  },
  {
   "cell_type": "markdown",
   "id": "e58cd3e2-47a8-4b36-879c-a156b3b08457",
   "metadata": {},
   "source": [
    "##  Instructions \n",
    "\n",
    "- Hypothesize that the proportion of late shipments is 6%.\n",
    "- Calculate the sample proportion of shipments where `late` equals `\"Yes\"`.\n",
    "- Calculate the number of observations in the sample.\n"
   ]
  },
  {
   "cell_type": "code",
   "execution_count": 11,
   "id": "59287252-1946-4d3c-bd5e-f91cddf03a0a",
   "metadata": {},
   "outputs": [],
   "source": [
    "p_0 = 0.06"
   ]
  },
  {
   "cell_type": "code",
   "execution_count": 7,
   "id": "8331519a-fea3-405f-9645-9442f98f2be4",
   "metadata": {},
   "outputs": [
    {
     "data": {
      "text/plain": [
       "0.061"
      ]
     },
     "execution_count": 7,
     "metadata": {},
     "output_type": "execute_result"
    }
   ],
   "source": [
    "yes_prop = late_shipments['late'].value_counts(normalize=True)['Yes']\n",
    "yes_prop"
   ]
  },
  {
   "cell_type": "code",
   "execution_count": 8,
   "id": "a5b82856-6e0d-4b73-931c-d96b12afe108",
   "metadata": {},
   "outputs": [
    {
     "data": {
      "text/plain": [
       "1000"
      ]
     },
     "execution_count": 8,
     "metadata": {},
     "output_type": "execute_result"
    }
   ],
   "source": [
    "obs_num = late_shipments['late'].count()\n",
    "obs_num"
   ]
  },
  {
   "cell_type": "code",
   "execution_count": 9,
   "id": "bcb12d1a-e6f1-4a2b-aaeb-5eca08c09c84",
   "metadata": {},
   "outputs": [
    {
     "data": {
      "text/plain": [
       "0.061"
      ]
     },
     "execution_count": 9,
     "metadata": {},
     "output_type": "execute_result"
    }
   ],
   "source": [
    "p_hat = (late_shipments['late'] == \"Yes\").mean()\n",
    "p_hat"
   ]
  },
  {
   "cell_type": "code",
   "execution_count": 10,
   "id": "5e38dc12-4c5e-4daa-b52f-37eebba2c50c",
   "metadata": {},
   "outputs": [
    {
     "data": {
      "text/plain": [
       "1000"
      ]
     },
     "execution_count": 10,
     "metadata": {},
     "output_type": "execute_result"
    }
   ],
   "source": [
    "n = len(late_shipments)\n",
    "n"
   ]
  },
  {
   "cell_type": "markdown",
   "id": "e11bc82e-5d2a-460b-a59c-b244ad19bae2",
   "metadata": {},
   "source": [
    "\n",
    "- Calculate the numerator and denominator of the z-score.\n",
    "- Calculate the z-score as the ratio of these numbers.\n",
    "\n"
   ]
  },
  {
   "cell_type": "code",
   "execution_count": 12,
   "id": "e1df42f4-8a38-4801-93ad-9eeda757f6bd",
   "metadata": {},
   "outputs": [],
   "source": [
    "num = p_hat - p_0\n",
    "den = np.sqrt(p_0 * (1 - p_0) / n)"
   ]
  },
  {
   "cell_type": "code",
   "execution_count": 13,
   "id": "0c742cc8-dd8d-418d-81ac-3c290fddacf2",
   "metadata": {},
   "outputs": [
    {
     "data": {
      "text/plain": [
       "0.13315591032282698"
      ]
     },
     "execution_count": 13,
     "metadata": {},
     "output_type": "execute_result"
    }
   ],
   "source": [
    "z_score = num / den\n",
    "z_score"
   ]
  },
  {
   "cell_type": "markdown",
   "id": "afc94fe7-32b7-4b54-a17a-61adc2d60593",
   "metadata": {},
   "source": [
    "\n",
    "- Transform the z-score into a p-value, remembering that this is a \"greater than\" alternative hypothesis.\n",
    "\n"
   ]
  },
  {
   "cell_type": "code",
   "execution_count": 14,
   "id": "803123ec-7530-4b0e-9f4d-949a05876cda",
   "metadata": {},
   "outputs": [
    {
     "data": {
      "text/plain": [
       "0.44703503936503364"
      ]
     },
     "execution_count": 14,
     "metadata": {},
     "output_type": "execute_result"
    }
   ],
   "source": [
    "p_value = 1 - norm.cdf(z_score)\n",
    "p_value"
   ]
  },
  {
   "cell_type": "markdown",
   "id": "108bd2f1-9b13-4edc-bb2d-e3e0566b8636",
   "metadata": {},
   "source": [
    "**faiel to reject null hypothesis**"
   ]
  },
  {
   "cell_type": "code",
   "execution_count": null,
   "id": "5cd284a1-f060-4582-a088-5946cea4e45f",
   "metadata": {},
   "outputs": [],
   "source": []
  }
 ],
 "metadata": {
  "kernelspec": {
   "display_name": "Python 3 (ipykernel)",
   "language": "python",
   "name": "python3"
  },
  "language_info": {
   "codemirror_mode": {
    "name": "ipython",
    "version": 3
   },
   "file_extension": ".py",
   "mimetype": "text/x-python",
   "name": "python",
   "nbconvert_exporter": "python",
   "pygments_lexer": "ipython3",
   "version": "3.11.7"
  }
 },
 "nbformat": 4,
 "nbformat_minor": 5
}
