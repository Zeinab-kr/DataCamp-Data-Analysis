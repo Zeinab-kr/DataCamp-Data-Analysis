{
 "cells": [
  {
   "cell_type": "markdown",
   "id": "b12b8265-c00b-4ecc-adc4-ccac56b7792e",
   "metadata": {},
   "source": [
    "\n",
    "#  Test of two proportions\n",
    "\n",
    "##  Assignment \n",
    "\n",
    "You may wonder if the amount paid for freight affects whether or not the shipment was late. Recall that in the `late_shipments` dataset, whether or not the shipment was late is stored in the `late` column. Freight costs are stored in the `freight_cost_group` column, and the categories are `\"expensive\"` and `\"reasonable\"`.\n",
    "\n",
    "The hypotheses to test, with `\"late\"` corresponding to the proportion of late shipments for that group, are\n",
    "\n",
    "\\(H_{0}\\): \\(late_{\\text{expensive}} -  late_{\\text{reasonable}} = 0\\) \n",
    "\n",
    "\\(H_{A}\\): \\(late_{\\text{expensive}} -  late_{\\text{reasonable}} &gt; 0\\)\n",
    "\n",
    "`p_hats` contains the estimates of population proportions (sample proportions) for each `freight_cost_group`:\n",
    "\n",
    "```\n",
    "freight_cost_group  late\n",
    "expensive           Yes     0.082569\n",
    "reasonable          Yes     0.035165\n",
    "Name: late, dtype: float64\n",
    "\n",
    "```\n",
    "\n",
    "`ns` contains the sample sizes for these groups:\n",
    "\n",
    "```\n",
    "freight_cost_group\n",
    "expensive     545\n",
    "reasonable    455\n",
    "Name: late, dtype: int64\n",
    "\n",
    "```\n",
    "\n",
    "`pandas` and `numpy` have been imported under their usual aliases, and `norm` is available from `scipy.stats`.\n",
    "\n",
    "##  Pre exercise code \n",
    "\n",
    "```\n",
    "import pandas as pd\n",
    "import numpy as np\n",
    "from scipy.stats import norm\n",
    "late_shipments = pd.read_feather(\n",
    "  path = \"/usr/local/share/datasets/late_shipments.feather\"\n",
    ")\n",
    "late_shipments['freight_cost_group'] = np.where(late_shipments['freight_cost_usd'] <= 5000, \"reasonable\", \"expensive\")\n",
    "\n",
    "p_hats = late_shipments.groupby(\"freight_cost_group\")['late'].value_counts(normalize=True)\n",
    "p_hats = p_hats[p_hats<0.5]\n",
    "ns = late_shipments.groupby(\"freight_cost_group\")['late'].count()\n",
    "```\n"
   ]
  },
  {
   "cell_type": "code",
   "execution_count": 15,
   "id": "4a958092-fbfa-416a-a928-d4a87a581916",
   "metadata": {},
   "outputs": [],
   "source": [
    "import pandas as pd\n",
    "import numpy as np\n",
    "from scipy.stats import norm\n",
    "late_shipments = pd.read_feather(\n",
    "  path = \"late_shipments.feather\"\n",
    ")\n",
    "late_shipments['freight_cost_group'] = np.where(late_shipments['freight_cost_usd'] <= 5000, \"reasonable\", \"expensive\")\n",
    "\n",
    "p_hats = late_shipments.groupby(\"freight_cost_group\")['late'].value_counts(normalize=True)\n",
    "p_hats = p_hats[p_hats<0.5]\n",
    "ns = late_shipments.groupby(\"freight_cost_group\")['late'].count()"
   ]
  },
  {
   "cell_type": "code",
   "execution_count": 16,
   "id": "09431acb-d39c-492a-ae19-6d086c449d65",
   "metadata": {},
   "outputs": [
    {
     "data": {
      "text/plain": [
       "freight_cost_group  late\n",
       "expensive           Yes     0.082569\n",
       "reasonable          Yes     0.035165\n",
       "Name: proportion, dtype: float64"
      ]
     },
     "execution_count": 16,
     "metadata": {},
     "output_type": "execute_result"
    }
   ],
   "source": [
    "p_hats"
   ]
  },
  {
   "cell_type": "code",
   "execution_count": 17,
   "id": "b5597c2f-4661-4a05-99a6-020bdb529b68",
   "metadata": {},
   "outputs": [
    {
     "data": {
      "text/plain": [
       "freight_cost_group\n",
       "expensive     545\n",
       "reasonable    455\n",
       "Name: late, dtype: int64"
      ]
     },
     "execution_count": 17,
     "metadata": {},
     "output_type": "execute_result"
    }
   ],
   "source": [
    "ns"
   ]
  },
  {
   "cell_type": "markdown",
   "id": "38c1e260-c2a7-480c-9f57-b611e1c9677e",
   "metadata": {},
   "source": [
    "##  Instructions \n",
    "\n",
    "- Calculate the pooled sample proportion, \\(\\hat{p}\\), from `p_hats` and `ns`.\n",
    "\n",
    "$$\n",
    "\\hat{p} = \\frac{n_{\\text{expensive}} \\times \\hat{p}_{\\text{expensive}} + n_{\\text{reasonable}} \\times \\hat{p}_{\\text{reasonable}}}{n_{\\text{expensive}} + n_{\\text{reasonable}}}\n",
    "$$\n",
    "\n"
   ]
  },
  {
   "cell_type": "code",
   "execution_count": 23,
   "id": "c77cc91c-a643-47b7-9be5-aa346ebe0313",
   "metadata": {},
   "outputs": [
    {
     "data": {
      "text/plain": [
       "late\n",
       "Yes    0.061\n",
       "Name: proportion, dtype: float64"
      ]
     },
     "execution_count": 23,
     "metadata": {},
     "output_type": "execute_result"
    }
   ],
   "source": [
    "p_hat = (ns['expensive'] * p_hats['expensive'] + ns['reasonable'] * p_hats['reasonable']) / (ns['expensive'] + ns['reasonable'])\n",
    "p_hat"
   ]
  },
  {
   "cell_type": "markdown",
   "id": "c74e5781-41e8-4aec-af9c-f39b5502ca77",
   "metadata": {},
   "source": [
    "Calculate the standard error of the sample **using this equation.**\n",
    "\n",
    "$$\n",
    "\\text{SE}(\\hat{p}_{\\text{expensive}} - \\hat{p}_{\\text{reasonable}}) = \\sqrt{\\dfrac{\\hat{p} \\times (1 - \\hat{p})}{n_{\\text{expensive}}} + \\dfrac{\\hat{p} \\times (1 - \\hat{p})}{n_{\\text{reasonable}}}}\n",
    "$$\n",
    "\n",
    "- Calculate `p_hat` multiplied by `(1 - p_hat)`.\n",
    "- Divide `p_hat_times_not_p_hat` by the number of `\"reasonable\"` rows and by the number of `\"expensive\"` rows, and sum those two values.\n",
    "- Calculate `std_error` by taking the square root of `p_hat_times_not_p_hat_over_ns`.\n",
    "\n"
   ]
  },
  {
   "cell_type": "code",
   "execution_count": 25,
   "id": "38b7b1d9-b0a8-4179-abd2-872ddefcd707",
   "metadata": {},
   "outputs": [
    {
     "data": {
      "text/plain": [
       "late\n",
       "Yes    0.015198\n",
       "Name: proportion, dtype: float64"
      ]
     },
     "execution_count": 25,
     "metadata": {},
     "output_type": "execute_result"
    }
   ],
   "source": [
    "std_error = np.sqrt(p_hat * (1 - p_hat) / ns['expensive'] + p_hat * (1 - p_hat) / ns['reasonable'])\n",
    "std_error"
   ]
  },
  {
   "cell_type": "markdown",
   "id": "c740f701-a18f-4d17-9279-e2487491e0c9",
   "metadata": {},
   "source": [
    "\n",
    "- Calculate the z-score **using the following equation.**\n",
    "\n",
    "$$\n",
    "z = \\frac{(\\hat{p}_{\\text{expensive}} - \\hat{p}_{\\text{reasonable}})}{\\text{SE}(\\hat{p}_{\\text{expensive}} - \\hat{p}_{\\text{reasonable}})}\n",
    "$$\n",
    "\n"
   ]
  },
  {
   "cell_type": "code",
   "execution_count": 26,
   "id": "036dd4f4-eb08-497c-917c-ac6e43cf2997",
   "metadata": {},
   "outputs": [
    {
     "data": {
      "text/plain": [
       "late\n",
       "Yes    3.11904\n",
       "Name: proportion, dtype: float64"
      ]
     },
     "execution_count": 26,
     "metadata": {},
     "output_type": "execute_result"
    }
   ],
   "source": [
    "z_score = (p_hats['expensive'] - p_hats['reasonable']) / std_error\n",
    "z_score"
   ]
  },
  {
   "cell_type": "markdown",
   "id": "a2f6cdd1-cfcf-4858-815d-672215b1bf21",
   "metadata": {},
   "source": [
    "\n",
    "- Calculate the p-value from the z-score.\n"
   ]
  },
  {
   "cell_type": "code",
   "execution_count": 28,
   "id": "a786e725-719b-44bb-bee6-9fa27fca9371",
   "metadata": {},
   "outputs": [
    {
     "data": {
      "text/plain": [
       "0.0009072060637050905"
      ]
     },
     "execution_count": 28,
     "metadata": {},
     "output_type": "execute_result"
    }
   ],
   "source": [
    "p_value = 1 - norm.cdf(z_score)\n",
    "p_value = p_value[0]\n",
    "p_value"
   ]
  },
  {
   "cell_type": "code",
   "execution_count": null,
   "id": "3e33d951-df6e-463a-bed7-2c1d03010a85",
   "metadata": {},
   "outputs": [],
   "source": []
  }
 ],
 "metadata": {
  "kernelspec": {
   "display_name": "Python 3 (ipykernel)",
   "language": "python",
   "name": "python3"
  },
  "language_info": {
   "codemirror_mode": {
    "name": "ipython",
    "version": 3
   },
   "file_extension": ".py",
   "mimetype": "text/x-python",
   "name": "python",
   "nbconvert_exporter": "python",
   "pygments_lexer": "ipython3",
   "version": "3.11.7"
  }
 },
 "nbformat": 4,
 "nbformat_minor": 5
}
