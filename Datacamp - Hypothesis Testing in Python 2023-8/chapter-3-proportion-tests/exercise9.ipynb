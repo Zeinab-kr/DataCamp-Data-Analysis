{
 "cells": [
  {
   "cell_type": "markdown",
   "id": "a62f9284-9332-4738-8ec9-98653bf78091",
   "metadata": {},
   "source": [
    "\n",
    "#  Performing a goodness of fit test\n",
    "\n",
    "\n",
    "##  Assignment \n",
    "\n",
    "The bar plot of `vendor_inco_term` suggests that the distribution across the four categories was quite close to the hypothesized distribution. You'll need to perform a **chi-square goodness of fit test** to see whether the differences are statistically significant.\n",
    "\n",
    "Recall the hypotheses for this type of test:\n",
    "\n",
    "\\(H_{0}\\): The sample matches with the hypothesized distribution.\n",
    "\n",
    "\\(H_{A}\\): The sample does not match with the hypothesized distribution. \n",
    "\n",
    "To decide which hypothesis to choose, we'll set a significance level of `0.1`.\n",
    "\n",
    "`late_shipments`, `incoterm_counts`, and `hypothesized` from the last exercise are available. `chisquare` from `scipy.stats` has been loaded.\n",
    "\n",
    "##  Pre exercise code \n",
    "\n",
    "```\n",
    "import pandas as pd\n",
    "import numpy as np\n",
    "import matplotlib.pyplot as plt\n",
    "from scipy.stats import chisquare\n",
    "late_shipments = pd.read_feather(\n",
    "  path = \"/usr/local/share/datasets/late_shipments.feather\"\n",
    ")\n",
    "late_shipments['freight_cost_group'] = np.where(late_shipments['freight_cost_usd'] <= 5000, \"reasonable\", \"expensive\")\n",
    "late_shipments = late_shipments[late_shipments['vendor_inco_term'] != \"DDU\"]\n",
    "\n",
    "hypothesized = pd.DataFrame({\n",
    "  'vendor_inco_term': ['EXW', 'CIP', 'DDP', 'FCA'], \n",
    "  'prop': [0.75, 0.05, 0.1, 0.1]}).sort_values('vendor_inco_term')\n",
    "\n",
    "incoterm_counts = late_shipments['vendor_inco_term'].value_counts().rename_axis('vendor_inco_term').reset_index(name='n').sort_values('vendor_inco_term')\n",
    "\n",
    "# From previous exercise\n",
    "# Find the number of rows in late_shipments\n",
    "n_total = len(late_shipments)\n",
    "\n",
    "# Create n column that is prop column * n_total\n",
    "hypothesized[\"n\"] = hypothesized[\"prop\"] * n_total\n",
    "\n",
    "# Plot a red bar graph of n vs. vendor_inco_term for incoterm_counts\n",
    "plt.bar(incoterm_counts['vendor_inco_term'], incoterm_counts['n'], color=\"red\", label=\"Observed\")\n",
    "\n",
    "# Add a blue bar plot for the hypothesized counts\n",
    "plt.bar(hypothesized['vendor_inco_term'], hypothesized['n'], alpha=0.5, color=\"blue\", label=\"Hypothesized\")\n",
    "plt.legend()\n",
    "plt.show()\n",
    "```\n",
    "\n"
   ]
  },
  {
   "cell_type": "code",
   "execution_count": 56,
   "id": "a18ca730-72a8-476c-aa5d-da419895672c",
   "metadata": {},
   "outputs": [
    {
     "data": {
      "text/plain": [
       "<matplotlib.legend.Legend at 0x21b12fa7c10>"
      ]
     },
     "execution_count": 56,
     "metadata": {},
     "output_type": "execute_result"
    },
    {
     "data": {
      "image/png": "[encoded data removed]",
      "text/plain": [
       "<Figure size 640x480 with 1 Axes>"
      ]
     },
     "metadata": {},
     "output_type": "display_data"
    }
   ],
   "source": [
    "import pandas as pd\n",
    "import numpy as np\n",
    "import matplotlib.pyplot as plt\n",
    "from scipy.stats import chisquare\n",
    "late_shipments = pd.read_feather(\n",
    "  path = \"late_shipments.feather\"\n",
    ")\n",
    "late_shipments['freight_cost_group'] = np.where(late_shipments['freight_cost_usd'] <= 5000, \"reasonable\", \"expensive\")\n",
    "late_shipments = late_shipments[late_shipments['vendor_inco_term'] != \"DDU\"]\n",
    "\n",
    "hypothesized = pd.DataFrame({\n",
    "  'vendor_inco_term': ['EXW', 'CIP', 'DDP', 'FCA'], \n",
    "  'prop': [0.75, 0.05, 0.1, 0.1]}).sort_values('vendor_inco_term')\n",
    "\n",
    "incoterm_counts = late_shipments['vendor_inco_term'].value_counts().rename_axis('vendor_inco_term').reset_index(name='n').sort_values('vendor_inco_term')\n",
    "\n",
    "# From previous exercise\n",
    "# Find the number of rows in late_shipments\n",
    "n_total = len(late_shipments)\n",
    "\n",
    "# Create n column that is prop column * n_total\n",
    "hypothesized[\"n\"] = hypothesized[\"prop\"] * n_total\n",
    "\n",
    "# Plot a red bar graph of n vs. vendor_inco_term for incoterm_counts\n",
    "plt.bar(incoterm_counts['vendor_inco_term'], incoterm_counts['n'], color=\"red\", label=\"Observed\")\n",
    "\n",
    "# Add a blue bar plot for the hypothesized counts\n",
    "plt.bar(hypothesized['vendor_inco_term'], hypothesized['n'], alpha=0.5, color=\"blue\", label=\"Hypothesized\")\n",
    "plt.legend()"
   ]
  },
  {
   "cell_type": "markdown",
   "id": "0c4a3d70-1d1f-45e8-bc61-189cf2bf6213",
   "metadata": {},
   "source": [
    "##  Instructions \n",
    "\n",
    "- Using the `incoterm_counts` and `hypothesized` datasets, perform a chi-square goodness of fit test on the incoterm counts, `n`.\n"
   ]
  },
  {
   "cell_type": "code",
   "execution_count": 57,
   "id": "d9a95a4a-0347-4b88-8e2d-f6da7cb8298f",
   "metadata": {},
   "outputs": [
    {
     "data": {
      "text/plain": [
       "Power_divergenceResult(statistic=2.3633633633633613, pvalue=0.5004909543758687)"
      ]
     },
     "execution_count": 57,
     "metadata": {},
     "output_type": "execute_result"
    }
   ],
   "source": [
    "chisquare(f_obs=incoterm_counts['n'], f_exp=hypothesized['n'])"
   ]
  },
  {
   "cell_type": "code",
   "execution_count": null,
   "id": "e3b2f2e3-eace-4dc0-bb82-3d0b8f6fdc0b",
   "metadata": {},
   "outputs": [],
   "source": []
  }
 ],
 "metadata": {
  "kernelspec": {
   "display_name": "Python 3 (ipykernel)",
   "language": "python",
   "name": "python3"
  },
  "language_info": {
   "codemirror_mode": {
    "name": "ipython",
    "version": 3
   },
   "file_extension": ".py",
   "mimetype": "text/x-python",
   "name": "python",
   "nbconvert_exporter": "python",
   "pygments_lexer": "ipython3",
   "version": "3.11.7"
  }
 },
 "nbformat": 4,
 "nbformat_minor": 5
}
