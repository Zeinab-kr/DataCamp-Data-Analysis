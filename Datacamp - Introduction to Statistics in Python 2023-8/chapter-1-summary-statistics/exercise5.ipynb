{
 "cells": [
  {
   "cell_type": "markdown",
   "id": "127dc562-a476-42d1-8655-65109a7c4ee6",
   "metadata": {},
   "source": [
    "\n",
    "#  Quartiles, quantiles, and quintiles\n",
    "\n",
    "##  Assignment \n",
    "\n",
    "Quantiles are a great way of summarizing numerical data since they can be used to measure center and spread, as well as to get a sense of where a data point stands in relation to the rest of the data set. For example, you might want to give a discount to the 10% most active users on a website.\n",
    "\n",
    "In this exercise, you'll calculate quartiles, quintiles, and deciles, which split up a dataset into 4, 5, and 10 pieces, respectively. \n",
    "\n",
    "Both `pandas` as `pd` and `numpy` as `np` are loaded and `food_consumption` is available.\n",
    "\n",
    "##  Pre exercise code \n",
    "\n",
    "```\n",
    "import pandas as pd\n",
    "import numpy as np\n",
    "food_consumption = pd.read_csv('https://assets.datacamp.com/production/repositories/5786/datasets/49f6356966016c70a9f63a0474942675377bdcf2/food_consumption.csv')\n",
    "```\n"
   ]
  },
  {
   "cell_type": "code",
   "execution_count": 24,
   "id": "b11f05ca-b206-4601-adfb-ba6f912623ce",
   "metadata": {},
   "outputs": [],
   "source": [
    "import pandas as pd\n",
    "import numpy as np"
   ]
  },
  {
   "cell_type": "code",
   "execution_count": 25,
   "id": "452a6769-0451-42be-8bf6-9d18f8864087",
   "metadata": {},
   "outputs": [],
   "source": [
    "food_c = pd.read_csv('food_consumption.csv')"
   ]
  },
  {
   "cell_type": "markdown",
   "id": "572b7953-5cef-4c95-9070-2d4c7a9e9250",
   "metadata": {},
   "source": [
    "##  Instructions \n",
    "\n",
    "- Calculate the quartiles of the `co2_emission` column of `food_consumption`.\n"
   ]
  },
  {
   "cell_type": "code",
   "execution_count": 27,
   "id": "86431b7a-4d52-4cf7-b952-b01f8a1d4209",
   "metadata": {},
   "outputs": [
    {
     "data": {
      "text/plain": [
       "array([   0.    ,    5.21  ,   16.53  ,   62.5975, 1712.    ])"
      ]
     },
     "execution_count": 27,
     "metadata": {},
     "output_type": "execute_result"
    }
   ],
   "source": [
    "np.quantile(food_c['co2_emission'], np.linspace(0, 1, 5))"
   ]
  },
  {
   "cell_type": "markdown",
   "id": "6d2760c1-2d88-4887-9d22-a082f04a2a48",
   "metadata": {},
   "source": [
    "\n",
    "- Calculate the six quantiles that split up the data into 5 pieces (quintiles) of the `co2_emission` column of `food_consumption`.\n"
   ]
  },
  {
   "cell_type": "code",
   "execution_count": 28,
   "id": "53f8ba2a-1ef4-4b1c-b900-9c1e699697c0",
   "metadata": {},
   "outputs": [
    {
     "data": {
      "text/plain": [
       "array([   0.   ,    3.54 ,   11.026,   25.59 ,   99.978, 1712.   ])"
      ]
     },
     "execution_count": 28,
     "metadata": {},
     "output_type": "execute_result"
    }
   ],
   "source": [
    "np.quantile(food_c['co2_emission'],np.linspace(0, 1, 6))"
   ]
  },
  {
   "cell_type": "markdown",
   "id": "b30d9382-cb23-41b2-b815-df39cb4d7f03",
   "metadata": {},
   "source": [
    "\n",
    "- Calculate the eleven quantiles of `co2_emission` that split up the data into ten pieces (deciles).\n"
   ]
  },
  {
   "cell_type": "code",
   "execution_count": 29,
   "id": "9b69e46c-ae0b-481c-9424-814ea3073553",
   "metadata": {},
   "outputs": [
    {
     "data": {
      "text/plain": [
       "array([0.00000e+00, 6.68000e-01, 3.54000e+00, 7.04000e+00, 1.10260e+01,\n",
       "       1.65300e+01, 2.55900e+01, 4.42710e+01, 9.99780e+01, 2.03629e+02,\n",
       "       1.71200e+03])"
      ]
     },
     "execution_count": 29,
     "metadata": {},
     "output_type": "execute_result"
    }
   ],
   "source": [
    "np.quantile(food_c['co2_emission'], np.linspace(0, 1 , 11))"
   ]
  },
  {
   "cell_type": "code",
   "execution_count": null,
   "id": "6001895d-7314-4b21-a19c-20d389e481a1",
   "metadata": {},
   "outputs": [],
   "source": []
  }
 ],
 "metadata": {
  "kernelspec": {
   "display_name": "Python 3 (ipykernel)",
   "language": "python",
   "name": "python3"
  },
  "language_info": {
   "codemirror_mode": {
    "name": "ipython",
    "version": 3
   },
   "file_extension": ".py",
   "mimetype": "text/x-python",
   "name": "python",
   "nbconvert_exporter": "python",
   "pygments_lexer": "ipython3",
   "version": "3.11.7"
  }
 },
 "nbformat": 4,
 "nbformat_minor": 5
}
