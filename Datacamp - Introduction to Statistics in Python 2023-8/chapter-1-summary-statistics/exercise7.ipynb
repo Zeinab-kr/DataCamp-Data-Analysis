{
 "cells": [
  {
   "cell_type": "markdown",
   "id": "a5b10386-29c9-4bb5-a462-926bb1f5ccc9",
   "metadata": {},
   "source": [
    "\n",
    "#  Finding outliers using IQR\n",
    "\n",
    "##  Assignment \n",
    "\n",
    "Outliers can have big effects on statistics like mean, as well as statistics that rely on the mean, such as variance and standard deviation. Interquartile range, or IQR, is another way of measuring spread that's less influenced by outliers. IQR is also often used to find outliers. If a value is less than \\(\\text{Q1} - 1.5 \\times \\text{IQR}\\) or greater than \\(\\text{Q3} + 1.5 \\times \\text{IQR}\\), it's considered an outlier. In fact, this is how the lengths of the whiskers in a `matplotlib` box plot are calculated.\n",
    "\n",
    "<img src=\"https://assets.datacamp.com/production/repositories/5758/datasets/ca7e6e1832be7ec1842f62891815a9b0488efa83/Screen%20Shot%202020-04-28%20at%2010.04.54%20AM.png\" alt=\"Diagram of a box plot showing median, quartiles, and outliers\">\n",
    "\n",
    "In this exercise, you'll calculate IQR and use it to find some outliers. `pandas` as `pd` and `numpy` as `np` are loaded and `food_consumption` is available.\n"
   ]
  },
  {
   "cell_type": "code",
   "execution_count": 38,
   "id": "b1344525-0a47-4ca6-98e2-b56363bfbf5d",
   "metadata": {},
   "outputs": [],
   "source": [
    "import pandas as pd\n",
    "import numpy as np"
   ]
  },
  {
   "cell_type": "code",
   "execution_count": 39,
   "id": "7537f1f9-a6d3-417a-9dd0-d712afc4dd12",
   "metadata": {},
   "outputs": [],
   "source": [
    "food_c = pd.read_csv('food_consumption.csv')"
   ]
  },
  {
   "cell_type": "markdown",
   "id": "be4e3890-0691-4da3-b387-76dcaa4be1c3",
   "metadata": {},
   "source": [
    "##  Instructions \n",
    "\n",
    "- Calculate the total `co2_emission` per country by grouping by country and taking the sum of `co2_emission`. Store the resulting DataFrame as `emissions_by_country`.\n"
   ]
  },
  {
   "cell_type": "code",
   "execution_count": 40,
   "id": "de371f30-15ac-489d-81b4-2d728ec59678",
   "metadata": {},
   "outputs": [],
   "source": [
    "em_by_country = food_c.groupby('country')['co2_emission'].sum()"
   ]
  },
  {
   "cell_type": "code",
   "execution_count": 44,
   "id": "094ceca6-92ae-4a44-a7ba-a57dac6c5c65",
   "metadata": {},
   "outputs": [
    {
     "data": {
      "text/plain": [
       "country\n",
       "Albania      1777.85\n",
       "Algeria       707.88\n",
       "Angola        412.99\n",
       "Argentina    2172.40\n",
       "Armenia      1109.93\n",
       "              ...   \n",
       "Uruguay      1634.91\n",
       "Venezuela    1104.10\n",
       "Vietnam       641.51\n",
       "Zambia        225.30\n",
       "Zimbabwe      350.33\n",
       "Name: co2_emission, Length: 130, dtype: float64"
      ]
     },
     "execution_count": 44,
     "metadata": {},
     "output_type": "execute_result"
    }
   ],
   "source": [
    "em_by_country"
   ]
  },
  {
   "cell_type": "markdown",
   "id": "3244793c-ff11-448d-aa1d-8972d1e4f8fa",
   "metadata": {},
   "source": [
    "\n",
    "- Compute the first and third quartiles of `emissions_by_country` and store these as `q1` and `q3`.\n",
    "- Calculate the interquartile range of `emissions_by_country` and store it as `iqr`.\n"
   ]
  },
  {
   "cell_type": "code",
   "execution_count": 41,
   "id": "38424dd4-ad21-4fbf-ae41-a4b802528f1e",
   "metadata": {},
   "outputs": [],
   "source": [
    "q1 = np.quantile(em_by_country, 0.25)\n",
    "q3 = np.quantile(em_by_country, 0.75)"
   ]
  },
  {
   "cell_type": "markdown",
   "id": "d2cd8f50-e407-4aad-b14a-f6796fda9349",
   "metadata": {},
   "source": [
    "- Calculate the lower and upper cutoffs for outliers of `emissions_by_country`, and store these as `lower` and `upper`.\n",
    "\n"
   ]
  },
  {
   "cell_type": "code",
   "execution_count": 42,
   "id": "da8cdac3-48c0-4c93-9572-f683c83e7015",
   "metadata": {},
   "outputs": [],
   "source": [
    "lower = q1 - (q3 - q1)*1.5\n",
    "upper = q3 + (q3 - q1)*1.5"
   ]
  },
  {
   "cell_type": "markdown",
   "id": "e1088e52-97fc-45ff-9109-591410e12281",
   "metadata": {},
   "source": [
    "- Subset `emissions_by_country` to get countries with a total emission greater than the `upper` cutoff **or** a total emission less than the `lower` cutoff.\n",
    "\n"
   ]
  },
  {
   "cell_type": "code",
   "execution_count": 46,
   "id": "79c5d8c2-9456-407f-a013-5e46a1c5c7f1",
   "metadata": {},
   "outputs": [
    {
     "data": {
      "text/plain": [
       "country\n",
       "Argentina    2172.4\n",
       "Name: co2_emission, dtype: float64"
      ]
     },
     "execution_count": 46,
     "metadata": {},
     "output_type": "execute_result"
    }
   ],
   "source": [
    "em_by_country[(em_by_country > upper) | (em_by_country < lower)]"
   ]
  },
  {
   "cell_type": "code",
   "execution_count": null,
   "id": "b9250c82-7c87-4067-afa7-829ec9ce2b9c",
   "metadata": {},
   "outputs": [],
   "source": []
  }
 ],
 "metadata": {
  "kernelspec": {
   "display_name": "Python 3 (ipykernel)",
   "language": "python",
   "name": "python3"
  },
  "language_info": {
   "codemirror_mode": {
    "name": "ipython",
    "version": 3
   },
   "file_extension": ".py",
   "mimetype": "text/x-python",
   "name": "python",
   "nbconvert_exporter": "python",
   "pygments_lexer": "ipython3",
   "version": "3.11.7"
  }
 },
 "nbformat": 4,
 "nbformat_minor": 5
}
