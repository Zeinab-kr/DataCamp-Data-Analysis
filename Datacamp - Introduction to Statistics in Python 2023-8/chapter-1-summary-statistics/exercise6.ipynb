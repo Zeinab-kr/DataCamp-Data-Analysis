{
 "cells": [
  {
   "cell_type": "markdown",
   "id": "acc0af19-141a-49d7-a88e-0e01f9bb26c2",
   "metadata": {},
   "source": [
    "\n",
    "#  Variance and standard deviation\n",
    "\n",
    "##  Assignment \n",
    "\n",
    "Variance and standard deviation are two of the most common ways to measure the spread of a variable, and you'll practice calculating these in this exercise. Spread is important since it can help inform expectations. For example, if a salesperson sells a mean of 20 products a day, but has a standard deviation of 10 products, there will probably be days where they sell 40 products, but also days where they only sell one or two. Information like this is important, especially when making predictions.\n",
    "\n",
    "##  Instructions \n",
    "\n",
    "- Calculate the variance and standard deviation of `co2_emission` for each `food_category` by grouping and aggregating.\n",
    "- Import `matplotlib.pyplot` with alias `plt`.\n",
    "- Create a histogram of `co2_emission` for the `beef` `food_category` and show the plot.\n",
    "- Create a histogram of `co2_emission` for the `eggs` `food_category` and show the plot.\n"
   ]
  },
  {
   "cell_type": "code",
   "execution_count": 30,
   "id": "5acf101f-096e-4f2b-aaf9-aaef309d215f",
   "metadata": {},
   "outputs": [],
   "source": [
    "import pandas as pd\n",
    "import numpy as np"
   ]
  },
  {
   "cell_type": "code",
   "execution_count": 31,
   "id": "6fde59be-51d6-49e9-bedd-fe4d8fa276cd",
   "metadata": {},
   "outputs": [],
   "source": [
    "food_c = pd.read_csv('food_consumption.csv')"
   ]
  },
  {
   "cell_type": "code",
   "execution_count": 34,
   "id": "ba48607a-f60b-4c55-869c-5bb465c8ac75",
   "metadata": {},
   "outputs": [
    {
     "data": {
      "text/html": [
       "<div>\n",
       "<style scoped>\n",
       "    .dataframe tbody tr th:only-of-type {\n",
       "        vertical-align: middle;\n",
       "    }\n",
       "\n",
       "    .dataframe tbody tr th {\n",
       "        vertical-align: top;\n",
       "    }\n",
       "\n",
       "    .dataframe thead th {\n",
       "        text-align: right;\n",
       "    }\n",
       "</style>\n",
       "<table border=\"1\" class=\"dataframe\">\n",
       "  <thead>\n",
       "    <tr style=\"text-align: right;\">\n",
       "      <th></th>\n",
       "      <th>var</th>\n",
       "      <th>std</th>\n",
       "    </tr>\n",
       "    <tr>\n",
       "      <th>food_category</th>\n",
       "      <th></th>\n",
       "      <th></th>\n",
       "    </tr>\n",
       "  </thead>\n",
       "  <tbody>\n",
       "    <tr>\n",
       "      <th>beef</th>\n",
       "      <td>88748.408132</td>\n",
       "      <td>297.906710</td>\n",
       "    </tr>\n",
       "    <tr>\n",
       "      <th>dairy</th>\n",
       "      <td>17671.891985</td>\n",
       "      <td>132.935669</td>\n",
       "    </tr>\n",
       "    <tr>\n",
       "      <th>eggs</th>\n",
       "      <td>21.371819</td>\n",
       "      <td>4.622966</td>\n",
       "    </tr>\n",
       "    <tr>\n",
       "      <th>fish</th>\n",
       "      <td>921.637349</td>\n",
       "      <td>30.358481</td>\n",
       "    </tr>\n",
       "    <tr>\n",
       "      <th>lamb_goat</th>\n",
       "      <td>16475.518363</td>\n",
       "      <td>128.356996</td>\n",
       "    </tr>\n",
       "    <tr>\n",
       "      <th>nuts</th>\n",
       "      <td>35.639652</td>\n",
       "      <td>5.969895</td>\n",
       "    </tr>\n",
       "    <tr>\n",
       "      <th>pork</th>\n",
       "      <td>3094.963537</td>\n",
       "      <td>55.632396</td>\n",
       "    </tr>\n",
       "    <tr>\n",
       "      <th>poultry</th>\n",
       "      <td>245.026801</td>\n",
       "      <td>15.653332</td>\n",
       "    </tr>\n",
       "    <tr>\n",
       "      <th>rice</th>\n",
       "      <td>2281.376243</td>\n",
       "      <td>47.763754</td>\n",
       "    </tr>\n",
       "    <tr>\n",
       "      <th>soybeans</th>\n",
       "      <td>0.879882</td>\n",
       "      <td>0.938020</td>\n",
       "    </tr>\n",
       "    <tr>\n",
       "      <th>wheat</th>\n",
       "      <td>71.023937</td>\n",
       "      <td>8.427570</td>\n",
       "    </tr>\n",
       "  </tbody>\n",
       "</table>\n",
       "</div>"
      ],
      "text/plain": [
       "                        var         std\n",
       "food_category                          \n",
       "beef           88748.408132  297.906710\n",
       "dairy          17671.891985  132.935669\n",
       "eggs              21.371819    4.622966\n",
       "fish             921.637349   30.358481\n",
       "lamb_goat      16475.518363  128.356996\n",
       "nuts              35.639652    5.969895\n",
       "pork            3094.963537   55.632396\n",
       "poultry          245.026801   15.653332\n",
       "rice            2281.376243   47.763754\n",
       "soybeans           0.879882    0.938020\n",
       "wheat             71.023937    8.427570"
      ]
     },
     "execution_count": 34,
     "metadata": {},
     "output_type": "execute_result"
    }
   ],
   "source": [
    "food_c.groupby('food_category')['co2_emission'].agg(['var', 'std'])"
   ]
  },
  {
   "cell_type": "code",
   "execution_count": 35,
   "id": "4205e921-8d63-4d43-9869-4bd4edb95a9e",
   "metadata": {},
   "outputs": [],
   "source": [
    "import matplotlib.pyplot as plt"
   ]
  },
  {
   "cell_type": "code",
   "execution_count": 36,
   "id": "e4e05178-738c-4959-8bde-c8fa082bcdd3",
   "metadata": {},
   "outputs": [
    {
     "data": {
      "text/plain": [
       "<Axes: >"
      ]
     },
     "execution_count": 36,
     "metadata": {},
     "output_type": "execute_result"
    },
    {
     "data": {
      "image/png": "[encoded data removed]",
      "text/plain": [
       "<Figure size 640x480 with 1 Axes>"
      ]
     },
     "metadata": {},
     "output_type": "display_data"
    }
   ],
   "source": [
    "food_c.query('food_category == \"beef\"')['co2_emission'].hist()"
   ]
  },
  {
   "cell_type": "code",
   "execution_count": 37,
   "id": "3f4bce43-dd58-4c07-b3f2-a28a281a667a",
   "metadata": {},
   "outputs": [
    {
     "data": {
      "text/plain": [
       "<Axes: >"
      ]
     },
     "execution_count": 37,
     "metadata": {},
     "output_type": "execute_result"
    },
    {
     "data": {
      "image/png": "[encoded data removed]",
      "text/plain": [
       "<Figure size 640x480 with 1 Axes>"
      ]
     },
     "metadata": {},
     "output_type": "display_data"
    }
   ],
   "source": [
    "food_c.query('food_category == \"eggs\"')['co2_emission'].hist()"
   ]
  },
  {
   "cell_type": "code",
   "execution_count": null,
   "id": "1289c35b-b939-40b3-a98c-db8aac5885f8",
   "metadata": {},
   "outputs": [],
   "source": []
  }
 ],
 "metadata": {
  "kernelspec": {
   "display_name": "Python 3 (ipykernel)",
   "language": "python",
   "name": "python3"
  },
  "language_info": {
   "codemirror_mode": {
    "name": "ipython",
    "version": 3
   },
   "file_extension": ".py",
   "mimetype": "text/x-python",
   "name": "python",
   "nbconvert_exporter": "python",
   "pygments_lexer": "ipython3",
   "version": "3.11.7"
  }
 },
 "nbformat": 4,
 "nbformat_minor": 5
}
