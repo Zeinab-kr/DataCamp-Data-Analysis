{
 "cells": [
  {
   "cell_type": "markdown",
   "id": "6c71d60e-bf56-4ead-ae73-38145198eea0",
   "metadata": {},
   "source": [
    "\n",
    "#  Mean and median\n",
    "\n",
    "\n",
    "##  Assignment \n",
    "\n",
    "In this chapter, you'll be working with the [2018 Food Carbon Footprint Index](https://www.nu3.de/blogs/nutrition/food-carbon-footprint-index-2018) from nu3. The `food_consumption` dataset contains information about the kilograms of food consumed per person per year in each country in each food category (`consumption`) as well as information about the carbon footprint of that food category (`co2_emissions`) measured in kilograms of carbon dioxide, or CO<sub>2</sub>, per person per year in each country.\n",
    "\n",
    "In this exercise, you'll compute measures of center to compare food consumption in the US and Belgium using your `pandas` and `numpy` skills. \n",
    "\n",
    "`pandas` is imported as `pd` for you and `food_consumption` is pre-loaded.\n",
    "\n",
    "##  Pre exercise code \n",
    "\n",
    "```\n",
    "import pandas as pd\n",
    "food_consumption = pd.read_csv('https://assets.datacamp.com/production/repositories/5786/datasets/49f6356966016c70a9f63a0474942675377bdcf2/food_consumption.csv')\n",
    "```"
   ]
  },
  {
   "cell_type": "code",
   "execution_count": 2,
   "id": "f2b6183b-d057-4f6f-86b8-f9a18491c9ab",
   "metadata": {},
   "outputs": [],
   "source": [
    "import pandas as pd\n",
    "food_consumption = pd.read_csv('food_consumption.csv')"
   ]
  },
  {
   "cell_type": "code",
   "execution_count": 4,
   "id": "ac345bb4-6b58-4262-9eb1-bb6e454a1d5b",
   "metadata": {},
   "outputs": [
    {
     "data": {
      "text/html": [
       "<div>\n",
       "<style scoped>\n",
       "    .dataframe tbody tr th:only-of-type {\n",
       "        vertical-align: middle;\n",
       "    }\n",
       "\n",
       "    .dataframe tbody tr th {\n",
       "        vertical-align: top;\n",
       "    }\n",
       "\n",
       "    .dataframe thead th {\n",
       "        text-align: right;\n",
       "    }\n",
       "</style>\n",
       "<table border=\"1\" class=\"dataframe\">\n",
       "  <thead>\n",
       "    <tr style=\"text-align: right;\">\n",
       "      <th></th>\n",
       "      <th>Unnamed: 0</th>\n",
       "      <th>country</th>\n",
       "      <th>food_category</th>\n",
       "      <th>consumption</th>\n",
       "      <th>co2_emission</th>\n",
       "    </tr>\n",
       "  </thead>\n",
       "  <tbody>\n",
       "    <tr>\n",
       "      <th>0</th>\n",
       "      <td>1</td>\n",
       "      <td>Argentina</td>\n",
       "      <td>pork</td>\n",
       "      <td>10.51</td>\n",
       "      <td>37.2</td>\n",
       "    </tr>\n",
       "  </tbody>\n",
       "</table>\n",
       "</div>"
      ],
      "text/plain": [
       "   Unnamed: 0    country food_category  consumption  co2_emission\n",
       "0           1  Argentina          pork        10.51          37.2"
      ]
     },
     "execution_count": 4,
     "metadata": {},
     "output_type": "execute_result"
    }
   ],
   "source": [
    "food_consumption.head(1)"
   ]
  },
  {
   "cell_type": "markdown",
   "id": "c832fded-cb01-4747-a4d4-694ae9e55f23",
   "metadata": {},
   "source": [
    "##  Instructions \n",
    "\n",
    "- Import `numpy` with the alias `np`.\n",
    "- Create two DataFrames: one that holds the rows of `food_consumption` for `'Belgium'` and another that holds rows for `'USA'`. Call these `be_consumption` and `usa_consumption`.\n",
    "- Calculate the mean and median of kilograms of food consumed per person per year for both countries.\n"
   ]
  },
  {
   "cell_type": "code",
   "execution_count": 5,
   "id": "fdb2908c-27e7-462c-9d5a-73abe16f2494",
   "metadata": {},
   "outputs": [],
   "source": [
    "import numpy as np"
   ]
  },
  {
   "cell_type": "code",
   "execution_count": 6,
   "id": "fec92f17-ab62-4166-a4ec-acd3ab007a96",
   "metadata": {},
   "outputs": [],
   "source": [
    "be_consumption = food_consumption.query('country == \"Belgium\"')\n",
    "usa_consumption = food_consumption.query('country == \"USA\"')"
   ]
  },
  {
   "cell_type": "code",
   "execution_count": 8,
   "id": "c073920e-8028-4d23-bdfc-96b0764e0928",
   "metadata": {},
   "outputs": [
    {
     "data": {
      "text/plain": [
       "mean      42.132727\n",
       "median    12.590000\n",
       "Name: consumption, dtype: float64"
      ]
     },
     "execution_count": 8,
     "metadata": {},
     "output_type": "execute_result"
    }
   ],
   "source": [
    "be_consumption['consumption'].agg(['mean', 'median'])"
   ]
  },
  {
   "cell_type": "code",
   "execution_count": 9,
   "id": "3b35764d-e635-4e9a-9a0b-446a4aca4de6",
   "metadata": {},
   "outputs": [
    {
     "data": {
      "text/plain": [
       "mean      44.65\n",
       "median    14.58\n",
       "Name: consumption, dtype: float64"
      ]
     },
     "execution_count": 9,
     "metadata": {},
     "output_type": "execute_result"
    }
   ],
   "source": [
    "usa_consumption['consumption'].agg(['mean', 'median'])"
   ]
  },
  {
   "cell_type": "markdown",
   "id": "85b3c745-043f-46fc-b2be-eec16de9d4b3",
   "metadata": {},
   "source": [
    "- Subset `food_consumption` for rows with data about Belgium and the USA.\n",
    "- Group the subsetted data by `country` and select only the `consumption` column.\n",
    "- Calculate the mean and median of the kilograms of food consumed per person per year in each country using `.agg()`."
   ]
  },
  {
   "cell_type": "code",
   "execution_count": 11,
   "id": "d3ef6770-b336-40c1-8350-7e9b8950639c",
   "metadata": {},
   "outputs": [],
   "source": [
    "be_usa = food_consumption.query('(country == \"Belgium\") or (country == \"USA\")')"
   ]
  },
  {
   "cell_type": "code",
   "execution_count": 12,
   "id": "eda26ae3-b582-4cfb-a1e0-c88bc255d52d",
   "metadata": {},
   "outputs": [
    {
     "data": {
      "text/html": [
       "<div>\n",
       "<style scoped>\n",
       "    .dataframe tbody tr th:only-of-type {\n",
       "        vertical-align: middle;\n",
       "    }\n",
       "\n",
       "    .dataframe tbody tr th {\n",
       "        vertical-align: top;\n",
       "    }\n",
       "\n",
       "    .dataframe thead th {\n",
       "        text-align: right;\n",
       "    }\n",
       "</style>\n",
       "<table border=\"1\" class=\"dataframe\">\n",
       "  <thead>\n",
       "    <tr style=\"text-align: right;\">\n",
       "      <th></th>\n",
       "      <th>mean</th>\n",
       "      <th>median</th>\n",
       "    </tr>\n",
       "    <tr>\n",
       "      <th>country</th>\n",
       "      <th></th>\n",
       "      <th></th>\n",
       "    </tr>\n",
       "  </thead>\n",
       "  <tbody>\n",
       "    <tr>\n",
       "      <th>Belgium</th>\n",
       "      <td>42.132727</td>\n",
       "      <td>12.59</td>\n",
       "    </tr>\n",
       "    <tr>\n",
       "      <th>USA</th>\n",
       "      <td>44.650000</td>\n",
       "      <td>14.58</td>\n",
       "    </tr>\n",
       "  </tbody>\n",
       "</table>\n",
       "</div>"
      ],
      "text/plain": [
       "              mean  median\n",
       "country                   \n",
       "Belgium  42.132727   12.59\n",
       "USA      44.650000   14.58"
      ]
     },
     "execution_count": 12,
     "metadata": {},
     "output_type": "execute_result"
    }
   ],
   "source": [
    "be_usa.groupby('country')['consumption'].agg(['mean', 'median'])"
   ]
  },
  {
   "cell_type": "code",
   "execution_count": null,
   "id": "a9aa7327-bfa2-4b06-b563-7fe96d14e018",
   "metadata": {},
   "outputs": [],
   "source": []
  }
 ],
 "metadata": {
  "kernelspec": {
   "display_name": "Python 3 (ipykernel)",
   "language": "python",
   "name": "python3"
  },
  "language_info": {
   "codemirror_mode": {
    "name": "ipython",
    "version": 3
   },
   "file_extension": ".py",
   "mimetype": "text/x-python",
   "name": "python",
   "nbconvert_exporter": "python",
   "pygments_lexer": "ipython3",
   "version": "3.11.7"
  }
 },
 "nbformat": 4,
 "nbformat_minor": 5
}
