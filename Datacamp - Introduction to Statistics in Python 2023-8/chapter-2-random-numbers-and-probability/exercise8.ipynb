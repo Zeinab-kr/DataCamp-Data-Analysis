{
 "cells": [
  {
   "cell_type": "markdown",
   "id": "8c342cdf-b195-4dd3-9041-896f777d8f6e",
   "metadata": {},
   "source": [
    "#  Calculating binomial probabilities\n",
    "\n",
    "##  Assignment \n",
    "\n",
    "Just as in the last exercise, assume that Amir wins 30% of deals. He wants to get an idea of how likely he is to close a certain number of deals each week. In this exercise, you'll calculate what the chances are of him closing different numbers of deals using the binomial distribution.\n",
    "\n",
    "`binom` is imported from `scipy.stats`.\n",
    "\n",
    "##  Pre exercise code \n",
    "\n",
    "```\n",
    "from scipy.stats import binom\n",
    "```"
   ]
  },
  {
   "cell_type": "code",
   "execution_count": 78,
   "id": "24ac30a7-6740-4c85-b8ee-bf54f183b593",
   "metadata": {},
   "outputs": [],
   "source": [
    "from scipy.stats import binom"
   ]
  },
  {
   "cell_type": "markdown",
   "id": "c87749d9-7c4a-4e84-97ec-1ddb8c7d2962",
   "metadata": {},
   "source": [
    "##  Instructions \n",
    "\n",
    "- What's the probability that Amir closes all 3 deals in a week? Save this as `prob_3`.\n"
   ]
  },
  {
   "cell_type": "code",
   "execution_count": 80,
   "id": "b54c4659-3b83-4e2a-b709-20c874340d6a",
   "metadata": {},
   "outputs": [
    {
     "data": {
      "text/plain": [
       "0.027"
      ]
     },
     "execution_count": 80,
     "metadata": {},
     "output_type": "execute_result"
    }
   ],
   "source": [
    "binom.pmf(3, 3, 0.3)"
   ]
  },
  {
   "cell_type": "markdown",
   "id": "777abda8-4b8e-45fd-872b-ce0886686e2b",
   "metadata": {},
   "source": [
    "\n",
    "- What's the probability that Amir closes 1 or fewer deals in a week? Save this as `prob_less_than_or_equal_1`.\n",
    "\n"
   ]
  },
  {
   "cell_type": "code",
   "execution_count": 87,
   "id": "6d6af467-17f2-44e8-9b24-33ba10cd1e83",
   "metadata": {},
   "outputs": [
    {
     "data": {
      "text/plain": [
       "0.0"
      ]
     },
     "execution_count": 87,
     "metadata": {},
     "output_type": "execute_result"
    }
   ],
   "source": [
    "binom.cdf(1, 3, 0,3)"
   ]
  },
  {
   "cell_type": "markdown",
   "id": "1ca7e204-df77-41f6-ac37-a0ef39aaccdb",
   "metadata": {},
   "source": [
    "\n",
    "- What's the probability that Amir closes more than 1 deal? Save this as `prob_greater_than_1`.\n",
    "\n"
   ]
  },
  {
   "cell_type": "code",
   "execution_count": 88,
   "id": "5bc2e84b-d49f-4f35-bd60-9bbfb6bb128c",
   "metadata": {},
   "outputs": [
    {
     "data": {
      "text/plain": [
       "0.21599999999999997"
      ]
     },
     "execution_count": 88,
     "metadata": {},
     "output_type": "execute_result"
    }
   ],
   "source": [
    "1 - binom.cdf(1, 3, 0.3)"
   ]
  },
  {
   "cell_type": "code",
   "execution_count": null,
   "id": "20559eb9-3632-4ff4-be83-568c70b50e64",
   "metadata": {},
   "outputs": [],
   "source": []
  }
 ],
 "metadata": {
  "kernelspec": {
   "display_name": "Python 3 (ipykernel)",
   "language": "python",
   "name": "python3"
  },
  "language_info": {
   "codemirror_mode": {
    "name": "ipython",
    "version": 3
   },
   "file_extension": ".py",
   "mimetype": "text/x-python",
   "name": "python",
   "nbconvert_exporter": "python",
   "pygments_lexer": "ipython3",
   "version": "3.11.7"
  }
 },
 "nbformat": 4,
 "nbformat_minor": 5
}
