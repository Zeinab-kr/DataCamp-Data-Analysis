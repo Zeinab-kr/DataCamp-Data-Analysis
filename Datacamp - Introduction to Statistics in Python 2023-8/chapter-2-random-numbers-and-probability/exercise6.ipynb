{
 "cells": [
  {
   "cell_type": "markdown",
   "id": "292a237d-071e-4241-ba1f-6a7018bc6edd",
   "metadata": {},
   "source": [
    "#  Simulating wait times\n",
    "\n",
    "##  Assignment \n",
    "\n",
    "To give Amir a better idea of how long he'll have to wait, you'll simulate Amir waiting 1000 times and create a histogram to show him what he should expect. Recall from the last exercise that his minimum wait time is 0 minutes and his maximum wait time is 30 minutes.\n"
   ]
  },
  {
   "cell_type": "code",
   "execution_count": 53,
   "id": "5a58f2b6-24f9-4fa1-87fd-5bf69ef5b6c7",
   "metadata": {},
   "outputs": [],
   "source": [
    "import pandas as pd\n",
    "import numpy as np\n",
    "import matplotlib.pyplot as plt"
   ]
  },
  {
   "cell_type": "markdown",
   "id": "f7ae3b2b-5000-4a6d-9d24-ce2f9f6d6b29",
   "metadata": {},
   "source": [
    "##  Instructions \n",
    "\n",
    "- Set the random seed to `334`.\n",
    "\n"
   ]
  },
  {
   "cell_type": "code",
   "execution_count": 54,
   "id": "50ce8186-f1ec-4b25-a058-1c9bd0a2ff19",
   "metadata": {},
   "outputs": [],
   "source": [
    "np.random.seed(334)"
   ]
  },
  {
   "cell_type": "markdown",
   "id": "040c0eef-9cd5-4447-a60b-ebcd6c3e75f1",
   "metadata": {},
   "source": [
    "\n",
    "- Import `uniform` from `scipy.stats`.\n"
   ]
  },
  {
   "cell_type": "code",
   "execution_count": 55,
   "id": "74212648-714d-4fe4-b1fa-0fe14b1f0176",
   "metadata": {},
   "outputs": [],
   "source": [
    "from scipy.stats import uniform"
   ]
  },
  {
   "cell_type": "markdown",
   "id": "f42ff9aa-4757-4275-88ad-db2fbd5c5bb8",
   "metadata": {},
   "source": [
    "\n",
    "- Generate 1000 wait times from the continuous uniform distribution that models Amir's wait time. Save this as `wait_times`.\n"
   ]
  },
  {
   "cell_type": "code",
   "execution_count": 59,
   "id": "787e56e6-1736-43e7-9901-db3fd4b357c4",
   "metadata": {},
   "outputs": [],
   "source": [
    "wait_time = uniform.rvs(0, 30, 1000)"
   ]
  },
  {
   "cell_type": "markdown",
   "id": "ad7c2312-ac0f-42f6-b5ac-973833d1bce5",
   "metadata": {},
   "source": [
    "\n",
    "- Create a histogram of the simulated wait times and show the plot.\n",
    "\n"
   ]
  },
  {
   "cell_type": "code",
   "execution_count": 64,
   "id": "50d49c38-f049-46b3-869e-00d8204596a3",
   "metadata": {},
   "outputs": [
    {
     "data": {
      "text/plain": [
       "(array([ 97., 118., 111.,  91.,  83., 106., 106., 101.,  85., 102.]),\n",
       " array([ 0.06222649,  3.05509611,  6.04796574,  9.04083537, 12.03370499,\n",
       "        15.02657462, 18.01944425, 21.01231387, 24.0051835 , 26.99805313,\n",
       "        29.99092275]),\n",
       " <BarContainer object of 10 artists>)"
      ]
     },
     "execution_count": 64,
     "metadata": {},
     "output_type": "execute_result"
    },
    {
     "data": {
      "image/png": "[encoded data removed]",
      "text/plain": [
       "<Figure size 640x480 with 1 Axes>"
      ]
     },
     "metadata": {},
     "output_type": "display_data"
    }
   ],
   "source": [
    "plt.hist(wait_time)"
   ]
  },
  {
   "cell_type": "code",
   "execution_count": null,
   "id": "a4f73a2c-dd2d-445a-b204-c8f90f15214d",
   "metadata": {},
   "outputs": [],
   "source": []
  }
 ],
 "metadata": {
  "kernelspec": {
   "display_name": "Python 3 (ipykernel)",
   "language": "python",
   "name": "python3"
  },
  "language_info": {
   "codemirror_mode": {
    "name": "ipython",
    "version": 3
   },
   "file_extension": ".py",
   "mimetype": "text/x-python",
   "name": "python",
   "nbconvert_exporter": "python",
   "pygments_lexer": "ipython3",
   "version": "3.11.7"
  }
 },
 "nbformat": 4,
 "nbformat_minor": 5
}
