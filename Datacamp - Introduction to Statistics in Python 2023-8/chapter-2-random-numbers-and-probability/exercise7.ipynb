{
 "cells": [
  {
   "cell_type": "markdown",
   "id": "a0003ffb-e258-41b9-ba94-c1c1733b53e4",
   "metadata": {},
   "source": [
    "#  Simulating sales deals\n",
    "\n",
    "##  Assignment \n",
    "\n",
    "Assume that Amir usually works on 3 deals per week, and overall, he wins 30% of deals he works on. Each deal has a binary outcome: it's either lost, or won, so you can model his sales deals with a binomial distribution. In this exercise, you'll help Amir simulate a year's worth of his deals so he can better understand his performance.\n"
   ]
  },
  {
   "cell_type": "code",
   "execution_count": 65,
   "id": "9147d8bc-f364-44d0-bcdf-2d22bc7fe658",
   "metadata": {},
   "outputs": [],
   "source": [
    "import numpy as np"
   ]
  },
  {
   "cell_type": "markdown",
   "id": "a91ed516-c502-406f-8a22-f1cf7d9b279a",
   "metadata": {},
   "source": [
    "##  Instructions \n",
    "\n",
    "- Import `binom` from `scipy.stats` and set the random seed to 10.\n"
   ]
  },
  {
   "cell_type": "code",
   "execution_count": 66,
   "id": "b4465917-ca82-4180-b16c-d815005aec65",
   "metadata": {},
   "outputs": [],
   "source": [
    "from scipy.stats import binom"
   ]
  },
  {
   "cell_type": "markdown",
   "id": "6eb35eac-729c-43f4-88e8-ade7701fb3d5",
   "metadata": {},
   "source": [
    "\n",
    "- Simulate 1 deal worked on by Amir, who wins 30% of the deals he works on.\n",
    "\n"
   ]
  },
  {
   "cell_type": "code",
   "execution_count": 69,
   "id": "33d1e9f5-ab0d-43f0-9e79-27906c0ea272",
   "metadata": {},
   "outputs": [],
   "source": [
    "np.random.seed(10)"
   ]
  },
  {
   "cell_type": "code",
   "execution_count": 70,
   "id": "c280c8ed-81c6-48e3-952d-de6015bc8039",
   "metadata": {},
   "outputs": [
    {
     "data": {
      "text/plain": [
       "array([1], dtype=int64)"
      ]
     },
     "execution_count": 70,
     "metadata": {},
     "output_type": "execute_result"
    }
   ],
   "source": [
    "binom.rvs(1, 0.3, size=1)"
   ]
  },
  {
   "cell_type": "markdown",
   "id": "13f32126-57e3-4d80-aa88-47b198593b7b",
   "metadata": {},
   "source": [
    "\n",
    "- Simulate a typical week of Amir's deals, or one week of 3 deals.\n"
   ]
  },
  {
   "cell_type": "code",
   "execution_count": 72,
   "id": "4bc491e3-3782-4731-abd4-9a43e49b1655",
   "metadata": {},
   "outputs": [
    {
     "data": {
      "text/plain": [
       "array([1], dtype=int64)"
      ]
     },
     "execution_count": 72,
     "metadata": {},
     "output_type": "execute_result"
    }
   ],
   "source": [
    "binom.rvs(3, 0.3, size=1)"
   ]
  },
  {
   "cell_type": "markdown",
   "id": "2bd17384-1564-4b95-85b1-c7a10fea3a9a",
   "metadata": {},
   "source": [
    "- Simulate a year's worth of Amir's deals, or 52 weeks of 3 deals each, and store in `deals`.\n",
    "- Print the mean number of deals he won per week.\n"
   ]
  },
  {
   "cell_type": "code",
   "execution_count": 74,
   "id": "f4d57d4d-de41-46e9-804e-6fd92fb97721",
   "metadata": {},
   "outputs": [],
   "source": [
    "year = binom.rvs(3, 0.3, size=52)"
   ]
  },
  {
   "cell_type": "code",
   "execution_count": 75,
   "id": "cb1e4128-96ef-42cd-bda0-0b2f8eaf3308",
   "metadata": {},
   "outputs": [
    {
     "data": {
      "text/plain": [
       "array([2, 3, 1, 2, 0, 1, 2, 1, 1, 0, 1, 0, 0, 0, 1, 0, 1, 0, 1, 1, 0, 2,\n",
       "       1, 2, 1, 1, 1, 1, 0, 0, 0, 0, 0, 1, 1, 1, 0, 0, 3, 0, 1, 3, 1, 0,\n",
       "       1, 1, 2, 0, 1, 1, 1, 1], dtype=int64)"
      ]
     },
     "execution_count": 75,
     "metadata": {},
     "output_type": "execute_result"
    }
   ],
   "source": [
    "year"
   ]
  },
  {
   "cell_type": "code",
   "execution_count": 76,
   "id": "f839cca9-0d67-4367-976d-2b99edffdd0b",
   "metadata": {},
   "outputs": [
    {
     "data": {
      "text/plain": [
       "0.8846153846153846"
      ]
     },
     "execution_count": 76,
     "metadata": {},
     "output_type": "execute_result"
    }
   ],
   "source": [
    "year.mean()"
   ]
  },
  {
   "cell_type": "code",
   "execution_count": 77,
   "id": "12d79ef7-2262-439c-874a-88d69ffbe791",
   "metadata": {},
   "outputs": [
    {
     "data": {
      "text/plain": [
       "0.8846153846153846"
      ]
     },
     "execution_count": 77,
     "metadata": {},
     "output_type": "execute_result"
    }
   ],
   "source": [
    "np.mean(year)"
   ]
  },
  {
   "cell_type": "code",
   "execution_count": null,
   "id": "319c584b-f3da-4622-b805-03ee8a0811cc",
   "metadata": {},
   "outputs": [],
   "source": []
  }
 ],
 "metadata": {
  "kernelspec": {
   "display_name": "Python 3 (ipykernel)",
   "language": "python",
   "name": "python3"
  },
  "language_info": {
   "codemirror_mode": {
    "name": "ipython",
    "version": 3
   },
   "file_extension": ".py",
   "mimetype": "text/x-python",
   "name": "python",
   "nbconvert_exporter": "python",
   "pygments_lexer": "ipython3",
   "version": "3.11.7"
  }
 },
 "nbformat": 4,
 "nbformat_minor": 5
}
