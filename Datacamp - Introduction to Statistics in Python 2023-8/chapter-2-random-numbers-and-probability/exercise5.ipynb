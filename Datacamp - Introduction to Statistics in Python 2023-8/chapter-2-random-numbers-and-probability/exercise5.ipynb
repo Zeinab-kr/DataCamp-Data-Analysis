{
 "cells": [
  {
   "cell_type": "markdown",
   "id": "b5a6c90e-8e45-49d7-bc05-03cb20f4853a",
   "metadata": {},
   "source": [
    "#  Data back-ups\n",
    "\n",
    "##  Assignment \n",
    "\n",
    "The sales software used at your company is set to automatically back itself up, but no one knows exactly what time the back-ups happen. It is known, however, that back-ups happen exactly every 30 minutes. Amir comes back from sales meetings at random times to update the data on the client he just met with. He wants to know how long he'll have to wait for his newly-entered data to get backed up. Use your new knowledge of continuous uniform distributions to model t"
   ]
  },
  {
   "cell_type": "markdown",
   "id": "d9aa15cd-0ae2-491f-8a7c-7db5d1346030",
   "metadata": {},
   "source": [
    "##  Instructions \n",
    "\n",
    "- To model how long Amir will wait for a back-up using a continuous uniform distribution, save his lowest possible wait time as `min_time` and his longest possible wait time as `max_time`. Remember that back-ups happen every 30 minutes."
   ]
  },
  {
   "cell_type": "code",
   "execution_count": 40,
   "id": "e76d0fcc-d315-4ecc-b3e3-3ca6819672a5",
   "metadata": {},
   "outputs": [],
   "source": [
    "min_time = 0\n",
    "max_time = 30"
   ]
  },
  {
   "cell_type": "markdown",
   "id": "a2b27df4-490a-47f6-a6a0-7632e5237916",
   "metadata": {},
   "source": [
    "- Import `uniform` from `scipy.stats` and calculate the probability that Amir has to wait less than 5 minutes, and store in a variable called `prob_less_than_5`.\n"
   ]
  },
  {
   "cell_type": "code",
   "execution_count": 41,
   "id": "6dccbf86-b20b-4e7c-a0a1-e1b2f7816299",
   "metadata": {},
   "outputs": [],
   "source": [
    "from scipy.stats import uniform"
   ]
  },
  {
   "cell_type": "code",
   "execution_count": 45,
   "id": "5c234105-cd41-4f97-8fd6-9474b1aa9e19",
   "metadata": {},
   "outputs": [],
   "source": [
    "prob_less_than_5 = uniform.cdf(5, min_time, max_time)"
   ]
  },
  {
   "cell_type": "code",
   "execution_count": 46,
   "id": "ed5ccc94-830c-4b65-956a-2ae4d15a39fe",
   "metadata": {},
   "outputs": [
    {
     "data": {
      "text/plain": [
       "0.16666666666666666"
      ]
     },
     "execution_count": 46,
     "metadata": {},
     "output_type": "execute_result"
    }
   ],
   "source": [
    "prob_less_than_5"
   ]
  },
  {
   "cell_type": "markdown",
   "id": "16299c4c-e250-46c0-b740-b5499fecf122",
   "metadata": {},
   "source": [
    "- Calculate the probability that Amir has to wait more than 5 minutes, and store in a variable called `prob_greater_than_5`.\n",
    "\n"
   ]
  },
  {
   "cell_type": "code",
   "execution_count": 47,
   "id": "88ba84f3-8447-45a5-aacb-915e4926edb4",
   "metadata": {},
   "outputs": [],
   "source": [
    "prob_greater_than_5 = 1 - prob_less_than_5"
   ]
  },
  {
   "cell_type": "code",
   "execution_count": 49,
   "id": "77be598b-8531-4801-b8bc-7fa969eb9c9e",
   "metadata": {},
   "outputs": [
    {
     "data": {
      "text/plain": [
       "0.8333333333333334"
      ]
     },
     "execution_count": 49,
     "metadata": {},
     "output_type": "execute_result"
    }
   ],
   "source": [
    "prob_greater_than_5"
   ]
  },
  {
   "cell_type": "markdown",
   "id": "b4c59f24-8361-44c1-b1cc-87fdf6476403",
   "metadata": {},
   "source": [
    "- Calculate the probability that Amir has to wait between 10 and 20 minutes, and store in a variable called `prob_between_10_and_20`.\n"
   ]
  },
  {
   "cell_type": "code",
   "execution_count": 50,
   "id": "100b0af9-f3fd-42df-bb17-08927c1260a2",
   "metadata": {},
   "outputs": [],
   "source": [
    "prob_between_10_and_20 = uniform.cdf(20, min_time, max_time) - uniform.cdf(10, min_time, max_time)"
   ]
  },
  {
   "cell_type": "code",
   "execution_count": 52,
   "id": "bf8981f0-2dd4-409e-805a-f05c3c7d9743",
   "metadata": {},
   "outputs": [
    {
     "data": {
      "text/plain": [
       "0.3333333333333333"
      ]
     },
     "execution_count": 52,
     "metadata": {},
     "output_type": "execute_result"
    }
   ],
   "source": [
    "prob_between_10_and_20"
   ]
  },
  {
   "cell_type": "code",
   "execution_count": null,
   "id": "925dae80-6f80-40f4-95c5-87f4fab64692",
   "metadata": {},
   "outputs": [],
   "source": []
  }
 ],
 "metadata": {
  "kernelspec": {
   "display_name": "Python 3 (ipykernel)",
   "language": "python",
   "name": "python3"
  },
  "language_info": {
   "codemirror_mode": {
    "name": "ipython",
    "version": 3
   },
   "file_extension": ".py",
   "mimetype": "text/x-python",
   "name": "python",
   "nbconvert_exporter": "python",
   "pygments_lexer": "ipython3",
   "version": "3.11.7"
  }
 },
 "nbformat": 4,
 "nbformat_minor": 5
}
