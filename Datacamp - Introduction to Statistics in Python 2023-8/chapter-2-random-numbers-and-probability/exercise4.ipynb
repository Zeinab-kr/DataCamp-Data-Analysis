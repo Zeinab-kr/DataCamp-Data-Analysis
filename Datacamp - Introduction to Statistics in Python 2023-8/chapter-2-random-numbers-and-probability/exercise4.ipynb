{
 "cells": [
  {
   "cell_type": "markdown",
   "id": "b2061158-d34b-46c5-88e0-e97c60014be8",
   "metadata": {},
   "source": [
    "\n",
    "#  Creating a probability distribution\n",
    "\n",
    "##  Assignment \n",
    "\n",
    "A new restaurant opened a few months ago, and the restaurant's management wants to optimize its seating space based on the size of the groups that come most often. On one night, there are 10 groups of people waiting to be seated at the restaurant, but instead of being called in the order they arrived, they will be called randomly. In this exercise, you'll investigate the probability of groups of different sizes getting picked first. Data on each of the ten groups is contained in the `restaurant_groups` DataFrame.\n",
    "\n",
    "Remember that expected value can be calculated by multiplying each possible outcome with its corresponding probability and taking the sum. The `restaurant_groups` data is available. `pandas` is loaded as `pd`, `numpy` is loaded as `np`, and `matplotlib.pyplot` is loaded as `plt`.\n",
    "\n",
    "##  Pre exercise code \n",
    "\n",
    "```\n",
    "import pandas as pd\n",
    "import numpy as np\n",
    "import matplotlib.pyplot as plt\n",
    "restaurant_groups = pd.DataFrame.from_dict({'group_id': [\"A\", \"B\", \"C\", \"D\", \"E\", \"F\", \"G\", \"H\", \"I\", \"J\"], 'group_size': [2, 4, 6, 2, 2, 2, 3, 2, 4, 2]})\n",
    "```\n"
   ]
  },
  {
   "cell_type": "code",
   "execution_count": 23,
   "id": "60647f3d-2e84-4895-b26c-cd4346d4bdd4",
   "metadata": {},
   "outputs": [],
   "source": [
    "import pandas as pd\n",
    "import numpy as np\n",
    "import matplotlib.pyplot as plt"
   ]
  },
  {
   "cell_type": "code",
   "execution_count": 25,
   "id": "e4b77b64-9e08-427c-9050-de778dc3d737",
   "metadata": {},
   "outputs": [],
   "source": [
    "rest_groups = pd.DataFrame.from_dict({'group_id': [\"A\", \"B\", \"C\", \"D\", \"E\", \"F\", \"G\", \"H\", \"I\", \"J\"], 'group_size': [2, 4, 6, 2, 2, 2, 3, 2, 4, 2]})"
   ]
  },
  {
   "cell_type": "markdown",
   "id": "30fcc4e1-ccc1-4461-a613-1e84c172c8ad",
   "metadata": {},
   "source": [
    "##  Instructions \n",
    "\n",
    "- Create a histogram of the `group_size` column of `restaurant_groups`, setting `bins` to `[2, 3, 4, 5, 6]`. Remember to show the plot.\n",
    "\n"
   ]
  },
  {
   "cell_type": "code",
   "execution_count": 26,
   "id": "2062fd8a-f223-479a-87b7-454dd32a7527",
   "metadata": {},
   "outputs": [
    {
     "data": {
      "text/plain": [
       "<Axes: >"
      ]
     },
     "execution_count": 26,
     "metadata": {},
     "output_type": "execute_result"
    },
    {
     "data": {
      "image/png": "[encoded data removed]",
      "text/plain": [
       "<Figure size 640x480 with 1 Axes>"
      ]
     },
     "metadata": {},
     "output_type": "display_data"
    }
   ],
   "source": [
    "rest_groups['group_size'].hist(bins=[2, 3, 4, 5, 6])"
   ]
  },
  {
   "cell_type": "markdown",
   "id": "6df33309-757c-41f8-b18c-071918f47b4c",
   "metadata": {},
   "source": [
    "- Count the number of each `group_size` in `restaurant_groups`, then divide by the number of rows in `restaurant_groups` to calculate the probability of randomly selecting a group of each size. Save as `size_dist`.\n",
    "- Reset the index of `size_dist`.\n",
    "- Rename the columns of `size_dist` to `group_size` and `prob`.\n"
   ]
  },
  {
   "cell_type": "code",
   "execution_count": 27,
   "id": "5300fcc7-97d7-4f95-8e72-516d4a368f21",
   "metadata": {},
   "outputs": [],
   "source": [
    "size_dist = rest_groups['group_size'].value_counts() / rest_groups.shape[0]"
   ]
  },
  {
   "cell_type": "code",
   "execution_count": 28,
   "id": "37acb192-68c7-4fec-a356-49d50208c21c",
   "metadata": {},
   "outputs": [
    {
     "data": {
      "text/plain": [
       "group_size\n",
       "2    0.6\n",
       "4    0.2\n",
       "6    0.1\n",
       "3    0.1\n",
       "Name: count, dtype: float64"
      ]
     },
     "execution_count": 28,
     "metadata": {},
     "output_type": "execute_result"
    }
   ],
   "source": [
    "size_dist"
   ]
  },
  {
   "cell_type": "code",
   "execution_count": 31,
   "id": "a8ad2e72-33eb-49f8-8470-a7f790a83cba",
   "metadata": {},
   "outputs": [],
   "source": [
    "size_dist = size_dist.reset_index()"
   ]
  },
  {
   "cell_type": "code",
   "execution_count": 33,
   "id": "91898722-0536-46a7-b78d-6ad5e349e87d",
   "metadata": {},
   "outputs": [],
   "source": [
    "size_dist.columns = ['group_size', 'prob']"
   ]
  },
  {
   "cell_type": "code",
   "execution_count": 34,
   "id": "d4b63fed-6eac-42a5-9fe5-3da701f0ec5b",
   "metadata": {},
   "outputs": [
    {
     "data": {
      "text/html": [
       "<div>\n",
       "<style scoped>\n",
       "    .dataframe tbody tr th:only-of-type {\n",
       "        vertical-align: middle;\n",
       "    }\n",
       "\n",
       "    .dataframe tbody tr th {\n",
       "        vertical-align: top;\n",
       "    }\n",
       "\n",
       "    .dataframe thead th {\n",
       "        text-align: right;\n",
       "    }\n",
       "</style>\n",
       "<table border=\"1\" class=\"dataframe\">\n",
       "  <thead>\n",
       "    <tr style=\"text-align: right;\">\n",
       "      <th></th>\n",
       "      <th>group_size</th>\n",
       "      <th>prob</th>\n",
       "    </tr>\n",
       "  </thead>\n",
       "  <tbody>\n",
       "    <tr>\n",
       "      <th>0</th>\n",
       "      <td>2</td>\n",
       "      <td>0.6</td>\n",
       "    </tr>\n",
       "    <tr>\n",
       "      <th>1</th>\n",
       "      <td>4</td>\n",
       "      <td>0.2</td>\n",
       "    </tr>\n",
       "    <tr>\n",
       "      <th>2</th>\n",
       "      <td>6</td>\n",
       "      <td>0.1</td>\n",
       "    </tr>\n",
       "    <tr>\n",
       "      <th>3</th>\n",
       "      <td>3</td>\n",
       "      <td>0.1</td>\n",
       "    </tr>\n",
       "  </tbody>\n",
       "</table>\n",
       "</div>"
      ],
      "text/plain": [
       "   group_size  prob\n",
       "0           2   0.6\n",
       "1           4   0.2\n",
       "2           6   0.1\n",
       "3           3   0.1"
      ]
     },
     "execution_count": 34,
     "metadata": {},
     "output_type": "execute_result"
    }
   ],
   "source": [
    "size_dist"
   ]
  },
  {
   "cell_type": "markdown",
   "id": "90f3260e-2e46-4ac0-987d-9a796d5af4a6",
   "metadata": {},
   "source": [
    "- Calculate the expected value of the `size_distribution`, which represents the expected group size, by multiplying the `group_size` by the `prob` and taking the sum.\n"
   ]
  },
  {
   "cell_type": "code",
   "execution_count": 35,
   "id": "848907c8-6555-4cef-8af9-925fc7a01d00",
   "metadata": {},
   "outputs": [
    {
     "data": {
      "text/plain": [
       "2.9000000000000004"
      ]
     },
     "execution_count": 35,
     "metadata": {},
     "output_type": "execute_result"
    }
   ],
   "source": [
    "np.sum(size_dist['group_size'] * size_dist['prob'])"
   ]
  },
  {
   "cell_type": "markdown",
   "id": "a1b33c47-b8a0-496b-a086-af01791726bf",
   "metadata": {},
   "source": [
    "- Calculate the probability of randomly picking a group of 4 or more people by subsetting for groups of size 4 or more and summing the probabilities of selecting those groups.\n"
   ]
  },
  {
   "cell_type": "code",
   "execution_count": 38,
   "id": "f6db7b83-c918-436d-a1c3-17b7c4b56e01",
   "metadata": {},
   "outputs": [
    {
     "data": {
      "text/plain": [
       "0.30000000000000004"
      ]
     },
     "execution_count": 38,
     "metadata": {},
     "output_type": "execute_result"
    }
   ],
   "source": [
    "np.sum(size_dist.query('group_size >= 4')['prob'])"
   ]
  },
  {
   "cell_type": "code",
   "execution_count": null,
   "id": "a6d2334d-b5a8-45d4-a25b-10f0eec28060",
   "metadata": {},
   "outputs": [],
   "source": []
  }
 ],
 "metadata": {
  "kernelspec": {
   "display_name": "Python 3 (ipykernel)",
   "language": "python",
   "name": "python3"
  },
  "language_info": {
   "codemirror_mode": {
    "name": "ipython",
    "version": 3
   },
   "file_extension": ".py",
   "mimetype": "text/x-python",
   "name": "python",
   "nbconvert_exporter": "python",
   "pygments_lexer": "ipython3",
   "version": "3.11.7"
  }
 },
 "nbformat": 4,
 "nbformat_minor": 5
}
