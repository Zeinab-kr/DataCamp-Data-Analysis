{
 "cells": [
  {
   "cell_type": "markdown",
   "id": "b4a90ffd-3893-4f2c-98a1-6eddc2e87e0d",
   "metadata": {},
   "source": [
    "\n",
    "#  Does sugar improve happiness?\n",
    "\n",
    "##  Assignment \n",
    "\n",
    "A new column has been added to `world_happiness` called `grams_sugar_per_day`, which contains the average amount of sugar eaten per person per day in each country. In this exercise, you'll examine the effect of a country's average sugar consumption on its happiness score.\n",
    "\n",
    "`pandas` as `pd`, `matplotlib.pyplot` as `plt`, and `seaborn` as `sns` are imported, and `world_happiness` is loaded.\n",
    "\n",
    "##  Pre exercise code \n",
    "\n",
    "```\n",
    "import pandas as pd\n",
    "import matplotlib.pyplot as plt\n",
    "import seaborn as sns\n",
    "\n",
    "world_happiness = pd.read_csv(\"https://assets.datacamp.com/production/repositories/5786/datasets/e103d0cd7db40b51bd028d58d92647be1c28bca0/world_happiness_sugar.csv\")\n",
    "```\n"
   ]
  },
  {
   "cell_type": "code",
   "execution_count": 16,
   "id": "04242d7b-1414-4476-a5e7-f72f40417e5f",
   "metadata": {},
   "outputs": [],
   "source": [
    "import pandas as pd\n",
    "import matplotlib.pyplot as plt\n",
    "import seaborn as sns\n",
    "\n",
    "world_happiness = pd.read_csv(\"https://assets.datacamp.com/production/repositories/5786/datasets/e103d0cd7db40b51bd028d58d92647be1c28bca0/world_happiness_sugar.csv\")"
   ]
  },
  {
   "cell_type": "code",
   "execution_count": 17,
   "id": "6c228c77-74de-4083-99a8-f74790053daf",
   "metadata": {},
   "outputs": [
    {
     "data": {
      "text/html": [
       "<div>\n",
       "<style scoped>\n",
       "    .dataframe tbody tr th:only-of-type {\n",
       "        vertical-align: middle;\n",
       "    }\n",
       "\n",
       "    .dataframe tbody tr th {\n",
       "        vertical-align: top;\n",
       "    }\n",
       "\n",
       "    .dataframe thead th {\n",
       "        text-align: right;\n",
       "    }\n",
       "</style>\n",
       "<table border=\"1\" class=\"dataframe\">\n",
       "  <thead>\n",
       "    <tr style=\"text-align: right;\">\n",
       "      <th></th>\n",
       "      <th>Unnamed: 0</th>\n",
       "      <th>country</th>\n",
       "      <th>social_support</th>\n",
       "      <th>freedom</th>\n",
       "      <th>corruption</th>\n",
       "      <th>generosity</th>\n",
       "      <th>gdp_per_cap</th>\n",
       "      <th>life_exp</th>\n",
       "      <th>happiness_score</th>\n",
       "      <th>grams_sugar_per_day</th>\n",
       "    </tr>\n",
       "  </thead>\n",
       "  <tbody>\n",
       "    <tr>\n",
       "      <th>0</th>\n",
       "      <td>1</td>\n",
       "      <td>Finland</td>\n",
       "      <td>2</td>\n",
       "      <td>5</td>\n",
       "      <td>4.0</td>\n",
       "      <td>47</td>\n",
       "      <td>42400</td>\n",
       "      <td>81.8</td>\n",
       "      <td>155</td>\n",
       "      <td>86.8</td>\n",
       "    </tr>\n",
       "  </tbody>\n",
       "</table>\n",
       "</div>"
      ],
      "text/plain": [
       "   Unnamed: 0  country  social_support  freedom  corruption  generosity  \\\n",
       "0           1  Finland               2        5         4.0          47   \n",
       "\n",
       "   gdp_per_cap  life_exp  happiness_score  grams_sugar_per_day  \n",
       "0        42400      81.8              155                 86.8  "
      ]
     },
     "execution_count": 17,
     "metadata": {},
     "output_type": "execute_result"
    }
   ],
   "source": [
    "world_happiness.head(1)"
   ]
  },
  {
   "cell_type": "markdown",
   "id": "958136ef-54dd-43df-a2aa-e6ea6049f160",
   "metadata": {},
   "source": [
    "##  Instructions \n",
    "\n",
    "- Create a `seaborn` scatterplot showing the relationship between `grams_sugar_per_day` (on the x-axis) and `happiness_score` (on the y-axis).\n",
    "- Calculate the correlation between `grams_sugar_per_day` and `happiness_score`.\n"
   ]
  },
  {
   "cell_type": "code",
   "execution_count": 18,
   "id": "a4a81fd4-fd05-4d7f-a5b7-76b9188628fe",
   "metadata": {},
   "outputs": [
    {
     "data": {
      "text/plain": [
       "<Axes: xlabel='grams_sugar_per_day', ylabel='happiness_score'>"
      ]
     },
     "execution_count": 18,
     "metadata": {},
     "output_type": "execute_result"
    },
    {
     "data": {
      "image/png": "[encoded data removed]",
      "text/plain": [
       "<Figure size 640x480 with 1 Axes>"
      ]
     },
     "metadata": {},
     "output_type": "display_data"
    }
   ],
   "source": [
    "sns.scatterplot(x='grams_sugar_per_day', y='happiness_score', data=world_happiness)"
   ]
  },
  {
   "cell_type": "code",
   "execution_count": 19,
   "id": "ac163635-49dd-45c7-ac4e-a44e034e1208",
   "metadata": {},
   "outputs": [
    {
     "data": {
      "text/plain": [
       "0.6939100021829633"
      ]
     },
     "execution_count": 19,
     "metadata": {},
     "output_type": "execute_result"
    }
   ],
   "source": [
    "world_happiness['grams_sugar_per_day'].corr(world_happiness['happiness_score'])"
   ]
  },
  {
   "cell_type": "code",
   "execution_count": null,
   "id": "b8c69428-2ed8-4111-a1fc-42c22aaefb54",
   "metadata": {},
   "outputs": [],
   "source": []
  }
 ],
 "metadata": {
  "kernelspec": {
   "display_name": "Python 3 (ipykernel)",
   "language": "python",
   "name": "python3"
  },
  "language_info": {
   "codemirror_mode": {
    "name": "ipython",
    "version": 3
   },
   "file_extension": ".py",
   "mimetype": "text/x-python",
   "name": "python",
   "nbconvert_exporter": "python",
   "pygments_lexer": "ipython3",
   "version": "3.11.7"
  }
 },
 "nbformat": 4,
 "nbformat_minor": 5
}
