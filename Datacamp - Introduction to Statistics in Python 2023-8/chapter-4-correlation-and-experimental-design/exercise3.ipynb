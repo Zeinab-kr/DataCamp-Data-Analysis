{
 "cells": [
  {
   "cell_type": "markdown",
   "id": "54c6fb71-015a-4b52-918b-8abb44cab659",
   "metadata": {},
   "source": [
    "\n",
    "#  What can't correlation measure?\n",
    "\n",
    "##  Assignment \n",
    "\n",
    "While the correlation coefficient is a convenient way to quantify the strength of a relationship between two variables, it's far from perfect. In this exercise, you'll explore one of the caveats of the correlation coefficient by examining the relationship between a country's GDP per capita (`gdp_per_cap`) and happiness score.\n",
    "\n",
    "`pandas` as `pd`, `matplotlib.pyplot` as `plt`, and `seaborn` as `sns` are imported, and `world_happiness` is loaded.\n",
    "\n",
    "##  Pre exercise code \n",
    "\n",
    "```\n",
    "import pandas as pd\n",
    "import matplotlib.pyplot as plt\n",
    "import seaborn as sns\n",
    "\n",
    "world_happiness = pd.read_csv(\"https://assets.datacamp.com/production/repositories/5786/datasets/c3248c4db9de555010a360aabcb45894d3115bdd/world_happiness.csv\")\n",
    "```\n"
   ]
  },
  {
   "cell_type": "code",
   "execution_count": 1,
   "id": "22a9bf13-c669-45b9-ac4e-622fb0dda112",
   "metadata": {},
   "outputs": [],
   "source": [
    "import pandas as pd\n",
    "import matplotlib.pyplot as plt\n",
    "import seaborn as sns\n",
    "\n",
    "world_happiness = pd.read_csv(\"world_happiness.csv\")"
   ]
  },
  {
   "cell_type": "code",
   "execution_count": 2,
   "id": "2b218a65-df3c-46da-8beb-8039f52056a9",
   "metadata": {},
   "outputs": [
    {
     "data": {
      "text/html": [
       "<div>\n",
       "<style scoped>\n",
       "    .dataframe tbody tr th:only-of-type {\n",
       "        vertical-align: middle;\n",
       "    }\n",
       "\n",
       "    .dataframe tbody tr th {\n",
       "        vertical-align: top;\n",
       "    }\n",
       "\n",
       "    .dataframe thead th {\n",
       "        text-align: right;\n",
       "    }\n",
       "</style>\n",
       "<table border=\"1\" class=\"dataframe\">\n",
       "  <thead>\n",
       "    <tr style=\"text-align: right;\">\n",
       "      <th></th>\n",
       "      <th>Unnamed: 0</th>\n",
       "      <th>country</th>\n",
       "      <th>social_support</th>\n",
       "      <th>freedom</th>\n",
       "      <th>corruption</th>\n",
       "      <th>generosity</th>\n",
       "      <th>gdp_per_cap</th>\n",
       "      <th>life_exp</th>\n",
       "      <th>happiness_score</th>\n",
       "    </tr>\n",
       "  </thead>\n",
       "  <tbody>\n",
       "    <tr>\n",
       "      <th>0</th>\n",
       "      <td>1</td>\n",
       "      <td>Finland</td>\n",
       "      <td>2.0</td>\n",
       "      <td>5.0</td>\n",
       "      <td>4.0</td>\n",
       "      <td>47.0</td>\n",
       "      <td>42400</td>\n",
       "      <td>81.8</td>\n",
       "      <td>155</td>\n",
       "    </tr>\n",
       "  </tbody>\n",
       "</table>\n",
       "</div>"
      ],
      "text/plain": [
       "   Unnamed: 0  country  social_support  freedom  corruption  generosity  \\\n",
       "0           1  Finland             2.0      5.0         4.0        47.0   \n",
       "\n",
       "   gdp_per_cap  life_exp  happiness_score  \n",
       "0        42400      81.8              155  "
      ]
     },
     "execution_count": 2,
     "metadata": {},
     "output_type": "execute_result"
    }
   ],
   "source": [
    "world_happiness.head(1)"
   ]
  },
  {
   "cell_type": "markdown",
   "id": "aa57d810-44f5-46ad-b791-bdd26af5a057",
   "metadata": {},
   "source": [
    "##  Instructions \n",
    "\n",
    "- Create a `seaborn` scatterplot (without a trendline) showing the relationship between `gdp_per_cap` (on the x-axis) and `life_exp` (on the y-axis).\n",
    "- Show the plot\n"
   ]
  },
  {
   "cell_type": "code",
   "execution_count": 3,
   "id": "a1205447-b60c-4c36-9e0c-951adc14d284",
   "metadata": {},
   "outputs": [
    {
     "data": {
      "text/plain": [
       "<Axes: xlabel='gdp_per_cap', ylabel='life_exp'>"
      ]
     },
     "execution_count": 3,
     "metadata": {},
     "output_type": "execute_result"
    },
    {
     "data": {
      "image/png": "[encoded data removed]",
      "text/plain": [
       "<Figure size 640x480 with 1 Axes>"
      ]
     },
     "metadata": {},
     "output_type": "display_data"
    }
   ],
   "source": [
    "sns.scatterplot(x='gdp_per_cap', y='life_exp', data=world_happiness)"
   ]
  },
  {
   "cell_type": "markdown",
   "id": "9d7abbd0-d350-410d-9678-603a5645eec3",
   "metadata": {},
   "source": [
    "\n",
    "- Calculate the correlation between `gdp_per_cap` and `life_exp` and store as `cor`.\n"
   ]
  },
  {
   "cell_type": "code",
   "execution_count": 4,
   "id": "a1a75920-56c6-4672-a104-a6c494b860ee",
   "metadata": {},
   "outputs": [],
   "source": [
    "cor = world_happiness['gdp_per_cap'].corr(world_happiness['life_exp'])"
   ]
  },
  {
   "cell_type": "code",
   "execution_count": 5,
   "id": "b9c5afa4-9a33-41d3-b0a7-71a96bc3a729",
   "metadata": {},
   "outputs": [
    {
     "data": {
      "text/plain": [
       "0.7019547642148012"
      ]
     },
     "execution_count": 5,
     "metadata": {},
     "output_type": "execute_result"
    }
   ],
   "source": [
    "cor"
   ]
  },
  {
   "cell_type": "code",
   "execution_count": null,
   "id": "5c4c8d6a-0149-42d7-8ab2-89d1a224dd06",
   "metadata": {},
   "outputs": [],
   "source": []
  }
 ],
 "metadata": {
  "kernelspec": {
   "display_name": "Python 3 (ipykernel)",
   "language": "python",
   "name": "python3"
  },
  "language_info": {
   "codemirror_mode": {
    "name": "ipython",
    "version": 3
   },
   "file_extension": ".py",
   "mimetype": "text/x-python",
   "name": "python",
   "nbconvert_exporter": "python",
   "pygments_lexer": "ipython3",
   "version": "3.11.7"
  }
 },
 "nbformat": 4,
 "nbformat_minor": 5
}
