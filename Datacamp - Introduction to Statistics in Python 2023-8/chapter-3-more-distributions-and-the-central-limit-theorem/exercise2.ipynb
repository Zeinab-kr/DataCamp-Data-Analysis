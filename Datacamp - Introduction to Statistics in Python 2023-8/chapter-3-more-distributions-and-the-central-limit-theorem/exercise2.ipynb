{
 "cells": [
  {
   "cell_type": "markdown",
   "id": "2539290b-75a7-480f-81fe-93e40fd40e56",
   "metadata": {},
   "source": [
    "\n",
    "#  Probabilities from the normal distribution\n",
    "\n",
    "##  Assignment \n",
    "\n",
    "Since each deal Amir worked on (both won and lost) was different, each was worth a different amount of money. These values are stored in the `amount` column of `amir_deals` and follow a normal distribution with a mean of 5000 dollars and a standard deviation of 2000 dollars. As part of his performance metrics, you want to calculate the probability of Amir closing a deal worth various amounts.\n",
    "\n",
    "`norm` from `scipy.stats` is imported as well as `pandas` as `pd`. The DataFrame `amir_deals` is loaded.\n",
    "\n",
    "##  Pre exercise code \n",
    "\n",
    "```\n",
    "import pandas as pd\n",
    "from scipy.stats import norm\n",
    "amir_deals = pd.read_csv(\"https://assets.datacamp.com/production/repositories/5786/datasets/db3f4e8c9d708fc3b8dfea51d0fdf21d693d2be3/amir_deals.csv\")\n",
    "```\n",
    "\n"
   ]
  },
  {
   "cell_type": "code",
   "execution_count": 6,
   "id": "5fcf5076-9b60-4430-a92f-e76c22f19c0a",
   "metadata": {},
   "outputs": [],
   "source": [
    "import pandas as ps\n",
    "from scipy.stats import norm"
   ]
  },
  {
   "cell_type": "code",
   "execution_count": 7,
   "id": "f266054e-c7a7-499e-87ba-f7d9e9c5c750",
   "metadata": {},
   "outputs": [],
   "source": [
    "amir = pd.read_csv('amir_deals.csv')"
   ]
  },
  {
   "cell_type": "code",
   "execution_count": 8,
   "id": "bafef490-b263-4568-ac0a-5b104c1bbdfe",
   "metadata": {},
   "outputs": [
    {
     "data": {
      "text/html": [
       "<div>\n",
       "<style scoped>\n",
       "    .dataframe tbody tr th:only-of-type {\n",
       "        vertical-align: middle;\n",
       "    }\n",
       "\n",
       "    .dataframe tbody tr th {\n",
       "        vertical-align: top;\n",
       "    }\n",
       "\n",
       "    .dataframe thead th {\n",
       "        text-align: right;\n",
       "    }\n",
       "</style>\n",
       "<table border=\"1\" class=\"dataframe\">\n",
       "  <thead>\n",
       "    <tr style=\"text-align: right;\">\n",
       "      <th></th>\n",
       "      <th>Unnamed: 0</th>\n",
       "      <th>product</th>\n",
       "      <th>client</th>\n",
       "      <th>status</th>\n",
       "      <th>amount</th>\n",
       "      <th>num_users</th>\n",
       "    </tr>\n",
       "  </thead>\n",
       "  <tbody>\n",
       "    <tr>\n",
       "      <th>0</th>\n",
       "      <td>1</td>\n",
       "      <td>Product F</td>\n",
       "      <td>Current</td>\n",
       "      <td>Won</td>\n",
       "      <td>7389.52</td>\n",
       "      <td>19</td>\n",
       "    </tr>\n",
       "  </tbody>\n",
       "</table>\n",
       "</div>"
      ],
      "text/plain": [
       "   Unnamed: 0    product   client status   amount  num_users\n",
       "0           1  Product F  Current    Won  7389.52         19"
      ]
     },
     "execution_count": 8,
     "metadata": {},
     "output_type": "execute_result"
    }
   ],
   "source": [
    "amir.head(1)"
   ]
  },
  {
   "cell_type": "markdown",
   "id": "6ecf38a9-ff73-46d9-b532-3e4f29819048",
   "metadata": {},
   "source": [
    "\n",
    "##  Instructions \n",
    "\n",
    "- What's the probability of Amir closing a deal worth less than $7500?\n"
   ]
  },
  {
   "cell_type": "code",
   "execution_count": 10,
   "id": "d86ea343-57ec-48f3-b8db-b4dc41dfa8aa",
   "metadata": {},
   "outputs": [],
   "source": [
    "mean_amount = amir['amount'].mean()"
   ]
  },
  {
   "cell_type": "code",
   "execution_count": 12,
   "id": "866ed402-c4b9-4045-98d2-13853a4b26a6",
   "metadata": {},
   "outputs": [],
   "source": [
    "std_amount = amir['amount'].std()"
   ]
  },
  {
   "cell_type": "code",
   "execution_count": 13,
   "id": "954973b3-ecec-41e5-be12-75b7ce8d009f",
   "metadata": {},
   "outputs": [
    {
     "data": {
      "text/plain": [
       "0.9042258221229889"
      ]
     },
     "execution_count": 13,
     "metadata": {},
     "output_type": "execute_result"
    }
   ],
   "source": [
    "norm.cdf(7500, mean_amount, std_amount)"
   ]
  },
  {
   "cell_type": "markdown",
   "id": "254c7be9-682f-4125-8cfa-ecd515749d17",
   "metadata": {},
   "source": [
    "\n",
    "- What's the probability of Amir closing a deal worth more than $1000?\n",
    "\n"
   ]
  },
  {
   "cell_type": "code",
   "execution_count": 14,
   "id": "3ea8fbf5-837d-4e3e-ba7a-7fce5ce099ed",
   "metadata": {},
   "outputs": [
    {
     "data": {
      "text/plain": [
       "0.9679962803797578"
      ]
     },
     "execution_count": 14,
     "metadata": {},
     "output_type": "execute_result"
    }
   ],
   "source": [
    "1 - norm.cdf(1000, mean_amount, std_amount)"
   ]
  },
  {
   "cell_type": "markdown",
   "id": "a59cfae8-e33f-463d-8265-675318128cfd",
   "metadata": {},
   "source": [
    "\n",
    "- What's the probability of Amir closing a deal worth between $3000 and $7000?\n",
    "\n"
   ]
  },
  {
   "cell_type": "code",
   "execution_count": 16,
   "id": "b7d66c79-06b3-4211-ab07-bd225c6ef97f",
   "metadata": {},
   "outputs": [
    {
     "data": {
      "text/plain": [
       "0.6668034681540913"
      ]
     },
     "execution_count": 16,
     "metadata": {},
     "output_type": "execute_result"
    }
   ],
   "source": [
    "norm.cdf(7000, mean_amount, std_amount) - norm.cdf(3000, mean_amount, std_amount)"
   ]
  },
  {
   "cell_type": "markdown",
   "id": "d466706c-1e32-49fd-ae72-c1d43f57e814",
   "metadata": {},
   "source": [
    "- What amount will 25% of Amir's sales be **less than**?\n"
   ]
  },
  {
   "cell_type": "code",
   "execution_count": 20,
   "id": "0406bf3f-b625-4c19-8e7b-c17ee9fd8683",
   "metadata": {},
   "outputs": [
    {
     "data": {
      "text/plain": [
       "3423.7835924483165"
      ]
     },
     "execution_count": 20,
     "metadata": {},
     "output_type": "execute_result"
    }
   ],
   "source": [
    "norm.ppf(0.25, mean_amount, std_amount)"
   ]
  },
  {
   "cell_type": "code",
   "execution_count": null,
   "id": "074e36a4-0ffb-4160-9a9e-eea1e7615b15",
   "metadata": {},
   "outputs": [],
   "source": []
  }
 ],
 "metadata": {
  "kernelspec": {
   "display_name": "Python 3 (ipykernel)",
   "language": "python",
   "name": "python3"
  },
  "language_info": {
   "codemirror_mode": {
    "name": "ipython",
    "version": 3
   },
   "file_extension": ".py",
   "mimetype": "text/x-python",
   "name": "python",
   "nbconvert_exporter": "python",
   "pygments_lexer": "ipython3",
   "version": "3.11.7"
  }
 },
 "nbformat": 4,
 "nbformat_minor": 5
}
