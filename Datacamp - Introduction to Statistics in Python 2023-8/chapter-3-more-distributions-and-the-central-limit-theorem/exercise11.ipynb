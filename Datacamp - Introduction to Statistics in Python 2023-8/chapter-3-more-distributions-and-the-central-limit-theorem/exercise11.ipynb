{
 "cells": [
  {
   "cell_type": "markdown",
   "id": "5ad4c4b0-7611-4524-9a60-e8effe4ec158",
   "metadata": {},
   "source": [
    "#  Modeling time between leads\n",
    "\n",
    "\n",
    "##  Assignment \n",
    "\n",
    "To further evaluate Amir's performance, you want to know how much time it takes him to respond to a lead after he opens it. On average, he responds to 1 request every 2.5 hours. In this exercise, you'll calculate probabilities of different amounts of time passing between Amir receiving a lead and sending a response.\n"
   ]
  },
  {
   "cell_type": "markdown",
   "id": "905a92c5-329d-42be-a689-179109e8a9c8",
   "metadata": {},
   "source": [
    "##  Instructions \n",
    "\n",
    "- Import `expon` from `scipy.stats`. What's the probability it takes Amir less than an hour to respond to a lead?\n",
    "\n"
   ]
  },
  {
   "cell_type": "code",
   "execution_count": 54,
   "id": "b9d3c3e2-25f0-4176-99fc-e43861d1ed10",
   "metadata": {},
   "outputs": [],
   "source": [
    "from scipy.stats import expon"
   ]
  },
  {
   "cell_type": "code",
   "execution_count": 56,
   "id": "657007e8-05bc-487c-b83e-ebaaafe48127",
   "metadata": {},
   "outputs": [
    {
     "data": {
      "text/plain": [
       "0.3296799539643607"
      ]
     },
     "execution_count": 56,
     "metadata": {},
     "output_type": "execute_result"
    }
   ],
   "source": [
    "expon.cdf(1, scale=2.5)"
   ]
  },
  {
   "cell_type": "markdown",
   "id": "8a89fbf9-8951-40dd-8857-c9ac3f7a4b69",
   "metadata": {},
   "source": [
    "\n",
    "- What's the probability it takes Amir more than 4 hours to respond to a lead?\n",
    "\n"
   ]
  },
  {
   "cell_type": "code",
   "execution_count": 57,
   "id": "13ac76eb-8811-4e68-acaf-2846ec7b3b7e",
   "metadata": {},
   "outputs": [
    {
     "data": {
      "text/plain": [
       "0.20189651799465536"
      ]
     },
     "execution_count": 57,
     "metadata": {},
     "output_type": "execute_result"
    }
   ],
   "source": [
    "1 - expon.cdf(4, scale=2.5)"
   ]
  },
  {
   "cell_type": "markdown",
   "id": "072893aa-a2f9-4423-a7a7-7dea9b276cff",
   "metadata": {},
   "source": [
    "\n",
    "- What's the probability it takes Amir 3-4 hours to respond to a lead?\n"
   ]
  },
  {
   "cell_type": "code",
   "execution_count": 61,
   "id": "8f55b8f6-1fa3-4d10-acd2-82d3b78b5171",
   "metadata": {},
   "outputs": [
    {
     "data": {
      "text/plain": [
       "0.09929769391754684"
      ]
     },
     "execution_count": 61,
     "metadata": {},
     "output_type": "execute_result"
    }
   ],
   "source": [
    "expon.cdf(4, scale=2.5) - expon.cdf(3, scale=2.5)"
   ]
  },
  {
   "cell_type": "code",
   "execution_count": null,
   "id": "e6fc9935-a590-4b12-9b9e-11c908c60d2e",
   "metadata": {},
   "outputs": [],
   "source": []
  }
 ],
 "metadata": {
  "kernelspec": {
   "display_name": "Python 3 (ipykernel)",
   "language": "python",
   "name": "python3"
  },
  "language_info": {
   "codemirror_mode": {
    "name": "ipython",
    "version": 3
   },
   "file_extension": ".py",
   "mimetype": "text/x-python",
   "name": "python",
   "nbconvert_exporter": "python",
   "pygments_lexer": "ipython3",
   "version": "3.11.7"
  }
 },
 "nbformat": 4,
 "nbformat_minor": 5
}
