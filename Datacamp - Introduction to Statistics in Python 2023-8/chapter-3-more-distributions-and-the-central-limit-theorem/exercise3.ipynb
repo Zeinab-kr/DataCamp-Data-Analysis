{
 "cells": [
  {
   "cell_type": "markdown",
   "id": "f8616508-f1a3-44bf-8f47-2f1bb8a7012c",
   "metadata": {},
   "source": [
    "#  Simulating sales under new market conditions\n",
    "\n",
    "##  Assignment \n",
    "\n",
    "The company's financial analyst is predicting that next quarter, the worth of each sale will increase by 20% and the volatility, or standard deviation, of each sale's worth will increase by 30%. To see what Amir's sales might look like next quarter under these new market conditions, you'll simulate new sales amounts using the normal distribution and store these in the `new_sales` DataFrame, which has already been created for you.\n",
    "\n",
    "In addition, `norm` from `scipy.stats`, `pandas` as `pd`, and `matplotlib.pyplot` as `plt` are loaded.\n",
    "\n",
    "##  Pre exercise code \n",
    "\n",
    "```\n",
    "import pandas as pd\n",
    "import matplotlib.pyplot as plt\n",
    "from scipy.stats import norm\n",
    "```\n",
    "\n",
    "\n",
    "\n",
    "##  Instructions \n",
    "\n",
    "- Currently, Amir's average sale amount is $5000. Calculate what his new average amount will be if it increases by 20% and store this in `new_mean`.\n",
    "- Amir's current standard deviation is $2000. Calculate what his new standard deviation will be if it increases by 30% and store this in `new_sd`.\n",
    "- Create a variable called `new_sales`, which contains 36 simulated amounts from a normal distribution with a mean of `new_mean` and a standard deviation of `new_sd`.\n",
    "- Plot the distribution of the `new_sales` `amount`s using a histogram and show the plot.\n"
   ]
  },
  {
   "cell_type": "code",
   "execution_count": 21,
   "id": "ffcfa45b-5799-4cc6-8500-8f08c8a172c9",
   "metadata": {},
   "outputs": [],
   "source": [
    "import pandas as pd\n",
    "import matplotlib.pyplot as plt\n",
    "from scipy.stats import norm"
   ]
  },
  {
   "cell_type": "code",
   "execution_count": 22,
   "id": "f0146d0d-d399-4543-a71d-2a79526b353e",
   "metadata": {},
   "outputs": [],
   "source": [
    "new_mean = 1.2 * 5000"
   ]
  },
  {
   "cell_type": "code",
   "execution_count": 23,
   "id": "33828160-1b75-4ea8-8c77-f309d3bc3efa",
   "metadata": {},
   "outputs": [],
   "source": [
    "new_sd = 1.3 * 2000"
   ]
  },
  {
   "cell_type": "code",
   "execution_count": 26,
   "id": "28ca08df-5792-40e7-ab07-9aee8f492752",
   "metadata": {},
   "outputs": [],
   "source": [
    "new_sales = norm.rvs(new_mean, new_sd, size=36)"
   ]
  },
  {
   "cell_type": "code",
   "execution_count": 29,
   "id": "256af335-431b-41a4-809e-47296f6d98ce",
   "metadata": {},
   "outputs": [
    {
     "data": {
      "text/plain": [
       "array([ 7499.13558581, 10674.17667183,  9120.36321458,  4360.36539596,\n",
       "        4009.64226043,  2707.19686768,  5850.65258041,  7499.63294013,\n",
       "        5462.23560597, -1009.79739747,  2705.0594426 ,  7349.50768538,\n",
       "       11863.55212227,  4352.62685083,  9714.91774437,  8069.45487397,\n",
       "        2642.49053471,  6491.1964913 ,  6642.41966314,  6969.13576483,\n",
       "        4574.84323801,  6182.88739585,  7818.5901113 ,  6979.44928041,\n",
       "        6336.07052992,  2284.78706299,  6064.42936661,  1586.40118707,\n",
       "       11120.4724388 ,  7437.03887934,  4603.75263811,  9404.44792796,\n",
       "        3219.9031274 ,  9328.38282626,  7580.16733653,  5090.82370466])"
      ]
     },
     "execution_count": 29,
     "metadata": {},
     "output_type": "execute_result"
    }
   ],
   "source": [
    "new_sales"
   ]
  },
  {
   "cell_type": "code",
   "execution_count": 31,
   "id": "382838b0-cb81-4dbd-b48e-5d564fb4d6ff",
   "metadata": {},
   "outputs": [
    {
     "data": {
      "text/plain": [
       "(array([1., 0., 5., 2., 5., 7., 8., 2., 3., 3.]),\n",
       " array([-1009.79739747,   277.5375545 ,  1564.87250648,  2852.20745845,\n",
       "         4139.54241043,  5426.8773624 ,  6714.21231438,  8001.54726635,\n",
       "         9288.88221832, 10576.2171703 , 11863.55212227]),\n",
       " <BarContainer object of 10 artists>)"
      ]
     },
     "execution_count": 31,
     "metadata": {},
     "output_type": "execute_result"
    },
    {
     "data": {
      "image/png": "[encoded data removed]",
      "text/plain": [
       "<Figure size 640x480 with 1 Axes>"
      ]
     },
     "metadata": {},
     "output_type": "display_data"
    }
   ],
   "source": [
    "plt.hist(new_sales)"
   ]
  },
  {
   "cell_type": "code",
   "execution_count": null,
   "id": "f82a7aa0-5ad1-4cff-bc20-bc57f535f9af",
   "metadata": {},
   "outputs": [],
   "source": []
  }
 ],
 "metadata": {
  "kernelspec": {
   "display_name": "Python 3 (ipykernel)",
   "language": "python",
   "name": "python3"
  },
  "language_info": {
   "codemirror_mode": {
    "name": "ipython",
    "version": 3
   },
   "file_extension": ".py",
   "mimetype": "text/x-python",
   "name": "python",
   "nbconvert_exporter": "python",
   "pygments_lexer": "ipython3",
   "version": "3.11.7"
  }
 },
 "nbformat": 4,
 "nbformat_minor": 5
}
