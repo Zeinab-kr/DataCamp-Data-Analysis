{
 "cells": [
  {
   "cell_type": "markdown",
   "id": "8658fa3f-ccf0-4c95-9a2e-f32043289119",
   "metadata": {},
   "source": [
    "#  The CLT in action\n",
    "\n",
    "##  Assignment \n",
    "\n",
    "The central limit theorem states that a sampling distribution of a sample statistic approaches the normal distribution as you take more samples, no matter the original distribution being sampled from.\n",
    "\n",
    "In this exercise, you'll focus on the sample mean and see the central limit theorem in action while examining the `num_users` column of `amir_deals` more closely, which contains the number of people who intend to use the product Amir is selling.\n",
    "\n",
    "`pandas` as `pd`, `numpy` as `np`, and `matplotlib.pyplot` as `plt` are loaded and `amir_deals` is available.\n",
    "\n",
    "##  Pre exercise code \n",
    "\n",
    "```\n",
    "import pandas as pd\n",
    "import numpy as np\n",
    "import matplotlib.pyplot as plt\n",
    "amir_deals = pd.read_csv(\"https://assets.datacamp.com/production/repositories/5786/datasets/db3f4e8c9d708fc3b8dfea51d0fdf21d693d2be3/amir_deals.csv\")\n",
    "```\n"
   ]
  },
  {
   "cell_type": "code",
   "execution_count": 32,
   "id": "ad052352-184d-4d82-8bfa-13bc48d52d5c",
   "metadata": {},
   "outputs": [],
   "source": [
    "import pandas as pd\n",
    "import numpy as np\n",
    "import matplotlib.pyplot as plt"
   ]
  },
  {
   "cell_type": "code",
   "execution_count": 33,
   "id": "2f491e89-767d-41ee-8604-90a73f06bebf",
   "metadata": {},
   "outputs": [],
   "source": [
    "amir = pd.read_csv('amir_deals.csv')"
   ]
  },
  {
   "cell_type": "markdown",
   "id": "38fff103-7f20-4896-8ba0-0799a8ba77aa",
   "metadata": {},
   "source": [
    "\n",
    "##  Instructions \n",
    "\n",
    "- Create a histogram of the `num_users` column of `amir_deals` and show the plot.\n",
    "\n"
   ]
  },
  {
   "cell_type": "code",
   "execution_count": 34,
   "id": "1732a452-5f64-435b-8f4c-3e89df21ea11",
   "metadata": {},
   "outputs": [
    {
     "data": {
      "text/html": [
       "<div>\n",
       "<style scoped>\n",
       "    .dataframe tbody tr th:only-of-type {\n",
       "        vertical-align: middle;\n",
       "    }\n",
       "\n",
       "    .dataframe tbody tr th {\n",
       "        vertical-align: top;\n",
       "    }\n",
       "\n",
       "    .dataframe thead th {\n",
       "        text-align: right;\n",
       "    }\n",
       "</style>\n",
       "<table border=\"1\" class=\"dataframe\">\n",
       "  <thead>\n",
       "    <tr style=\"text-align: right;\">\n",
       "      <th></th>\n",
       "      <th>Unnamed: 0</th>\n",
       "      <th>product</th>\n",
       "      <th>client</th>\n",
       "      <th>status</th>\n",
       "      <th>amount</th>\n",
       "      <th>num_users</th>\n",
       "    </tr>\n",
       "  </thead>\n",
       "  <tbody>\n",
       "    <tr>\n",
       "      <th>0</th>\n",
       "      <td>1</td>\n",
       "      <td>Product F</td>\n",
       "      <td>Current</td>\n",
       "      <td>Won</td>\n",
       "      <td>7389.52</td>\n",
       "      <td>19</td>\n",
       "    </tr>\n",
       "  </tbody>\n",
       "</table>\n",
       "</div>"
      ],
      "text/plain": [
       "   Unnamed: 0    product   client status   amount  num_users\n",
       "0           1  Product F  Current    Won  7389.52         19"
      ]
     },
     "execution_count": 34,
     "metadata": {},
     "output_type": "execute_result"
    }
   ],
   "source": [
    "amir.head(1)"
   ]
  },
  {
   "cell_type": "code",
   "execution_count": 35,
   "id": "975f78e8-c2e1-45fa-aaa9-1650119163b5",
   "metadata": {},
   "outputs": [
    {
     "data": {
      "text/plain": [
       "<Axes: >"
      ]
     },
     "execution_count": 35,
     "metadata": {},
     "output_type": "execute_result"
    },
    {
     "data": {
      "image/png": "[encoded data removed]",
      "text/plain": [
       "<Figure size 640x480 with 1 Axes>"
      ]
     },
     "metadata": {},
     "output_type": "display_data"
    }
   ],
   "source": [
    "amir['num_users'].hist()"
   ]
  },
  {
   "cell_type": "markdown",
   "id": "429e87d5-9c1a-4df6-8b65-db3ce0e89eee",
   "metadata": {},
   "source": [
    "- Set the seed to `104`.\n",
    "- Take a sample of size `20` with replacement from the `num_users` column of `amir_deals`, and take the mean.\n"
   ]
  },
  {
   "cell_type": "code",
   "execution_count": 36,
   "id": "b26896e5-df51-4236-ad27-d00f9def8b29",
   "metadata": {},
   "outputs": [],
   "source": [
    "np.random.seed(104)"
   ]
  },
  {
   "cell_type": "code",
   "execution_count": 37,
   "id": "b59a4378-b406-4a17-a60c-c7e08524a548",
   "metadata": {},
   "outputs": [],
   "source": [
    "smpl_mean = amir['num_users'].sample(20).mean()"
   ]
  },
  {
   "cell_type": "code",
   "execution_count": 38,
   "id": "f2038248-3da9-42a7-a8f9-02c572f32b78",
   "metadata": {},
   "outputs": [
    {
     "data": {
      "text/plain": [
       "34.5"
      ]
     },
     "execution_count": 38,
     "metadata": {},
     "output_type": "execute_result"
    }
   ],
   "source": [
    "smpl_mean"
   ]
  },
  {
   "cell_type": "markdown",
   "id": "64ce299a-9cf1-4b7d-b5d7-5093de9f6911",
   "metadata": {},
   "source": [
    "- Repeat this 100 times using a `for` loop and store as `sample_means`. This will take 100 different samples and calculate the mean of each.\n",
    "\n"
   ]
  },
  {
   "cell_type": "code",
   "execution_count": 39,
   "id": "c8b6f018-5c3f-403c-a763-108c325bab65",
   "metadata": {},
   "outputs": [],
   "source": [
    "smpl_means = []\n",
    "for i in range(0, 100):\n",
    "    smpl_means.append(amir['num_users'].sample(20).mean())"
   ]
  },
  {
   "cell_type": "markdown",
   "id": "4f84b1f7-e47c-4522-86c1-a9bd8effb0ee",
   "metadata": {},
   "source": [
    "- Convert `sample_means` into a `pd.Series`, create a histogram of the `sample_means`, and show the plot.\n"
   ]
  },
  {
   "cell_type": "code",
   "execution_count": 41,
   "id": "9b50efa6-91ff-4411-b9c3-3cb1a53b03f1",
   "metadata": {},
   "outputs": [],
   "source": [
    "smpl_means = pd.DataFrame(smpl_means)"
   ]
  },
  {
   "cell_type": "code",
   "execution_count": 42,
   "id": "aab63837-950d-4cfa-8a88-17c45a282cd3",
   "metadata": {},
   "outputs": [
    {
     "data": {
      "text/html": [
       "<div>\n",
       "<style scoped>\n",
       "    .dataframe tbody tr th:only-of-type {\n",
       "        vertical-align: middle;\n",
       "    }\n",
       "\n",
       "    .dataframe tbody tr th {\n",
       "        vertical-align: top;\n",
       "    }\n",
       "\n",
       "    .dataframe thead th {\n",
       "        text-align: right;\n",
       "    }\n",
       "</style>\n",
       "<table border=\"1\" class=\"dataframe\">\n",
       "  <thead>\n",
       "    <tr style=\"text-align: right;\">\n",
       "      <th></th>\n",
       "      <th>0</th>\n",
       "    </tr>\n",
       "  </thead>\n",
       "  <tbody>\n",
       "    <tr>\n",
       "      <th>0</th>\n",
       "      <td>36.4</td>\n",
       "    </tr>\n",
       "  </tbody>\n",
       "</table>\n",
       "</div>"
      ],
      "text/plain": [
       "      0\n",
       "0  36.4"
      ]
     },
     "execution_count": 42,
     "metadata": {},
     "output_type": "execute_result"
    }
   ],
   "source": [
    "smpl_means.head(1)"
   ]
  },
  {
   "cell_type": "code",
   "execution_count": 44,
   "id": "38fd0418-776e-4907-89bb-6328cbba1a6b",
   "metadata": {},
   "outputs": [
    {
     "data": {
      "text/plain": [
       "array([[<Axes: title={'center': '0'}>]], dtype=object)"
      ]
     },
     "execution_count": 44,
     "metadata": {},
     "output_type": "execute_result"
    },
    {
     "data": {
      "image/png": "[encoded data removed]",
      "text/plain": [
       "<Figure size 640x480 with 1 Axes>"
      ]
     },
     "metadata": {},
     "output_type": "display_data"
    }
   ],
   "source": [
    "smpl_means.hist()"
   ]
  },
  {
   "cell_type": "code",
   "execution_count": null,
   "id": "b6e4fa6e-4953-4edb-87d6-383474eabebe",
   "metadata": {},
   "outputs": [],
   "source": []
  }
 ],
 "metadata": {
  "kernelspec": {
   "display_name": "Python 3 (ipykernel)",
   "language": "python",
   "name": "python3"
  },
  "language_info": {
   "codemirror_mode": {
    "name": "ipython",
    "version": 3
   },
   "file_extension": ".py",
   "mimetype": "text/x-python",
   "name": "python",
   "nbconvert_exporter": "python",
   "pygments_lexer": "ipython3",
   "version": "3.11.7"
  }
 },
 "nbformat": 4,
 "nbformat_minor": 5
}
