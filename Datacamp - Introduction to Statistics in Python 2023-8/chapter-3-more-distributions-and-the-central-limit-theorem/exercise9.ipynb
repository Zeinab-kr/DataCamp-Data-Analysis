{
 "cells": [
  {
   "cell_type": "markdown",
   "id": "62434aad-0632-4d5c-b12e-c64b1aa976da",
   "metadata": {},
   "source": [
    "#  Tracking lead responses\n",
    "\n",
    "##  Assignment \n",
    "\n",
    "Your company uses sales software to keep track of new sales leads. It organizes them into a queue so that anyone can follow up on one when they have a bit of free time. Since the number of lead responses is a countable outcome over a period of time, this scenario corresponds to a Poisson distribution. On average, Amir responds to 4 leads each day. In this exercise, you'll calculate probabilities of Amir responding to different numbers of leads.\n"
   ]
  },
  {
   "cell_type": "markdown",
   "id": "2d8c509f-ad59-48c5-aff4-841aac01f161",
   "metadata": {},
   "source": [
    "##  Instructions \n",
    "\n",
    "- Import `poisson` from `scipy.stats` and calculate the probability that Amir responds to 5 leads in a day, given that he responds to an average of 4.\n"
   ]
  },
  {
   "cell_type": "code",
   "execution_count": 47,
   "id": "8244de91-e16e-4a93-8380-6573144f4cc9",
   "metadata": {},
   "outputs": [],
   "source": [
    "from scipy.stats import poisson"
   ]
  },
  {
   "cell_type": "code",
   "execution_count": 50,
   "id": "b1ab3e08-ab7d-4164-a1f6-93b93739d3d0",
   "metadata": {},
   "outputs": [
    {
     "data": {
      "text/plain": [
       "0.1562934518505317"
      ]
     },
     "execution_count": 50,
     "metadata": {},
     "output_type": "execute_result"
    }
   ],
   "source": [
    "poisson.pmf(5, 4)"
   ]
  },
  {
   "cell_type": "markdown",
   "id": "5ddd4e69-ddb4-406e-aa59-1971b548bd67",
   "metadata": {},
   "source": [
    "- Amir's coworker responds to an average of 5.5 leads per day. What is the probability that she answers 5 leads in a day?\n"
   ]
  },
  {
   "cell_type": "code",
   "execution_count": 51,
   "id": "d3750c7a-2d40-46a3-9329-d8acfbdee17e",
   "metadata": {},
   "outputs": [
    {
     "data": {
      "text/plain": [
       "0.17140068409793663"
      ]
     },
     "execution_count": 51,
     "metadata": {},
     "output_type": "execute_result"
    }
   ],
   "source": [
    "poisson.pmf(5, 5.5)"
   ]
  },
  {
   "cell_type": "markdown",
   "id": "93abf7cf-c14d-447d-8e64-846bfcb7f043",
   "metadata": {},
   "source": [
    "\n",
    "- What's the probability that Amir responds to 2 or fewer leads in a day?\n"
   ]
  },
  {
   "cell_type": "code",
   "execution_count": 52,
   "id": "d15630f7-2583-408c-8b47-79de8d2d6cfe",
   "metadata": {},
   "outputs": [
    {
     "data": {
      "text/plain": [
       "0.23810330555354436"
      ]
     },
     "execution_count": 52,
     "metadata": {},
     "output_type": "execute_result"
    }
   ],
   "source": [
    "poisson.cdf(2, 4)"
   ]
  },
  {
   "cell_type": "markdown",
   "id": "059049fd-1514-4f6d-a1ec-f56620d9e050",
   "metadata": {},
   "source": [
    "\n",
    "- What's the probability that Amir responds to more than 10 leads in a day?\n"
   ]
  },
  {
   "cell_type": "code",
   "execution_count": 53,
   "id": "2d06a0d3-c466-418d-b820-b073efe85aa4",
   "metadata": {},
   "outputs": [
    {
     "data": {
      "text/plain": [
       "0.0028397661205137315"
      ]
     },
     "execution_count": 53,
     "metadata": {},
     "output_type": "execute_result"
    }
   ],
   "source": [
    "1 - poisson.cdf(10, 4)"
   ]
  },
  {
   "cell_type": "code",
   "execution_count": null,
   "id": "eff37792-a3a7-4abe-b510-23e7fa6696a8",
   "metadata": {},
   "outputs": [],
   "source": []
  }
 ],
 "metadata": {
  "kernelspec": {
   "display_name": "Python 3 (ipykernel)",
   "language": "python",
   "name": "python3"
  },
  "language_info": {
   "codemirror_mode": {
    "name": "ipython",
    "version": 3
   },
   "file_extension": ".py",
   "mimetype": "text/x-python",
   "name": "python",
   "nbconvert_exporter": "python",
   "pygments_lexer": "ipython3",
   "version": "3.11.7"
  }
 },
 "nbformat": 4,
 "nbformat_minor": 5
}
